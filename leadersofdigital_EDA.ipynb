{
 "cells": [
  {
   "cell_type": "code",
   "execution_count": 1,
   "id": "3355fbd3",
   "metadata": {},
   "outputs": [],
   "source": [
    "import pandas as pd"
   ]
  },
  {
   "cell_type": "markdown",
   "id": "33c802ef",
   "metadata": {},
   "source": [
    "Считываем эксель файлы"
   ]
  },
  {
   "cell_type": "code",
   "execution_count": 5,
   "id": "0a507ae3",
   "metadata": {},
   "outputs": [
    {
     "data": {
      "text/html": [
       "<div>\n",
       "<style scoped>\n",
       "    .dataframe tbody tr th:only-of-type {\n",
       "        vertical-align: middle;\n",
       "    }\n",
       "\n",
       "    .dataframe tbody tr th {\n",
       "        vertical-align: top;\n",
       "    }\n",
       "\n",
       "    .dataframe thead th {\n",
       "        text-align: right;\n",
       "    }\n",
       "</style>\n",
       "<table border=\"1\" class=\"dataframe\">\n",
       "  <thead>\n",
       "    <tr style=\"text-align: right;\">\n",
       "      <th></th>\n",
       "      <th>Unnamed: 0</th>\n",
       "      <th>level_0</th>\n",
       "      <th>Наименование цеха</th>\n",
       "      <th>Id</th>\n",
       "      <th>Name</th>\n",
       "      <th>Id.1</th>\n",
       "      <th>Name.1</th>\n",
       "      <th>dStart</th>\n",
       "      <th>Day</th>\n",
       "      <th>DurationInDays</th>\n",
       "      <th>OccupiedPercentage</th>\n",
       "      <th>UnavailablePercentage</th>\n",
       "      <th>TotalCapacity.1</th>\n",
       "    </tr>\n",
       "  </thead>\n",
       "  <tbody>\n",
       "    <tr>\n",
       "      <th>0</th>\n",
       "      <td>0</td>\n",
       "      <td>0</td>\n",
       "      <td>06.КЦ-1</td>\n",
       "      <td>G_UNRO1</td>\n",
       "      <td>Конвертерный цех 1 УНРС 2,3,4,6</td>\n",
       "      <td>S_UNR4O1</td>\n",
       "      <td>УНРС-4</td>\n",
       "      <td>2021-10-07</td>\n",
       "      <td>0</td>\n",
       "      <td>1</td>\n",
       "      <td>100</td>\n",
       "      <td>100</td>\n",
       "      <td>4 days</td>\n",
       "    </tr>\n",
       "    <tr>\n",
       "      <th>1</th>\n",
       "      <td>1</td>\n",
       "      <td>1</td>\n",
       "      <td>06.КЦ-1</td>\n",
       "      <td>G_UNRO1</td>\n",
       "      <td>Конвертерный цех 1 УНРС 2,3,4,6</td>\n",
       "      <td>S_UNR3O1</td>\n",
       "      <td>УНРС-3</td>\n",
       "      <td>2021-10-07</td>\n",
       "      <td>0</td>\n",
       "      <td>1</td>\n",
       "      <td>100</td>\n",
       "      <td>99.853748</td>\n",
       "      <td>4 days</td>\n",
       "    </tr>\n",
       "    <tr>\n",
       "      <th>2</th>\n",
       "      <td>2</td>\n",
       "      <td>2</td>\n",
       "      <td>06.КЦ-1</td>\n",
       "      <td>G_UNRO1</td>\n",
       "      <td>Конвертерный цех 1 УНРС 2,3,4,6</td>\n",
       "      <td>S_UNR6O1</td>\n",
       "      <td>УНРС-6</td>\n",
       "      <td>2021-10-07</td>\n",
       "      <td>0</td>\n",
       "      <td>1</td>\n",
       "      <td>100</td>\n",
       "      <td>76.606313</td>\n",
       "      <td>4 days</td>\n",
       "    </tr>\n",
       "    <tr>\n",
       "      <th>3</th>\n",
       "      <td>3</td>\n",
       "      <td>3</td>\n",
       "      <td>06.КЦ-1</td>\n",
       "      <td>G_UNRO1</td>\n",
       "      <td>Конвертерный цех 1 УНРС 2,3,4,6</td>\n",
       "      <td>S_UNR2O1</td>\n",
       "      <td>УНРС-2</td>\n",
       "      <td>2021-10-07</td>\n",
       "      <td>0</td>\n",
       "      <td>1</td>\n",
       "      <td>100</td>\n",
       "      <td>100</td>\n",
       "      <td>4 days</td>\n",
       "    </tr>\n",
       "    <tr>\n",
       "      <th>4</th>\n",
       "      <td>4</td>\n",
       "      <td>4</td>\n",
       "      <td>06.КЦ-1</td>\n",
       "      <td>G_UNRO1</td>\n",
       "      <td>Конвертерный цех 1 УНРС 2,3,4,6</td>\n",
       "      <td>S_UNR4O1</td>\n",
       "      <td>УНРС-4</td>\n",
       "      <td>2021-10-08</td>\n",
       "      <td>1</td>\n",
       "      <td>1</td>\n",
       "      <td>100</td>\n",
       "      <td>57.324748</td>\n",
       "      <td>4 days</td>\n",
       "    </tr>\n",
       "  </tbody>\n",
       "</table>\n",
       "</div>"
      ],
      "text/plain": [
       "   Unnamed: 0  level_0 Наименование цеха       Id  \\\n",
       "0           0        0           06.КЦ-1  G_UNRO1   \n",
       "1           1        1           06.КЦ-1  G_UNRO1   \n",
       "2           2        2           06.КЦ-1  G_UNRO1   \n",
       "3           3        3           06.КЦ-1  G_UNRO1   \n",
       "4           4        4           06.КЦ-1  G_UNRO1   \n",
       "\n",
       "                              Name      Id.1  Name.1     dStart  Day  \\\n",
       "0  Конвертерный цех 1 УНРС 2,3,4,6  S_UNR4O1  УНРС-4 2021-10-07    0   \n",
       "1  Конвертерный цех 1 УНРС 2,3,4,6  S_UNR3O1  УНРС-3 2021-10-07    0   \n",
       "2  Конвертерный цех 1 УНРС 2,3,4,6  S_UNR6O1  УНРС-6 2021-10-07    0   \n",
       "3  Конвертерный цех 1 УНРС 2,3,4,6  S_UNR2O1  УНРС-2 2021-10-07    0   \n",
       "4  Конвертерный цех 1 УНРС 2,3,4,6  S_UNR4O1  УНРС-4 2021-10-08    1   \n",
       "\n",
       "   DurationInDays  OccupiedPercentage UnavailablePercentage TotalCapacity.1  \n",
       "0               1                 100                   100          4 days  \n",
       "1               1                 100             99.853748          4 days  \n",
       "2               1                 100             76.606313          4 days  \n",
       "3               1                 100                   100          4 days  \n",
       "4               1                 100             57.324748          4 days  "
      ]
     },
     "execution_count": 5,
     "metadata": {},
     "output_type": "execute_result"
    }
   ],
   "source": [
    "agrs = pd.read_excel('02.xlsx')\n",
    "agrs.head()"
   ]
  },
  {
   "cell_type": "code",
   "execution_count": 69,
   "id": "18dfa1aa",
   "metadata": {},
   "outputs": [
    {
     "data": {
      "text/html": [
       "<div>\n",
       "<style scoped>\n",
       "    .dataframe tbody tr th:only-of-type {\n",
       "        vertical-align: middle;\n",
       "    }\n",
       "\n",
       "    .dataframe tbody tr th {\n",
       "        vertical-align: top;\n",
       "    }\n",
       "\n",
       "    .dataframe thead th {\n",
       "        text-align: right;\n",
       "    }\n",
       "</style>\n",
       "<table border=\"1\" class=\"dataframe\">\n",
       "  <thead>\n",
       "    <tr style=\"text-align: right;\">\n",
       "      <th></th>\n",
       "      <th>HasConstraintViolations</th>\n",
       "      <th>Имя</th>\n",
       "      <th>Имеет ограничение по мощности</th>\n",
       "      <th>Идентификатор</th>\n",
       "      <th>InputSP</th>\n",
       "      <th>OutputSP</th>\n",
       "      <th>Поставщик</th>\n",
       "    </tr>\n",
       "  </thead>\n",
       "  <tbody>\n",
       "    <tr>\n",
       "      <th>0</th>\n",
       "      <td>False</td>\n",
       "      <td>Участок обработки КЦ-1</td>\n",
       "      <td>False</td>\n",
       "      <td>G_ATO1</td>\n",
       "      <td>Q3062</td>\n",
       "      <td>Q3061;Q3063</td>\n",
       "      <td>False</td>\n",
       "    </tr>\n",
       "    <tr>\n",
       "      <th>1</th>\n",
       "      <td>False</td>\n",
       "      <td>АПХКР 1,2 ЦДС</td>\n",
       "      <td>False</td>\n",
       "      <td>G_APHKRD</td>\n",
       "      <td>Q3156</td>\n",
       "      <td>Q3157;Q315B</td>\n",
       "      <td>False</td>\n",
       "    </tr>\n",
       "    <tr>\n",
       "      <th>2</th>\n",
       "      <td>False</td>\n",
       "      <td>ВТО ЦТС (LOI, СГН, СГВ)</td>\n",
       "      <td>True</td>\n",
       "      <td>G_VTOT</td>\n",
       "      <td>Q311A;Q311B</td>\n",
       "      <td>Q311C</td>\n",
       "      <td>False</td>\n",
       "    </tr>\n",
       "    <tr>\n",
       "      <th>3</th>\n",
       "      <td>False</td>\n",
       "      <td>Отгрузка КЦ-2</td>\n",
       "      <td>True</td>\n",
       "      <td>G_OTGRO2</td>\n",
       "      <td>Q3071</td>\n",
       "      <td>Q3001</td>\n",
       "      <td>False</td>\n",
       "    </tr>\n",
       "    <tr>\n",
       "      <th>4</th>\n",
       "      <td>False</td>\n",
       "      <td>Ручная порезка на параллельном рольганге</td>\n",
       "      <td>False</td>\n",
       "      <td>G_MCUTG</td>\n",
       "      <td>Q3128</td>\n",
       "      <td>Q3121</td>\n",
       "      <td>False</td>\n",
       "    </tr>\n",
       "  </tbody>\n",
       "</table>\n",
       "</div>"
      ],
      "text/plain": [
       "   HasConstraintViolations                                       Имя  \\\n",
       "0                    False                    Участок обработки КЦ-1   \n",
       "1                    False                             АПХКР 1,2 ЦДС   \n",
       "2                    False                   ВТО ЦТС (LOI, СГН, СГВ)   \n",
       "3                    False                             Отгрузка КЦ-2   \n",
       "4                    False  Ручная порезка на параллельном рольганге   \n",
       "\n",
       "   Имеет ограничение по мощности Идентификатор      InputSP     OutputSP  \\\n",
       "0                          False        G_ATO1        Q3062  Q3061;Q3063   \n",
       "1                          False      G_APHKRD        Q3156  Q3157;Q315B   \n",
       "2                           True        G_VTOT  Q311A;Q311B        Q311C   \n",
       "3                           True      G_OTGRO2        Q3071        Q3001   \n",
       "4                          False       G_MCUTG        Q3128        Q3121   \n",
       "\n",
       "   Поставщик  \n",
       "0      False  \n",
       "1      False  \n",
       "2      False  \n",
       "3      False  \n",
       "4      False  "
      ]
     },
     "execution_count": 69,
     "metadata": {},
     "output_type": "execute_result"
    }
   ],
   "source": [
    "resources = pd.read_excel('03_1.xlsx')\n",
    "resources.head()"
   ]
  },
  {
   "cell_type": "code",
   "execution_count": 37,
   "id": "f5e5940a",
   "metadata": {},
   "outputs": [
    {
     "data": {
      "text/html": [
       "<div>\n",
       "<style scoped>\n",
       "    .dataframe tbody tr th:only-of-type {\n",
       "        vertical-align: middle;\n",
       "    }\n",
       "\n",
       "    .dataframe tbody tr th {\n",
       "        vertical-align: top;\n",
       "    }\n",
       "\n",
       "    .dataframe thead th {\n",
       "        text-align: right;\n",
       "    }\n",
       "</style>\n",
       "<table border=\"1\" class=\"dataframe\">\n",
       "  <thead>\n",
       "    <tr style=\"text-align: right;\">\n",
       "      <th></th>\n",
       "      <th>Идентификатор</th>\n",
       "      <th>Имя</th>\n",
       "      <th>Продолжительность</th>\n",
       "      <th>Плановая дата</th>\n",
       "      <th>Уровень запасов</th>\n",
       "      <th>Имеет запланировано свыше максимального уровня запасов</th>\n",
       "      <th>Максимальное количество запасов</th>\n",
       "    </tr>\n",
       "  </thead>\n",
       "  <tbody>\n",
       "    <tr>\n",
       "      <th>0</th>\n",
       "      <td>Q3062</td>\n",
       "      <td>Склад слябов КЦ-1 разливка</td>\n",
       "      <td>1</td>\n",
       "      <td>2021-10-17</td>\n",
       "      <td>18750.27</td>\n",
       "      <td>False</td>\n",
       "      <td>25000</td>\n",
       "    </tr>\n",
       "    <tr>\n",
       "      <th>1</th>\n",
       "      <td>Q311C</td>\n",
       "      <td>Склад ЦТС ПФ перед АЭИП</td>\n",
       "      <td>1</td>\n",
       "      <td>2021-11-14</td>\n",
       "      <td>3206.02</td>\n",
       "      <td>False</td>\n",
       "      <td>6000</td>\n",
       "    </tr>\n",
       "    <tr>\n",
       "      <th>2</th>\n",
       "      <td>Q3063</td>\n",
       "      <td>Склад термические печи КЦ-1</td>\n",
       "      <td>1</td>\n",
       "      <td>2021-11-15</td>\n",
       "      <td>0.00</td>\n",
       "      <td>False</td>\n",
       "      <td>1800</td>\n",
       "    </tr>\n",
       "    <tr>\n",
       "      <th>3</th>\n",
       "      <td>IQ311FHR</td>\n",
       "      <td>Склад ТК ПТС готовая продукция</td>\n",
       "      <td>1</td>\n",
       "      <td>2021-10-12</td>\n",
       "      <td>0.00</td>\n",
       "      <td>False</td>\n",
       "      <td>0</td>\n",
       "    </tr>\n",
       "    <tr>\n",
       "      <th>4</th>\n",
       "      <td>IQ3111</td>\n",
       "      <td>Промежуточный склад ЦТС ГП</td>\n",
       "      <td>1</td>\n",
       "      <td>2021-10-21</td>\n",
       "      <td>0.00</td>\n",
       "      <td>False</td>\n",
       "      <td>0</td>\n",
       "    </tr>\n",
       "  </tbody>\n",
       "</table>\n",
       "</div>"
      ],
      "text/plain": [
       "  Идентификатор                             Имя  Продолжительность  \\\n",
       "0         Q3062      Склад слябов КЦ-1 разливка                  1   \n",
       "1         Q311C         Склад ЦТС ПФ перед АЭИП                  1   \n",
       "2         Q3063     Склад термические печи КЦ-1                  1   \n",
       "3      IQ311FHR  Склад ТК ПТС готовая продукция                  1   \n",
       "4        IQ3111      Промежуточный склад ЦТС ГП                  1   \n",
       "\n",
       "  Плановая дата  Уровень запасов  \\\n",
       "0    2021-10-17         18750.27   \n",
       "1    2021-11-14          3206.02   \n",
       "2    2021-11-15             0.00   \n",
       "3    2021-10-12             0.00   \n",
       "4    2021-10-21             0.00   \n",
       "\n",
       "   Имеет запланировано свыше максимального уровня запасов  \\\n",
       "0                                              False        \n",
       "1                                              False        \n",
       "2                                              False        \n",
       "3                                              False        \n",
       "4                                              False        \n",
       "\n",
       "   Максимальное количество запасов  \n",
       "0                            25000  \n",
       "1                             6000  \n",
       "2                             1800  \n",
       "3                                0  \n",
       "4                                0  "
      ]
     },
     "execution_count": 37,
     "metadata": {},
     "output_type": "execute_result"
    }
   ],
   "source": [
    "whouses = pd.read_excel('03.xlsx')\n",
    "whouses.head()"
   ]
  },
  {
   "cell_type": "code",
   "execution_count": 50,
   "id": "125494ca",
   "metadata": {},
   "outputs": [],
   "source": [
    "key_agrs = ['Конвертеры КЦ-1',\n",
    "           'Конвертеры КЦ-2',\n",
    "           'Конвертерный цех 1 УНРС 2,3,4,6',\n",
    "           'Конвертерный цех 2 УНРС 5,6,7,8,9',\n",
    "           'Стан 2000 ЦГП',\n",
    "           'НТА ЦХПП',\n",
    "           'НТА ЦДС',\n",
    "           'Травильный комплекс ЦТС',\n",
    "           'Стан 1400 ЦДС',\n",
    "           'АНГЦ 2,4 ЦДС',\n",
    "           'Стан 2030 ЦХПП',\n",
    "           'Реверсивный стан ЦДС',\n",
    "           'Отгрузка ЦГП',\n",
    "           'АЗП ЦТС',\n",
    "           'АНГЦ ЦХПП',\n",
    "           'АНО ЦХПП']"
   ]
  },
  {
   "cell_type": "code",
   "execution_count": 15,
   "id": "043edd04",
   "metadata": {
    "scrolled": true
   },
   "outputs": [
    {
     "data": {
      "text/plain": [
       "array(['Конвертерный цех 1 УНРС 2,3,4,6', 'Конвертеры КЦ-1',\n",
       "       'Конвертерный цех 2 УНРС 5,6,7,8,9', 'Конвертеры КЦ-2', 'АЗП ЦТС',\n",
       "       'Травильный комплекс ЦТС', 'Отгрузка ЦГП', 'Стан 2000 ЦГП',\n",
       "       'АНГЦ ЦХПП', 'АНО ЦХПП', 'НТА ЦХПП', 'Стан 2030 ЦХПП',\n",
       "       'АНГЦ 2,4 ЦДС', 'НТА ЦДС', 'Реверсивный стан ЦДС', 'Стан 1400 ЦДС'],\n",
       "      dtype=object)"
      ]
     },
     "execution_count": 15,
     "metadata": {},
     "output_type": "execute_result"
    }
   ],
   "source": [
    "agrs['Name'].unique()"
   ]
  },
  {
   "cell_type": "markdown",
   "id": "e1306572",
   "metadata": {},
   "source": [
    "Проверим все ли название агрегатов из `agrs` входят в `key_agrs`"
   ]
  },
  {
   "cell_type": "code",
   "execution_count": 55,
   "id": "862059b5",
   "metadata": {},
   "outputs": [
    {
     "data": {
      "text/plain": [
       "True"
      ]
     },
     "execution_count": 55,
     "metadata": {},
     "output_type": "execute_result"
    }
   ],
   "source": [
    "set(list(agrs['Name'].unique())) == set(key_agrs)"
   ]
  },
  {
   "cell_type": "markdown",
   "id": "67ca03e2",
   "metadata": {},
   "source": [
    "Да, все агрегаты в таблице - критические"
   ]
  },
  {
   "cell_type": "code",
   "execution_count": 59,
   "id": "5587b0c4",
   "metadata": {},
   "outputs": [],
   "source": [
    "# Создадим словарь {id: Name}\n",
    "agrs_id_name = {}\n",
    "for x in key_agrs:\n",
    "    ind = str(agrs[agrs['Name'] == x]['Id'].unique()[0])\n",
    "    agrs_id_name[ind] = x"
   ]
  },
  {
   "cell_type": "code",
   "execution_count": 60,
   "id": "ffd2adeb",
   "metadata": {},
   "outputs": [
    {
     "data": {
      "text/plain": [
       "{'G_VSO1': 'Конвертеры КЦ-1',\n",
       " 'G_VSO2': 'Конвертеры КЦ-2',\n",
       " 'G_UNRO1': 'Конвертерный цех 1 УНРС 2,3,4,6',\n",
       " 'G_UNRO2': 'Конвертерный цех 2 УНРС 5,6,7,8,9',\n",
       " 'G_ST200G': 'Стан 2000 ЦГП',\n",
       " 'G_NTAH': 'НТА ЦХПП',\n",
       " 'G_NTAD': 'НТА ЦДС',\n",
       " 'G_TKT': 'Травильный комплекс ЦТС',\n",
       " 'G_ST140D': 'Стан 1400 ЦДС',\n",
       " 'G_ANGCD': 'АНГЦ 2,4 ЦДС',\n",
       " 'G_ST203H': 'Стан 2030 ЦХПП',\n",
       " 'G_RSTD': 'Реверсивный стан ЦДС',\n",
       " 'G_OTGRG': 'Отгрузка ЦГП',\n",
       " 'G_AZPT': 'АЗП ЦТС',\n",
       " 'G_ANGCH': 'АНГЦ ЦХПП',\n",
       " 'G_ANOH': 'АНО ЦХПП'}"
      ]
     },
     "execution_count": 60,
     "metadata": {},
     "output_type": "execute_result"
    }
   ],
   "source": [
    "agrs_id_name"
   ]
  },
  {
   "cell_type": "markdown",
   "id": "df83f3e8",
   "metadata": {},
   "source": [
    "Оставим в `resources` только те строки, в которых только ключевые агрегаты"
   ]
  },
  {
   "cell_type": "code",
   "execution_count": 61,
   "id": "11cdecfc",
   "metadata": {},
   "outputs": [
    {
     "data": {
      "text/plain": [
       "(68, 7)"
      ]
     },
     "execution_count": 61,
     "metadata": {},
     "output_type": "execute_result"
    }
   ],
   "source": [
    "resources.shape"
   ]
  },
  {
   "cell_type": "code",
   "execution_count": 70,
   "id": "a6ac8b60",
   "metadata": {},
   "outputs": [],
   "source": [
    "notkey_resources = pd.DataFrame(resources.loc[resources['Имя'].isin(key_agrs) == False])"
   ]
  },
  {
   "cell_type": "code",
   "execution_count": 72,
   "id": "d15f7bd8",
   "metadata": {},
   "outputs": [
    {
     "data": {
      "text/plain": [
       "(55, 7)"
      ]
     },
     "execution_count": 72,
     "metadata": {},
     "output_type": "execute_result"
    }
   ],
   "source": [
    "notkey_resources.shape"
   ]
  },
  {
   "cell_type": "code",
   "execution_count": 73,
   "id": "d969f8a6",
   "metadata": {},
   "outputs": [],
   "source": [
    "resources = pd.DataFrame(resources.loc[resources['Имя'].isin(key_agrs)])"
   ]
  },
  {
   "cell_type": "code",
   "execution_count": 74,
   "id": "afef5742",
   "metadata": {},
   "outputs": [
    {
     "data": {
      "text/plain": [
       "(13, 7)"
      ]
     },
     "execution_count": 74,
     "metadata": {},
     "output_type": "execute_result"
    }
   ],
   "source": [
    "resources.shape"
   ]
  },
  {
   "cell_type": "code",
   "execution_count": 75,
   "id": "4fbaa6ae",
   "metadata": {},
   "outputs": [
    {
     "data": {
      "text/html": [
       "<div>\n",
       "<style scoped>\n",
       "    .dataframe tbody tr th:only-of-type {\n",
       "        vertical-align: middle;\n",
       "    }\n",
       "\n",
       "    .dataframe tbody tr th {\n",
       "        vertical-align: top;\n",
       "    }\n",
       "\n",
       "    .dataframe thead th {\n",
       "        text-align: right;\n",
       "    }\n",
       "</style>\n",
       "<table border=\"1\" class=\"dataframe\">\n",
       "  <thead>\n",
       "    <tr style=\"text-align: right;\">\n",
       "      <th></th>\n",
       "      <th>HasConstraintViolations</th>\n",
       "      <th>Имя</th>\n",
       "      <th>Имеет ограничение по мощности</th>\n",
       "      <th>Идентификатор</th>\n",
       "      <th>InputSP</th>\n",
       "      <th>OutputSP</th>\n",
       "      <th>Поставщик</th>\n",
       "    </tr>\n",
       "  </thead>\n",
       "  <tbody>\n",
       "    <tr>\n",
       "      <th>6</th>\n",
       "      <td>False</td>\n",
       "      <td>Конвертеры КЦ-2</td>\n",
       "      <td>True</td>\n",
       "      <td>G_VSO2</td>\n",
       "      <td>Q307M</td>\n",
       "      <td>NaN</td>\n",
       "      <td>False</td>\n",
       "    </tr>\n",
       "    <tr>\n",
       "      <th>10</th>\n",
       "      <td>False</td>\n",
       "      <td>АНГЦ ЦХПП</td>\n",
       "      <td>True</td>\n",
       "      <td>G_ANGCH</td>\n",
       "      <td>Q3134;Q313M</td>\n",
       "      <td>Q3137;Q313A;Q313C</td>\n",
       "      <td>False</td>\n",
       "    </tr>\n",
       "    <tr>\n",
       "      <th>14</th>\n",
       "      <td>False</td>\n",
       "      <td>АЗП ЦТС</td>\n",
       "      <td>True</td>\n",
       "      <td>G_AZPT</td>\n",
       "      <td>Q311A;Q311E;Q311SFG</td>\n",
       "      <td>Q311B</td>\n",
       "      <td>False</td>\n",
       "    </tr>\n",
       "    <tr>\n",
       "      <th>18</th>\n",
       "      <td>False</td>\n",
       "      <td>НТА ЦХПП</td>\n",
       "      <td>True</td>\n",
       "      <td>G_NTAH</td>\n",
       "      <td>Q3132</td>\n",
       "      <td>Q3134;Q3135;Q3136;Q313C</td>\n",
       "      <td>False</td>\n",
       "    </tr>\n",
       "    <tr>\n",
       "      <th>19</th>\n",
       "      <td>False</td>\n",
       "      <td>Отгрузка ЦГП</td>\n",
       "      <td>True</td>\n",
       "      <td>G_OTGRG</td>\n",
       "      <td>Q3121</td>\n",
       "      <td>Q3001</td>\n",
       "      <td>False</td>\n",
       "    </tr>\n",
       "    <tr>\n",
       "      <th>22</th>\n",
       "      <td>False</td>\n",
       "      <td>Реверсивный стан ЦДС</td>\n",
       "      <td>True</td>\n",
       "      <td>G_RSTD</td>\n",
       "      <td>Q3155</td>\n",
       "      <td>Q3156;Q3157</td>\n",
       "      <td>False</td>\n",
       "    </tr>\n",
       "    <tr>\n",
       "      <th>23</th>\n",
       "      <td>False</td>\n",
       "      <td>АНГЦ 2,4 ЦДС</td>\n",
       "      <td>True</td>\n",
       "      <td>G_ANGCD</td>\n",
       "      <td>Q3157;Q315M</td>\n",
       "      <td>Q3158;Q315B;Q315C</td>\n",
       "      <td>False</td>\n",
       "    </tr>\n",
       "    <tr>\n",
       "      <th>28</th>\n",
       "      <td>False</td>\n",
       "      <td>АНО ЦХПП</td>\n",
       "      <td>True</td>\n",
       "      <td>G_ANOH</td>\n",
       "      <td>Q3134</td>\n",
       "      <td>Q3137;Q313C</td>\n",
       "      <td>False</td>\n",
       "    </tr>\n",
       "    <tr>\n",
       "      <th>34</th>\n",
       "      <td>False</td>\n",
       "      <td>НТА ЦДС</td>\n",
       "      <td>True</td>\n",
       "      <td>G_NTAD</td>\n",
       "      <td>Q3154</td>\n",
       "      <td>Q3155</td>\n",
       "      <td>False</td>\n",
       "    </tr>\n",
       "    <tr>\n",
       "      <th>37</th>\n",
       "      <td>False</td>\n",
       "      <td>Стан 1400 ЦДС</td>\n",
       "      <td>True</td>\n",
       "      <td>G_ST140D</td>\n",
       "      <td>Q3155</td>\n",
       "      <td>Q3156;Q3157;Q3158</td>\n",
       "      <td>False</td>\n",
       "    </tr>\n",
       "    <tr>\n",
       "      <th>50</th>\n",
       "      <td>False</td>\n",
       "      <td>Стан 2030 ЦХПП</td>\n",
       "      <td>True</td>\n",
       "      <td>G_ST203H</td>\n",
       "      <td>Q3136</td>\n",
       "      <td>Q3134;Q3137;Q313C</td>\n",
       "      <td>False</td>\n",
       "    </tr>\n",
       "    <tr>\n",
       "      <th>62</th>\n",
       "      <td>False</td>\n",
       "      <td>Травильный комплекс ЦТС</td>\n",
       "      <td>True</td>\n",
       "      <td>G_TKT</td>\n",
       "      <td>Q3112</td>\n",
       "      <td>Q311FHR;Q311SHR</td>\n",
       "      <td>False</td>\n",
       "    </tr>\n",
       "    <tr>\n",
       "      <th>65</th>\n",
       "      <td>False</td>\n",
       "      <td>Конвертеры КЦ-1</td>\n",
       "      <td>True</td>\n",
       "      <td>G_VSO1</td>\n",
       "      <td>Q306M</td>\n",
       "      <td>NaN</td>\n",
       "      <td>False</td>\n",
       "    </tr>\n",
       "  </tbody>\n",
       "</table>\n",
       "</div>"
      ],
      "text/plain": [
       "    HasConstraintViolations                      Имя  \\\n",
       "6                     False          Конвертеры КЦ-2   \n",
       "10                    False                АНГЦ ЦХПП   \n",
       "14                    False                  АЗП ЦТС   \n",
       "18                    False                 НТА ЦХПП   \n",
       "19                    False             Отгрузка ЦГП   \n",
       "22                    False     Реверсивный стан ЦДС   \n",
       "23                    False             АНГЦ 2,4 ЦДС   \n",
       "28                    False                 АНО ЦХПП   \n",
       "34                    False                  НТА ЦДС   \n",
       "37                    False            Стан 1400 ЦДС   \n",
       "50                    False           Стан 2030 ЦХПП   \n",
       "62                    False  Травильный комплекс ЦТС   \n",
       "65                    False          Конвертеры КЦ-1   \n",
       "\n",
       "    Имеет ограничение по мощности Идентификатор              InputSP  \\\n",
       "6                            True        G_VSO2                Q307M   \n",
       "10                           True       G_ANGCH          Q3134;Q313M   \n",
       "14                           True        G_AZPT  Q311A;Q311E;Q311SFG   \n",
       "18                           True        G_NTAH                Q3132   \n",
       "19                           True       G_OTGRG                Q3121   \n",
       "22                           True        G_RSTD                Q3155   \n",
       "23                           True       G_ANGCD          Q3157;Q315M   \n",
       "28                           True        G_ANOH                Q3134   \n",
       "34                           True        G_NTAD                Q3154   \n",
       "37                           True      G_ST140D                Q3155   \n",
       "50                           True      G_ST203H                Q3136   \n",
       "62                           True         G_TKT                Q3112   \n",
       "65                           True        G_VSO1                Q306M   \n",
       "\n",
       "                   OutputSP  Поставщик  \n",
       "6                       NaN      False  \n",
       "10        Q3137;Q313A;Q313C      False  \n",
       "14                    Q311B      False  \n",
       "18  Q3134;Q3135;Q3136;Q313C      False  \n",
       "19                    Q3001      False  \n",
       "22              Q3156;Q3157      False  \n",
       "23        Q3158;Q315B;Q315C      False  \n",
       "28              Q3137;Q313C      False  \n",
       "34                    Q3155      False  \n",
       "37        Q3156;Q3157;Q3158      False  \n",
       "50        Q3134;Q3137;Q313C      False  \n",
       "62          Q311FHR;Q311SHR      False  \n",
       "65                      NaN      False  "
      ]
     },
     "execution_count": 75,
     "metadata": {},
     "output_type": "execute_result"
    }
   ],
   "source": [
    "resources"
   ]
  },
  {
   "cell_type": "markdown",
   "id": "e4555da0",
   "metadata": {},
   "source": [
    "Получим список идентификаторов складов для \"критических\" агрегатов"
   ]
  },
  {
   "cell_type": "code",
   "execution_count": 109,
   "id": "152fc17e",
   "metadata": {},
   "outputs": [],
   "source": [
    "temp = resources['InputSP'].unique()\n",
    "temp = [i.split(';') for i in temp]\n",
    "\n",
    "import itertools\n",
    "input_whouses = list(itertools.chain(*temp))"
   ]
  },
  {
   "cell_type": "code",
   "execution_count": 110,
   "id": "f1618fda",
   "metadata": {},
   "outputs": [],
   "source": [
    "temp = resources['OutputSP'].dropna().unique()\n",
    "temp = [i.split(';') for i in temp]\n",
    "\n",
    "output_whouses = list(itertools.chain(*temp))"
   ]
  },
  {
   "cell_type": "code",
   "execution_count": 111,
   "id": "76e28b54",
   "metadata": {},
   "outputs": [
    {
     "data": {
      "text/plain": [
       "['Q307M',\n",
       " 'Q3134',\n",
       " 'Q313M',\n",
       " 'Q311A',\n",
       " 'Q311E',\n",
       " 'Q311SFG',\n",
       " 'Q3132',\n",
       " 'Q3121',\n",
       " 'Q3155',\n",
       " 'Q3157',\n",
       " 'Q315M',\n",
       " 'Q3134',\n",
       " 'Q3154',\n",
       " 'Q3136',\n",
       " 'Q3112',\n",
       " 'Q306M']"
      ]
     },
     "execution_count": 111,
     "metadata": {},
     "output_type": "execute_result"
    }
   ],
   "source": [
    "input_whouses  # Id всех складов, с которых поступали материалы на критические агрегаты"
   ]
  },
  {
   "cell_type": "code",
   "execution_count": 112,
   "id": "cef453e2",
   "metadata": {},
   "outputs": [
    {
     "data": {
      "text/plain": [
       "['Q3137',\n",
       " 'Q313A',\n",
       " 'Q313C',\n",
       " 'Q311B',\n",
       " 'Q3134',\n",
       " 'Q3135',\n",
       " 'Q3136',\n",
       " 'Q313C',\n",
       " 'Q3001',\n",
       " 'Q3156',\n",
       " 'Q3157',\n",
       " 'Q3158',\n",
       " 'Q315B',\n",
       " 'Q315C',\n",
       " 'Q3137',\n",
       " 'Q313C',\n",
       " 'Q3155',\n",
       " 'Q3156',\n",
       " 'Q3157',\n",
       " 'Q3158',\n",
       " 'Q3134',\n",
       " 'Q3137',\n",
       " 'Q313C',\n",
       " 'Q311FHR',\n",
       " 'Q311SHR']"
      ]
     },
     "execution_count": 112,
     "metadata": {},
     "output_type": "execute_result"
    }
   ],
   "source": [
    "output_whouses  # Id всех складов, на которые уезжали материалы после критических агрегатов"
   ]
  },
  {
   "cell_type": "code",
   "execution_count": 113,
   "id": "966f5097",
   "metadata": {},
   "outputs": [],
   "source": [
    "notkey_whouses = pd.DataFrame(whouses.loc[whouses['Идентификатор'].isin(input_whouses + output_whouses) == False])"
   ]
  },
  {
   "cell_type": "code",
   "execution_count": 114,
   "id": "599f21c2",
   "metadata": {},
   "outputs": [
    {
     "data": {
      "text/plain": [
       "(2925, 7)"
      ]
     },
     "execution_count": 114,
     "metadata": {},
     "output_type": "execute_result"
    }
   ],
   "source": [
    "whouses.shape"
   ]
  },
  {
   "cell_type": "code",
   "execution_count": 115,
   "id": "f7e1f4f5",
   "metadata": {},
   "outputs": [
    {
     "data": {
      "text/plain": [
       "(1710, 7)"
      ]
     },
     "execution_count": 115,
     "metadata": {},
     "output_type": "execute_result"
    }
   ],
   "source": [
    "notkey_whouses.shape"
   ]
  },
  {
   "cell_type": "code",
   "execution_count": 116,
   "id": "08ded6bf",
   "metadata": {},
   "outputs": [],
   "source": [
    "whouses = pd.DataFrame(whouses.loc[whouses['Идентификатор'].isin(input_whouses + output_whouses)])"
   ]
  },
  {
   "cell_type": "code",
   "execution_count": 118,
   "id": "c38054cd",
   "metadata": {},
   "outputs": [
    {
     "data": {
      "text/plain": [
       "(1215, 7)"
      ]
     },
     "execution_count": 118,
     "metadata": {},
     "output_type": "execute_result"
    }
   ],
   "source": [
    "whouses.shape"
   ]
  },
  {
   "cell_type": "markdown",
   "id": "a14bb240",
   "metadata": {},
   "source": [
    "Итого получаем:  \n",
    "`key agrs` - список всех критических агрегатов  \n",
    "`agrs` - информация по загрузке всех критических агрегатов  \n",
    "`agrs_id_name` - словарь типа {айди: имя}  \n",
    "`resources` - таблица с критическими агрегатами и их складами  \n",
    "`notkey_resources` - таблица со всеми остальными агрегатами  \n",
    "`whouses` - таблица со всеми складами, которые используются критическими агрегатами  \n",
    "`notkey_whouses` - таблица со всеми остальными складами"
   ]
  },
  {
   "cell_type": "markdown",
   "id": "0d871fdb",
   "metadata": {},
   "source": [
    "Удалим ненужные столбцы"
   ]
  },
  {
   "cell_type": "code",
   "execution_count": 122,
   "id": "52fa1157",
   "metadata": {},
   "outputs": [],
   "source": [
    "agrs = pd.DataFrame(agrs.drop(['Unnamed: 0', 'level_0'], axis=1))"
   ]
  },
  {
   "cell_type": "code",
   "execution_count": 124,
   "id": "a3c9e5a2",
   "metadata": {},
   "outputs": [
    {
     "data": {
      "text/html": [
       "<div>\n",
       "<style scoped>\n",
       "    .dataframe tbody tr th:only-of-type {\n",
       "        vertical-align: middle;\n",
       "    }\n",
       "\n",
       "    .dataframe tbody tr th {\n",
       "        vertical-align: top;\n",
       "    }\n",
       "\n",
       "    .dataframe thead th {\n",
       "        text-align: right;\n",
       "    }\n",
       "</style>\n",
       "<table border=\"1\" class=\"dataframe\">\n",
       "  <thead>\n",
       "    <tr style=\"text-align: right;\">\n",
       "      <th></th>\n",
       "      <th>Наименование цеха</th>\n",
       "      <th>Id</th>\n",
       "      <th>Name</th>\n",
       "      <th>Id.1</th>\n",
       "      <th>Name.1</th>\n",
       "      <th>dStart</th>\n",
       "      <th>Day</th>\n",
       "      <th>DurationInDays</th>\n",
       "      <th>OccupiedPercentage</th>\n",
       "      <th>UnavailablePercentage</th>\n",
       "      <th>TotalCapacity.1</th>\n",
       "    </tr>\n",
       "  </thead>\n",
       "  <tbody>\n",
       "    <tr>\n",
       "      <th>0</th>\n",
       "      <td>06.КЦ-1</td>\n",
       "      <td>G_UNRO1</td>\n",
       "      <td>Конвертерный цех 1 УНРС 2,3,4,6</td>\n",
       "      <td>S_UNR4O1</td>\n",
       "      <td>УНРС-4</td>\n",
       "      <td>2021-10-07</td>\n",
       "      <td>0</td>\n",
       "      <td>1</td>\n",
       "      <td>100</td>\n",
       "      <td>100</td>\n",
       "      <td>4 days</td>\n",
       "    </tr>\n",
       "    <tr>\n",
       "      <th>1</th>\n",
       "      <td>06.КЦ-1</td>\n",
       "      <td>G_UNRO1</td>\n",
       "      <td>Конвертерный цех 1 УНРС 2,3,4,6</td>\n",
       "      <td>S_UNR3O1</td>\n",
       "      <td>УНРС-3</td>\n",
       "      <td>2021-10-07</td>\n",
       "      <td>0</td>\n",
       "      <td>1</td>\n",
       "      <td>100</td>\n",
       "      <td>99.853748</td>\n",
       "      <td>4 days</td>\n",
       "    </tr>\n",
       "    <tr>\n",
       "      <th>2</th>\n",
       "      <td>06.КЦ-1</td>\n",
       "      <td>G_UNRO1</td>\n",
       "      <td>Конвертерный цех 1 УНРС 2,3,4,6</td>\n",
       "      <td>S_UNR6O1</td>\n",
       "      <td>УНРС-6</td>\n",
       "      <td>2021-10-07</td>\n",
       "      <td>0</td>\n",
       "      <td>1</td>\n",
       "      <td>100</td>\n",
       "      <td>76.606313</td>\n",
       "      <td>4 days</td>\n",
       "    </tr>\n",
       "    <tr>\n",
       "      <th>3</th>\n",
       "      <td>06.КЦ-1</td>\n",
       "      <td>G_UNRO1</td>\n",
       "      <td>Конвертерный цех 1 УНРС 2,3,4,6</td>\n",
       "      <td>S_UNR2O1</td>\n",
       "      <td>УНРС-2</td>\n",
       "      <td>2021-10-07</td>\n",
       "      <td>0</td>\n",
       "      <td>1</td>\n",
       "      <td>100</td>\n",
       "      <td>100</td>\n",
       "      <td>4 days</td>\n",
       "    </tr>\n",
       "    <tr>\n",
       "      <th>4</th>\n",
       "      <td>06.КЦ-1</td>\n",
       "      <td>G_UNRO1</td>\n",
       "      <td>Конвертерный цех 1 УНРС 2,3,4,6</td>\n",
       "      <td>S_UNR4O1</td>\n",
       "      <td>УНРС-4</td>\n",
       "      <td>2021-10-08</td>\n",
       "      <td>1</td>\n",
       "      <td>1</td>\n",
       "      <td>100</td>\n",
       "      <td>57.324748</td>\n",
       "      <td>4 days</td>\n",
       "    </tr>\n",
       "  </tbody>\n",
       "</table>\n",
       "</div>"
      ],
      "text/plain": [
       "  Наименование цеха       Id                             Name      Id.1  \\\n",
       "0           06.КЦ-1  G_UNRO1  Конвертерный цех 1 УНРС 2,3,4,6  S_UNR4O1   \n",
       "1           06.КЦ-1  G_UNRO1  Конвертерный цех 1 УНРС 2,3,4,6  S_UNR3O1   \n",
       "2           06.КЦ-1  G_UNRO1  Конвертерный цех 1 УНРС 2,3,4,6  S_UNR6O1   \n",
       "3           06.КЦ-1  G_UNRO1  Конвертерный цех 1 УНРС 2,3,4,6  S_UNR2O1   \n",
       "4           06.КЦ-1  G_UNRO1  Конвертерный цех 1 УНРС 2,3,4,6  S_UNR4O1   \n",
       "\n",
       "   Name.1     dStart  Day  DurationInDays  OccupiedPercentage  \\\n",
       "0  УНРС-4 2021-10-07    0               1                 100   \n",
       "1  УНРС-3 2021-10-07    0               1                 100   \n",
       "2  УНРС-6 2021-10-07    0               1                 100   \n",
       "3  УНРС-2 2021-10-07    0               1                 100   \n",
       "4  УНРС-4 2021-10-08    1               1                 100   \n",
       "\n",
       "  UnavailablePercentage TotalCapacity.1  \n",
       "0                   100          4 days  \n",
       "1             99.853748          4 days  \n",
       "2             76.606313          4 days  \n",
       "3                   100          4 days  \n",
       "4             57.324748          4 days  "
      ]
     },
     "execution_count": 124,
     "metadata": {},
     "output_type": "execute_result"
    }
   ],
   "source": [
    "agrs.head()"
   ]
  },
  {
   "cell_type": "code",
   "execution_count": 127,
   "id": "5c12bd6c",
   "metadata": {},
   "outputs": [
    {
     "data": {
      "text/html": [
       "<div>\n",
       "<style scoped>\n",
       "    .dataframe tbody tr th:only-of-type {\n",
       "        vertical-align: middle;\n",
       "    }\n",
       "\n",
       "    .dataframe tbody tr th {\n",
       "        vertical-align: top;\n",
       "    }\n",
       "\n",
       "    .dataframe thead th {\n",
       "        text-align: right;\n",
       "    }\n",
       "</style>\n",
       "<table border=\"1\" class=\"dataframe\">\n",
       "  <thead>\n",
       "    <tr style=\"text-align: right;\">\n",
       "      <th></th>\n",
       "      <th>HasConstraintViolations</th>\n",
       "      <th>Имя</th>\n",
       "      <th>Имеет ограничение по мощности</th>\n",
       "      <th>Идентификатор</th>\n",
       "      <th>InputSP</th>\n",
       "      <th>OutputSP</th>\n",
       "      <th>Поставщик</th>\n",
       "    </tr>\n",
       "  </thead>\n",
       "  <tbody>\n",
       "    <tr>\n",
       "      <th>6</th>\n",
       "      <td>False</td>\n",
       "      <td>Конвертеры КЦ-2</td>\n",
       "      <td>True</td>\n",
       "      <td>G_VSO2</td>\n",
       "      <td>Q307M</td>\n",
       "      <td>NaN</td>\n",
       "      <td>False</td>\n",
       "    </tr>\n",
       "    <tr>\n",
       "      <th>10</th>\n",
       "      <td>False</td>\n",
       "      <td>АНГЦ ЦХПП</td>\n",
       "      <td>True</td>\n",
       "      <td>G_ANGCH</td>\n",
       "      <td>Q3134;Q313M</td>\n",
       "      <td>Q3137;Q313A;Q313C</td>\n",
       "      <td>False</td>\n",
       "    </tr>\n",
       "    <tr>\n",
       "      <th>14</th>\n",
       "      <td>False</td>\n",
       "      <td>АЗП ЦТС</td>\n",
       "      <td>True</td>\n",
       "      <td>G_AZPT</td>\n",
       "      <td>Q311A;Q311E;Q311SFG</td>\n",
       "      <td>Q311B</td>\n",
       "      <td>False</td>\n",
       "    </tr>\n",
       "    <tr>\n",
       "      <th>18</th>\n",
       "      <td>False</td>\n",
       "      <td>НТА ЦХПП</td>\n",
       "      <td>True</td>\n",
       "      <td>G_NTAH</td>\n",
       "      <td>Q3132</td>\n",
       "      <td>Q3134;Q3135;Q3136;Q313C</td>\n",
       "      <td>False</td>\n",
       "    </tr>\n",
       "    <tr>\n",
       "      <th>19</th>\n",
       "      <td>False</td>\n",
       "      <td>Отгрузка ЦГП</td>\n",
       "      <td>True</td>\n",
       "      <td>G_OTGRG</td>\n",
       "      <td>Q3121</td>\n",
       "      <td>Q3001</td>\n",
       "      <td>False</td>\n",
       "    </tr>\n",
       "  </tbody>\n",
       "</table>\n",
       "</div>"
      ],
      "text/plain": [
       "    HasConstraintViolations              Имя  Имеет ограничение по мощности  \\\n",
       "6                     False  Конвертеры КЦ-2                           True   \n",
       "10                    False        АНГЦ ЦХПП                           True   \n",
       "14                    False          АЗП ЦТС                           True   \n",
       "18                    False         НТА ЦХПП                           True   \n",
       "19                    False     Отгрузка ЦГП                           True   \n",
       "\n",
       "   Идентификатор              InputSP                 OutputSP  Поставщик  \n",
       "6         G_VSO2                Q307M                      NaN      False  \n",
       "10       G_ANGCH          Q3134;Q313M        Q3137;Q313A;Q313C      False  \n",
       "14        G_AZPT  Q311A;Q311E;Q311SFG                    Q311B      False  \n",
       "18        G_NTAH                Q3132  Q3134;Q3135;Q3136;Q313C      False  \n",
       "19       G_OTGRG                Q3121                    Q3001      False  "
      ]
     },
     "execution_count": 127,
     "metadata": {},
     "output_type": "execute_result"
    }
   ],
   "source": [
    "resources.head()"
   ]
  },
  {
   "cell_type": "code",
   "execution_count": 126,
   "id": "af70e128",
   "metadata": {},
   "outputs": [
    {
     "data": {
      "text/plain": [
       "False    13\n",
       "Name: HasConstraintViolations, dtype: int64"
      ]
     },
     "execution_count": 126,
     "metadata": {},
     "output_type": "execute_result"
    }
   ],
   "source": [
    "resources['HasConstraintViolations'].value_counts()"
   ]
  },
  {
   "cell_type": "code",
   "execution_count": 128,
   "id": "bfe9c43c",
   "metadata": {},
   "outputs": [
    {
     "data": {
      "text/plain": [
       "False    13\n",
       "Name: Поставщик, dtype: int64"
      ]
     },
     "execution_count": 128,
     "metadata": {},
     "output_type": "execute_result"
    }
   ],
   "source": [
    "resources['Поставщик'].value_counts()"
   ]
  },
  {
   "cell_type": "code",
   "execution_count": 129,
   "id": "5d0dd5db",
   "metadata": {},
   "outputs": [
    {
     "data": {
      "text/plain": [
       "False    55\n",
       "Name: HasConstraintViolations, dtype: int64"
      ]
     },
     "execution_count": 129,
     "metadata": {},
     "output_type": "execute_result"
    }
   ],
   "source": [
    "notkey_resources['HasConstraintViolations'].value_counts()"
   ]
  },
  {
   "cell_type": "code",
   "execution_count": 130,
   "id": "812e5fbb",
   "metadata": {},
   "outputs": [
    {
     "data": {
      "text/plain": [
       "False    55\n",
       "Name: Поставщик, dtype: int64"
      ]
     },
     "execution_count": 130,
     "metadata": {},
     "output_type": "execute_result"
    }
   ],
   "source": [
    "notkey_resources['Поставщик'].value_counts()"
   ]
  },
  {
   "cell_type": "code",
   "execution_count": 131,
   "id": "bc17d369",
   "metadata": {},
   "outputs": [],
   "source": [
    "resources = pd.DataFrame(resources.drop(['HasConstraintViolations', 'Поставщик'], axis=1))\n",
    "notkey_resources = pd.DataFrame(notkey_resources.drop(['HasConstraintViolations', 'Поставщик'], axis=1))"
   ]
  },
  {
   "cell_type": "code",
   "execution_count": 132,
   "id": "348dd112",
   "metadata": {},
   "outputs": [
    {
     "data": {
      "text/html": [
       "<div>\n",
       "<style scoped>\n",
       "    .dataframe tbody tr th:only-of-type {\n",
       "        vertical-align: middle;\n",
       "    }\n",
       "\n",
       "    .dataframe tbody tr th {\n",
       "        vertical-align: top;\n",
       "    }\n",
       "\n",
       "    .dataframe thead th {\n",
       "        text-align: right;\n",
       "    }\n",
       "</style>\n",
       "<table border=\"1\" class=\"dataframe\">\n",
       "  <thead>\n",
       "    <tr style=\"text-align: right;\">\n",
       "      <th></th>\n",
       "      <th>Имя</th>\n",
       "      <th>Имеет ограничение по мощности</th>\n",
       "      <th>Идентификатор</th>\n",
       "      <th>InputSP</th>\n",
       "      <th>OutputSP</th>\n",
       "    </tr>\n",
       "  </thead>\n",
       "  <tbody>\n",
       "    <tr>\n",
       "      <th>6</th>\n",
       "      <td>Конвертеры КЦ-2</td>\n",
       "      <td>True</td>\n",
       "      <td>G_VSO2</td>\n",
       "      <td>Q307M</td>\n",
       "      <td>NaN</td>\n",
       "    </tr>\n",
       "    <tr>\n",
       "      <th>10</th>\n",
       "      <td>АНГЦ ЦХПП</td>\n",
       "      <td>True</td>\n",
       "      <td>G_ANGCH</td>\n",
       "      <td>Q3134;Q313M</td>\n",
       "      <td>Q3137;Q313A;Q313C</td>\n",
       "    </tr>\n",
       "    <tr>\n",
       "      <th>14</th>\n",
       "      <td>АЗП ЦТС</td>\n",
       "      <td>True</td>\n",
       "      <td>G_AZPT</td>\n",
       "      <td>Q311A;Q311E;Q311SFG</td>\n",
       "      <td>Q311B</td>\n",
       "    </tr>\n",
       "    <tr>\n",
       "      <th>18</th>\n",
       "      <td>НТА ЦХПП</td>\n",
       "      <td>True</td>\n",
       "      <td>G_NTAH</td>\n",
       "      <td>Q3132</td>\n",
       "      <td>Q3134;Q3135;Q3136;Q313C</td>\n",
       "    </tr>\n",
       "    <tr>\n",
       "      <th>19</th>\n",
       "      <td>Отгрузка ЦГП</td>\n",
       "      <td>True</td>\n",
       "      <td>G_OTGRG</td>\n",
       "      <td>Q3121</td>\n",
       "      <td>Q3001</td>\n",
       "    </tr>\n",
       "  </tbody>\n",
       "</table>\n",
       "</div>"
      ],
      "text/plain": [
       "                Имя  Имеет ограничение по мощности Идентификатор  \\\n",
       "6   Конвертеры КЦ-2                           True        G_VSO2   \n",
       "10        АНГЦ ЦХПП                           True       G_ANGCH   \n",
       "14          АЗП ЦТС                           True        G_AZPT   \n",
       "18         НТА ЦХПП                           True        G_NTAH   \n",
       "19     Отгрузка ЦГП                           True       G_OTGRG   \n",
       "\n",
       "                InputSP                 OutputSP  \n",
       "6                 Q307M                      NaN  \n",
       "10          Q3134;Q313M        Q3137;Q313A;Q313C  \n",
       "14  Q311A;Q311E;Q311SFG                    Q311B  \n",
       "18                Q3132  Q3134;Q3135;Q3136;Q313C  \n",
       "19                Q3121                    Q3001  "
      ]
     },
     "execution_count": 132,
     "metadata": {},
     "output_type": "execute_result"
    }
   ],
   "source": [
    "resources.head()"
   ]
  },
  {
   "cell_type": "code",
   "execution_count": 133,
   "id": "cd875007",
   "metadata": {},
   "outputs": [
    {
     "data": {
      "text/html": [
       "<div>\n",
       "<style scoped>\n",
       "    .dataframe tbody tr th:only-of-type {\n",
       "        vertical-align: middle;\n",
       "    }\n",
       "\n",
       "    .dataframe tbody tr th {\n",
       "        vertical-align: top;\n",
       "    }\n",
       "\n",
       "    .dataframe thead th {\n",
       "        text-align: right;\n",
       "    }\n",
       "</style>\n",
       "<table border=\"1\" class=\"dataframe\">\n",
       "  <thead>\n",
       "    <tr style=\"text-align: right;\">\n",
       "      <th></th>\n",
       "      <th>Идентификатор</th>\n",
       "      <th>Имя</th>\n",
       "      <th>Продолжительность</th>\n",
       "      <th>Плановая дата</th>\n",
       "      <th>Уровень запасов</th>\n",
       "      <th>Имеет запланировано свыше максимального уровня запасов</th>\n",
       "      <th>Максимальное количество запасов</th>\n",
       "    </tr>\n",
       "  </thead>\n",
       "  <tbody>\n",
       "    <tr>\n",
       "      <th>5</th>\n",
       "      <td>Q311A</td>\n",
       "      <td>Склад ЦТС ПФ после обезжиривания</td>\n",
       "      <td>1</td>\n",
       "      <td>2021-10-23</td>\n",
       "      <td>314.24</td>\n",
       "      <td>False</td>\n",
       "      <td>1400</td>\n",
       "    </tr>\n",
       "    <tr>\n",
       "      <th>6</th>\n",
       "      <td>Q3137</td>\n",
       "      <td>Склад ЦХПП ПФ перед АР</td>\n",
       "      <td>1</td>\n",
       "      <td>2021-10-18</td>\n",
       "      <td>19846.53</td>\n",
       "      <td>False</td>\n",
       "      <td>25000</td>\n",
       "    </tr>\n",
       "    <tr>\n",
       "      <th>7</th>\n",
       "      <td>Q315B</td>\n",
       "      <td>Склад перед упаковкой</td>\n",
       "      <td>1</td>\n",
       "      <td>2021-11-02</td>\n",
       "      <td>3483.42</td>\n",
       "      <td>False</td>\n",
       "      <td>1500</td>\n",
       "    </tr>\n",
       "    <tr>\n",
       "      <th>11</th>\n",
       "      <td>Q3154</td>\n",
       "      <td>Склад перед НТА</td>\n",
       "      <td>1</td>\n",
       "      <td>2021-10-24</td>\n",
       "      <td>3066.76</td>\n",
       "      <td>False</td>\n",
       "      <td>7400</td>\n",
       "    </tr>\n",
       "    <tr>\n",
       "      <th>16</th>\n",
       "      <td>Q3132</td>\n",
       "      <td>Склад ЦХПП ПФ г/к рулоны</td>\n",
       "      <td>1</td>\n",
       "      <td>2021-11-03</td>\n",
       "      <td>34819.59</td>\n",
       "      <td>False</td>\n",
       "      <td>56500</td>\n",
       "    </tr>\n",
       "  </tbody>\n",
       "</table>\n",
       "</div>"
      ],
      "text/plain": [
       "   Идентификатор                               Имя  Продолжительность  \\\n",
       "5          Q311A  Склад ЦТС ПФ после обезжиривания                  1   \n",
       "6          Q3137            Склад ЦХПП ПФ перед АР                  1   \n",
       "7          Q315B             Склад перед упаковкой                  1   \n",
       "11         Q3154                   Склад перед НТА                  1   \n",
       "16         Q3132          Склад ЦХПП ПФ г/к рулоны                  1   \n",
       "\n",
       "   Плановая дата  Уровень запасов  \\\n",
       "5     2021-10-23           314.24   \n",
       "6     2021-10-18         19846.53   \n",
       "7     2021-11-02          3483.42   \n",
       "11    2021-10-24          3066.76   \n",
       "16    2021-11-03         34819.59   \n",
       "\n",
       "    Имеет запланировано свыше максимального уровня запасов  \\\n",
       "5                                               False        \n",
       "6                                               False        \n",
       "7                                               False        \n",
       "11                                              False        \n",
       "16                                              False        \n",
       "\n",
       "    Максимальное количество запасов  \n",
       "5                              1400  \n",
       "6                             25000  \n",
       "7                              1500  \n",
       "11                             7400  \n",
       "16                            56500  "
      ]
     },
     "execution_count": 133,
     "metadata": {},
     "output_type": "execute_result"
    }
   ],
   "source": [
    "whouses.head()"
   ]
  },
  {
   "cell_type": "code",
   "execution_count": 134,
   "id": "edc9e82f",
   "metadata": {},
   "outputs": [],
   "source": [
    "agrs.to_csv('agregates.csv', index=False)\n",
    "resources.to_csv('agregates_warehouses', index=False)\n",
    "whouses.to_csv('warehouses.csv', index=False)"
   ]
  },
  {
   "cell_type": "code",
   "execution_count": null,
   "id": "7337324c",
   "metadata": {},
   "outputs": [],
   "source": []
  }
 ],
 "metadata": {
  "kernelspec": {
   "display_name": "Python 3 (ipykernel)",
   "language": "python",
   "name": "python3"
  },
  "language_info": {
   "codemirror_mode": {
    "name": "ipython",
    "version": 3
   },
   "file_extension": ".py",
   "mimetype": "text/x-python",
   "name": "python",
   "nbconvert_exporter": "python",
   "pygments_lexer": "ipython3",
   "version": "3.8.10"
  }
 },
 "nbformat": 4,
 "nbformat_minor": 5
}
