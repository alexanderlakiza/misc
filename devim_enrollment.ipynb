{
 "cells": [
  {
   "cell_type": "code",
   "execution_count": 67,
   "metadata": {
    "collapsed": true
   },
   "outputs": [],
   "source": [
    "import numpy as np\n",
    "import matplotlib.pyplot as plt\n",
    "import pandas as pd\n",
    "from scipy import stats as st\n",
    "import seaborn as sns"
   ]
  },
  {
   "cell_type": "code",
   "execution_count": 3,
   "outputs": [
    {
     "data": {
      "text/plain": "   order_id  cred_sum_cc_all  mfo_inqs_count_month  all_closed_creds_sum_all  \\\n0   5498546              0.0                     0                     40364   \n1   5498604           1500.0                     0                     23456   \n2   5498609              0.1                     0                     17999   \n3   5498645           5000.0                     0                    313247   \n4   5498647              0.0                     0                         0   \n\n   bank_inqs_count_quarter  cred_max_overdue_max_ly  all_active_creds_sum_all  \\\n0                        0                      0.0                      3000   \n1                        0                      0.0                         0   \n2                        3                      0.0                      9999   \n3                        0                      0.0                         0   \n4                        1                      0.0                         0   \n\n   mfo_last_days_all  cred_sum_cc_ly  cred_sum_debt_all_all  ...  \\\n0                560             0.0                    0.0  ...   \n1               9999             0.0                    0.0  ...   \n2               9999             0.1                 9999.0  ...   \n3               9999             0.0                    0.0  ...   \n4               9999             0.0                    0.0  ...   \n\n   cred_max_overdue_max_3lm  mfo_closed_count_ly  cred_sum_overdue_cc_all  \\\n0                       0.0                    0                     0.00   \n1                       0.0                    0                     0.00   \n2                       0.0                    0                     0.00   \n3                       0.0                    0                  4923.97   \n4                       0.0                    0                     0.00   \n\n   count_overdue_all_3lm  all_creds_count_lm  work_code  month_income  region  \\\n0                      0                   0          3         50000      46   \n1                      0                   0          3         35000      17   \n2                      0                   2          3         35000      58   \n3                      0                   0          5         35000       4   \n4                      0                   0          5         35000      34   \n\n   bad  approved  \n0  NaN         0  \n1  NaN         0  \n2  NaN         0  \n3  NaN         0  \n4  NaN         0  \n\n[5 rows x 25 columns]",
      "text/html": "<div>\n<style scoped>\n    .dataframe tbody tr th:only-of-type {\n        vertical-align: middle;\n    }\n\n    .dataframe tbody tr th {\n        vertical-align: top;\n    }\n\n    .dataframe thead th {\n        text-align: right;\n    }\n</style>\n<table border=\"1\" class=\"dataframe\">\n  <thead>\n    <tr style=\"text-align: right;\">\n      <th></th>\n      <th>order_id</th>\n      <th>cred_sum_cc_all</th>\n      <th>mfo_inqs_count_month</th>\n      <th>all_closed_creds_sum_all</th>\n      <th>bank_inqs_count_quarter</th>\n      <th>cred_max_overdue_max_ly</th>\n      <th>all_active_creds_sum_all</th>\n      <th>mfo_last_days_all</th>\n      <th>cred_sum_cc_ly</th>\n      <th>cred_sum_debt_all_all</th>\n      <th>...</th>\n      <th>cred_max_overdue_max_3lm</th>\n      <th>mfo_closed_count_ly</th>\n      <th>cred_sum_overdue_cc_all</th>\n      <th>count_overdue_all_3lm</th>\n      <th>all_creds_count_lm</th>\n      <th>work_code</th>\n      <th>month_income</th>\n      <th>region</th>\n      <th>bad</th>\n      <th>approved</th>\n    </tr>\n  </thead>\n  <tbody>\n    <tr>\n      <th>0</th>\n      <td>5498546</td>\n      <td>0.0</td>\n      <td>0</td>\n      <td>40364</td>\n      <td>0</td>\n      <td>0.0</td>\n      <td>3000</td>\n      <td>560</td>\n      <td>0.0</td>\n      <td>0.0</td>\n      <td>...</td>\n      <td>0.0</td>\n      <td>0</td>\n      <td>0.00</td>\n      <td>0</td>\n      <td>0</td>\n      <td>3</td>\n      <td>50000</td>\n      <td>46</td>\n      <td>NaN</td>\n      <td>0</td>\n    </tr>\n    <tr>\n      <th>1</th>\n      <td>5498604</td>\n      <td>1500.0</td>\n      <td>0</td>\n      <td>23456</td>\n      <td>0</td>\n      <td>0.0</td>\n      <td>0</td>\n      <td>9999</td>\n      <td>0.0</td>\n      <td>0.0</td>\n      <td>...</td>\n      <td>0.0</td>\n      <td>0</td>\n      <td>0.00</td>\n      <td>0</td>\n      <td>0</td>\n      <td>3</td>\n      <td>35000</td>\n      <td>17</td>\n      <td>NaN</td>\n      <td>0</td>\n    </tr>\n    <tr>\n      <th>2</th>\n      <td>5498609</td>\n      <td>0.1</td>\n      <td>0</td>\n      <td>17999</td>\n      <td>3</td>\n      <td>0.0</td>\n      <td>9999</td>\n      <td>9999</td>\n      <td>0.1</td>\n      <td>9999.0</td>\n      <td>...</td>\n      <td>0.0</td>\n      <td>0</td>\n      <td>0.00</td>\n      <td>0</td>\n      <td>2</td>\n      <td>3</td>\n      <td>35000</td>\n      <td>58</td>\n      <td>NaN</td>\n      <td>0</td>\n    </tr>\n    <tr>\n      <th>3</th>\n      <td>5498645</td>\n      <td>5000.0</td>\n      <td>0</td>\n      <td>313247</td>\n      <td>0</td>\n      <td>0.0</td>\n      <td>0</td>\n      <td>9999</td>\n      <td>0.0</td>\n      <td>0.0</td>\n      <td>...</td>\n      <td>0.0</td>\n      <td>0</td>\n      <td>4923.97</td>\n      <td>0</td>\n      <td>0</td>\n      <td>5</td>\n      <td>35000</td>\n      <td>4</td>\n      <td>NaN</td>\n      <td>0</td>\n    </tr>\n    <tr>\n      <th>4</th>\n      <td>5498647</td>\n      <td>0.0</td>\n      <td>0</td>\n      <td>0</td>\n      <td>1</td>\n      <td>0.0</td>\n      <td>0</td>\n      <td>9999</td>\n      <td>0.0</td>\n      <td>0.0</td>\n      <td>...</td>\n      <td>0.0</td>\n      <td>0</td>\n      <td>0.00</td>\n      <td>0</td>\n      <td>0</td>\n      <td>5</td>\n      <td>35000</td>\n      <td>34</td>\n      <td>NaN</td>\n      <td>0</td>\n    </tr>\n  </tbody>\n</table>\n<p>5 rows × 25 columns</p>\n</div>"
     },
     "execution_count": 3,
     "metadata": {},
     "output_type": "execute_result"
    }
   ],
   "source": [
    "train_df = pd.read_csv(\"devim/train.csv\")\n",
    "train_df.head()"
   ],
   "metadata": {
    "collapsed": false,
    "pycharm": {
     "name": "#%%\n"
    }
   }
  },
  {
   "cell_type": "code",
   "execution_count": 4,
   "outputs": [
    {
     "data": {
      "text/plain": "   order_id  cred_sum_cc_all  mfo_inqs_count_month  all_closed_creds_sum_all  \\\n0   5499904          16000.0                     0                      6890   \n1   5501986              0.0                     0                         0   \n2   5503586         133000.0                     1                    284685   \n3   5507043          10000.0                     0                         0   \n4   5512692         120500.0                     0                   1293089   \n\n   bank_inqs_count_quarter  cred_max_overdue_max_ly  all_active_creds_sum_all  \\\n0                        1                 33722.12                     33722   \n1                        5                  5000.00                         0   \n2                        9                 16600.00                    716305   \n3                        0                     0.00                         0   \n4                        8                  9605.18                   1562678   \n\n   mfo_last_days_all  cred_sum_cc_ly  cred_sum_debt_all_all  ...  \\\n0               9999             0.0                   0.00  ...   \n1                289             0.0                   0.00  ...   \n2                  6         50000.0              593315.33  ...   \n3               9999             0.0                   0.00  ...   \n4                 33             0.0             1392907.34  ...   \n\n   cred_max_overdue_max_3lm  mfo_closed_count_ly  cred_sum_overdue_cc_all  \\\n0                      0.00                    0                     0.00   \n1                      0.00                    0                     0.00   \n2                  16600.00                    4                  2409.33   \n3                      0.00                    0                  9968.84   \n4                   1221.81                    1                  4442.42   \n\n   count_overdue_all_3lm  all_creds_count_lm  work_code  month_income  region  \\\n0                      0                   0          5         35000      65   \n1                      0                   0          3         35000       7   \n2                      1                   4          4         50000      18   \n3                      0                   0          5         20000      58   \n4                      1                   0          3         50000      20   \n\n   bad  approved  \n0  NaN         0  \n1  NaN         0  \n2  1.0         1  \n3  NaN         0  \n4  0.0         1  \n\n[5 rows x 25 columns]",
      "text/html": "<div>\n<style scoped>\n    .dataframe tbody tr th:only-of-type {\n        vertical-align: middle;\n    }\n\n    .dataframe tbody tr th {\n        vertical-align: top;\n    }\n\n    .dataframe thead th {\n        text-align: right;\n    }\n</style>\n<table border=\"1\" class=\"dataframe\">\n  <thead>\n    <tr style=\"text-align: right;\">\n      <th></th>\n      <th>order_id</th>\n      <th>cred_sum_cc_all</th>\n      <th>mfo_inqs_count_month</th>\n      <th>all_closed_creds_sum_all</th>\n      <th>bank_inqs_count_quarter</th>\n      <th>cred_max_overdue_max_ly</th>\n      <th>all_active_creds_sum_all</th>\n      <th>mfo_last_days_all</th>\n      <th>cred_sum_cc_ly</th>\n      <th>cred_sum_debt_all_all</th>\n      <th>...</th>\n      <th>cred_max_overdue_max_3lm</th>\n      <th>mfo_closed_count_ly</th>\n      <th>cred_sum_overdue_cc_all</th>\n      <th>count_overdue_all_3lm</th>\n      <th>all_creds_count_lm</th>\n      <th>work_code</th>\n      <th>month_income</th>\n      <th>region</th>\n      <th>bad</th>\n      <th>approved</th>\n    </tr>\n  </thead>\n  <tbody>\n    <tr>\n      <th>0</th>\n      <td>5499904</td>\n      <td>16000.0</td>\n      <td>0</td>\n      <td>6890</td>\n      <td>1</td>\n      <td>33722.12</td>\n      <td>33722</td>\n      <td>9999</td>\n      <td>0.0</td>\n      <td>0.00</td>\n      <td>...</td>\n      <td>0.00</td>\n      <td>0</td>\n      <td>0.00</td>\n      <td>0</td>\n      <td>0</td>\n      <td>5</td>\n      <td>35000</td>\n      <td>65</td>\n      <td>NaN</td>\n      <td>0</td>\n    </tr>\n    <tr>\n      <th>1</th>\n      <td>5501986</td>\n      <td>0.0</td>\n      <td>0</td>\n      <td>0</td>\n      <td>5</td>\n      <td>5000.00</td>\n      <td>0</td>\n      <td>289</td>\n      <td>0.0</td>\n      <td>0.00</td>\n      <td>...</td>\n      <td>0.00</td>\n      <td>0</td>\n      <td>0.00</td>\n      <td>0</td>\n      <td>0</td>\n      <td>3</td>\n      <td>35000</td>\n      <td>7</td>\n      <td>NaN</td>\n      <td>0</td>\n    </tr>\n    <tr>\n      <th>2</th>\n      <td>5503586</td>\n      <td>133000.0</td>\n      <td>1</td>\n      <td>284685</td>\n      <td>9</td>\n      <td>16600.00</td>\n      <td>716305</td>\n      <td>6</td>\n      <td>50000.0</td>\n      <td>593315.33</td>\n      <td>...</td>\n      <td>16600.00</td>\n      <td>4</td>\n      <td>2409.33</td>\n      <td>1</td>\n      <td>4</td>\n      <td>4</td>\n      <td>50000</td>\n      <td>18</td>\n      <td>1.0</td>\n      <td>1</td>\n    </tr>\n    <tr>\n      <th>3</th>\n      <td>5507043</td>\n      <td>10000.0</td>\n      <td>0</td>\n      <td>0</td>\n      <td>0</td>\n      <td>0.00</td>\n      <td>0</td>\n      <td>9999</td>\n      <td>0.0</td>\n      <td>0.00</td>\n      <td>...</td>\n      <td>0.00</td>\n      <td>0</td>\n      <td>9968.84</td>\n      <td>0</td>\n      <td>0</td>\n      <td>5</td>\n      <td>20000</td>\n      <td>58</td>\n      <td>NaN</td>\n      <td>0</td>\n    </tr>\n    <tr>\n      <th>4</th>\n      <td>5512692</td>\n      <td>120500.0</td>\n      <td>0</td>\n      <td>1293089</td>\n      <td>8</td>\n      <td>9605.18</td>\n      <td>1562678</td>\n      <td>33</td>\n      <td>0.0</td>\n      <td>1392907.34</td>\n      <td>...</td>\n      <td>1221.81</td>\n      <td>1</td>\n      <td>4442.42</td>\n      <td>1</td>\n      <td>0</td>\n      <td>3</td>\n      <td>50000</td>\n      <td>20</td>\n      <td>0.0</td>\n      <td>1</td>\n    </tr>\n  </tbody>\n</table>\n<p>5 rows × 25 columns</p>\n</div>"
     },
     "execution_count": 4,
     "metadata": {},
     "output_type": "execute_result"
    }
   ],
   "source": [
    "test_df = pd.read_csv(\"devim/test.csv\")\n",
    "test_df.head()"
   ],
   "metadata": {
    "collapsed": false,
    "pycharm": {
     "name": "#%%\n"
    }
   }
  },
  {
   "cell_type": "code",
   "execution_count": 5,
   "outputs": [
    {
     "data": {
      "text/plain": "           order_id  cred_sum_cc_all  mfo_inqs_count_month  \\\ncount  2.311600e+04     2.311600e+04          23116.000000   \nmean   6.060602e+06     4.424794e+04              1.284262   \nstd    3.678480e+05     1.006016e+05              2.373415   \nmin    5.498546e+06     0.000000e+00              0.000000   \n25%    5.739749e+06     0.000000e+00              0.000000   \n50%    6.020794e+06     5.000000e+03              0.000000   \n75%    6.445488e+06     4.972685e+04              2.000000   \nmax    6.697265e+06     5.739786e+06             25.000000   \n\n       all_closed_creds_sum_all  bank_inqs_count_quarter  \\\ncount              2.311600e+04             23116.000000   \nmean               1.653574e+05                 3.760642   \nstd                4.788942e+05                 5.057107   \nmin                0.000000e+00                 0.000000   \n25%                3.000000e+03                 0.000000   \n50%                3.083450e+04                 2.000000   \n75%                1.357758e+05                 5.000000   \nmax                3.030997e+07                67.000000   \n\n       cred_max_overdue_max_ly  all_active_creds_sum_all  mfo_last_days_all  \\\ncount             2.311600e+04              2.311600e+04       23116.000000   \nmean              4.070925e+03              1.284212e+05        2615.988925   \nstd               2.689042e+04              3.890718e+05        4228.621029   \nmin               0.000000e+00              0.000000e+00           0.000000   \n25%               0.000000e+00              2.000000e+03          13.000000   \n50%               0.000000e+00              1.500000e+04          83.500000   \n75%               3.000000e+03              7.500000e+04        2070.500000   \nmax               1.914581e+06              1.200000e+07        9999.000000   \n\n       cred_sum_cc_ly  cred_sum_debt_all_all  ...  cred_max_overdue_max_3lm  \\\ncount    23116.000000           2.311600e+04  ...              23116.000000   \nmean     10672.104919           8.414683e+04  ...               1107.137568   \nstd      37246.943546           3.054724e+05  ...               7073.931364   \nmin          0.000000           0.000000e+00  ...                  0.000000   \n25%          0.000000           0.000000e+00  ...                  0.000000   \n50%          0.000000           5.000000e+03  ...                  0.000000   \n75%          0.000000           3.496056e+04  ...                  0.000000   \nmax     878000.000000           1.150825e+07  ...             673495.420000   \n\n       mfo_closed_count_ly  cred_sum_overdue_cc_all  count_overdue_all_3lm  \\\ncount         23116.000000             2.311600e+04           23116.000000   \nmean              3.474087             4.878172e+03               0.118576   \nstd               9.202313             3.793714e+04               0.466854   \nmin               0.000000             0.000000e+00               0.000000   \n25%               0.000000             0.000000e+00               0.000000   \n50%               0.000000             0.000000e+00               0.000000   \n75%               3.000000             0.000000e+00               0.000000   \nmax             344.000000             2.878197e+06              10.000000   \n\n       all_creds_count_lm     work_code  month_income        region  \\\ncount        23116.000000  23116.000000  23116.000000  23116.000000   \nmean             1.080637      3.433250  39363.189998     47.632203   \nstd              2.137757      1.370812  13887.644526     27.615823   \nmin              0.000000      1.000000      0.000000      0.000000   \n25%              0.000000      2.000000  35000.000000     25.000000   \n50%              0.000000      3.000000  35000.000000     46.000000   \n75%              1.000000      5.000000  50000.000000     70.000000   \nmax             48.000000      5.000000  65000.000000     99.000000   \n\n               bad      approved  \ncount  7269.000000  23116.000000  \nmean      0.270051      0.314458  \nstd       0.444016      0.464310  \nmin       0.000000      0.000000  \n25%       0.000000      0.000000  \n50%       0.000000      0.000000  \n75%       1.000000      1.000000  \nmax       1.000000      1.000000  \n\n[8 rows x 25 columns]",
      "text/html": "<div>\n<style scoped>\n    .dataframe tbody tr th:only-of-type {\n        vertical-align: middle;\n    }\n\n    .dataframe tbody tr th {\n        vertical-align: top;\n    }\n\n    .dataframe thead th {\n        text-align: right;\n    }\n</style>\n<table border=\"1\" class=\"dataframe\">\n  <thead>\n    <tr style=\"text-align: right;\">\n      <th></th>\n      <th>order_id</th>\n      <th>cred_sum_cc_all</th>\n      <th>mfo_inqs_count_month</th>\n      <th>all_closed_creds_sum_all</th>\n      <th>bank_inqs_count_quarter</th>\n      <th>cred_max_overdue_max_ly</th>\n      <th>all_active_creds_sum_all</th>\n      <th>mfo_last_days_all</th>\n      <th>cred_sum_cc_ly</th>\n      <th>cred_sum_debt_all_all</th>\n      <th>...</th>\n      <th>cred_max_overdue_max_3lm</th>\n      <th>mfo_closed_count_ly</th>\n      <th>cred_sum_overdue_cc_all</th>\n      <th>count_overdue_all_3lm</th>\n      <th>all_creds_count_lm</th>\n      <th>work_code</th>\n      <th>month_income</th>\n      <th>region</th>\n      <th>bad</th>\n      <th>approved</th>\n    </tr>\n  </thead>\n  <tbody>\n    <tr>\n      <th>count</th>\n      <td>2.311600e+04</td>\n      <td>2.311600e+04</td>\n      <td>23116.000000</td>\n      <td>2.311600e+04</td>\n      <td>23116.000000</td>\n      <td>2.311600e+04</td>\n      <td>2.311600e+04</td>\n      <td>23116.000000</td>\n      <td>23116.000000</td>\n      <td>2.311600e+04</td>\n      <td>...</td>\n      <td>23116.000000</td>\n      <td>23116.000000</td>\n      <td>2.311600e+04</td>\n      <td>23116.000000</td>\n      <td>23116.000000</td>\n      <td>23116.000000</td>\n      <td>23116.000000</td>\n      <td>23116.000000</td>\n      <td>7269.000000</td>\n      <td>23116.000000</td>\n    </tr>\n    <tr>\n      <th>mean</th>\n      <td>6.060602e+06</td>\n      <td>4.424794e+04</td>\n      <td>1.284262</td>\n      <td>1.653574e+05</td>\n      <td>3.760642</td>\n      <td>4.070925e+03</td>\n      <td>1.284212e+05</td>\n      <td>2615.988925</td>\n      <td>10672.104919</td>\n      <td>8.414683e+04</td>\n      <td>...</td>\n      <td>1107.137568</td>\n      <td>3.474087</td>\n      <td>4.878172e+03</td>\n      <td>0.118576</td>\n      <td>1.080637</td>\n      <td>3.433250</td>\n      <td>39363.189998</td>\n      <td>47.632203</td>\n      <td>0.270051</td>\n      <td>0.314458</td>\n    </tr>\n    <tr>\n      <th>std</th>\n      <td>3.678480e+05</td>\n      <td>1.006016e+05</td>\n      <td>2.373415</td>\n      <td>4.788942e+05</td>\n      <td>5.057107</td>\n      <td>2.689042e+04</td>\n      <td>3.890718e+05</td>\n      <td>4228.621029</td>\n      <td>37246.943546</td>\n      <td>3.054724e+05</td>\n      <td>...</td>\n      <td>7073.931364</td>\n      <td>9.202313</td>\n      <td>3.793714e+04</td>\n      <td>0.466854</td>\n      <td>2.137757</td>\n      <td>1.370812</td>\n      <td>13887.644526</td>\n      <td>27.615823</td>\n      <td>0.444016</td>\n      <td>0.464310</td>\n    </tr>\n    <tr>\n      <th>min</th>\n      <td>5.498546e+06</td>\n      <td>0.000000e+00</td>\n      <td>0.000000</td>\n      <td>0.000000e+00</td>\n      <td>0.000000</td>\n      <td>0.000000e+00</td>\n      <td>0.000000e+00</td>\n      <td>0.000000</td>\n      <td>0.000000</td>\n      <td>0.000000e+00</td>\n      <td>...</td>\n      <td>0.000000</td>\n      <td>0.000000</td>\n      <td>0.000000e+00</td>\n      <td>0.000000</td>\n      <td>0.000000</td>\n      <td>1.000000</td>\n      <td>0.000000</td>\n      <td>0.000000</td>\n      <td>0.000000</td>\n      <td>0.000000</td>\n    </tr>\n    <tr>\n      <th>25%</th>\n      <td>5.739749e+06</td>\n      <td>0.000000e+00</td>\n      <td>0.000000</td>\n      <td>3.000000e+03</td>\n      <td>0.000000</td>\n      <td>0.000000e+00</td>\n      <td>2.000000e+03</td>\n      <td>13.000000</td>\n      <td>0.000000</td>\n      <td>0.000000e+00</td>\n      <td>...</td>\n      <td>0.000000</td>\n      <td>0.000000</td>\n      <td>0.000000e+00</td>\n      <td>0.000000</td>\n      <td>0.000000</td>\n      <td>2.000000</td>\n      <td>35000.000000</td>\n      <td>25.000000</td>\n      <td>0.000000</td>\n      <td>0.000000</td>\n    </tr>\n    <tr>\n      <th>50%</th>\n      <td>6.020794e+06</td>\n      <td>5.000000e+03</td>\n      <td>0.000000</td>\n      <td>3.083450e+04</td>\n      <td>2.000000</td>\n      <td>0.000000e+00</td>\n      <td>1.500000e+04</td>\n      <td>83.500000</td>\n      <td>0.000000</td>\n      <td>5.000000e+03</td>\n      <td>...</td>\n      <td>0.000000</td>\n      <td>0.000000</td>\n      <td>0.000000e+00</td>\n      <td>0.000000</td>\n      <td>0.000000</td>\n      <td>3.000000</td>\n      <td>35000.000000</td>\n      <td>46.000000</td>\n      <td>0.000000</td>\n      <td>0.000000</td>\n    </tr>\n    <tr>\n      <th>75%</th>\n      <td>6.445488e+06</td>\n      <td>4.972685e+04</td>\n      <td>2.000000</td>\n      <td>1.357758e+05</td>\n      <td>5.000000</td>\n      <td>3.000000e+03</td>\n      <td>7.500000e+04</td>\n      <td>2070.500000</td>\n      <td>0.000000</td>\n      <td>3.496056e+04</td>\n      <td>...</td>\n      <td>0.000000</td>\n      <td>3.000000</td>\n      <td>0.000000e+00</td>\n      <td>0.000000</td>\n      <td>1.000000</td>\n      <td>5.000000</td>\n      <td>50000.000000</td>\n      <td>70.000000</td>\n      <td>1.000000</td>\n      <td>1.000000</td>\n    </tr>\n    <tr>\n      <th>max</th>\n      <td>6.697265e+06</td>\n      <td>5.739786e+06</td>\n      <td>25.000000</td>\n      <td>3.030997e+07</td>\n      <td>67.000000</td>\n      <td>1.914581e+06</td>\n      <td>1.200000e+07</td>\n      <td>9999.000000</td>\n      <td>878000.000000</td>\n      <td>1.150825e+07</td>\n      <td>...</td>\n      <td>673495.420000</td>\n      <td>344.000000</td>\n      <td>2.878197e+06</td>\n      <td>10.000000</td>\n      <td>48.000000</td>\n      <td>5.000000</td>\n      <td>65000.000000</td>\n      <td>99.000000</td>\n      <td>1.000000</td>\n      <td>1.000000</td>\n    </tr>\n  </tbody>\n</table>\n<p>8 rows × 25 columns</p>\n</div>"
     },
     "execution_count": 5,
     "metadata": {},
     "output_type": "execute_result"
    }
   ],
   "source": [
    "train_df.describe()"
   ],
   "metadata": {
    "collapsed": false,
    "pycharm": {
     "name": "#%%\n"
    }
   }
  },
  {
   "cell_type": "code",
   "execution_count": 15,
   "outputs": [
    {
     "data": {
      "text/plain": "           order_id  cred_sum_cc_all  mfo_inqs_count_month  \\\ncount  1.218000e+03      1218.000000           1218.000000   \nmean   6.211891e+06     42738.170238              1.162562   \nstd    4.129495e+05     85083.376473              2.452476   \nmin    5.499904e+06         0.000000              0.000000   \n25%    5.774225e+06         0.000000              0.000000   \n50%    6.466954e+06      5000.000000              0.000000   \n75%    6.587276e+06     51887.500000              1.000000   \nmax    6.697255e+06    867000.000000             40.000000   \n\n       all_closed_creds_sum_all  bank_inqs_count_quarter  \\\ncount              1.218000e+03              1218.000000   \nmean               1.586558e+05                 3.486043   \nstd                5.009451e+05                 4.539452   \nmin                0.000000e+00                 0.000000   \n25%                2.000000e+03                 0.000000   \n50%                2.673550e+04                 2.000000   \n75%                1.245895e+05                 5.000000   \nmax                1.204294e+07                31.000000   \n\n       cred_max_overdue_max_ly  all_active_creds_sum_all  mfo_last_days_all  \\\ncount             1.218000e+03              1.218000e+03        1218.000000   \nmean              1.223361e+04              1.354692e+05        2659.235632   \nstd               2.608477e+05              4.488645e+05        4224.121482   \nmin               0.000000e+00              0.000000e+00           0.000000   \n25%               0.000000e+00              2.000000e+03          14.000000   \n50%               0.000000e+00              1.500000e+04         138.000000   \n75%               3.000000e+03              8.204150e+04        2413.750000   \nmax               9.046414e+06              9.600000e+06        9999.000000   \n\n       cred_sum_cc_ly  cred_sum_debt_all_all  ...  cred_max_overdue_max_3lm  \\\ncount     1218.000000           1.218000e+03  ...               1218.000000   \nmean     10089.632668           7.793250e+04  ...               1124.139532   \nstd      35316.122541           2.711290e+05  ...               6185.287603   \nmin          0.000000           0.000000e+00  ...                  0.000000   \n25%          0.000000           0.000000e+00  ...                  0.000000   \n50%          0.000000           3.000000e+03  ...                  0.000000   \n75%          0.000000           3.000000e+04  ...                  0.000000   \nmax     576000.000000           4.952610e+06  ...             177738.850000   \n\n       mfo_closed_count_ly  cred_sum_overdue_cc_all  count_overdue_all_3lm  \\\ncount          1218.000000              1218.000000            1218.000000   \nmean              3.002463              4401.889319               0.133826   \nstd               8.070814             24798.951599               0.521664   \nmin               0.000000                 0.000000               0.000000   \n25%               0.000000                 0.000000               0.000000   \n50%               0.000000                 0.000000               0.000000   \n75%               2.000000                 0.000000               0.000000   \nmax              97.000000            442155.730000               7.000000   \n\n       all_creds_count_lm   work_code  month_income       region         bad  \\\ncount         1218.000000  1218.00000   1218.000000  1218.000000  373.000000   \nmean             0.963054     3.40312  39426.929392    48.511494    0.265416   \nstd              2.043355     1.37565  13836.229482    27.636155    0.442147   \nmin              0.000000     1.00000      0.000000     1.000000    0.000000   \n25%              0.000000     2.00000  35000.000000    27.000000    0.000000   \n50%              0.000000     3.00000  35000.000000    46.000000    0.000000   \n75%              1.000000     5.00000  50000.000000    69.750000    1.000000   \nmax             22.000000     5.00000  60000.000000    98.000000    1.000000   \n\n         approved  \ncount  1218.00000  \nmean      0.30624  \nstd       0.46112  \nmin       0.00000  \n25%       0.00000  \n50%       0.00000  \n75%       1.00000  \nmax       1.00000  \n\n[8 rows x 25 columns]",
      "text/html": "<div>\n<style scoped>\n    .dataframe tbody tr th:only-of-type {\n        vertical-align: middle;\n    }\n\n    .dataframe tbody tr th {\n        vertical-align: top;\n    }\n\n    .dataframe thead th {\n        text-align: right;\n    }\n</style>\n<table border=\"1\" class=\"dataframe\">\n  <thead>\n    <tr style=\"text-align: right;\">\n      <th></th>\n      <th>order_id</th>\n      <th>cred_sum_cc_all</th>\n      <th>mfo_inqs_count_month</th>\n      <th>all_closed_creds_sum_all</th>\n      <th>bank_inqs_count_quarter</th>\n      <th>cred_max_overdue_max_ly</th>\n      <th>all_active_creds_sum_all</th>\n      <th>mfo_last_days_all</th>\n      <th>cred_sum_cc_ly</th>\n      <th>cred_sum_debt_all_all</th>\n      <th>...</th>\n      <th>cred_max_overdue_max_3lm</th>\n      <th>mfo_closed_count_ly</th>\n      <th>cred_sum_overdue_cc_all</th>\n      <th>count_overdue_all_3lm</th>\n      <th>all_creds_count_lm</th>\n      <th>work_code</th>\n      <th>month_income</th>\n      <th>region</th>\n      <th>bad</th>\n      <th>approved</th>\n    </tr>\n  </thead>\n  <tbody>\n    <tr>\n      <th>count</th>\n      <td>1.218000e+03</td>\n      <td>1218.000000</td>\n      <td>1218.000000</td>\n      <td>1.218000e+03</td>\n      <td>1218.000000</td>\n      <td>1.218000e+03</td>\n      <td>1.218000e+03</td>\n      <td>1218.000000</td>\n      <td>1218.000000</td>\n      <td>1.218000e+03</td>\n      <td>...</td>\n      <td>1218.000000</td>\n      <td>1218.000000</td>\n      <td>1218.000000</td>\n      <td>1218.000000</td>\n      <td>1218.000000</td>\n      <td>1218.00000</td>\n      <td>1218.000000</td>\n      <td>1218.000000</td>\n      <td>373.000000</td>\n      <td>1218.00000</td>\n    </tr>\n    <tr>\n      <th>mean</th>\n      <td>6.211891e+06</td>\n      <td>42738.170238</td>\n      <td>1.162562</td>\n      <td>1.586558e+05</td>\n      <td>3.486043</td>\n      <td>1.223361e+04</td>\n      <td>1.354692e+05</td>\n      <td>2659.235632</td>\n      <td>10089.632668</td>\n      <td>7.793250e+04</td>\n      <td>...</td>\n      <td>1124.139532</td>\n      <td>3.002463</td>\n      <td>4401.889319</td>\n      <td>0.133826</td>\n      <td>0.963054</td>\n      <td>3.40312</td>\n      <td>39426.929392</td>\n      <td>48.511494</td>\n      <td>0.265416</td>\n      <td>0.30624</td>\n    </tr>\n    <tr>\n      <th>std</th>\n      <td>4.129495e+05</td>\n      <td>85083.376473</td>\n      <td>2.452476</td>\n      <td>5.009451e+05</td>\n      <td>4.539452</td>\n      <td>2.608477e+05</td>\n      <td>4.488645e+05</td>\n      <td>4224.121482</td>\n      <td>35316.122541</td>\n      <td>2.711290e+05</td>\n      <td>...</td>\n      <td>6185.287603</td>\n      <td>8.070814</td>\n      <td>24798.951599</td>\n      <td>0.521664</td>\n      <td>2.043355</td>\n      <td>1.37565</td>\n      <td>13836.229482</td>\n      <td>27.636155</td>\n      <td>0.442147</td>\n      <td>0.46112</td>\n    </tr>\n    <tr>\n      <th>min</th>\n      <td>5.499904e+06</td>\n      <td>0.000000</td>\n      <td>0.000000</td>\n      <td>0.000000e+00</td>\n      <td>0.000000</td>\n      <td>0.000000e+00</td>\n      <td>0.000000e+00</td>\n      <td>0.000000</td>\n      <td>0.000000</td>\n      <td>0.000000e+00</td>\n      <td>...</td>\n      <td>0.000000</td>\n      <td>0.000000</td>\n      <td>0.000000</td>\n      <td>0.000000</td>\n      <td>0.000000</td>\n      <td>1.00000</td>\n      <td>0.000000</td>\n      <td>1.000000</td>\n      <td>0.000000</td>\n      <td>0.00000</td>\n    </tr>\n    <tr>\n      <th>25%</th>\n      <td>5.774225e+06</td>\n      <td>0.000000</td>\n      <td>0.000000</td>\n      <td>2.000000e+03</td>\n      <td>0.000000</td>\n      <td>0.000000e+00</td>\n      <td>2.000000e+03</td>\n      <td>14.000000</td>\n      <td>0.000000</td>\n      <td>0.000000e+00</td>\n      <td>...</td>\n      <td>0.000000</td>\n      <td>0.000000</td>\n      <td>0.000000</td>\n      <td>0.000000</td>\n      <td>0.000000</td>\n      <td>2.00000</td>\n      <td>35000.000000</td>\n      <td>27.000000</td>\n      <td>0.000000</td>\n      <td>0.00000</td>\n    </tr>\n    <tr>\n      <th>50%</th>\n      <td>6.466954e+06</td>\n      <td>5000.000000</td>\n      <td>0.000000</td>\n      <td>2.673550e+04</td>\n      <td>2.000000</td>\n      <td>0.000000e+00</td>\n      <td>1.500000e+04</td>\n      <td>138.000000</td>\n      <td>0.000000</td>\n      <td>3.000000e+03</td>\n      <td>...</td>\n      <td>0.000000</td>\n      <td>0.000000</td>\n      <td>0.000000</td>\n      <td>0.000000</td>\n      <td>0.000000</td>\n      <td>3.00000</td>\n      <td>35000.000000</td>\n      <td>46.000000</td>\n      <td>0.000000</td>\n      <td>0.00000</td>\n    </tr>\n    <tr>\n      <th>75%</th>\n      <td>6.587276e+06</td>\n      <td>51887.500000</td>\n      <td>1.000000</td>\n      <td>1.245895e+05</td>\n      <td>5.000000</td>\n      <td>3.000000e+03</td>\n      <td>8.204150e+04</td>\n      <td>2413.750000</td>\n      <td>0.000000</td>\n      <td>3.000000e+04</td>\n      <td>...</td>\n      <td>0.000000</td>\n      <td>2.000000</td>\n      <td>0.000000</td>\n      <td>0.000000</td>\n      <td>1.000000</td>\n      <td>5.00000</td>\n      <td>50000.000000</td>\n      <td>69.750000</td>\n      <td>1.000000</td>\n      <td>1.00000</td>\n    </tr>\n    <tr>\n      <th>max</th>\n      <td>6.697255e+06</td>\n      <td>867000.000000</td>\n      <td>40.000000</td>\n      <td>1.204294e+07</td>\n      <td>31.000000</td>\n      <td>9.046414e+06</td>\n      <td>9.600000e+06</td>\n      <td>9999.000000</td>\n      <td>576000.000000</td>\n      <td>4.952610e+06</td>\n      <td>...</td>\n      <td>177738.850000</td>\n      <td>97.000000</td>\n      <td>442155.730000</td>\n      <td>7.000000</td>\n      <td>22.000000</td>\n      <td>5.00000</td>\n      <td>60000.000000</td>\n      <td>98.000000</td>\n      <td>1.000000</td>\n      <td>1.00000</td>\n    </tr>\n  </tbody>\n</table>\n<p>8 rows × 25 columns</p>\n</div>"
     },
     "execution_count": 15,
     "metadata": {},
     "output_type": "execute_result"
    }
   ],
   "source": [
    "test_df.describe()"
   ],
   "metadata": {
    "collapsed": false,
    "pycharm": {
     "name": "#%%\n"
    }
   }
  },
  {
   "cell_type": "markdown",
   "source": [
    "Тут мы кстати видим, что в данных у нас нет пропусков (кроме столбца `bad`)"
   ],
   "metadata": {
    "collapsed": false
   }
  },
  {
   "cell_type": "code",
   "execution_count": 9,
   "outputs": [
    {
     "data": {
      "text/plain": "(23116, 25)"
     },
     "execution_count": 9,
     "metadata": {},
     "output_type": "execute_result"
    }
   ],
   "source": [
    "train_df.shape"
   ],
   "metadata": {
    "collapsed": false,
    "pycharm": {
     "name": "#%%\n"
    }
   }
  },
  {
   "cell_type": "code",
   "execution_count": 10,
   "outputs": [
    {
     "data": {
      "text/plain": "(1218, 25)"
     },
     "execution_count": 10,
     "metadata": {},
     "output_type": "execute_result"
    }
   ],
   "source": [
    "test_df.shape"
   ],
   "metadata": {
    "collapsed": false,
    "pycharm": {
     "name": "#%%\n"
    }
   }
  },
  {
   "cell_type": "code",
   "execution_count": 14,
   "outputs": [
    {
     "data": {
      "text/plain": "True"
     },
     "execution_count": 14,
     "metadata": {},
     "output_type": "execute_result"
    }
   ],
   "source": [
    "all(train_df.dtypes == test_df.dtypes)"
   ],
   "metadata": {
    "collapsed": false,
    "pycharm": {
     "name": "#%%\n"
    }
   }
  },
  {
   "cell_type": "markdown",
   "source": [
    "Все типы переменных на обучающей и тестовой выборке совпадают"
   ],
   "metadata": {
    "collapsed": false,
    "pycharm": {
     "name": "#%% md\n"
    }
   }
  },
  {
   "cell_type": "markdown",
   "source": [
    "### Описание фичей\n",
    "##### Переменные, характеризующие кредитную историю клиента\n",
    "`cred_sum_cc_all` - сумма кредитов по кредитным картам\n",
    "`mfo_inqs_count_month` - количество запросов на кредиты в другие в МФО\n",
    "`all_closed_creds_sum_all` количество закрытых кредитов\n",
    "`bank_inqs_count_quarter` - количество запросов на кредиты в банки\n",
    "`cred_max_overdue_max_ly` - максимальная просрочка за год\n",
    "`all_active_creds_sum_all` - денежная сумма всех активных кредитов\n",
    "`mfo_last_days_all` - Количество дней с последнего займа в МФО\n",
    "`cred_sum_cc_ly` - Сумма лимитов кредитных карт, оформленных за последний год\n",
    "`cred_sum_debt_all_all` - Сумма задолженности по всем кредитам\n",
    "`all_closed_creds_sum_ly` - Сумма закрытых кредитов за последний год\n",
    "`mfo_cred_mean_sum_3lm` - Средняя сумма МФО кредитов, выданных за последние 3 месяца\n",
    "`delay_more_sum_all` - Количество просрочек более чем на 90 дней по всем кредитам\n",
    "`all_creds_count_all` - Общее количество кредитов\n",
    "`cred_day_overdue_all_sum_all` - Суммарное количество дней просрочки текущих активных кредитов\n",
    "`cred_max_overdue_max_3lm` - Максимальная сумма просроченной задолженности, по кредитам взятым за последние 3 месяца\n",
    "`mfo_closed_count_ly` - Количество закрытых МФО кредитов, взятых за последний год\n",
    "`cred_sum_overdue_cc_all` - Сумма просрочек по кредитным картам\n",
    "`count_overdue_all_3lm` - Количество кредитов на просрочке, взятых за последние 3 месяца\n",
    "`all_creds_count_lm` - Количество кредитов, взятых за последний месяц\n",
    "`region` - регион подачи заявки\n",
    "##### Переменные характеризующие клиента\n",
    "`work_code` - Профессия.\n",
    "- 5 - рабочие профессии (слесарь, токарь).\n",
    "- 3 - офисный работник (бухгалтер, программист).\n",
    "- 1 - госслужащий (полицейский, медсестра)\n",
    "\n",
    "`month_income` - доход\n",
    "##### Целевые переменные:\n",
    "`bad` - 1 - кредит просрочен, 0 - кредит возвращен, `nan` - отказ.\n",
    "`approved` - 1 - одобрено, 0 - отказано."
   ],
   "metadata": {
    "collapsed": false,
    "pycharm": {
     "name": "#%% md\n"
    }
   }
  },
  {
   "cell_type": "code",
   "execution_count": 18,
   "outputs": [
    {
     "data": {
      "text/plain": "       order_id  cred_sum_cc_all  mfo_inqs_count_month  \\\n8       5499365          50000.0                     2   \n9       5499397          44000.0                     1   \n10      5499407              0.0                     1   \n12      5499448          81550.0                    11   \n17      5499715          45001.0                     0   \n...         ...              ...                   ...   \n23098   6696767              0.0                     0   \n23101   6696855              0.0                     6   \n23107   6697037              0.0                     0   \n23108   6697060           8000.0                     3   \n23115   6697265              0.0                     0   \n\n       all_closed_creds_sum_all  bank_inqs_count_quarter  \\\n8                         58500                       14   \n9                        367842                        3   \n10                        44500                        0   \n12                       231604                        5   \n17                       107584                        0   \n...                         ...                      ...   \n23098                    174590                        2   \n23101                     77927                        1   \n23107                     21100                       14   \n23108                     20650                        3   \n23115                    224889                       10   \n\n       cred_max_overdue_max_ly  all_active_creds_sum_all  mfo_last_days_all  \\\n8                         0.00                     38000                 23   \n9                     24000.00                     74695                  8   \n10                        0.00                      5000                 29   \n12                        0.00                    272086                 16   \n17                     5975.24                    267484               9999   \n...                        ...                       ...                ...   \n23098                     0.00                    114770                223   \n23101                     0.00                     26200                  5   \n23107                     0.00                         0                 32   \n23108                     0.00                      7500                  7   \n23115                     0.00                    588080               9999   \n\n       cred_sum_cc_ly  cred_sum_debt_all_all  ...  cred_max_overdue_max_3lm  \\\n8             50000.0               38000.00  ...                       0.0   \n9                 0.0               75295.00  ...                       0.0   \n10                0.0                5000.00  ...                       0.0   \n12                0.0              217493.70  ...                       0.0   \n17                1.0              244351.87  ...                       0.0   \n...               ...                    ...  ...                       ...   \n23098             0.0              100962.59  ...                       0.0   \n23101             0.0               25480.00  ...                       0.0   \n23107             0.0                   0.00  ...                       0.0   \n23108             0.0                7500.00  ...                       0.0   \n23115             0.0              574940.66  ...                       0.0   \n\n       mfo_closed_count_ly  cred_sum_overdue_cc_all  count_overdue_all_3lm  \\\n8                        5                      0.0                      0   \n9                       11                      0.0                      0   \n10                       7                      0.0                      0   \n12                       4                      0.0                      0   \n17                       0                      0.0                      0   \n...                    ...                      ...                    ...   \n23098                    0                      0.0                      0   \n23101                   16                      0.0                      0   \n23107                    3                      0.0                      0   \n23108                    1                      0.0                      0   \n23115                    0                      0.0                      0   \n\n       all_creds_count_lm  work_code  month_income  region  bad  approved  \n8                       2          1         35000       4  0.0         1  \n9                       3          2         35000      61  1.0         1  \n10                      1          4         50000      32  0.0         1  \n12                      4          5         35000       1  1.0         1  \n17                      0          5         35000      78  0.0         1  \n...                   ...        ...           ...     ...  ...       ...  \n23098                   1          4         35000      81  0.0         1  \n23101                   9          2         50000      45  1.0         1  \n23107                   0          5         60000      12  0.0         1  \n23108                   2          2         35000      91  0.0         1  \n23115                   0          2         35000      15  0.0         1  \n\n[7269 rows x 25 columns]",
      "text/html": "<div>\n<style scoped>\n    .dataframe tbody tr th:only-of-type {\n        vertical-align: middle;\n    }\n\n    .dataframe tbody tr th {\n        vertical-align: top;\n    }\n\n    .dataframe thead th {\n        text-align: right;\n    }\n</style>\n<table border=\"1\" class=\"dataframe\">\n  <thead>\n    <tr style=\"text-align: right;\">\n      <th></th>\n      <th>order_id</th>\n      <th>cred_sum_cc_all</th>\n      <th>mfo_inqs_count_month</th>\n      <th>all_closed_creds_sum_all</th>\n      <th>bank_inqs_count_quarter</th>\n      <th>cred_max_overdue_max_ly</th>\n      <th>all_active_creds_sum_all</th>\n      <th>mfo_last_days_all</th>\n      <th>cred_sum_cc_ly</th>\n      <th>cred_sum_debt_all_all</th>\n      <th>...</th>\n      <th>cred_max_overdue_max_3lm</th>\n      <th>mfo_closed_count_ly</th>\n      <th>cred_sum_overdue_cc_all</th>\n      <th>count_overdue_all_3lm</th>\n      <th>all_creds_count_lm</th>\n      <th>work_code</th>\n      <th>month_income</th>\n      <th>region</th>\n      <th>bad</th>\n      <th>approved</th>\n    </tr>\n  </thead>\n  <tbody>\n    <tr>\n      <th>8</th>\n      <td>5499365</td>\n      <td>50000.0</td>\n      <td>2</td>\n      <td>58500</td>\n      <td>14</td>\n      <td>0.00</td>\n      <td>38000</td>\n      <td>23</td>\n      <td>50000.0</td>\n      <td>38000.00</td>\n      <td>...</td>\n      <td>0.0</td>\n      <td>5</td>\n      <td>0.0</td>\n      <td>0</td>\n      <td>2</td>\n      <td>1</td>\n      <td>35000</td>\n      <td>4</td>\n      <td>0.0</td>\n      <td>1</td>\n    </tr>\n    <tr>\n      <th>9</th>\n      <td>5499397</td>\n      <td>44000.0</td>\n      <td>1</td>\n      <td>367842</td>\n      <td>3</td>\n      <td>24000.00</td>\n      <td>74695</td>\n      <td>8</td>\n      <td>0.0</td>\n      <td>75295.00</td>\n      <td>...</td>\n      <td>0.0</td>\n      <td>11</td>\n      <td>0.0</td>\n      <td>0</td>\n      <td>3</td>\n      <td>2</td>\n      <td>35000</td>\n      <td>61</td>\n      <td>1.0</td>\n      <td>1</td>\n    </tr>\n    <tr>\n      <th>10</th>\n      <td>5499407</td>\n      <td>0.0</td>\n      <td>1</td>\n      <td>44500</td>\n      <td>0</td>\n      <td>0.00</td>\n      <td>5000</td>\n      <td>29</td>\n      <td>0.0</td>\n      <td>5000.00</td>\n      <td>...</td>\n      <td>0.0</td>\n      <td>7</td>\n      <td>0.0</td>\n      <td>0</td>\n      <td>1</td>\n      <td>4</td>\n      <td>50000</td>\n      <td>32</td>\n      <td>0.0</td>\n      <td>1</td>\n    </tr>\n    <tr>\n      <th>12</th>\n      <td>5499448</td>\n      <td>81550.0</td>\n      <td>11</td>\n      <td>231604</td>\n      <td>5</td>\n      <td>0.00</td>\n      <td>272086</td>\n      <td>16</td>\n      <td>0.0</td>\n      <td>217493.70</td>\n      <td>...</td>\n      <td>0.0</td>\n      <td>4</td>\n      <td>0.0</td>\n      <td>0</td>\n      <td>4</td>\n      <td>5</td>\n      <td>35000</td>\n      <td>1</td>\n      <td>1.0</td>\n      <td>1</td>\n    </tr>\n    <tr>\n      <th>17</th>\n      <td>5499715</td>\n      <td>45001.0</td>\n      <td>0</td>\n      <td>107584</td>\n      <td>0</td>\n      <td>5975.24</td>\n      <td>267484</td>\n      <td>9999</td>\n      <td>1.0</td>\n      <td>244351.87</td>\n      <td>...</td>\n      <td>0.0</td>\n      <td>0</td>\n      <td>0.0</td>\n      <td>0</td>\n      <td>0</td>\n      <td>5</td>\n      <td>35000</td>\n      <td>78</td>\n      <td>0.0</td>\n      <td>1</td>\n    </tr>\n    <tr>\n      <th>...</th>\n      <td>...</td>\n      <td>...</td>\n      <td>...</td>\n      <td>...</td>\n      <td>...</td>\n      <td>...</td>\n      <td>...</td>\n      <td>...</td>\n      <td>...</td>\n      <td>...</td>\n      <td>...</td>\n      <td>...</td>\n      <td>...</td>\n      <td>...</td>\n      <td>...</td>\n      <td>...</td>\n      <td>...</td>\n      <td>...</td>\n      <td>...</td>\n      <td>...</td>\n      <td>...</td>\n    </tr>\n    <tr>\n      <th>23098</th>\n      <td>6696767</td>\n      <td>0.0</td>\n      <td>0</td>\n      <td>174590</td>\n      <td>2</td>\n      <td>0.00</td>\n      <td>114770</td>\n      <td>223</td>\n      <td>0.0</td>\n      <td>100962.59</td>\n      <td>...</td>\n      <td>0.0</td>\n      <td>0</td>\n      <td>0.0</td>\n      <td>0</td>\n      <td>1</td>\n      <td>4</td>\n      <td>35000</td>\n      <td>81</td>\n      <td>0.0</td>\n      <td>1</td>\n    </tr>\n    <tr>\n      <th>23101</th>\n      <td>6696855</td>\n      <td>0.0</td>\n      <td>6</td>\n      <td>77927</td>\n      <td>1</td>\n      <td>0.00</td>\n      <td>26200</td>\n      <td>5</td>\n      <td>0.0</td>\n      <td>25480.00</td>\n      <td>...</td>\n      <td>0.0</td>\n      <td>16</td>\n      <td>0.0</td>\n      <td>0</td>\n      <td>9</td>\n      <td>2</td>\n      <td>50000</td>\n      <td>45</td>\n      <td>1.0</td>\n      <td>1</td>\n    </tr>\n    <tr>\n      <th>23107</th>\n      <td>6697037</td>\n      <td>0.0</td>\n      <td>0</td>\n      <td>21100</td>\n      <td>14</td>\n      <td>0.00</td>\n      <td>0</td>\n      <td>32</td>\n      <td>0.0</td>\n      <td>0.00</td>\n      <td>...</td>\n      <td>0.0</td>\n      <td>3</td>\n      <td>0.0</td>\n      <td>0</td>\n      <td>0</td>\n      <td>5</td>\n      <td>60000</td>\n      <td>12</td>\n      <td>0.0</td>\n      <td>1</td>\n    </tr>\n    <tr>\n      <th>23108</th>\n      <td>6697060</td>\n      <td>8000.0</td>\n      <td>3</td>\n      <td>20650</td>\n      <td>3</td>\n      <td>0.00</td>\n      <td>7500</td>\n      <td>7</td>\n      <td>0.0</td>\n      <td>7500.00</td>\n      <td>...</td>\n      <td>0.0</td>\n      <td>1</td>\n      <td>0.0</td>\n      <td>0</td>\n      <td>2</td>\n      <td>2</td>\n      <td>35000</td>\n      <td>91</td>\n      <td>0.0</td>\n      <td>1</td>\n    </tr>\n    <tr>\n      <th>23115</th>\n      <td>6697265</td>\n      <td>0.0</td>\n      <td>0</td>\n      <td>224889</td>\n      <td>10</td>\n      <td>0.00</td>\n      <td>588080</td>\n      <td>9999</td>\n      <td>0.0</td>\n      <td>574940.66</td>\n      <td>...</td>\n      <td>0.0</td>\n      <td>0</td>\n      <td>0.0</td>\n      <td>0</td>\n      <td>0</td>\n      <td>2</td>\n      <td>35000</td>\n      <td>15</td>\n      <td>0.0</td>\n      <td>1</td>\n    </tr>\n  </tbody>\n</table>\n<p>7269 rows × 25 columns</p>\n</div>"
     },
     "execution_count": 18,
     "metadata": {},
     "output_type": "execute_result"
    }
   ],
   "source": [
    "train_df.loc[train_df['bad'].notna()]"
   ],
   "metadata": {
    "collapsed": false,
    "pycharm": {
     "name": "#%%\n"
    }
   }
  },
  {
   "cell_type": "markdown",
   "source": [
    "Напишем функцию, которая будет нам выводить в текством виде информацию о признаке в двух выборках"
   ],
   "metadata": {
    "collapsed": false,
    "pycharm": {
     "name": "#%% md\n"
    }
   }
  },
  {
   "cell_type": "code",
   "execution_count": 68,
   "outputs": [],
   "source": [
    "def compare_samples(feat, first_sample=train_df.loc[train_df['bad'].notna()], second_sample=train_df):\n",
    "    \"\"\"\n",
    "    Функция которая выводит информацию о признаке в двух выборок\n",
    "    :param feat: Признак\n",
    "    :param first_sample: Выборка выданных кредитов\n",
    "    :param second_sample: Вся выборка\n",
    "    \"\"\"\n",
    "    output = f\"Сравнение признака {feat}:\\n\"\n",
    "\n",
    "    # Выборочное среднее\n",
    "    output += f\"Выборочное среднее на выборке выданных кредитов = {first_sample[feat].mean()}\\n\"\n",
    "    output += f\"Выборочное среднее на всей выборке = {second_sample[feat].mean()}\\n\\n\"\n",
    "\n",
    "    # Медиана\n",
    "    output += f\"Медиана на выборке выданных кредитов = {first_sample[feat].median()}\\n\"\n",
    "    output += f\"Медиана на всей выборке = {second_sample[feat].median()}\\n\\n\"\n",
    "\n",
    "    # Дисперсия\n",
    "    output += f\"Дисперсия на выборке выданных кредитов = {first_sample[feat].var()}\\n\"\n",
    "    output += f\"Дисперсия на всей выборке = {second_sample[feat].var()}\\n\\n\"\n",
    "\n",
    "    # Стандартное отклонение (корень из дисперсии)\n",
    "    output += f\"Стандартное отклонение на выборке выданных кредитов = {first_sample[feat].std()}\\n\"\n",
    "    output += f\"Стандартное отклонение на всей выборке = {second_sample[feat].std()}\\n\"\n",
    "\n",
    "    return output"
   ],
   "metadata": {
    "collapsed": false,
    "pycharm": {
     "name": "#%%\n"
    }
   }
  },
  {
   "cell_type": "code",
   "execution_count": 69,
   "outputs": [
    {
     "name": "stdout",
     "output_type": "stream",
     "text": [
      "Сравнение признака cred_sum_cc_all:\n",
      "Выборочное среднее на выборке выданных кредитов = 72930.69684550833\n",
      "Выборочное среднее на всей выборке = 44247.935382851705\n",
      "\n",
      "Медиана на выборке выданных кредитов = 30000.0\n",
      "Медиана на всей выборке = 5000.0\n",
      "\n",
      "Дисперсия на выборке выданных кредитов = 12949381084.387712\n",
      "Дисперсия на всей выборке = 10120681248.761553\n",
      "\n",
      "Стандартное отклонение на выборке выданных кредитов = 113795.34737583832\n",
      "Стандартное отклонение на всей выборке = 100601.59665115437\n",
      "\n"
     ]
    }
   ],
   "source": [
    "print(compare_samples('cred_sum_cc_all'))"
   ],
   "metadata": {
    "collapsed": false,
    "pycharm": {
     "name": "#%%\n"
    }
   }
  },
  {
   "cell_type": "markdown",
   "source": [
    "Для статистического сравнения выборок будем использовать t-критерий Стьюдента из `scipy`\n",
    "Напишем функцию для этого сравнения"
   ],
   "metadata": {
    "collapsed": false,
    "pycharm": {
     "name": "#%% md\n"
    }
   }
  },
  {
   "cell_type": "code",
   "execution_count": 110,
   "outputs": [],
   "source": [
    "def t_test(feat, first_sample=train_df.loc[train_df['bad'].notna()], second_sample=train_df):\n",
    "    \"\"\"\n",
    "    Функция, которая выводит информацию о результате t-теста\n",
    "    :param feat: Признак, по которому сравниваются выборки\n",
    "    :param first_sample: Выборка выданных кредитов\n",
    "    :param second_sample: Вся выборка\n",
    "    :return: Информация в текстовом виде\n",
    "    \"\"\"\n",
    "    x = first_sample[feat]\n",
    "    y = second_sample[feat]\n",
    "\n",
    "    stat_value, p_value = st.ttest_ind(y, x)\n",
    "    stat_value2, p_value2 = st.mannwhitneyu(y, x)\n",
    "    stat_value3, p_value3 = st.ks_2samp(y, x)\n",
    "    stat_value4, p_value4 = st.levene(x, y)\n",
    "    return stat_value4, p_value4"
   ],
   "metadata": {
    "collapsed": false,
    "pycharm": {
     "name": "#%%\n"
    }
   }
  },
  {
   "cell_type": "code",
   "execution_count": 111,
   "outputs": [
    {
     "data": {
      "text/plain": "(300.37406547451485, 5.7374127677921874e-67)"
     },
     "execution_count": 111,
     "metadata": {},
     "output_type": "execute_result"
    }
   ],
   "source": [
    "t_test('cred_sum_cc_all')"
   ],
   "metadata": {
    "collapsed": false,
    "pycharm": {
     "name": "#%%\n"
    }
   }
  },
  {
   "cell_type": "code",
   "execution_count": null,
   "outputs": [],
   "source": [],
   "metadata": {
    "collapsed": false,
    "pycharm": {
     "name": "#%%\n"
    }
   }
  }
 ],
 "metadata": {
  "kernelspec": {
   "display_name": "Python 3",
   "language": "python",
   "name": "python3"
  },
  "language_info": {
   "codemirror_mode": {
    "name": "ipython",
    "version": 2
   },
   "file_extension": ".py",
   "mimetype": "text/x-python",
   "name": "python",
   "nbconvert_exporter": "python",
   "pygments_lexer": "ipython2",
   "version": "2.7.6"
  }
 },
 "nbformat": 4,
 "nbformat_minor": 0
}