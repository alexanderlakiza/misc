{
 "cells": [
  {
   "cell_type": "code",
   "execution_count": 2,
   "metadata": {
    "collapsed": true
   },
   "outputs": [],
   "source": [
    "import numpy as np\n",
    "import matplotlib.pyplot as plt\n",
    "import pandas as pd\n",
    "from scipy import stats as st\n",
    "import seaborn as sns"
   ]
  },
  {
   "cell_type": "code",
   "execution_count": 3,
   "outputs": [
    {
     "data": {
      "text/plain": "   order_id  cred_sum_cc_all  mfo_inqs_count_month  all_closed_creds_sum_all  \\\n0   5498546              0.0                     0                     40364   \n1   5498604           1500.0                     0                     23456   \n2   5498609              0.1                     0                     17999   \n3   5498645           5000.0                     0                    313247   \n4   5498647              0.0                     0                         0   \n\n   bank_inqs_count_quarter  cred_max_overdue_max_ly  all_active_creds_sum_all  \\\n0                        0                      0.0                      3000   \n1                        0                      0.0                         0   \n2                        3                      0.0                      9999   \n3                        0                      0.0                         0   \n4                        1                      0.0                         0   \n\n   mfo_last_days_all  cred_sum_cc_ly  cred_sum_debt_all_all  ...  \\\n0                560             0.0                    0.0  ...   \n1               9999             0.0                    0.0  ...   \n2               9999             0.1                 9999.0  ...   \n3               9999             0.0                    0.0  ...   \n4               9999             0.0                    0.0  ...   \n\n   cred_max_overdue_max_3lm  mfo_closed_count_ly  cred_sum_overdue_cc_all  \\\n0                       0.0                    0                     0.00   \n1                       0.0                    0                     0.00   \n2                       0.0                    0                     0.00   \n3                       0.0                    0                  4923.97   \n4                       0.0                    0                     0.00   \n\n   count_overdue_all_3lm  all_creds_count_lm  work_code  month_income  region  \\\n0                      0                   0          3         50000      46   \n1                      0                   0          3         35000      17   \n2                      0                   2          3         35000      58   \n3                      0                   0          5         35000       4   \n4                      0                   0          5         35000      34   \n\n   bad  approved  \n0  NaN         0  \n1  NaN         0  \n2  NaN         0  \n3  NaN         0  \n4  NaN         0  \n\n[5 rows x 25 columns]",
      "text/html": "<div>\n<style scoped>\n    .dataframe tbody tr th:only-of-type {\n        vertical-align: middle;\n    }\n\n    .dataframe tbody tr th {\n        vertical-align: top;\n    }\n\n    .dataframe thead th {\n        text-align: right;\n    }\n</style>\n<table border=\"1\" class=\"dataframe\">\n  <thead>\n    <tr style=\"text-align: right;\">\n      <th></th>\n      <th>order_id</th>\n      <th>cred_sum_cc_all</th>\n      <th>mfo_inqs_count_month</th>\n      <th>all_closed_creds_sum_all</th>\n      <th>bank_inqs_count_quarter</th>\n      <th>cred_max_overdue_max_ly</th>\n      <th>all_active_creds_sum_all</th>\n      <th>mfo_last_days_all</th>\n      <th>cred_sum_cc_ly</th>\n      <th>cred_sum_debt_all_all</th>\n      <th>...</th>\n      <th>cred_max_overdue_max_3lm</th>\n      <th>mfo_closed_count_ly</th>\n      <th>cred_sum_overdue_cc_all</th>\n      <th>count_overdue_all_3lm</th>\n      <th>all_creds_count_lm</th>\n      <th>work_code</th>\n      <th>month_income</th>\n      <th>region</th>\n      <th>bad</th>\n      <th>approved</th>\n    </tr>\n  </thead>\n  <tbody>\n    <tr>\n      <th>0</th>\n      <td>5498546</td>\n      <td>0.0</td>\n      <td>0</td>\n      <td>40364</td>\n      <td>0</td>\n      <td>0.0</td>\n      <td>3000</td>\n      <td>560</td>\n      <td>0.0</td>\n      <td>0.0</td>\n      <td>...</td>\n      <td>0.0</td>\n      <td>0</td>\n      <td>0.00</td>\n      <td>0</td>\n      <td>0</td>\n      <td>3</td>\n      <td>50000</td>\n      <td>46</td>\n      <td>NaN</td>\n      <td>0</td>\n    </tr>\n    <tr>\n      <th>1</th>\n      <td>5498604</td>\n      <td>1500.0</td>\n      <td>0</td>\n      <td>23456</td>\n      <td>0</td>\n      <td>0.0</td>\n      <td>0</td>\n      <td>9999</td>\n      <td>0.0</td>\n      <td>0.0</td>\n      <td>...</td>\n      <td>0.0</td>\n      <td>0</td>\n      <td>0.00</td>\n      <td>0</td>\n      <td>0</td>\n      <td>3</td>\n      <td>35000</td>\n      <td>17</td>\n      <td>NaN</td>\n      <td>0</td>\n    </tr>\n    <tr>\n      <th>2</th>\n      <td>5498609</td>\n      <td>0.1</td>\n      <td>0</td>\n      <td>17999</td>\n      <td>3</td>\n      <td>0.0</td>\n      <td>9999</td>\n      <td>9999</td>\n      <td>0.1</td>\n      <td>9999.0</td>\n      <td>...</td>\n      <td>0.0</td>\n      <td>0</td>\n      <td>0.00</td>\n      <td>0</td>\n      <td>2</td>\n      <td>3</td>\n      <td>35000</td>\n      <td>58</td>\n      <td>NaN</td>\n      <td>0</td>\n    </tr>\n    <tr>\n      <th>3</th>\n      <td>5498645</td>\n      <td>5000.0</td>\n      <td>0</td>\n      <td>313247</td>\n      <td>0</td>\n      <td>0.0</td>\n      <td>0</td>\n      <td>9999</td>\n      <td>0.0</td>\n      <td>0.0</td>\n      <td>...</td>\n      <td>0.0</td>\n      <td>0</td>\n      <td>4923.97</td>\n      <td>0</td>\n      <td>0</td>\n      <td>5</td>\n      <td>35000</td>\n      <td>4</td>\n      <td>NaN</td>\n      <td>0</td>\n    </tr>\n    <tr>\n      <th>4</th>\n      <td>5498647</td>\n      <td>0.0</td>\n      <td>0</td>\n      <td>0</td>\n      <td>1</td>\n      <td>0.0</td>\n      <td>0</td>\n      <td>9999</td>\n      <td>0.0</td>\n      <td>0.0</td>\n      <td>...</td>\n      <td>0.0</td>\n      <td>0</td>\n      <td>0.00</td>\n      <td>0</td>\n      <td>0</td>\n      <td>5</td>\n      <td>35000</td>\n      <td>34</td>\n      <td>NaN</td>\n      <td>0</td>\n    </tr>\n  </tbody>\n</table>\n<p>5 rows × 25 columns</p>\n</div>"
     },
     "execution_count": 3,
     "metadata": {},
     "output_type": "execute_result"
    }
   ],
   "source": [
    "train_df = pd.read_csv(\"devim/train.csv\")\n",
    "train_df.head()"
   ],
   "metadata": {
    "collapsed": false,
    "pycharm": {
     "name": "#%%\n"
    }
   }
  },
  {
   "cell_type": "code",
   "execution_count": 4,
   "outputs": [
    {
     "data": {
      "text/plain": "   order_id  cred_sum_cc_all  mfo_inqs_count_month  all_closed_creds_sum_all  \\\n0   5499904          16000.0                     0                      6890   \n1   5501986              0.0                     0                         0   \n2   5503586         133000.0                     1                    284685   \n3   5507043          10000.0                     0                         0   \n4   5512692         120500.0                     0                   1293089   \n\n   bank_inqs_count_quarter  cred_max_overdue_max_ly  all_active_creds_sum_all  \\\n0                        1                 33722.12                     33722   \n1                        5                  5000.00                         0   \n2                        9                 16600.00                    716305   \n3                        0                     0.00                         0   \n4                        8                  9605.18                   1562678   \n\n   mfo_last_days_all  cred_sum_cc_ly  cred_sum_debt_all_all  ...  \\\n0               9999             0.0                   0.00  ...   \n1                289             0.0                   0.00  ...   \n2                  6         50000.0              593315.33  ...   \n3               9999             0.0                   0.00  ...   \n4                 33             0.0             1392907.34  ...   \n\n   cred_max_overdue_max_3lm  mfo_closed_count_ly  cred_sum_overdue_cc_all  \\\n0                      0.00                    0                     0.00   \n1                      0.00                    0                     0.00   \n2                  16600.00                    4                  2409.33   \n3                      0.00                    0                  9968.84   \n4                   1221.81                    1                  4442.42   \n\n   count_overdue_all_3lm  all_creds_count_lm  work_code  month_income  region  \\\n0                      0                   0          5         35000      65   \n1                      0                   0          3         35000       7   \n2                      1                   4          4         50000      18   \n3                      0                   0          5         20000      58   \n4                      1                   0          3         50000      20   \n\n   bad  approved  \n0  NaN         0  \n1  NaN         0  \n2  1.0         1  \n3  NaN         0  \n4  0.0         1  \n\n[5 rows x 25 columns]",
      "text/html": "<div>\n<style scoped>\n    .dataframe tbody tr th:only-of-type {\n        vertical-align: middle;\n    }\n\n    .dataframe tbody tr th {\n        vertical-align: top;\n    }\n\n    .dataframe thead th {\n        text-align: right;\n    }\n</style>\n<table border=\"1\" class=\"dataframe\">\n  <thead>\n    <tr style=\"text-align: right;\">\n      <th></th>\n      <th>order_id</th>\n      <th>cred_sum_cc_all</th>\n      <th>mfo_inqs_count_month</th>\n      <th>all_closed_creds_sum_all</th>\n      <th>bank_inqs_count_quarter</th>\n      <th>cred_max_overdue_max_ly</th>\n      <th>all_active_creds_sum_all</th>\n      <th>mfo_last_days_all</th>\n      <th>cred_sum_cc_ly</th>\n      <th>cred_sum_debt_all_all</th>\n      <th>...</th>\n      <th>cred_max_overdue_max_3lm</th>\n      <th>mfo_closed_count_ly</th>\n      <th>cred_sum_overdue_cc_all</th>\n      <th>count_overdue_all_3lm</th>\n      <th>all_creds_count_lm</th>\n      <th>work_code</th>\n      <th>month_income</th>\n      <th>region</th>\n      <th>bad</th>\n      <th>approved</th>\n    </tr>\n  </thead>\n  <tbody>\n    <tr>\n      <th>0</th>\n      <td>5499904</td>\n      <td>16000.0</td>\n      <td>0</td>\n      <td>6890</td>\n      <td>1</td>\n      <td>33722.12</td>\n      <td>33722</td>\n      <td>9999</td>\n      <td>0.0</td>\n      <td>0.00</td>\n      <td>...</td>\n      <td>0.00</td>\n      <td>0</td>\n      <td>0.00</td>\n      <td>0</td>\n      <td>0</td>\n      <td>5</td>\n      <td>35000</td>\n      <td>65</td>\n      <td>NaN</td>\n      <td>0</td>\n    </tr>\n    <tr>\n      <th>1</th>\n      <td>5501986</td>\n      <td>0.0</td>\n      <td>0</td>\n      <td>0</td>\n      <td>5</td>\n      <td>5000.00</td>\n      <td>0</td>\n      <td>289</td>\n      <td>0.0</td>\n      <td>0.00</td>\n      <td>...</td>\n      <td>0.00</td>\n      <td>0</td>\n      <td>0.00</td>\n      <td>0</td>\n      <td>0</td>\n      <td>3</td>\n      <td>35000</td>\n      <td>7</td>\n      <td>NaN</td>\n      <td>0</td>\n    </tr>\n    <tr>\n      <th>2</th>\n      <td>5503586</td>\n      <td>133000.0</td>\n      <td>1</td>\n      <td>284685</td>\n      <td>9</td>\n      <td>16600.00</td>\n      <td>716305</td>\n      <td>6</td>\n      <td>50000.0</td>\n      <td>593315.33</td>\n      <td>...</td>\n      <td>16600.00</td>\n      <td>4</td>\n      <td>2409.33</td>\n      <td>1</td>\n      <td>4</td>\n      <td>4</td>\n      <td>50000</td>\n      <td>18</td>\n      <td>1.0</td>\n      <td>1</td>\n    </tr>\n    <tr>\n      <th>3</th>\n      <td>5507043</td>\n      <td>10000.0</td>\n      <td>0</td>\n      <td>0</td>\n      <td>0</td>\n      <td>0.00</td>\n      <td>0</td>\n      <td>9999</td>\n      <td>0.0</td>\n      <td>0.00</td>\n      <td>...</td>\n      <td>0.00</td>\n      <td>0</td>\n      <td>9968.84</td>\n      <td>0</td>\n      <td>0</td>\n      <td>5</td>\n      <td>20000</td>\n      <td>58</td>\n      <td>NaN</td>\n      <td>0</td>\n    </tr>\n    <tr>\n      <th>4</th>\n      <td>5512692</td>\n      <td>120500.0</td>\n      <td>0</td>\n      <td>1293089</td>\n      <td>8</td>\n      <td>9605.18</td>\n      <td>1562678</td>\n      <td>33</td>\n      <td>0.0</td>\n      <td>1392907.34</td>\n      <td>...</td>\n      <td>1221.81</td>\n      <td>1</td>\n      <td>4442.42</td>\n      <td>1</td>\n      <td>0</td>\n      <td>3</td>\n      <td>50000</td>\n      <td>20</td>\n      <td>0.0</td>\n      <td>1</td>\n    </tr>\n  </tbody>\n</table>\n<p>5 rows × 25 columns</p>\n</div>"
     },
     "execution_count": 4,
     "metadata": {},
     "output_type": "execute_result"
    }
   ],
   "source": [
    "test_df = pd.read_csv(\"devim/test.csv\")\n",
    "test_df.head()"
   ],
   "metadata": {
    "collapsed": false,
    "pycharm": {
     "name": "#%%\n"
    }
   }
  },
  {
   "cell_type": "code",
   "execution_count": 5,
   "outputs": [
    {
     "data": {
      "text/plain": "           order_id  cred_sum_cc_all  mfo_inqs_count_month  \\\ncount  2.311600e+04     2.311600e+04          23116.000000   \nmean   6.060602e+06     4.424794e+04              1.284262   \nstd    3.678480e+05     1.006016e+05              2.373415   \nmin    5.498546e+06     0.000000e+00              0.000000   \n25%    5.739749e+06     0.000000e+00              0.000000   \n50%    6.020794e+06     5.000000e+03              0.000000   \n75%    6.445488e+06     4.972685e+04              2.000000   \nmax    6.697265e+06     5.739786e+06             25.000000   \n\n       all_closed_creds_sum_all  bank_inqs_count_quarter  \\\ncount              2.311600e+04             23116.000000   \nmean               1.653574e+05                 3.760642   \nstd                4.788942e+05                 5.057107   \nmin                0.000000e+00                 0.000000   \n25%                3.000000e+03                 0.000000   \n50%                3.083450e+04                 2.000000   \n75%                1.357758e+05                 5.000000   \nmax                3.030997e+07                67.000000   \n\n       cred_max_overdue_max_ly  all_active_creds_sum_all  mfo_last_days_all  \\\ncount             2.311600e+04              2.311600e+04       23116.000000   \nmean              4.070925e+03              1.284212e+05        2615.988925   \nstd               2.689042e+04              3.890718e+05        4228.621029   \nmin               0.000000e+00              0.000000e+00           0.000000   \n25%               0.000000e+00              2.000000e+03          13.000000   \n50%               0.000000e+00              1.500000e+04          83.500000   \n75%               3.000000e+03              7.500000e+04        2070.500000   \nmax               1.914581e+06              1.200000e+07        9999.000000   \n\n       cred_sum_cc_ly  cred_sum_debt_all_all  ...  cred_max_overdue_max_3lm  \\\ncount    23116.000000           2.311600e+04  ...              23116.000000   \nmean     10672.104919           8.414683e+04  ...               1107.137568   \nstd      37246.943546           3.054724e+05  ...               7073.931364   \nmin          0.000000           0.000000e+00  ...                  0.000000   \n25%          0.000000           0.000000e+00  ...                  0.000000   \n50%          0.000000           5.000000e+03  ...                  0.000000   \n75%          0.000000           3.496056e+04  ...                  0.000000   \nmax     878000.000000           1.150825e+07  ...             673495.420000   \n\n       mfo_closed_count_ly  cred_sum_overdue_cc_all  count_overdue_all_3lm  \\\ncount         23116.000000             2.311600e+04           23116.000000   \nmean              3.474087             4.878172e+03               0.118576   \nstd               9.202313             3.793714e+04               0.466854   \nmin               0.000000             0.000000e+00               0.000000   \n25%               0.000000             0.000000e+00               0.000000   \n50%               0.000000             0.000000e+00               0.000000   \n75%               3.000000             0.000000e+00               0.000000   \nmax             344.000000             2.878197e+06              10.000000   \n\n       all_creds_count_lm     work_code  month_income        region  \\\ncount        23116.000000  23116.000000  23116.000000  23116.000000   \nmean             1.080637      3.433250  39363.189998     47.632203   \nstd              2.137757      1.370812  13887.644526     27.615823   \nmin              0.000000      1.000000      0.000000      0.000000   \n25%              0.000000      2.000000  35000.000000     25.000000   \n50%              0.000000      3.000000  35000.000000     46.000000   \n75%              1.000000      5.000000  50000.000000     70.000000   \nmax             48.000000      5.000000  65000.000000     99.000000   \n\n               bad      approved  \ncount  7269.000000  23116.000000  \nmean      0.270051      0.314458  \nstd       0.444016      0.464310  \nmin       0.000000      0.000000  \n25%       0.000000      0.000000  \n50%       0.000000      0.000000  \n75%       1.000000      1.000000  \nmax       1.000000      1.000000  \n\n[8 rows x 25 columns]",
      "text/html": "<div>\n<style scoped>\n    .dataframe tbody tr th:only-of-type {\n        vertical-align: middle;\n    }\n\n    .dataframe tbody tr th {\n        vertical-align: top;\n    }\n\n    .dataframe thead th {\n        text-align: right;\n    }\n</style>\n<table border=\"1\" class=\"dataframe\">\n  <thead>\n    <tr style=\"text-align: right;\">\n      <th></th>\n      <th>order_id</th>\n      <th>cred_sum_cc_all</th>\n      <th>mfo_inqs_count_month</th>\n      <th>all_closed_creds_sum_all</th>\n      <th>bank_inqs_count_quarter</th>\n      <th>cred_max_overdue_max_ly</th>\n      <th>all_active_creds_sum_all</th>\n      <th>mfo_last_days_all</th>\n      <th>cred_sum_cc_ly</th>\n      <th>cred_sum_debt_all_all</th>\n      <th>...</th>\n      <th>cred_max_overdue_max_3lm</th>\n      <th>mfo_closed_count_ly</th>\n      <th>cred_sum_overdue_cc_all</th>\n      <th>count_overdue_all_3lm</th>\n      <th>all_creds_count_lm</th>\n      <th>work_code</th>\n      <th>month_income</th>\n      <th>region</th>\n      <th>bad</th>\n      <th>approved</th>\n    </tr>\n  </thead>\n  <tbody>\n    <tr>\n      <th>count</th>\n      <td>2.311600e+04</td>\n      <td>2.311600e+04</td>\n      <td>23116.000000</td>\n      <td>2.311600e+04</td>\n      <td>23116.000000</td>\n      <td>2.311600e+04</td>\n      <td>2.311600e+04</td>\n      <td>23116.000000</td>\n      <td>23116.000000</td>\n      <td>2.311600e+04</td>\n      <td>...</td>\n      <td>23116.000000</td>\n      <td>23116.000000</td>\n      <td>2.311600e+04</td>\n      <td>23116.000000</td>\n      <td>23116.000000</td>\n      <td>23116.000000</td>\n      <td>23116.000000</td>\n      <td>23116.000000</td>\n      <td>7269.000000</td>\n      <td>23116.000000</td>\n    </tr>\n    <tr>\n      <th>mean</th>\n      <td>6.060602e+06</td>\n      <td>4.424794e+04</td>\n      <td>1.284262</td>\n      <td>1.653574e+05</td>\n      <td>3.760642</td>\n      <td>4.070925e+03</td>\n      <td>1.284212e+05</td>\n      <td>2615.988925</td>\n      <td>10672.104919</td>\n      <td>8.414683e+04</td>\n      <td>...</td>\n      <td>1107.137568</td>\n      <td>3.474087</td>\n      <td>4.878172e+03</td>\n      <td>0.118576</td>\n      <td>1.080637</td>\n      <td>3.433250</td>\n      <td>39363.189998</td>\n      <td>47.632203</td>\n      <td>0.270051</td>\n      <td>0.314458</td>\n    </tr>\n    <tr>\n      <th>std</th>\n      <td>3.678480e+05</td>\n      <td>1.006016e+05</td>\n      <td>2.373415</td>\n      <td>4.788942e+05</td>\n      <td>5.057107</td>\n      <td>2.689042e+04</td>\n      <td>3.890718e+05</td>\n      <td>4228.621029</td>\n      <td>37246.943546</td>\n      <td>3.054724e+05</td>\n      <td>...</td>\n      <td>7073.931364</td>\n      <td>9.202313</td>\n      <td>3.793714e+04</td>\n      <td>0.466854</td>\n      <td>2.137757</td>\n      <td>1.370812</td>\n      <td>13887.644526</td>\n      <td>27.615823</td>\n      <td>0.444016</td>\n      <td>0.464310</td>\n    </tr>\n    <tr>\n      <th>min</th>\n      <td>5.498546e+06</td>\n      <td>0.000000e+00</td>\n      <td>0.000000</td>\n      <td>0.000000e+00</td>\n      <td>0.000000</td>\n      <td>0.000000e+00</td>\n      <td>0.000000e+00</td>\n      <td>0.000000</td>\n      <td>0.000000</td>\n      <td>0.000000e+00</td>\n      <td>...</td>\n      <td>0.000000</td>\n      <td>0.000000</td>\n      <td>0.000000e+00</td>\n      <td>0.000000</td>\n      <td>0.000000</td>\n      <td>1.000000</td>\n      <td>0.000000</td>\n      <td>0.000000</td>\n      <td>0.000000</td>\n      <td>0.000000</td>\n    </tr>\n    <tr>\n      <th>25%</th>\n      <td>5.739749e+06</td>\n      <td>0.000000e+00</td>\n      <td>0.000000</td>\n      <td>3.000000e+03</td>\n      <td>0.000000</td>\n      <td>0.000000e+00</td>\n      <td>2.000000e+03</td>\n      <td>13.000000</td>\n      <td>0.000000</td>\n      <td>0.000000e+00</td>\n      <td>...</td>\n      <td>0.000000</td>\n      <td>0.000000</td>\n      <td>0.000000e+00</td>\n      <td>0.000000</td>\n      <td>0.000000</td>\n      <td>2.000000</td>\n      <td>35000.000000</td>\n      <td>25.000000</td>\n      <td>0.000000</td>\n      <td>0.000000</td>\n    </tr>\n    <tr>\n      <th>50%</th>\n      <td>6.020794e+06</td>\n      <td>5.000000e+03</td>\n      <td>0.000000</td>\n      <td>3.083450e+04</td>\n      <td>2.000000</td>\n      <td>0.000000e+00</td>\n      <td>1.500000e+04</td>\n      <td>83.500000</td>\n      <td>0.000000</td>\n      <td>5.000000e+03</td>\n      <td>...</td>\n      <td>0.000000</td>\n      <td>0.000000</td>\n      <td>0.000000e+00</td>\n      <td>0.000000</td>\n      <td>0.000000</td>\n      <td>3.000000</td>\n      <td>35000.000000</td>\n      <td>46.000000</td>\n      <td>0.000000</td>\n      <td>0.000000</td>\n    </tr>\n    <tr>\n      <th>75%</th>\n      <td>6.445488e+06</td>\n      <td>4.972685e+04</td>\n      <td>2.000000</td>\n      <td>1.357758e+05</td>\n      <td>5.000000</td>\n      <td>3.000000e+03</td>\n      <td>7.500000e+04</td>\n      <td>2070.500000</td>\n      <td>0.000000</td>\n      <td>3.496056e+04</td>\n      <td>...</td>\n      <td>0.000000</td>\n      <td>3.000000</td>\n      <td>0.000000e+00</td>\n      <td>0.000000</td>\n      <td>1.000000</td>\n      <td>5.000000</td>\n      <td>50000.000000</td>\n      <td>70.000000</td>\n      <td>1.000000</td>\n      <td>1.000000</td>\n    </tr>\n    <tr>\n      <th>max</th>\n      <td>6.697265e+06</td>\n      <td>5.739786e+06</td>\n      <td>25.000000</td>\n      <td>3.030997e+07</td>\n      <td>67.000000</td>\n      <td>1.914581e+06</td>\n      <td>1.200000e+07</td>\n      <td>9999.000000</td>\n      <td>878000.000000</td>\n      <td>1.150825e+07</td>\n      <td>...</td>\n      <td>673495.420000</td>\n      <td>344.000000</td>\n      <td>2.878197e+06</td>\n      <td>10.000000</td>\n      <td>48.000000</td>\n      <td>5.000000</td>\n      <td>65000.000000</td>\n      <td>99.000000</td>\n      <td>1.000000</td>\n      <td>1.000000</td>\n    </tr>\n  </tbody>\n</table>\n<p>8 rows × 25 columns</p>\n</div>"
     },
     "execution_count": 5,
     "metadata": {},
     "output_type": "execute_result"
    }
   ],
   "source": [
    "train_df.describe()"
   ],
   "metadata": {
    "collapsed": false,
    "pycharm": {
     "name": "#%%\n"
    }
   }
  },
  {
   "cell_type": "code",
   "execution_count": 6,
   "outputs": [
    {
     "data": {
      "text/plain": "           order_id  cred_sum_cc_all  mfo_inqs_count_month  \\\ncount  1.218000e+03      1218.000000           1218.000000   \nmean   6.211891e+06     42738.170238              1.162562   \nstd    4.129495e+05     85083.376473              2.452476   \nmin    5.499904e+06         0.000000              0.000000   \n25%    5.774225e+06         0.000000              0.000000   \n50%    6.466954e+06      5000.000000              0.000000   \n75%    6.587276e+06     51887.500000              1.000000   \nmax    6.697255e+06    867000.000000             40.000000   \n\n       all_closed_creds_sum_all  bank_inqs_count_quarter  \\\ncount              1.218000e+03              1218.000000   \nmean               1.586558e+05                 3.486043   \nstd                5.009451e+05                 4.539452   \nmin                0.000000e+00                 0.000000   \n25%                2.000000e+03                 0.000000   \n50%                2.673550e+04                 2.000000   \n75%                1.245895e+05                 5.000000   \nmax                1.204294e+07                31.000000   \n\n       cred_max_overdue_max_ly  all_active_creds_sum_all  mfo_last_days_all  \\\ncount             1.218000e+03              1.218000e+03        1218.000000   \nmean              1.223361e+04              1.354692e+05        2659.235632   \nstd               2.608477e+05              4.488645e+05        4224.121482   \nmin               0.000000e+00              0.000000e+00           0.000000   \n25%               0.000000e+00              2.000000e+03          14.000000   \n50%               0.000000e+00              1.500000e+04         138.000000   \n75%               3.000000e+03              8.204150e+04        2413.750000   \nmax               9.046414e+06              9.600000e+06        9999.000000   \n\n       cred_sum_cc_ly  cred_sum_debt_all_all  ...  cred_max_overdue_max_3lm  \\\ncount     1218.000000           1.218000e+03  ...               1218.000000   \nmean     10089.632668           7.793250e+04  ...               1124.139532   \nstd      35316.122541           2.711290e+05  ...               6185.287603   \nmin          0.000000           0.000000e+00  ...                  0.000000   \n25%          0.000000           0.000000e+00  ...                  0.000000   \n50%          0.000000           3.000000e+03  ...                  0.000000   \n75%          0.000000           3.000000e+04  ...                  0.000000   \nmax     576000.000000           4.952610e+06  ...             177738.850000   \n\n       mfo_closed_count_ly  cred_sum_overdue_cc_all  count_overdue_all_3lm  \\\ncount          1218.000000              1218.000000            1218.000000   \nmean              3.002463              4401.889319               0.133826   \nstd               8.070814             24798.951599               0.521664   \nmin               0.000000                 0.000000               0.000000   \n25%               0.000000                 0.000000               0.000000   \n50%               0.000000                 0.000000               0.000000   \n75%               2.000000                 0.000000               0.000000   \nmax              97.000000            442155.730000               7.000000   \n\n       all_creds_count_lm   work_code  month_income       region         bad  \\\ncount         1218.000000  1218.00000   1218.000000  1218.000000  373.000000   \nmean             0.963054     3.40312  39426.929392    48.511494    0.265416   \nstd              2.043355     1.37565  13836.229482    27.636155    0.442147   \nmin              0.000000     1.00000      0.000000     1.000000    0.000000   \n25%              0.000000     2.00000  35000.000000    27.000000    0.000000   \n50%              0.000000     3.00000  35000.000000    46.000000    0.000000   \n75%              1.000000     5.00000  50000.000000    69.750000    1.000000   \nmax             22.000000     5.00000  60000.000000    98.000000    1.000000   \n\n         approved  \ncount  1218.00000  \nmean      0.30624  \nstd       0.46112  \nmin       0.00000  \n25%       0.00000  \n50%       0.00000  \n75%       1.00000  \nmax       1.00000  \n\n[8 rows x 25 columns]",
      "text/html": "<div>\n<style scoped>\n    .dataframe tbody tr th:only-of-type {\n        vertical-align: middle;\n    }\n\n    .dataframe tbody tr th {\n        vertical-align: top;\n    }\n\n    .dataframe thead th {\n        text-align: right;\n    }\n</style>\n<table border=\"1\" class=\"dataframe\">\n  <thead>\n    <tr style=\"text-align: right;\">\n      <th></th>\n      <th>order_id</th>\n      <th>cred_sum_cc_all</th>\n      <th>mfo_inqs_count_month</th>\n      <th>all_closed_creds_sum_all</th>\n      <th>bank_inqs_count_quarter</th>\n      <th>cred_max_overdue_max_ly</th>\n      <th>all_active_creds_sum_all</th>\n      <th>mfo_last_days_all</th>\n      <th>cred_sum_cc_ly</th>\n      <th>cred_sum_debt_all_all</th>\n      <th>...</th>\n      <th>cred_max_overdue_max_3lm</th>\n      <th>mfo_closed_count_ly</th>\n      <th>cred_sum_overdue_cc_all</th>\n      <th>count_overdue_all_3lm</th>\n      <th>all_creds_count_lm</th>\n      <th>work_code</th>\n      <th>month_income</th>\n      <th>region</th>\n      <th>bad</th>\n      <th>approved</th>\n    </tr>\n  </thead>\n  <tbody>\n    <tr>\n      <th>count</th>\n      <td>1.218000e+03</td>\n      <td>1218.000000</td>\n      <td>1218.000000</td>\n      <td>1.218000e+03</td>\n      <td>1218.000000</td>\n      <td>1.218000e+03</td>\n      <td>1.218000e+03</td>\n      <td>1218.000000</td>\n      <td>1218.000000</td>\n      <td>1.218000e+03</td>\n      <td>...</td>\n      <td>1218.000000</td>\n      <td>1218.000000</td>\n      <td>1218.000000</td>\n      <td>1218.000000</td>\n      <td>1218.000000</td>\n      <td>1218.00000</td>\n      <td>1218.000000</td>\n      <td>1218.000000</td>\n      <td>373.000000</td>\n      <td>1218.00000</td>\n    </tr>\n    <tr>\n      <th>mean</th>\n      <td>6.211891e+06</td>\n      <td>42738.170238</td>\n      <td>1.162562</td>\n      <td>1.586558e+05</td>\n      <td>3.486043</td>\n      <td>1.223361e+04</td>\n      <td>1.354692e+05</td>\n      <td>2659.235632</td>\n      <td>10089.632668</td>\n      <td>7.793250e+04</td>\n      <td>...</td>\n      <td>1124.139532</td>\n      <td>3.002463</td>\n      <td>4401.889319</td>\n      <td>0.133826</td>\n      <td>0.963054</td>\n      <td>3.40312</td>\n      <td>39426.929392</td>\n      <td>48.511494</td>\n      <td>0.265416</td>\n      <td>0.30624</td>\n    </tr>\n    <tr>\n      <th>std</th>\n      <td>4.129495e+05</td>\n      <td>85083.376473</td>\n      <td>2.452476</td>\n      <td>5.009451e+05</td>\n      <td>4.539452</td>\n      <td>2.608477e+05</td>\n      <td>4.488645e+05</td>\n      <td>4224.121482</td>\n      <td>35316.122541</td>\n      <td>2.711290e+05</td>\n      <td>...</td>\n      <td>6185.287603</td>\n      <td>8.070814</td>\n      <td>24798.951599</td>\n      <td>0.521664</td>\n      <td>2.043355</td>\n      <td>1.37565</td>\n      <td>13836.229482</td>\n      <td>27.636155</td>\n      <td>0.442147</td>\n      <td>0.46112</td>\n    </tr>\n    <tr>\n      <th>min</th>\n      <td>5.499904e+06</td>\n      <td>0.000000</td>\n      <td>0.000000</td>\n      <td>0.000000e+00</td>\n      <td>0.000000</td>\n      <td>0.000000e+00</td>\n      <td>0.000000e+00</td>\n      <td>0.000000</td>\n      <td>0.000000</td>\n      <td>0.000000e+00</td>\n      <td>...</td>\n      <td>0.000000</td>\n      <td>0.000000</td>\n      <td>0.000000</td>\n      <td>0.000000</td>\n      <td>0.000000</td>\n      <td>1.00000</td>\n      <td>0.000000</td>\n      <td>1.000000</td>\n      <td>0.000000</td>\n      <td>0.00000</td>\n    </tr>\n    <tr>\n      <th>25%</th>\n      <td>5.774225e+06</td>\n      <td>0.000000</td>\n      <td>0.000000</td>\n      <td>2.000000e+03</td>\n      <td>0.000000</td>\n      <td>0.000000e+00</td>\n      <td>2.000000e+03</td>\n      <td>14.000000</td>\n      <td>0.000000</td>\n      <td>0.000000e+00</td>\n      <td>...</td>\n      <td>0.000000</td>\n      <td>0.000000</td>\n      <td>0.000000</td>\n      <td>0.000000</td>\n      <td>0.000000</td>\n      <td>2.00000</td>\n      <td>35000.000000</td>\n      <td>27.000000</td>\n      <td>0.000000</td>\n      <td>0.00000</td>\n    </tr>\n    <tr>\n      <th>50%</th>\n      <td>6.466954e+06</td>\n      <td>5000.000000</td>\n      <td>0.000000</td>\n      <td>2.673550e+04</td>\n      <td>2.000000</td>\n      <td>0.000000e+00</td>\n      <td>1.500000e+04</td>\n      <td>138.000000</td>\n      <td>0.000000</td>\n      <td>3.000000e+03</td>\n      <td>...</td>\n      <td>0.000000</td>\n      <td>0.000000</td>\n      <td>0.000000</td>\n      <td>0.000000</td>\n      <td>0.000000</td>\n      <td>3.00000</td>\n      <td>35000.000000</td>\n      <td>46.000000</td>\n      <td>0.000000</td>\n      <td>0.00000</td>\n    </tr>\n    <tr>\n      <th>75%</th>\n      <td>6.587276e+06</td>\n      <td>51887.500000</td>\n      <td>1.000000</td>\n      <td>1.245895e+05</td>\n      <td>5.000000</td>\n      <td>3.000000e+03</td>\n      <td>8.204150e+04</td>\n      <td>2413.750000</td>\n      <td>0.000000</td>\n      <td>3.000000e+04</td>\n      <td>...</td>\n      <td>0.000000</td>\n      <td>2.000000</td>\n      <td>0.000000</td>\n      <td>0.000000</td>\n      <td>1.000000</td>\n      <td>5.00000</td>\n      <td>50000.000000</td>\n      <td>69.750000</td>\n      <td>1.000000</td>\n      <td>1.00000</td>\n    </tr>\n    <tr>\n      <th>max</th>\n      <td>6.697255e+06</td>\n      <td>867000.000000</td>\n      <td>40.000000</td>\n      <td>1.204294e+07</td>\n      <td>31.000000</td>\n      <td>9.046414e+06</td>\n      <td>9.600000e+06</td>\n      <td>9999.000000</td>\n      <td>576000.000000</td>\n      <td>4.952610e+06</td>\n      <td>...</td>\n      <td>177738.850000</td>\n      <td>97.000000</td>\n      <td>442155.730000</td>\n      <td>7.000000</td>\n      <td>22.000000</td>\n      <td>5.00000</td>\n      <td>60000.000000</td>\n      <td>98.000000</td>\n      <td>1.000000</td>\n      <td>1.00000</td>\n    </tr>\n  </tbody>\n</table>\n<p>8 rows × 25 columns</p>\n</div>"
     },
     "execution_count": 6,
     "metadata": {},
     "output_type": "execute_result"
    }
   ],
   "source": [
    "test_df.describe()"
   ],
   "metadata": {
    "collapsed": false,
    "pycharm": {
     "name": "#%%\n"
    }
   }
  },
  {
   "cell_type": "markdown",
   "source": [
    "Тут мы кстати видим, что в данных у нас нет пропусков (кроме столбца `bad`)"
   ],
   "metadata": {
    "collapsed": false
   }
  },
  {
   "cell_type": "code",
   "execution_count": 7,
   "outputs": [
    {
     "data": {
      "text/plain": "(23116, 25)"
     },
     "execution_count": 7,
     "metadata": {},
     "output_type": "execute_result"
    }
   ],
   "source": [
    "train_df.shape"
   ],
   "metadata": {
    "collapsed": false,
    "pycharm": {
     "name": "#%%\n"
    }
   }
  },
  {
   "cell_type": "code",
   "execution_count": 8,
   "outputs": [
    {
     "data": {
      "text/plain": "(1218, 25)"
     },
     "execution_count": 8,
     "metadata": {},
     "output_type": "execute_result"
    }
   ],
   "source": [
    "test_df.shape"
   ],
   "metadata": {
    "collapsed": false,
    "pycharm": {
     "name": "#%%\n"
    }
   }
  },
  {
   "cell_type": "code",
   "execution_count": 9,
   "outputs": [
    {
     "data": {
      "text/plain": "True"
     },
     "execution_count": 9,
     "metadata": {},
     "output_type": "execute_result"
    }
   ],
   "source": [
    "all(train_df.dtypes == test_df.dtypes)"
   ],
   "metadata": {
    "collapsed": false,
    "pycharm": {
     "name": "#%%\n"
    }
   }
  },
  {
   "cell_type": "markdown",
   "source": [
    "Все типы переменных на обучающей и тестовой выборке совпадают"
   ],
   "metadata": {
    "collapsed": false,
    "pycharm": {
     "name": "#%% md\n"
    }
   }
  },
  {
   "cell_type": "markdown",
   "source": [
    "### Описание фичей\n",
    "##### Переменные, характеризующие кредитную историю клиента\n",
    "`cred_sum_cc_all` - сумма кредитов по кредитным картам\n",
    "`mfo_inqs_count_month` - количество запросов на кредиты в другие в МФО\n",
    "`all_closed_creds_sum_all` количество закрытых кредитов\n",
    "`bank_inqs_count_quarter` - количество запросов на кредиты в банки\n",
    "`cred_max_overdue_max_ly` - максимальная просрочка за год\n",
    "`all_active_creds_sum_all` - денежная сумма всех активных кредитов\n",
    "`mfo_last_days_all` - Количество дней с последнего займа в МФО\n",
    "`cred_sum_cc_ly` - Сумма лимитов кредитных карт, оформленных за последний год\n",
    "`cred_sum_debt_all_all` - Сумма задолженности по всем кредитам\n",
    "`all_closed_creds_sum_ly` - Сумма закрытых кредитов за последний год\n",
    "`mfo_cred_mean_sum_3lm` - Средняя сумма МФО кредитов, выданных за последние 3 месяца\n",
    "`delay_more_sum_all` - Количество просрочек более чем на 90 дней по всем кредитам\n",
    "`all_creds_count_all` - Общее количество кредитов\n",
    "`cred_day_overdue_all_sum_all` - Суммарное количество дней просрочки текущих активных кредитов\n",
    "`cred_max_overdue_max_3lm` - Максимальная сумма просроченной задолженности, по кредитам взятым за последние 3 месяца\n",
    "`mfo_closed_count_ly` - Количество закрытых МФО кредитов, взятых за последний год\n",
    "`cred_sum_overdue_cc_all` - Сумма просрочек по кредитным картам\n",
    "`count_overdue_all_3lm` - Количество кредитов на просрочке, взятых за последние 3 месяца\n",
    "`all_creds_count_lm` - Количество кредитов, взятых за последний месяц\n",
    "`region` - регион подачи заявки\n",
    "##### Переменные характеризующие клиента\n",
    "`work_code` - Профессия.\n",
    "- 5 - рабочие профессии (слесарь, токарь).\n",
    "- 3 - офисный работник (бухгалтер, программист).\n",
    "- 1 - госслужащий (полицейский, медсестра)\n",
    "\n",
    "`month_income` - доход\n",
    "##### Целевые переменные:\n",
    "`bad` - 1 - кредит просрочен, 0 - кредит возвращен, `nan` - отказ.\n",
    "`approved` - 1 - одобрено, 0 - отказано."
   ],
   "metadata": {
    "collapsed": false,
    "pycharm": {
     "name": "#%% md\n"
    }
   }
  },
  {
   "cell_type": "code",
   "execution_count": 10,
   "outputs": [
    {
     "data": {
      "text/plain": "(7269, 25)"
     },
     "execution_count": 10,
     "metadata": {},
     "output_type": "execute_result"
    }
   ],
   "source": [
    "train_df.loc[train_df['bad'].notna()].shape"
   ],
   "metadata": {
    "collapsed": false,
    "pycharm": {
     "name": "#%%\n"
    }
   }
  },
  {
   "cell_type": "markdown",
   "source": [
    "Напишем функцию, которая будет нам выводить в текством виде информацию о признаке в двух выборках"
   ],
   "metadata": {
    "collapsed": false,
    "pycharm": {
     "name": "#%% md\n"
    }
   }
  },
  {
   "cell_type": "code",
   "execution_count": 11,
   "outputs": [],
   "source": [
    "def dist_info(feat, first_sample, second_sample):\n",
    "    \"\"\"\n",
    "    Функция которая выводит информацию о признаке в двух выборок\n",
    "    :param feat: Признак\n",
    "    :param first_sample: Выборка выданных кредитов\n",
    "    :param second_sample: Вся выборка\n",
    "    \"\"\"\n",
    "    output = f\"Сравнение признака {feat}:\\n\"\n",
    "\n",
    "    # Выборочное среднее\n",
    "    output += f\"Выборочное среднее на выборке выданных кредитов = {first_sample[feat].mean()}\\n\"\n",
    "    output += f\"Выборочное среднее на всей выборке = {second_sample[feat].mean()}\\n\\n\"\n",
    "\n",
    "    # Медиана\n",
    "    output += f\"Медиана на выборке выданных кредитов = {first_sample[feat].median()}\\n\"\n",
    "    output += f\"Медиана на всей выборке = {second_sample[feat].median()}\\n\\n\"\n",
    "\n",
    "    # Дисперсия\n",
    "    output += f\"Дисперсия на выборке выданных кредитов = {first_sample[feat].var()}\\n\"\n",
    "    output += f\"Дисперсия на всей выборке = {second_sample[feat].var()}\\n\\n\"\n",
    "\n",
    "    # Стандартное отклонение (корень из дисперсии)\n",
    "    output += f\"Стандартное отклонение на выборке выданных кредитов = {first_sample[feat].std()}\\n\"\n",
    "    output += f\"Стандартное отклонение на всей выборке = {second_sample[feat].std()}\\n\"\n",
    "\n",
    "    return output"
   ],
   "metadata": {
    "collapsed": false,
    "pycharm": {
     "name": "#%%\n"
    }
   }
  },
  {
   "cell_type": "markdown",
   "source": [
    "Для статистического сравнения выборок будем использовать 4 теста из `scipy`\n",
    "Напишем функцию для этого сравнения"
   ],
   "metadata": {
    "collapsed": false,
    "pycharm": {
     "name": "#%% md\n"
    }
   }
  },
  {
   "cell_type": "code",
   "execution_count": 12,
   "outputs": [],
   "source": [
    "# Эти списки нам понадобятся для анализа стат.критериев по всем признакам\n",
    "feature_name = []\n",
    "t_test = []\n",
    "u_test = []\n",
    "ks_test = []\n",
    "lev_test = []"
   ],
   "metadata": {
    "collapsed": false,
    "pycharm": {
     "name": "#%%\n"
    }
   }
  },
  {
   "cell_type": "code",
   "execution_count": 13,
   "outputs": [],
   "source": [
    "def stat_test(feat, first_sample, second_sample):\n",
    "    \"\"\"\n",
    "    Функция, которая выводит информацию о результате t-теста\n",
    "    :param feat: Признак, по которому сравниваются выборки\n",
    "    :param first_sample: Выборка выданных кредитов\n",
    "    :param second_sample: Вся выборка\n",
    "    :return: Информация в текстовом виде\n",
    "    \"\"\"\n",
    "    x = first_sample[feat]\n",
    "    y = second_sample[feat]\n",
    "    feature_name.append(feat)\n",
    "\n",
    "    stat_value, p_value = st.ttest_ind(y, x)\n",
    "    output = \"t-критерий Стюдента:\\n\"\n",
    "    output += f\"Значение критерия = {stat_value}, p-value = {p_value}\\n\\n\"\n",
    "    t_test.append(p_value)\n",
    "\n",
    "    stat_value2, p_value2 = st.mannwhitneyu(y, x)\n",
    "    output += \"u-критерий Манна-Уитни\\n\"\n",
    "    output += f\"Значение критерия = {stat_value2}, p-value = {p_value2}\\n\\n\"\n",
    "    u_test.append(p_value2)\n",
    "\n",
    "    stat_value3, p_value3 = st.ks_2samp(y, x)\n",
    "    output += \"Критерий Колмогорова-Смирнова\\n\"\n",
    "    output += f\"Значение критерия = {stat_value3}, p-value = {p_value3}\\n\\n\"\n",
    "    ks_test.append(p_value3)\n",
    "\n",
    "    stat_value4, p_value4 = st.levene(y, x)\n",
    "    output += \"Тест Левена\\n\"\n",
    "    output += f\"Значение критерия = {stat_value4}, p-value = {p_value4}\\n\\n\"\n",
    "    lev_test.append(p_value4)\n",
    "\n",
    "    return output\n"
   ],
   "metadata": {
    "collapsed": false,
    "pycharm": {
     "name": "#%%\n"
    }
   }
  },
  {
   "cell_type": "code",
   "execution_count": 14,
   "outputs": [],
   "source": [
    "def compare_samples(feat, first_sample=train_df.loc[train_df['bad'].notna()], second_sample=train_df):\n",
    "    output = \"Свойства распределений:\\n\"\n",
    "    output += dist_info(feat=feat, first_sample=first_sample, second_sample=second_sample)\n",
    "\n",
    "    output += \"\\nСтатистические тесты для сравнения распределений:\\n\"\n",
    "    output += stat_test(feat, first_sample=first_sample, second_sample=second_sample)\n",
    "\n",
    "    return output"
   ],
   "metadata": {
    "collapsed": false,
    "pycharm": {
     "name": "#%%\n"
    }
   }
  },
  {
   "cell_type": "markdown",
   "source": [
    "Теперь будем по отдельности смотреть на каждую фичу\n",
    "Начнём с `cred_sum_cc_all` - сумма кредитов по кредитным картам"
   ],
   "metadata": {
    "collapsed": false,
    "pycharm": {
     "name": "#%% md\n"
    }
   }
  },
  {
   "cell_type": "code",
   "execution_count": 14,
   "outputs": [],
   "source": [],
   "metadata": {
    "collapsed": false,
    "pycharm": {
     "name": "#%%\n"
    }
   }
  },
  {
   "cell_type": "code",
   "execution_count": 15,
   "outputs": [
    {
     "name": "stdout",
     "output_type": "stream",
     "text": [
      "Свойства распределений:\n",
      "Сравнение признака cred_sum_cc_all:\n",
      "Выборочное среднее на выборке выданных кредитов = 72930.69684550833\n",
      "Выборочное среднее на всей выборке = 44247.935382851705\n",
      "\n",
      "Медиана на выборке выданных кредитов = 30000.0\n",
      "Медиана на всей выборке = 5000.0\n",
      "\n",
      "Дисперсия на выборке выданных кредитов = 12949381084.387712\n",
      "Дисперсия на всей выборке = 10120681248.761553\n",
      "\n",
      "Стандартное отклонение на выборке выданных кредитов = 113795.34737583832\n",
      "Стандартное отклонение на всей выборке = 100601.59665115437\n",
      "\n",
      "Статистические тесты для сравнения распределений:\n",
      "t-критерий Стюдента:\n",
      "Значение критерия = -20.527052110447098, p-value = 5.285566222778408e-93\n",
      "\n",
      "u-критерий Манна-Уитни\n",
      "Значение критерия = 65432964.5, p-value = 1.8331335629670886e-189\n",
      "\n",
      "Критерий Колмогорова-Смирнова\n",
      "Значение критерия = 0.1886957656731762, p-value = 7.023697323664145e-173\n",
      "\n",
      "Тест Левена\n",
      "Значение критерия = 300.37406547451485, p-value = 5.7374127677921874e-67\n",
      "\n",
      "\n"
     ]
    }
   ],
   "source": [
    "print(compare_samples('cred_sum_cc_all'))"
   ],
   "metadata": {
    "collapsed": false,
    "pycharm": {
     "name": "#%%\n"
    }
   }
  },
  {
   "cell_type": "code",
   "execution_count": 16,
   "outputs": [
    {
     "data": {
      "text/plain": "0     13087\n1      3898\n2      2110\n3      1336\n4       815\n5       594\n6       355\n7       235\n8       187\n9       132\n10       91\n11       55\n12       52\n14       37\n13       33\n15       24\n16       16\n17       13\n20       11\n18        9\n19        8\n23        5\n22        5\n25        4\n21        2\n24        2\nName: mfo_inqs_count_month, dtype: int64"
     },
     "execution_count": 16,
     "metadata": {},
     "output_type": "execute_result"
    }
   ],
   "source": [
    "train_df['mfo_inqs_count_month'].value_counts()"
   ],
   "metadata": {
    "collapsed": false,
    "pycharm": {
     "name": "#%%\n"
    }
   }
  },
  {
   "cell_type": "markdown",
   "source": [
    "`mfo_inqs_count_month` - количество запросов на кредиты в другие в МФО"
   ],
   "metadata": {
    "collapsed": false,
    "pycharm": {
     "name": "#%% md\n"
    }
   }
  },
  {
   "cell_type": "code",
   "execution_count": 17,
   "outputs": [
    {
     "name": "stdout",
     "output_type": "stream",
     "text": [
      "Свойства распределений:\n",
      "Сравнение признака mfo_inqs_count_month:\n",
      "Выборочное среднее на выборке выданных кредитов = 2.1254643004539826\n",
      "Выборочное среднее на всей выборке = 1.2842619830420487\n",
      "\n",
      "Медиана на выборке выданных кредитов = 1.0\n",
      "Медиана на всей выборке = 0.0\n",
      "\n",
      "Дисперсия на выборке выданных кредитов = 8.905555387725093\n",
      "Дисперсия на всей выборке = 5.633100346503599\n",
      "\n",
      "Стандартное отклонение на выборке выданных кредитов = 2.9842177178827103\n",
      "Стандартное отклонение на всей выборке = 2.3734153337550508\n",
      "\n",
      "Статистические тесты для сравнения распределений:\n",
      "t-критерий Стюдента:\n",
      "Значение критерия = -24.696492492798473, p-value = 2.4153480212812933e-133\n",
      "\n",
      "u-критерий Манна-Уитни\n",
      "Значение критерия = 65694364.5, p-value = 2.7385957732327736e-203\n",
      "\n",
      "Критерий Колмогорова-Смирнова\n",
      "Значение критерия = 0.1915401769077183, p-value = 3.672665352425954e-178\n",
      "\n",
      "Тест Левена\n",
      "Значение критерия = 327.94157940908593, p-value = 6.531564268570812e-73\n",
      "\n",
      "\n"
     ]
    }
   ],
   "source": [
    "print(compare_samples('mfo_inqs_count_month'))"
   ],
   "metadata": {
    "collapsed": false,
    "pycharm": {
     "name": "#%%\n"
    }
   }
  },
  {
   "cell_type": "markdown",
   "source": [
    "`all_closed_creds_sum_all` - количество закрытых кредитов"
   ],
   "metadata": {
    "collapsed": false,
    "pycharm": {
     "name": "#%% md\n"
    }
   }
  },
  {
   "cell_type": "code",
   "execution_count": 18,
   "outputs": [
    {
     "name": "stdout",
     "output_type": "stream",
     "text": [
      "Свойства распределений:\n",
      "Сравнение признака all_closed_creds_sum_all:\n",
      "Выборочное среднее на выборке выданных кредитов = 271742.5301967258\n",
      "Выборочное среднее на всей выборке = 165357.35802041876\n",
      "\n",
      "Медиана на выборке выданных кредитов = 91811.0\n",
      "Медиана на всей выборке = 30834.5\n",
      "\n",
      "Дисперсия на выборке выданных кредитов = 296662069134.4915\n",
      "Дисперсия на всей выборке = 229339675667.5227\n",
      "\n",
      "Стандартное отклонение на выборке выданных кредитов = 544666.9341299245\n",
      "Стандартное отклонение на всей выборке = 478894.2217938349\n",
      "\n",
      "Статистические тесты для сравнения распределений:\n",
      "t-критерий Стюдента:\n",
      "Значение критерия = -15.968675842084536, p-value = 3.6109697777484094e-57\n",
      "\n",
      "u-критерий Манна-Уитни\n",
      "Значение критерия = 58298148.5, p-value = 0.0\n",
      "\n",
      "Критерий Колмогорова-Смирнова\n",
      "Значение критерия = 0.2465689680410077, p-value = 1.3772002664039175e-296\n",
      "\n",
      "Тест Левена\n",
      "Значение критерия = 148.3093588725564, p-value = 4.874250259384771e-34\n",
      "\n",
      "\n"
     ]
    }
   ],
   "source": [
    "print(compare_samples('all_closed_creds_sum_all'))"
   ],
   "metadata": {
    "collapsed": false,
    "pycharm": {
     "name": "#%%\n"
    }
   }
  },
  {
   "cell_type": "markdown",
   "source": [
    "Наверное тут имеется в виду сумма всех закрытых кредитов"
   ],
   "metadata": {
    "collapsed": false,
    "pycharm": {
     "name": "#%% md\n"
    }
   }
  },
  {
   "cell_type": "markdown",
   "source": [
    "`bank_inqs_count_quarter` - количество запросов на кредиты в банки"
   ],
   "metadata": {
    "collapsed": false,
    "pycharm": {
     "name": "#%% md\n"
    }
   }
  },
  {
   "cell_type": "code",
   "execution_count": 19,
   "outputs": [
    {
     "name": "stdout",
     "output_type": "stream",
     "text": [
      "Свойства распределений:\n",
      "Сравнение признака bank_inqs_count_quarter:\n",
      "Выборочное среднее на выборке выданных кредитов = 6.622506534598982\n",
      "Выборочное среднее на всей выборке = 3.7606419795812425\n",
      "\n",
      "Медиана на выборке выданных кредитов = 5.0\n",
      "Медиана на всей выборке = 2.0\n",
      "\n",
      "Дисперсия на выборке выданных кредитов = 40.71328535098233\n",
      "Дисперсия на всей выборке = 25.574329745750504\n",
      "\n",
      "Стандартное отклонение на выборке выданных кредитов = 6.380696306123833\n",
      "Стандартное отклонение на всей выборке = 5.057106855283019\n",
      "\n",
      "Статистические тесты для сравнения распределений:\n",
      "t-критерий Стюдента:\n",
      "Значение критерия = -39.387030280964886, p-value = 0.0\n",
      "\n",
      "u-критерий Манна-Уитни\n",
      "Значение критерия = 54932058.0, p-value = 0.0\n",
      "\n",
      "Критерий Колмогорова-Смирнова\n",
      "Значение критерия = 0.26846663234426593, p-value = 0.0\n",
      "\n",
      "Тест Левена\n",
      "Значение критерия = 448.17935191313546, p-value = 9.296625543682678e-99\n",
      "\n",
      "\n"
     ]
    }
   ],
   "source": [
    "print(compare_samples('bank_inqs_count_quarter'))"
   ],
   "metadata": {
    "collapsed": false,
    "pycharm": {
     "name": "#%%\n"
    }
   }
  },
  {
   "cell_type": "markdown",
   "source": [
    "`cred_max_overdue_max_ly` - максимальная просрочка за год"
   ],
   "metadata": {
    "collapsed": false,
    "pycharm": {
     "name": "#%% md\n"
    }
   }
  },
  {
   "cell_type": "code",
   "execution_count": 20,
   "outputs": [
    {
     "name": "stdout",
     "output_type": "stream",
     "text": [
      "Свойства распределений:\n",
      "Сравнение признака cred_max_overdue_max_ly:\n",
      "Выборочное среднее на выборке выданных кредитов = 3200.177497592516\n",
      "Выборочное среднее на всей выборке = 4070.925131078041\n",
      "\n",
      "Медиана на выборке выданных кредитов = 0.0\n",
      "Медиана на всей выборке = 0.0\n",
      "\n",
      "Дисперсия на выборке выданных кредитов = 78796467.51097448\n",
      "Дисперсия на всей выборке = 723094820.1030327\n",
      "\n",
      "Стандартное отклонение на выборке выданных кредитов = 8876.73743618535\n",
      "Стандартное отклонение на всей выборке = 26890.422460478985\n",
      "\n",
      "Статистические тесты для сравнения распределений:\n",
      "t-критерий Стюдента:\n",
      "Значение критерия = 2.714635349787848, p-value = 0.006638623522751355\n",
      "\n",
      "u-критерий Манна-Уитни\n",
      "Значение критерия = 81694558.0, p-value = 3.215493472298796e-05\n",
      "\n",
      "Критерий Колмогорова-Смирнова\n",
      "Значение критерия = 0.03142758191259476, p-value = 3.5228541617464523e-05\n",
      "\n",
      "Тест Левена\n",
      "Значение критерия = 7.369245082317792, p-value = 0.006638623522751609\n",
      "\n",
      "\n"
     ]
    }
   ],
   "source": [
    "print(compare_samples('cred_max_overdue_max_ly'))"
   ],
   "metadata": {
    "collapsed": false,
    "pycharm": {
     "name": "#%%\n"
    }
   }
  },
  {
   "cell_type": "markdown",
   "source": [
    "`all_active_creds_sum_all` - денежная сумма всех активных кредитов"
   ],
   "metadata": {
    "collapsed": false,
    "pycharm": {
     "name": "#%% md\n"
    }
   }
  },
  {
   "cell_type": "code",
   "execution_count": 21,
   "outputs": [
    {
     "name": "stdout",
     "output_type": "stream",
     "text": [
      "Свойства распределений:\n",
      "Сравнение признака all_active_creds_sum_all:\n",
      "Выборочное среднее на выборке выданных кредитов = 229576.36208556886\n",
      "Выборочное среднее на всей выборке = 128421.21677625887\n",
      "\n",
      "Медиана на выборке выданных кредитов = 57330.0\n",
      "Медиана на всей выборке = 15000.0\n",
      "\n",
      "Дисперсия на выборке выданных кредитов = 243789973903.4096\n",
      "Дисперсия на всей выборке = 151376879374.27545\n",
      "\n",
      "Стандартное отклонение на выборке выданных кредитов = 493750.922939299\n",
      "Стандартное отклонение на всей выборке = 389071.81775897805\n",
      "\n",
      "Статистические тесты для сравнения распределений:\n",
      "t-критерий Стюдента:\n",
      "Значение критерия = -18.060228443438298, p-value = 1.5717067803818014e-72\n",
      "\n",
      "u-критерий Манна-Уитни\n",
      "Значение критерия = 56644154.5, p-value = 0.0\n",
      "\n",
      "Критерий Колмогорова-Смирнова\n",
      "Значение критерия = 0.26645119707168835, p-value = 0.0\n",
      "\n",
      "Тест Левена\n",
      "Значение критерия = 238.66359665442607, p-value = 1.2310847745584734e-53\n",
      "\n",
      "\n"
     ]
    }
   ],
   "source": [
    "print(compare_samples('all_active_creds_sum_all'))"
   ],
   "metadata": {
    "collapsed": false,
    "pycharm": {
     "name": "#%%\n"
    }
   }
  },
  {
   "cell_type": "markdown",
   "source": [
    "`mfo_last_days_all` - Количество дней с последнего займа в МФО"
   ],
   "metadata": {
    "collapsed": false,
    "pycharm": {
     "name": "#%% md\n"
    }
   }
  },
  {
   "cell_type": "code",
   "execution_count": 22,
   "outputs": [
    {
     "name": "stdout",
     "output_type": "stream",
     "text": [
      "Свойства распределений:\n",
      "Сравнение признака mfo_last_days_all:\n",
      "Выборочное среднее на выборке выданных кредитов = 1320.6761590315036\n",
      "Выборочное среднее на всей выборке = 2615.988925419623\n",
      "\n",
      "Медиана на выборке выданных кредитов = 14.0\n",
      "Медиана на всей выборке = 83.5\n",
      "\n",
      "Дисперсия на выборке выданных кредитов = 11050247.33815057\n",
      "Дисперсия на всей выборке = 17881235.805112045\n",
      "\n",
      "Стандартное отклонение на выборке выданных кредитов = 3324.1912306831223\n",
      "Стандартное отклонение на всей выборке = 4228.621028788469\n",
      "\n",
      "Статистические тесты для сравнения распределений:\n",
      "t-критерий Стюдента:\n",
      "Значение критерия = 23.897350522943775, p-value = 4.663834493002853e-125\n",
      "\n",
      "u-критерий Манна-Уитни\n",
      "Значение критерия = 112470740.0, p-value = 0.0\n",
      "\n",
      "Критерий Колмогорова-Смирнова\n",
      "Значение критерия = 0.3104594516828653, p-value = 0.0\n",
      "\n",
      "Тест Левена\n",
      "Значение критерия = 568.8271724497337, p-value = 1.4141254888814227e-124\n",
      "\n",
      "\n"
     ]
    }
   ],
   "source": [
    "print(compare_samples('mfo_last_days_all'))"
   ],
   "metadata": {
    "collapsed": false,
    "pycharm": {
     "name": "#%%\n"
    }
   }
  },
  {
   "cell_type": "markdown",
   "source": [
    "`cred_sum_cc_ly` - Сумма лимитов кредитных карт, оформленных за последний год"
   ],
   "metadata": {
    "collapsed": false,
    "pycharm": {
     "name": "#%% md\n"
    }
   }
  },
  {
   "cell_type": "code",
   "execution_count": 23,
   "outputs": [
    {
     "name": "stdout",
     "output_type": "stream",
     "text": [
      "Свойства распределений:\n",
      "Сравнение признака cred_sum_cc_ly:\n",
      "Выборочное среднее на выборке выданных кредитов = 24717.386837254096\n",
      "Выборочное среднее на всей выборке = 10672.104918671052\n",
      "\n",
      "Медиана на выборке выданных кредитов = 0.0\n",
      "Медиана на всей выборке = 0.0\n",
      "\n",
      "Дисперсия на выборке выданных кредитов = 3041900786.6841216\n",
      "Дисперсия на всей выборке = 1387334803.483769\n",
      "\n",
      "Стандартное отклонение на выборке выданных кредитов = 55153.42950972425\n",
      "Стандартное отклонение на всей выборке = 37246.94354552826\n",
      "\n",
      "Статистические тесты для сравнения распределений:\n",
      "t-критерий Стюдента:\n",
      "Значение критерия = -24.734506766394713, p-value = 9.601327074734767e-134\n",
      "\n",
      "u-критерий Манна-Уитни\n",
      "Значение критерия = 67546483.5, p-value = 1.4573902202907428e-229\n",
      "\n",
      "Критерий Колмогорова-Смирнова\n",
      "Значение критерия = 0.18936730565416682, p-value = 4.04569879043131e-174\n",
      "\n",
      "Тест Левена\n",
      "Значение критерия = 611.7958249768259, p-value = 9.601327074740873e-134\n",
      "\n",
      "\n"
     ]
    }
   ],
   "source": [
    "print(compare_samples('cred_sum_cc_ly'))"
   ],
   "metadata": {
    "collapsed": false,
    "pycharm": {
     "name": "#%%\n"
    }
   }
  },
  {
   "cell_type": "markdown",
   "source": [
    "`cred_sum_debt_all_all` - Сумма задолженности по всем кредитам"
   ],
   "metadata": {
    "collapsed": false,
    "pycharm": {
     "name": "#%% md\n"
    }
   }
  },
  {
   "cell_type": "code",
   "execution_count": 24,
   "outputs": [
    {
     "name": "stdout",
     "output_type": "stream",
     "text": [
      "Свойства распределений:\n",
      "Сравнение признака cred_sum_debt_all_all:\n",
      "Выборочное среднее на выборке выданных кредитов = 186197.17084468287\n",
      "Выборочное среднее на всей выборке = 84146.83018515314\n",
      "\n",
      "Медиана на выборке выданных кредитов = 44360.86\n",
      "Медиана на всей выборке = 5000.0\n",
      "\n",
      "Дисперсия на выборке выданных кредитов = 180581046015.6037\n",
      "Дисперсия на всей выборке = 93313366831.10695\n",
      "\n",
      "Стандартное отклонение на выборке выданных кредитов = 424948.2862838768\n",
      "Стандартное отклонение на всей выборке = 305472.36672260053\n",
      "\n",
      "Статистические тесты для сравнения распределений:\n",
      "t-критерий Стюдента:\n",
      "Значение критерия = -22.45776642522997, p-value = 8.587300512918886e-111\n",
      "\n",
      "u-критерий Манна-Уитни\n",
      "Значение критерия = 45693386.5, p-value = 0.0\n",
      "\n",
      "Критерий Колмогорова-Смирнова\n",
      "Значение критерия = 0.38013362169101456, p-value = 0.0\n",
      "\n",
      "Тест Левена\n",
      "Значение критерия = 377.7434400763364, p-value = 1.2435087366098032e-83\n",
      "\n",
      "\n"
     ]
    }
   ],
   "source": [
    "print(compare_samples('cred_sum_debt_all_all'))"
   ],
   "metadata": {
    "collapsed": false,
    "pycharm": {
     "name": "#%%\n"
    }
   }
  },
  {
   "cell_type": "markdown",
   "source": [
    "`all_closed_creds_sum_ly` - Сумма закрытых кредитов за последний год"
   ],
   "metadata": {
    "collapsed": false,
    "pycharm": {
     "name": "#%% md\n"
    }
   }
  },
  {
   "cell_type": "code",
   "execution_count": 25,
   "outputs": [
    {
     "name": "stdout",
     "output_type": "stream",
     "text": [
      "Свойства распределений:\n",
      "Сравнение признака all_closed_creds_sum_ly:\n",
      "Выборочное среднее на выборке выданных кредитов = 72148.61301416976\n",
      "Выборочное среднее на всей выборке = 30069.48818999827\n",
      "\n",
      "Медиана на выборке выданных кредитов = 24940.0\n",
      "Медиана на всей выборке = 0.0\n",
      "\n",
      "Дисперсия на выборке выданных кредитов = 26225985385.58674\n",
      "Дисперсия на всей выборке = 10427793658.34444\n",
      "\n",
      "Стандартное отклонение на выборке выданных кредитов = 161944.38979349282\n",
      "Стандартное отклонение на всей выборке = 102116.56897068389\n",
      "\n",
      "Статистические тесты для сравнения распределений:\n",
      "t-критерий Стюдента:\n",
      "Значение критерия = -26.253109927366737, p-value = 3.131888368697686e-150\n",
      "\n",
      "u-критерий Манна-Уитни\n",
      "Значение критерия = 51519777.0, p-value = 0.0\n",
      "\n",
      "Критерий Колмогорова-Смирнова\n",
      "Значение критерия = 0.3406746682281003, p-value = 0.0\n",
      "\n",
      "Тест Левена\n",
      "Значение критерия = 511.43877438871164, p-value = 2.613128208285008e-112\n",
      "\n",
      "\n"
     ]
    }
   ],
   "source": [
    "print(compare_samples('all_closed_creds_sum_ly'))"
   ],
   "metadata": {
    "collapsed": false,
    "pycharm": {
     "name": "#%%\n"
    }
   }
  },
  {
   "cell_type": "markdown",
   "source": [
    "`mfo_cred_mean_sum_3lm` - Средняя сумма МФО кредитов, выданных за последние 3 месяца"
   ],
   "metadata": {
    "collapsed": false,
    "pycharm": {
     "name": "#%% md\n"
    }
   }
  },
  {
   "cell_type": "code",
   "execution_count": 26,
   "outputs": [
    {
     "name": "stdout",
     "output_type": "stream",
     "text": [
      "Свойства распределений:\n",
      "Сравнение признака mfo_cred_mean_sum_3lm:\n",
      "Выборочное среднее на выборке выданных кредитов = 8057.624315873137\n",
      "Выборочное среднее на всей выборке = 4228.567469552919\n",
      "\n",
      "Медиана на выборке выданных кредитов = 6500.0\n",
      "Медиана на всей выборке = 1000.0\n",
      "\n",
      "Дисперсия на выборке выданных кредитов = 107121555.04643464\n",
      "Дисперсия на всей выборке = 67513053.09133077\n",
      "\n",
      "Стандартное отклонение на выборке выданных кредитов = 10349.954349968633\n",
      "Стандартное отклонение на всей выборке = 8216.632710017575\n",
      "\n",
      "Статистические тесты для сравнения распределений:\n",
      "t-критерий Стюдента:\n",
      "Значение критерия = -32.452234429650254, p-value = 3.83502739034049e-227\n",
      "\n",
      "u-критерий Манна-Уитни\n",
      "Значение критерия = 52399689.5, p-value = 0.0\n",
      "\n",
      "Критерий Колмогорова-Смирнова\n",
      "Значение критерия = 0.33680101346541247, p-value = 0.0\n",
      "\n",
      "Тест Левена\n",
      "Значение критерия = 117.68663939464673, p-value = 2.2794740247416542e-27\n",
      "\n",
      "\n"
     ]
    }
   ],
   "source": [
    "print(compare_samples('mfo_cred_mean_sum_3lm'))"
   ],
   "metadata": {
    "collapsed": false,
    "pycharm": {
     "name": "#%%\n"
    }
   }
  },
  {
   "cell_type": "markdown",
   "source": [
    "`delay_more_sum_all` - Количество просрочек более чем на 90 дней по всем кредитам"
   ],
   "metadata": {
    "collapsed": false,
    "pycharm": {
     "name": "#%% md\n"
    }
   }
  },
  {
   "cell_type": "code",
   "execution_count": 27,
   "outputs": [
    {
     "name": "stdout",
     "output_type": "stream",
     "text": [
      "Свойства распределений:\n",
      "Сравнение признака delay_more_sum_all:\n",
      "Выборочное среднее на выборке выданных кредитов = 2.0971247764479295\n",
      "Выборочное среднее на всей выборке = 5.084486935455962\n",
      "\n",
      "Медиана на выборке выданных кредитов = 0.0\n",
      "Медиана на всей выборке = 0.0\n",
      "\n",
      "Дисперсия на выборке выданных кредитов = 48.69997659711444\n",
      "Дисперсия на всей выборке = 135.21886208155112\n",
      "\n",
      "Стандартное отклонение на выборке выданных кредитов = 6.978536852171409\n",
      "Стандартное отклонение на всей выборке = 11.628364548875785\n",
      "\n",
      "Статистические тесты для сравнения распределений:\n",
      "t-критерий Стюдента:\n",
      "Значение критерия = 20.759009515021507, p-value = 4.650841098023226e-95\n",
      "\n",
      "u-критерий Манна-Уитни\n",
      "Значение критерия = 102203099.0, p-value = 1.2736300572868198e-220\n",
      "\n",
      "Критерий Колмогорова-Смирнова\n",
      "Значение критерия = 0.20481154685737324, p-value = 6.920509339619772e-204\n",
      "\n",
      "Тест Левена\n",
      "Значение критерия = 430.9364760447534, p-value = 4.650841098031667e-95\n",
      "\n",
      "\n"
     ]
    }
   ],
   "source": [
    "print(compare_samples('delay_more_sum_all'))"
   ],
   "metadata": {
    "collapsed": false,
    "pycharm": {
     "name": "#%%\n"
    }
   }
  },
  {
   "cell_type": "markdown",
   "source": [
    "`all_creds_count_all` - Общее количество кредитов"
   ],
   "metadata": {
    "collapsed": false,
    "pycharm": {
     "name": "#%% md\n"
    }
   }
  },
  {
   "cell_type": "code",
   "execution_count": 28,
   "outputs": [
    {
     "name": "stdout",
     "output_type": "stream",
     "text": [
      "Свойства распределений:\n",
      "Сравнение признака all_creds_count_all:\n",
      "Выборочное среднее на выборке выданных кредитов = 19.070573669005366\n",
      "Выборочное среднее на всей выборке = 11.40387610313203\n",
      "\n",
      "Медиана на выборке выданных кредитов = 12.0\n",
      "Медиана на всей выборке = 6.0\n",
      "\n",
      "Дисперсия на выборке выданных кредитов = 645.91507921131\n",
      "Дисперсия на всей выборке = 343.8636994462972\n",
      "\n",
      "Стандартное отклонение на выборке выданных кредитов = 25.414859417500423\n",
      "Стандартное отклонение на всей выборке = 18.543562210273873\n",
      "\n",
      "Статистические тесты для сравнения распределений:\n",
      "t-критерий Стюдента:\n",
      "Значение критерия = -27.948854766964402, p-value = 9.599875134562095e-170\n",
      "\n",
      "u-критерий Манна-Уитни\n",
      "Значение критерия = 52916632.5, p-value = 0.0\n",
      "\n",
      "Критерий Колмогорова-Смирнова\n",
      "Значение критерия = 0.28340897568629986, p-value = 0.0\n",
      "\n",
      "Тест Левена\n",
      "Значение критерия = 214.51045553182212, p-value = 2.0847248562257098e-48\n",
      "\n",
      "\n"
     ]
    }
   ],
   "source": [
    "print(compare_samples('all_creds_count_all'))"
   ],
   "metadata": {
    "collapsed": false,
    "pycharm": {
     "name": "#%%\n"
    }
   }
  },
  {
   "cell_type": "markdown",
   "source": [
    "`cred_day_overdue_all_sum_all` - Суммарное количество дней просрочки текущих активных кредитов"
   ],
   "metadata": {
    "collapsed": false,
    "pycharm": {
     "name": "#%% md\n"
    }
   }
  },
  {
   "cell_type": "code",
   "execution_count": 29,
   "outputs": [
    {
     "name": "stdout",
     "output_type": "stream",
     "text": [
      "Свойства распределений:\n",
      "Сравнение признака cred_day_overdue_all_sum_all:\n",
      "Выборочное среднее на выборке выданных кредитов = 18.967120649332784\n",
      "Выборочное среднее на всей выборке = 259.1059439349368\n",
      "\n",
      "Медиана на выборке выданных кредитов = 0.0\n",
      "Медиана на всей выборке = 0.0\n",
      "\n",
      "Дисперсия на выборке выданных кредитов = 36654.95145044512\n",
      "Дисперсия на всей выборке = 589885.1698699244\n",
      "\n",
      "Стандартное отклонение на выборке выданных кредитов = 191.45482874674414\n",
      "Стандартное отклонение на всей выборке = 768.0398231015918\n",
      "\n",
      "Статистические тесты для сравнения распределений:\n",
      "t-критерий Стюдента:\n",
      "Значение критерия = 26.400327062951142, p-value = 7.043133223355447e-152\n",
      "\n",
      "u-критерий Манна-Уитни\n",
      "Значение критерия = 105090385.5, p-value = 0.0\n",
      "\n",
      "Критерий Колмогорова-Смирнова\n",
      "Значение критерия = 0.24386513272340016, p-value = 4.8739883439552315e-290\n",
      "\n",
      "Тест Левена\n",
      "Значение критерия = 696.9772690307906, p-value = 7.04313322336199e-152\n",
      "\n",
      "\n"
     ]
    }
   ],
   "source": [
    "print(compare_samples('cred_day_overdue_all_sum_all'))"
   ],
   "metadata": {
    "collapsed": false,
    "pycharm": {
     "name": "#%%\n"
    }
   }
  },
  {
   "cell_type": "markdown",
   "source": [
    "`cred_max_overdue_max_3lm` - Максимальная сумма просроченной задолженности, по кредитам взятым за последние 3 месяца"
   ],
   "metadata": {
    "collapsed": false,
    "pycharm": {
     "name": "#%% md\n"
    }
   }
  },
  {
   "cell_type": "code",
   "execution_count": 30,
   "outputs": [
    {
     "name": "stdout",
     "output_type": "stream",
     "text": [
      "Свойства распределений:\n",
      "Сравнение признака cred_max_overdue_max_3lm:\n",
      "Выборочное среднее на выборке выданных кредитов = 1493.3733512174988\n",
      "Выборочное среднее на всей выборке = 1107.1375679183247\n",
      "\n",
      "Медиана на выборке выданных кредитов = 0.0\n",
      "Медиана на всей выборке = 0.0\n",
      "\n",
      "Дисперсия на выборке выданных кредитов = 37946729.83802966\n",
      "Дисперсия на всей выборке = 50040504.94161757\n",
      "\n",
      "Стандартное отклонение на выборке выданных кредитов = 6160.0917069496345\n",
      "Стандартное отклонение на всей выборке = 7073.931363931769\n",
      "\n",
      "Статистические тесты для сравнения распределений:\n",
      "t-критерий Стюдента:\n",
      "Значение критерия = -4.182992989581632, p-value = 2.885030831545175e-05\n",
      "\n",
      "u-критерий Манна-Уитни\n",
      "Значение критерия = 81686587.0, p-value = 4.5621701061922685e-09\n",
      "\n",
      "Критерий Колмогорова-Смирнова\n",
      "Значение критерия = 0.025863225161590675, p-value = 0.0012029168775599026\n",
      "\n",
      "Тест Левена\n",
      "Значение критерия = 17.49743035088908, p-value = 2.8850308315453903e-05\n",
      "\n",
      "\n"
     ]
    }
   ],
   "source": [
    "print(compare_samples('cred_max_overdue_max_3lm'))"
   ],
   "metadata": {
    "collapsed": false,
    "pycharm": {
     "name": "#%%\n"
    }
   }
  },
  {
   "cell_type": "markdown",
   "source": [
    "`mfo_closed_count_ly` - Количество закрытых МФО кредитов, взятых за последний год"
   ],
   "metadata": {
    "collapsed": false,
    "pycharm": {
     "name": "#%% md\n"
    }
   }
  },
  {
   "cell_type": "code",
   "execution_count": 31,
   "outputs": [
    {
     "name": "stdout",
     "output_type": "stream",
     "text": [
      "Свойства распределений:\n",
      "Сравнение признака mfo_closed_count_ly:\n",
      "Выборочное среднее на выборке выданных кредитов = 7.872609712477645\n",
      "Выборочное среднее на всей выборке = 3.4740872123204705\n",
      "\n",
      "Медиана на выборке выданных кредитов = 4.0\n",
      "Медиана на всей выборке = 0.0\n",
      "\n",
      "Дисперсия на выборке выданных кредитов = 193.40644422038446\n",
      "Дисперсия на всей выборке = 84.68256449232881\n",
      "\n",
      "Стандартное отклонение на выборке выданных кредитов = 13.90706454361899\n",
      "Стандартное отклонение на всей выборке = 9.202312996868168\n",
      "\n",
      "Статистические тесты для сравнения распределений:\n",
      "t-критерий Стюдента:\n",
      "Значение критерия = -31.089612527917545, p-value = 6.285440825602034e-209\n",
      "\n",
      "u-критерий Манна-Уитни\n",
      "Значение критерия = 53268483.5, p-value = 0.0\n",
      "\n",
      "Критерий Колмогорова-Смирнова\n",
      "Значение критерия = 0.30986414799567824, p-value = 0.0\n",
      "\n",
      "Тест Левена\n",
      "Значение критерия = 627.6264307003972, p-value = 4.0555851457027465e-137\n",
      "\n",
      "\n"
     ]
    }
   ],
   "source": [
    "print(compare_samples('mfo_closed_count_ly'))"
   ],
   "metadata": {
    "collapsed": false,
    "pycharm": {
     "name": "#%%\n"
    }
   }
  },
  {
   "cell_type": "markdown",
   "source": [
    "`cred_sum_overdue_cc_all` - Сумма просрочек по кредитным картам"
   ],
   "metadata": {
    "collapsed": false,
    "pycharm": {
     "name": "#%% md\n"
    }
   }
  },
  {
   "cell_type": "code",
   "execution_count": 32,
   "outputs": [
    {
     "name": "stdout",
     "output_type": "stream",
     "text": [
      "Свойства распределений:\n",
      "Сравнение признака cred_sum_overdue_cc_all:\n",
      "Выборочное среднее на выборке выданных кредитов = 717.3094951162471\n",
      "Выборочное среднее на всей выборке = 4878.1721794428095\n",
      "\n",
      "Медиана на выборке выданных кредитов = 0.0\n",
      "Медиана на всей выборке = 0.0\n",
      "\n",
      "Дисперсия на выборке выданных кредитов = 61789497.620932996\n",
      "Дисперсия на всей выборке = 1439226706.132457\n",
      "\n",
      "Стандартное отклонение на выборке выданных кредитов = 7860.629594436631\n",
      "Стандартное отклонение на всей выборке = 37937.14151240783\n",
      "\n",
      "Статистические тесты для сравнения распределений:\n",
      "t-критерий Стюдента:\n",
      "Значение критерия = 9.288370258035123, p-value = 1.6677952976695786e-20\n",
      "\n",
      "u-критерий Манна-Уитни\n",
      "Значение критерия = 89720981.0, p-value = 9.968741393681738e-60\n",
      "\n",
      "Критерий Колмогорова-Смирнова\n",
      "Значение критерия = 0.06585107758364683, p-value = 2.7152703934603858e-21\n",
      "\n",
      "Тест Левена\n",
      "Значение критерия = 86.27382205035146, p-value = 1.6677952976709253e-20\n",
      "\n",
      "\n"
     ]
    }
   ],
   "source": [
    "print(compare_samples('cred_sum_overdue_cc_all'))"
   ],
   "metadata": {
    "collapsed": false,
    "pycharm": {
     "name": "#%%\n"
    }
   }
  },
  {
   "cell_type": "markdown",
   "source": [
    "`count_overdue_all_3lm` - Количество кредитов на просрочке, взятых за последние 3 месяца"
   ],
   "metadata": {
    "collapsed": false,
    "pycharm": {
     "name": "#%% md\n"
    }
   }
  },
  {
   "cell_type": "code",
   "execution_count": 33,
   "outputs": [
    {
     "data": {
      "text/plain": "0     21068\n1      1625\n2       297\n3        67\n4        29\n5         9\n6         6\n7         5\n9         5\n8         3\n10        2\nName: count_overdue_all_3lm, dtype: int64"
     },
     "execution_count": 33,
     "metadata": {},
     "output_type": "execute_result"
    }
   ],
   "source": [
    "train_df['count_overdue_all_3lm'].value_counts()"
   ],
   "metadata": {
    "collapsed": false,
    "pycharm": {
     "name": "#%%\n"
    }
   }
  },
  {
   "cell_type": "code",
   "execution_count": 34,
   "outputs": [
    {
     "name": "stdout",
     "output_type": "stream",
     "text": [
      "Свойства распределений:\n",
      "Сравнение признака count_overdue_all_3lm:\n",
      "Выборочное среднее на выборке выданных кредитов = 0.08309258494978676\n",
      "Выборочное среднее на всей выборке = 0.11857587817961585\n",
      "\n",
      "Медиана на выборке выданных кредитов = 0.0\n",
      "Медиана на всей выборке = 0.0\n",
      "\n",
      "Дисперсия на выборке выданных кредитов = 0.14526858540043047\n",
      "Дисперсия на всей выборке = 0.21795299666492207\n",
      "\n",
      "Стандартное отклонение на выборке выданных кредитов = 0.38114116203898846\n",
      "Стандартное отклонение на всей выборке = 0.46685436344209325\n",
      "\n",
      "Статистические тесты для сравнения распределений:\n",
      "t-критерий Стюдента:\n",
      "Значение критерия = 5.891954205580277, p-value = 3.856730243702265e-09\n",
      "\n",
      "u-критерий Манна-Уитни\n",
      "Значение критерия = 86133935.5, p-value = 9.784646694115642e-12\n",
      "\n",
      "Критерий Колмогорова-Смирнова\n",
      "Значение критерия = 0.025176640266412975, p-value = 0.0017733702234229182\n",
      "\n",
      "Тест Левена\n",
      "Значение критерия = 34.7151243606551, p-value = 3.8567302437044105e-09\n",
      "\n",
      "\n"
     ]
    }
   ],
   "source": [
    "print(compare_samples('count_overdue_all_3lm'))"
   ],
   "metadata": {
    "collapsed": false,
    "pycharm": {
     "name": "#%%\n"
    }
   }
  },
  {
   "cell_type": "markdown",
   "source": [
    "`all_creds_count_lm` - Количество кредитов, взятых за последний месяц"
   ],
   "metadata": {
    "collapsed": false,
    "pycharm": {
     "name": "#%% md\n"
    }
   }
  },
  {
   "cell_type": "code",
   "execution_count": 35,
   "outputs": [
    {
     "name": "stdout",
     "output_type": "stream",
     "text": [
      "Свойства распределений:\n",
      "Сравнение признака all_creds_count_lm:\n",
      "Выборочное среднее на выборке выданных кредитов = 2.445040583298941\n",
      "Выборочное среднее на всей выборке = 1.0806367883716905\n",
      "\n",
      "Медиана на выборке выданных кредитов = 2.0\n",
      "Медиана на всей выборке = 0.0\n",
      "\n",
      "Дисперсия на выборке выданных кредитов = 9.670513719458988\n",
      "Дисперсия на всей выборке = 4.570006187604377\n",
      "\n",
      "Стандартное отклонение на выборке выданных кредитов = 3.109744960516696\n",
      "Стандартное отклонение на всей выборке = 2.137757279862327\n",
      "\n",
      "Статистические тесты для сравнения распределений:\n",
      "t-критерий Стюдента:\n",
      "Значение критерия = -42.16610407144386, p-value = 0.0\n",
      "\n",
      "u-критерий Манна-Уитни\n",
      "Значение критерия = 53134827.5, p-value = 0.0\n",
      "\n",
      "Критерий Колмогорова-Смирнова\n",
      "Значение критерия = 0.3060347888407015, p-value = 0.0\n",
      "\n",
      "Тест Левена\n",
      "Значение критерия = 899.7535157716727, p-value = 7.741252548315875e-195\n",
      "\n",
      "\n"
     ]
    }
   ],
   "source": [
    "print(compare_samples('all_creds_count_lm'))"
   ],
   "metadata": {
    "collapsed": false,
    "pycharm": {
     "name": "#%%\n"
    }
   }
  },
  {
   "cell_type": "markdown",
   "source": [
    "Смотрим на самые частые регионы"
   ],
   "metadata": {
    "collapsed": false,
    "pycharm": {
     "name": "#%% md\n"
    }
   }
  },
  {
   "cell_type": "code",
   "execution_count": 36,
   "outputs": [
    {
     "name": "stdout",
     "output_type": "stream",
     "text": [
      "45    1115\n",
      "46    1091\n",
      "3      883\n",
      "65     808\n",
      "80     796\n",
      "      ... \n",
      "77       6\n",
      "43       5\n",
      "48       4\n",
      "0        4\n",
      "59       2\n",
      "Name: region, Length: 90, dtype: int64\n"
     ]
    }
   ],
   "source": [
    "print(train_df['region'].value_counts())"
   ],
   "metadata": {
    "collapsed": false,
    "pycharm": {
     "name": "#%%\n"
    }
   }
  },
  {
   "cell_type": "markdown",
   "source": [
    "Смотрим кто чаще брал кредиты"
   ],
   "metadata": {
    "collapsed": false,
    "pycharm": {
     "name": "#%% md\n"
    }
   }
  },
  {
   "cell_type": "code",
   "execution_count": 37,
   "outputs": [
    {
     "data": {
      "text/plain": "5    2189\n2    1905\n4    1204\n3    1100\n1     871\nName: work_code, dtype: int64"
     },
     "execution_count": 37,
     "metadata": {},
     "output_type": "execute_result"
    }
   ],
   "source": [
    "train_df.loc[train_df['bad'].notna()]['work_code'].value_counts()"
   ],
   "metadata": {
    "collapsed": false,
    "pycharm": {
     "name": "#%%\n"
    }
   }
  },
  {
   "cell_type": "code",
   "execution_count": 38,
   "outputs": [
    {
     "data": {
      "text/plain": "5    7747\n2    4881\n3    4834\n4    3570\n1    2084\nName: work_code, dtype: int64"
     },
     "execution_count": 38,
     "metadata": {},
     "output_type": "execute_result"
    }
   ],
   "source": [
    "train_df['work_code'].value_counts()"
   ],
   "metadata": {
    "collapsed": false,
    "pycharm": {
     "name": "#%%\n"
    }
   }
  },
  {
   "cell_type": "markdown",
   "source": [
    "`work_code` - Профессия.\n",
    "5 - рабочие профессии (слесарь, токарь).\n",
    "3 - офисный работник (бухгалтер, программист).\n",
    "1 - госслужащий (полицейский, медсестра)"
   ],
   "metadata": {
    "collapsed": false,
    "pycharm": {
     "name": "#%% md\n"
    }
   }
  },
  {
   "cell_type": "code",
   "execution_count": 39,
   "outputs": [
    {
     "data": {
      "text/plain": "<Figure size 432x288 with 1 Axes>",
      "image/png": "[encoded data removed]"
     },
     "metadata": {
      "needs_background": "light"
     },
     "output_type": "display_data"
    }
   ],
   "source": [
    "plt.hist(train_df['work_code'])\n",
    "plt.hist(train_df.loc[train_df['approved'] == 1]['work_code'])\n",
    "plt.show()"
   ],
   "metadata": {
    "collapsed": false,
    "pycharm": {
     "name": "#%%\n"
    }
   }
  },
  {
   "cell_type": "markdown",
   "source": [
    "`month_income` - доход"
   ],
   "metadata": {
    "collapsed": false,
    "pycharm": {
     "name": "#%% md\n"
    }
   }
  },
  {
   "cell_type": "code",
   "execution_count": 40,
   "outputs": [
    {
     "name": "stdout",
     "output_type": "stream",
     "text": [
      "Свойства распределений:\n",
      "Сравнение признака month_income:\n",
      "Выборочное среднее на выборке выданных кредитов = 43297.28986105379\n",
      "Выборочное среднее на всей выборке = 39363.1899982696\n",
      "\n",
      "Медиана на выборке выданных кредитов = 50000.0\n",
      "Медиана на всей выборке = 35000.0\n",
      "\n",
      "Дисперсия на выборке выданных кредитов = 174703158.58699265\n",
      "Дисперсия на всей выборке = 192866670.48970485\n",
      "\n",
      "Стандартное отклонение на выборке выданных кредитов = 13217.532242706755\n",
      "Стандартное отклонение на всей выборке = 13887.644526330045\n",
      "\n",
      "Статистические тесты для сравнения распределений:\n",
      "t-критерий Стюдента:\n",
      "Значение критерия = -21.307315250782764, p-value = 5.245282697773357e-100\n",
      "\n",
      "u-критерий Манна-Уитни\n",
      "Значение критерия = 70456099.5, p-value = 1.1250886539120337e-104\n",
      "\n",
      "Критерий Колмогорова-Смирнова\n",
      "Значение критерия = 0.12143888726100693, p-value = 1.579172550433333e-71\n",
      "\n",
      "Тест Левена\n",
      "Значение критерия = 10.757566167172532, p-value = 0.0010397070679816628\n",
      "\n",
      "\n"
     ]
    }
   ],
   "source": [
    "print(compare_samples('month_income'))"
   ],
   "metadata": {
    "collapsed": false,
    "pycharm": {
     "name": "#%%\n"
    }
   }
  },
  {
   "cell_type": "code",
   "execution_count": 41,
   "outputs": [],
   "source": [
    "stats_df = pd.DataFrame.from_dict({\n",
    "    'feature': feature_name,\n",
    "    't-test': t_test,\n",
    "    'u-test': u_test,\n",
    "    'ks-test': ks_test,\n",
    "    'levene-test': lev_test\n",
    "})"
   ],
   "metadata": {
    "collapsed": false,
    "pycharm": {
     "name": "#%%\n"
    }
   }
  },
  {
   "cell_type": "code",
   "execution_count": 42,
   "outputs": [
    {
     "data": {
      "text/plain": "                         feature         t-test         u-test        ks-test  \\\n0                cred_sum_cc_all   5.285566e-93  1.833134e-189  7.023697e-173   \n1           mfo_inqs_count_month  2.415348e-133  2.738596e-203  3.672665e-178   \n2       all_closed_creds_sum_all   3.610970e-57   0.000000e+00  1.377200e-296   \n3        bank_inqs_count_quarter   0.000000e+00   0.000000e+00   0.000000e+00   \n4        cred_max_overdue_max_ly   6.638624e-03   3.215493e-05   3.522854e-05   \n5       all_active_creds_sum_all   1.571707e-72   0.000000e+00   0.000000e+00   \n6              mfo_last_days_all  4.663834e-125   0.000000e+00   0.000000e+00   \n7                 cred_sum_cc_ly  9.601327e-134  1.457390e-229  4.045699e-174   \n8          cred_sum_debt_all_all  8.587301e-111   0.000000e+00   0.000000e+00   \n9        all_closed_creds_sum_ly  3.131888e-150   0.000000e+00   0.000000e+00   \n10         mfo_cred_mean_sum_3lm  3.835027e-227   0.000000e+00   0.000000e+00   \n11            delay_more_sum_all   4.650841e-95  1.273630e-220  6.920509e-204   \n12           all_creds_count_all  9.599875e-170   0.000000e+00   0.000000e+00   \n13  cred_day_overdue_all_sum_all  7.043133e-152   0.000000e+00  4.873988e-290   \n14      cred_max_overdue_max_3lm   2.885031e-05   4.562170e-09   1.202917e-03   \n15           mfo_closed_count_ly  6.285441e-209   0.000000e+00   0.000000e+00   \n16       cred_sum_overdue_cc_all   1.667795e-20   9.968741e-60   2.715270e-21   \n17         count_overdue_all_3lm   3.856730e-09   9.784647e-12   1.773370e-03   \n18            all_creds_count_lm   0.000000e+00   0.000000e+00   0.000000e+00   \n19                  month_income  5.245283e-100  1.125089e-104   1.579173e-71   \n\n      levene-test  \n0    5.737413e-67  \n1    6.531564e-73  \n2    4.874250e-34  \n3    9.296626e-99  \n4    6.638624e-03  \n5    1.231085e-53  \n6   1.414125e-124  \n7   9.601327e-134  \n8    1.243509e-83  \n9   2.613128e-112  \n10   2.279474e-27  \n11   4.650841e-95  \n12   2.084725e-48  \n13  7.043133e-152  \n14   2.885031e-05  \n15  4.055585e-137  \n16   1.667795e-20  \n17   3.856730e-09  \n18  7.741253e-195  \n19   1.039707e-03  ",
      "text/html": "<div>\n<style scoped>\n    .dataframe tbody tr th:only-of-type {\n        vertical-align: middle;\n    }\n\n    .dataframe tbody tr th {\n        vertical-align: top;\n    }\n\n    .dataframe thead th {\n        text-align: right;\n    }\n</style>\n<table border=\"1\" class=\"dataframe\">\n  <thead>\n    <tr style=\"text-align: right;\">\n      <th></th>\n      <th>feature</th>\n      <th>t-test</th>\n      <th>u-test</th>\n      <th>ks-test</th>\n      <th>levene-test</th>\n    </tr>\n  </thead>\n  <tbody>\n    <tr>\n      <th>0</th>\n      <td>cred_sum_cc_all</td>\n      <td>5.285566e-93</td>\n      <td>1.833134e-189</td>\n      <td>7.023697e-173</td>\n      <td>5.737413e-67</td>\n    </tr>\n    <tr>\n      <th>1</th>\n      <td>mfo_inqs_count_month</td>\n      <td>2.415348e-133</td>\n      <td>2.738596e-203</td>\n      <td>3.672665e-178</td>\n      <td>6.531564e-73</td>\n    </tr>\n    <tr>\n      <th>2</th>\n      <td>all_closed_creds_sum_all</td>\n      <td>3.610970e-57</td>\n      <td>0.000000e+00</td>\n      <td>1.377200e-296</td>\n      <td>4.874250e-34</td>\n    </tr>\n    <tr>\n      <th>3</th>\n      <td>bank_inqs_count_quarter</td>\n      <td>0.000000e+00</td>\n      <td>0.000000e+00</td>\n      <td>0.000000e+00</td>\n      <td>9.296626e-99</td>\n    </tr>\n    <tr>\n      <th>4</th>\n      <td>cred_max_overdue_max_ly</td>\n      <td>6.638624e-03</td>\n      <td>3.215493e-05</td>\n      <td>3.522854e-05</td>\n      <td>6.638624e-03</td>\n    </tr>\n    <tr>\n      <th>5</th>\n      <td>all_active_creds_sum_all</td>\n      <td>1.571707e-72</td>\n      <td>0.000000e+00</td>\n      <td>0.000000e+00</td>\n      <td>1.231085e-53</td>\n    </tr>\n    <tr>\n      <th>6</th>\n      <td>mfo_last_days_all</td>\n      <td>4.663834e-125</td>\n      <td>0.000000e+00</td>\n      <td>0.000000e+00</td>\n      <td>1.414125e-124</td>\n    </tr>\n    <tr>\n      <th>7</th>\n      <td>cred_sum_cc_ly</td>\n      <td>9.601327e-134</td>\n      <td>1.457390e-229</td>\n      <td>4.045699e-174</td>\n      <td>9.601327e-134</td>\n    </tr>\n    <tr>\n      <th>8</th>\n      <td>cred_sum_debt_all_all</td>\n      <td>8.587301e-111</td>\n      <td>0.000000e+00</td>\n      <td>0.000000e+00</td>\n      <td>1.243509e-83</td>\n    </tr>\n    <tr>\n      <th>9</th>\n      <td>all_closed_creds_sum_ly</td>\n      <td>3.131888e-150</td>\n      <td>0.000000e+00</td>\n      <td>0.000000e+00</td>\n      <td>2.613128e-112</td>\n    </tr>\n    <tr>\n      <th>10</th>\n      <td>mfo_cred_mean_sum_3lm</td>\n      <td>3.835027e-227</td>\n      <td>0.000000e+00</td>\n      <td>0.000000e+00</td>\n      <td>2.279474e-27</td>\n    </tr>\n    <tr>\n      <th>11</th>\n      <td>delay_more_sum_all</td>\n      <td>4.650841e-95</td>\n      <td>1.273630e-220</td>\n      <td>6.920509e-204</td>\n      <td>4.650841e-95</td>\n    </tr>\n    <tr>\n      <th>12</th>\n      <td>all_creds_count_all</td>\n      <td>9.599875e-170</td>\n      <td>0.000000e+00</td>\n      <td>0.000000e+00</td>\n      <td>2.084725e-48</td>\n    </tr>\n    <tr>\n      <th>13</th>\n      <td>cred_day_overdue_all_sum_all</td>\n      <td>7.043133e-152</td>\n      <td>0.000000e+00</td>\n      <td>4.873988e-290</td>\n      <td>7.043133e-152</td>\n    </tr>\n    <tr>\n      <th>14</th>\n      <td>cred_max_overdue_max_3lm</td>\n      <td>2.885031e-05</td>\n      <td>4.562170e-09</td>\n      <td>1.202917e-03</td>\n      <td>2.885031e-05</td>\n    </tr>\n    <tr>\n      <th>15</th>\n      <td>mfo_closed_count_ly</td>\n      <td>6.285441e-209</td>\n      <td>0.000000e+00</td>\n      <td>0.000000e+00</td>\n      <td>4.055585e-137</td>\n    </tr>\n    <tr>\n      <th>16</th>\n      <td>cred_sum_overdue_cc_all</td>\n      <td>1.667795e-20</td>\n      <td>9.968741e-60</td>\n      <td>2.715270e-21</td>\n      <td>1.667795e-20</td>\n    </tr>\n    <tr>\n      <th>17</th>\n      <td>count_overdue_all_3lm</td>\n      <td>3.856730e-09</td>\n      <td>9.784647e-12</td>\n      <td>1.773370e-03</td>\n      <td>3.856730e-09</td>\n    </tr>\n    <tr>\n      <th>18</th>\n      <td>all_creds_count_lm</td>\n      <td>0.000000e+00</td>\n      <td>0.000000e+00</td>\n      <td>0.000000e+00</td>\n      <td>7.741253e-195</td>\n    </tr>\n    <tr>\n      <th>19</th>\n      <td>month_income</td>\n      <td>5.245283e-100</td>\n      <td>1.125089e-104</td>\n      <td>1.579173e-71</td>\n      <td>1.039707e-03</td>\n    </tr>\n  </tbody>\n</table>\n</div>"
     },
     "execution_count": 42,
     "metadata": {},
     "output_type": "execute_result"
    }
   ],
   "source": [
    "stats_df"
   ],
   "metadata": {
    "collapsed": false,
    "pycharm": {
     "name": "#%%\n"
    }
   }
  },
  {
   "cell_type": "code",
   "execution_count": 43,
   "outputs": [
    {
     "data": {
      "text/plain": "                         feature         t-test         u-test        ks-test  \\\n3        bank_inqs_count_quarter   0.000000e+00   0.000000e+00   0.000000e+00   \n18            all_creds_count_lm   0.000000e+00   0.000000e+00   0.000000e+00   \n10         mfo_cred_mean_sum_3lm  3.835027e-227   0.000000e+00   0.000000e+00   \n15           mfo_closed_count_ly  6.285441e-209   0.000000e+00   0.000000e+00   \n12           all_creds_count_all  9.599875e-170   0.000000e+00   0.000000e+00   \n13  cred_day_overdue_all_sum_all  7.043133e-152   0.000000e+00  4.873988e-290   \n9        all_closed_creds_sum_ly  3.131888e-150   0.000000e+00   0.000000e+00   \n7                 cred_sum_cc_ly  9.601327e-134  1.457390e-229  4.045699e-174   \n1           mfo_inqs_count_month  2.415348e-133  2.738596e-203  3.672665e-178   \n6              mfo_last_days_all  4.663834e-125   0.000000e+00   0.000000e+00   \n\n      levene-test  \n3    9.296626e-99  \n18  7.741253e-195  \n10   2.279474e-27  \n15  4.055585e-137  \n12   2.084725e-48  \n13  7.043133e-152  \n9   2.613128e-112  \n7   9.601327e-134  \n1    6.531564e-73  \n6   1.414125e-124  ",
      "text/html": "<div>\n<style scoped>\n    .dataframe tbody tr th:only-of-type {\n        vertical-align: middle;\n    }\n\n    .dataframe tbody tr th {\n        vertical-align: top;\n    }\n\n    .dataframe thead th {\n        text-align: right;\n    }\n</style>\n<table border=\"1\" class=\"dataframe\">\n  <thead>\n    <tr style=\"text-align: right;\">\n      <th></th>\n      <th>feature</th>\n      <th>t-test</th>\n      <th>u-test</th>\n      <th>ks-test</th>\n      <th>levene-test</th>\n    </tr>\n  </thead>\n  <tbody>\n    <tr>\n      <th>3</th>\n      <td>bank_inqs_count_quarter</td>\n      <td>0.000000e+00</td>\n      <td>0.000000e+00</td>\n      <td>0.000000e+00</td>\n      <td>9.296626e-99</td>\n    </tr>\n    <tr>\n      <th>18</th>\n      <td>all_creds_count_lm</td>\n      <td>0.000000e+00</td>\n      <td>0.000000e+00</td>\n      <td>0.000000e+00</td>\n      <td>7.741253e-195</td>\n    </tr>\n    <tr>\n      <th>10</th>\n      <td>mfo_cred_mean_sum_3lm</td>\n      <td>3.835027e-227</td>\n      <td>0.000000e+00</td>\n      <td>0.000000e+00</td>\n      <td>2.279474e-27</td>\n    </tr>\n    <tr>\n      <th>15</th>\n      <td>mfo_closed_count_ly</td>\n      <td>6.285441e-209</td>\n      <td>0.000000e+00</td>\n      <td>0.000000e+00</td>\n      <td>4.055585e-137</td>\n    </tr>\n    <tr>\n      <th>12</th>\n      <td>all_creds_count_all</td>\n      <td>9.599875e-170</td>\n      <td>0.000000e+00</td>\n      <td>0.000000e+00</td>\n      <td>2.084725e-48</td>\n    </tr>\n    <tr>\n      <th>13</th>\n      <td>cred_day_overdue_all_sum_all</td>\n      <td>7.043133e-152</td>\n      <td>0.000000e+00</td>\n      <td>4.873988e-290</td>\n      <td>7.043133e-152</td>\n    </tr>\n    <tr>\n      <th>9</th>\n      <td>all_closed_creds_sum_ly</td>\n      <td>3.131888e-150</td>\n      <td>0.000000e+00</td>\n      <td>0.000000e+00</td>\n      <td>2.613128e-112</td>\n    </tr>\n    <tr>\n      <th>7</th>\n      <td>cred_sum_cc_ly</td>\n      <td>9.601327e-134</td>\n      <td>1.457390e-229</td>\n      <td>4.045699e-174</td>\n      <td>9.601327e-134</td>\n    </tr>\n    <tr>\n      <th>1</th>\n      <td>mfo_inqs_count_month</td>\n      <td>2.415348e-133</td>\n      <td>2.738596e-203</td>\n      <td>3.672665e-178</td>\n      <td>6.531564e-73</td>\n    </tr>\n    <tr>\n      <th>6</th>\n      <td>mfo_last_days_all</td>\n      <td>4.663834e-125</td>\n      <td>0.000000e+00</td>\n      <td>0.000000e+00</td>\n      <td>1.414125e-124</td>\n    </tr>\n  </tbody>\n</table>\n</div>"
     },
     "execution_count": 43,
     "metadata": {},
     "output_type": "execute_result"
    }
   ],
   "source": [
    "stats_df.sort_values(by='t-test')[:10]"
   ],
   "metadata": {
    "collapsed": false,
    "pycharm": {
     "name": "#%%\n"
    }
   }
  },
  {
   "cell_type": "code",
   "execution_count": 44,
   "outputs": [
    {
     "data": {
      "text/plain": "                         feature         t-test         u-test        ks-test  \\\n9        all_closed_creds_sum_ly  3.131888e-150   0.000000e+00   0.000000e+00   \n2       all_closed_creds_sum_all   3.610970e-57   0.000000e+00  1.377200e-296   \n3        bank_inqs_count_quarter   0.000000e+00   0.000000e+00   0.000000e+00   \n15           mfo_closed_count_ly  6.285441e-209   0.000000e+00   0.000000e+00   \n5       all_active_creds_sum_all   1.571707e-72   0.000000e+00   0.000000e+00   \n6              mfo_last_days_all  4.663834e-125   0.000000e+00   0.000000e+00   \n8          cred_sum_debt_all_all  8.587301e-111   0.000000e+00   0.000000e+00   \n18            all_creds_count_lm   0.000000e+00   0.000000e+00   0.000000e+00   \n10         mfo_cred_mean_sum_3lm  3.835027e-227   0.000000e+00   0.000000e+00   \n12           all_creds_count_all  9.599875e-170   0.000000e+00   0.000000e+00   \n13  cred_day_overdue_all_sum_all  7.043133e-152   0.000000e+00  4.873988e-290   \n7                 cred_sum_cc_ly  9.601327e-134  1.457390e-229  4.045699e-174   \n11            delay_more_sum_all   4.650841e-95  1.273630e-220  6.920509e-204   \n1           mfo_inqs_count_month  2.415348e-133  2.738596e-203  3.672665e-178   \n0                cred_sum_cc_all   5.285566e-93  1.833134e-189  7.023697e-173   \n\n      levene-test  \n9   2.613128e-112  \n2    4.874250e-34  \n3    9.296626e-99  \n15  4.055585e-137  \n5    1.231085e-53  \n6   1.414125e-124  \n8    1.243509e-83  \n18  7.741253e-195  \n10   2.279474e-27  \n12   2.084725e-48  \n13  7.043133e-152  \n7   9.601327e-134  \n11   4.650841e-95  \n1    6.531564e-73  \n0    5.737413e-67  ",
      "text/html": "<div>\n<style scoped>\n    .dataframe tbody tr th:only-of-type {\n        vertical-align: middle;\n    }\n\n    .dataframe tbody tr th {\n        vertical-align: top;\n    }\n\n    .dataframe thead th {\n        text-align: right;\n    }\n</style>\n<table border=\"1\" class=\"dataframe\">\n  <thead>\n    <tr style=\"text-align: right;\">\n      <th></th>\n      <th>feature</th>\n      <th>t-test</th>\n      <th>u-test</th>\n      <th>ks-test</th>\n      <th>levene-test</th>\n    </tr>\n  </thead>\n  <tbody>\n    <tr>\n      <th>9</th>\n      <td>all_closed_creds_sum_ly</td>\n      <td>3.131888e-150</td>\n      <td>0.000000e+00</td>\n      <td>0.000000e+00</td>\n      <td>2.613128e-112</td>\n    </tr>\n    <tr>\n      <th>2</th>\n      <td>all_closed_creds_sum_all</td>\n      <td>3.610970e-57</td>\n      <td>0.000000e+00</td>\n      <td>1.377200e-296</td>\n      <td>4.874250e-34</td>\n    </tr>\n    <tr>\n      <th>3</th>\n      <td>bank_inqs_count_quarter</td>\n      <td>0.000000e+00</td>\n      <td>0.000000e+00</td>\n      <td>0.000000e+00</td>\n      <td>9.296626e-99</td>\n    </tr>\n    <tr>\n      <th>15</th>\n      <td>mfo_closed_count_ly</td>\n      <td>6.285441e-209</td>\n      <td>0.000000e+00</td>\n      <td>0.000000e+00</td>\n      <td>4.055585e-137</td>\n    </tr>\n    <tr>\n      <th>5</th>\n      <td>all_active_creds_sum_all</td>\n      <td>1.571707e-72</td>\n      <td>0.000000e+00</td>\n      <td>0.000000e+00</td>\n      <td>1.231085e-53</td>\n    </tr>\n    <tr>\n      <th>6</th>\n      <td>mfo_last_days_all</td>\n      <td>4.663834e-125</td>\n      <td>0.000000e+00</td>\n      <td>0.000000e+00</td>\n      <td>1.414125e-124</td>\n    </tr>\n    <tr>\n      <th>8</th>\n      <td>cred_sum_debt_all_all</td>\n      <td>8.587301e-111</td>\n      <td>0.000000e+00</td>\n      <td>0.000000e+00</td>\n      <td>1.243509e-83</td>\n    </tr>\n    <tr>\n      <th>18</th>\n      <td>all_creds_count_lm</td>\n      <td>0.000000e+00</td>\n      <td>0.000000e+00</td>\n      <td>0.000000e+00</td>\n      <td>7.741253e-195</td>\n    </tr>\n    <tr>\n      <th>10</th>\n      <td>mfo_cred_mean_sum_3lm</td>\n      <td>3.835027e-227</td>\n      <td>0.000000e+00</td>\n      <td>0.000000e+00</td>\n      <td>2.279474e-27</td>\n    </tr>\n    <tr>\n      <th>12</th>\n      <td>all_creds_count_all</td>\n      <td>9.599875e-170</td>\n      <td>0.000000e+00</td>\n      <td>0.000000e+00</td>\n      <td>2.084725e-48</td>\n    </tr>\n    <tr>\n      <th>13</th>\n      <td>cred_day_overdue_all_sum_all</td>\n      <td>7.043133e-152</td>\n      <td>0.000000e+00</td>\n      <td>4.873988e-290</td>\n      <td>7.043133e-152</td>\n    </tr>\n    <tr>\n      <th>7</th>\n      <td>cred_sum_cc_ly</td>\n      <td>9.601327e-134</td>\n      <td>1.457390e-229</td>\n      <td>4.045699e-174</td>\n      <td>9.601327e-134</td>\n    </tr>\n    <tr>\n      <th>11</th>\n      <td>delay_more_sum_all</td>\n      <td>4.650841e-95</td>\n      <td>1.273630e-220</td>\n      <td>6.920509e-204</td>\n      <td>4.650841e-95</td>\n    </tr>\n    <tr>\n      <th>1</th>\n      <td>mfo_inqs_count_month</td>\n      <td>2.415348e-133</td>\n      <td>2.738596e-203</td>\n      <td>3.672665e-178</td>\n      <td>6.531564e-73</td>\n    </tr>\n    <tr>\n      <th>0</th>\n      <td>cred_sum_cc_all</td>\n      <td>5.285566e-93</td>\n      <td>1.833134e-189</td>\n      <td>7.023697e-173</td>\n      <td>5.737413e-67</td>\n    </tr>\n  </tbody>\n</table>\n</div>"
     },
     "execution_count": 44,
     "metadata": {},
     "output_type": "execute_result"
    }
   ],
   "source": [
    "stats_df.sort_values(by='u-test')[:15]"
   ],
   "metadata": {
    "collapsed": false,
    "pycharm": {
     "name": "#%%\n"
    }
   }
  },
  {
   "cell_type": "code",
   "execution_count": 45,
   "outputs": [
    {
     "data": {
      "text/plain": "                         feature         t-test         u-test        ks-test  \\\n9        all_closed_creds_sum_ly  3.131888e-150   0.000000e+00   0.000000e+00   \n3        bank_inqs_count_quarter   0.000000e+00   0.000000e+00   0.000000e+00   \n15           mfo_closed_count_ly  6.285441e-209   0.000000e+00   0.000000e+00   \n5       all_active_creds_sum_all   1.571707e-72   0.000000e+00   0.000000e+00   \n6              mfo_last_days_all  4.663834e-125   0.000000e+00   0.000000e+00   \n8          cred_sum_debt_all_all  8.587301e-111   0.000000e+00   0.000000e+00   \n18            all_creds_count_lm   0.000000e+00   0.000000e+00   0.000000e+00   \n10         mfo_cred_mean_sum_3lm  3.835027e-227   0.000000e+00   0.000000e+00   \n12           all_creds_count_all  9.599875e-170   0.000000e+00   0.000000e+00   \n2       all_closed_creds_sum_all   3.610970e-57   0.000000e+00  1.377200e-296   \n13  cred_day_overdue_all_sum_all  7.043133e-152   0.000000e+00  4.873988e-290   \n11            delay_more_sum_all   4.650841e-95  1.273630e-220  6.920509e-204   \n1           mfo_inqs_count_month  2.415348e-133  2.738596e-203  3.672665e-178   \n7                 cred_sum_cc_ly  9.601327e-134  1.457390e-229  4.045699e-174   \n0                cred_sum_cc_all   5.285566e-93  1.833134e-189  7.023697e-173   \n\n      levene-test  \n9   2.613128e-112  \n3    9.296626e-99  \n15  4.055585e-137  \n5    1.231085e-53  \n6   1.414125e-124  \n8    1.243509e-83  \n18  7.741253e-195  \n10   2.279474e-27  \n12   2.084725e-48  \n2    4.874250e-34  \n13  7.043133e-152  \n11   4.650841e-95  \n1    6.531564e-73  \n7   9.601327e-134  \n0    5.737413e-67  ",
      "text/html": "<div>\n<style scoped>\n    .dataframe tbody tr th:only-of-type {\n        vertical-align: middle;\n    }\n\n    .dataframe tbody tr th {\n        vertical-align: top;\n    }\n\n    .dataframe thead th {\n        text-align: right;\n    }\n</style>\n<table border=\"1\" class=\"dataframe\">\n  <thead>\n    <tr style=\"text-align: right;\">\n      <th></th>\n      <th>feature</th>\n      <th>t-test</th>\n      <th>u-test</th>\n      <th>ks-test</th>\n      <th>levene-test</th>\n    </tr>\n  </thead>\n  <tbody>\n    <tr>\n      <th>9</th>\n      <td>all_closed_creds_sum_ly</td>\n      <td>3.131888e-150</td>\n      <td>0.000000e+00</td>\n      <td>0.000000e+00</td>\n      <td>2.613128e-112</td>\n    </tr>\n    <tr>\n      <th>3</th>\n      <td>bank_inqs_count_quarter</td>\n      <td>0.000000e+00</td>\n      <td>0.000000e+00</td>\n      <td>0.000000e+00</td>\n      <td>9.296626e-99</td>\n    </tr>\n    <tr>\n      <th>15</th>\n      <td>mfo_closed_count_ly</td>\n      <td>6.285441e-209</td>\n      <td>0.000000e+00</td>\n      <td>0.000000e+00</td>\n      <td>4.055585e-137</td>\n    </tr>\n    <tr>\n      <th>5</th>\n      <td>all_active_creds_sum_all</td>\n      <td>1.571707e-72</td>\n      <td>0.000000e+00</td>\n      <td>0.000000e+00</td>\n      <td>1.231085e-53</td>\n    </tr>\n    <tr>\n      <th>6</th>\n      <td>mfo_last_days_all</td>\n      <td>4.663834e-125</td>\n      <td>0.000000e+00</td>\n      <td>0.000000e+00</td>\n      <td>1.414125e-124</td>\n    </tr>\n    <tr>\n      <th>8</th>\n      <td>cred_sum_debt_all_all</td>\n      <td>8.587301e-111</td>\n      <td>0.000000e+00</td>\n      <td>0.000000e+00</td>\n      <td>1.243509e-83</td>\n    </tr>\n    <tr>\n      <th>18</th>\n      <td>all_creds_count_lm</td>\n      <td>0.000000e+00</td>\n      <td>0.000000e+00</td>\n      <td>0.000000e+00</td>\n      <td>7.741253e-195</td>\n    </tr>\n    <tr>\n      <th>10</th>\n      <td>mfo_cred_mean_sum_3lm</td>\n      <td>3.835027e-227</td>\n      <td>0.000000e+00</td>\n      <td>0.000000e+00</td>\n      <td>2.279474e-27</td>\n    </tr>\n    <tr>\n      <th>12</th>\n      <td>all_creds_count_all</td>\n      <td>9.599875e-170</td>\n      <td>0.000000e+00</td>\n      <td>0.000000e+00</td>\n      <td>2.084725e-48</td>\n    </tr>\n    <tr>\n      <th>2</th>\n      <td>all_closed_creds_sum_all</td>\n      <td>3.610970e-57</td>\n      <td>0.000000e+00</td>\n      <td>1.377200e-296</td>\n      <td>4.874250e-34</td>\n    </tr>\n    <tr>\n      <th>13</th>\n      <td>cred_day_overdue_all_sum_all</td>\n      <td>7.043133e-152</td>\n      <td>0.000000e+00</td>\n      <td>4.873988e-290</td>\n      <td>7.043133e-152</td>\n    </tr>\n    <tr>\n      <th>11</th>\n      <td>delay_more_sum_all</td>\n      <td>4.650841e-95</td>\n      <td>1.273630e-220</td>\n      <td>6.920509e-204</td>\n      <td>4.650841e-95</td>\n    </tr>\n    <tr>\n      <th>1</th>\n      <td>mfo_inqs_count_month</td>\n      <td>2.415348e-133</td>\n      <td>2.738596e-203</td>\n      <td>3.672665e-178</td>\n      <td>6.531564e-73</td>\n    </tr>\n    <tr>\n      <th>7</th>\n      <td>cred_sum_cc_ly</td>\n      <td>9.601327e-134</td>\n      <td>1.457390e-229</td>\n      <td>4.045699e-174</td>\n      <td>9.601327e-134</td>\n    </tr>\n    <tr>\n      <th>0</th>\n      <td>cred_sum_cc_all</td>\n      <td>5.285566e-93</td>\n      <td>1.833134e-189</td>\n      <td>7.023697e-173</td>\n      <td>5.737413e-67</td>\n    </tr>\n  </tbody>\n</table>\n</div>"
     },
     "execution_count": 45,
     "metadata": {},
     "output_type": "execute_result"
    }
   ],
   "source": [
    "stats_df.sort_values(by='ks-test')[:15]"
   ],
   "metadata": {
    "collapsed": false,
    "pycharm": {
     "name": "#%%\n"
    }
   }
  },
  {
   "cell_type": "code",
   "execution_count": 46,
   "outputs": [
    {
     "data": {
      "text/plain": "                         feature         t-test         u-test        ks-test  \\\n18            all_creds_count_lm   0.000000e+00   0.000000e+00   0.000000e+00   \n13  cred_day_overdue_all_sum_all  7.043133e-152   0.000000e+00  4.873988e-290   \n15           mfo_closed_count_ly  6.285441e-209   0.000000e+00   0.000000e+00   \n7                 cred_sum_cc_ly  9.601327e-134  1.457390e-229  4.045699e-174   \n6              mfo_last_days_all  4.663834e-125   0.000000e+00   0.000000e+00   \n9        all_closed_creds_sum_ly  3.131888e-150   0.000000e+00   0.000000e+00   \n3        bank_inqs_count_quarter   0.000000e+00   0.000000e+00   0.000000e+00   \n11            delay_more_sum_all   4.650841e-95  1.273630e-220  6.920509e-204   \n8          cred_sum_debt_all_all  8.587301e-111   0.000000e+00   0.000000e+00   \n1           mfo_inqs_count_month  2.415348e-133  2.738596e-203  3.672665e-178   \n\n      levene-test  \n18  7.741253e-195  \n13  7.043133e-152  \n15  4.055585e-137  \n7   9.601327e-134  \n6   1.414125e-124  \n9   2.613128e-112  \n3    9.296626e-99  \n11   4.650841e-95  \n8    1.243509e-83  \n1    6.531564e-73  ",
      "text/html": "<div>\n<style scoped>\n    .dataframe tbody tr th:only-of-type {\n        vertical-align: middle;\n    }\n\n    .dataframe tbody tr th {\n        vertical-align: top;\n    }\n\n    .dataframe thead th {\n        text-align: right;\n    }\n</style>\n<table border=\"1\" class=\"dataframe\">\n  <thead>\n    <tr style=\"text-align: right;\">\n      <th></th>\n      <th>feature</th>\n      <th>t-test</th>\n      <th>u-test</th>\n      <th>ks-test</th>\n      <th>levene-test</th>\n    </tr>\n  </thead>\n  <tbody>\n    <tr>\n      <th>18</th>\n      <td>all_creds_count_lm</td>\n      <td>0.000000e+00</td>\n      <td>0.000000e+00</td>\n      <td>0.000000e+00</td>\n      <td>7.741253e-195</td>\n    </tr>\n    <tr>\n      <th>13</th>\n      <td>cred_day_overdue_all_sum_all</td>\n      <td>7.043133e-152</td>\n      <td>0.000000e+00</td>\n      <td>4.873988e-290</td>\n      <td>7.043133e-152</td>\n    </tr>\n    <tr>\n      <th>15</th>\n      <td>mfo_closed_count_ly</td>\n      <td>6.285441e-209</td>\n      <td>0.000000e+00</td>\n      <td>0.000000e+00</td>\n      <td>4.055585e-137</td>\n    </tr>\n    <tr>\n      <th>7</th>\n      <td>cred_sum_cc_ly</td>\n      <td>9.601327e-134</td>\n      <td>1.457390e-229</td>\n      <td>4.045699e-174</td>\n      <td>9.601327e-134</td>\n    </tr>\n    <tr>\n      <th>6</th>\n      <td>mfo_last_days_all</td>\n      <td>4.663834e-125</td>\n      <td>0.000000e+00</td>\n      <td>0.000000e+00</td>\n      <td>1.414125e-124</td>\n    </tr>\n    <tr>\n      <th>9</th>\n      <td>all_closed_creds_sum_ly</td>\n      <td>3.131888e-150</td>\n      <td>0.000000e+00</td>\n      <td>0.000000e+00</td>\n      <td>2.613128e-112</td>\n    </tr>\n    <tr>\n      <th>3</th>\n      <td>bank_inqs_count_quarter</td>\n      <td>0.000000e+00</td>\n      <td>0.000000e+00</td>\n      <td>0.000000e+00</td>\n      <td>9.296626e-99</td>\n    </tr>\n    <tr>\n      <th>11</th>\n      <td>delay_more_sum_all</td>\n      <td>4.650841e-95</td>\n      <td>1.273630e-220</td>\n      <td>6.920509e-204</td>\n      <td>4.650841e-95</td>\n    </tr>\n    <tr>\n      <th>8</th>\n      <td>cred_sum_debt_all_all</td>\n      <td>8.587301e-111</td>\n      <td>0.000000e+00</td>\n      <td>0.000000e+00</td>\n      <td>1.243509e-83</td>\n    </tr>\n    <tr>\n      <th>1</th>\n      <td>mfo_inqs_count_month</td>\n      <td>2.415348e-133</td>\n      <td>2.738596e-203</td>\n      <td>3.672665e-178</td>\n      <td>6.531564e-73</td>\n    </tr>\n  </tbody>\n</table>\n</div>"
     },
     "execution_count": 46,
     "metadata": {},
     "output_type": "execute_result"
    }
   ],
   "source": [
    "stats_df.sort_values(by='levene-test')[:10]"
   ],
   "metadata": {
    "collapsed": false,
    "pycharm": {
     "name": "#%%\n"
    }
   }
  },
  {
   "cell_type": "markdown",
   "source": [
    "Судя по нашей сводной таблице наименьшими значениями p-value обладают:\n",
    "- `all_creds_count_lm`\n",
    "- `bank_inqs_count_quarter`\n",
    "- `all_closed_creds_sum_ly`\n",
    "- `mfo_closed_count_ly`\n",
    "- `mfo_last_days_all`\n",
    "- `mfo_cred_mean_sum_3lm`\n",
    "- `all_creds_count_all`"
   ],
   "metadata": {
    "collapsed": false,
    "pycharm": {
     "name": "#%% md\n"
    }
   }
  },
  {
   "cell_type": "code",
   "execution_count": 105,
   "outputs": [
    {
     "data": {
      "text/plain": "<Figure size 1440x576 with 2 Axes>",
      "image/png": "[encoded data removed]"
     },
     "metadata": {
      "needs_background": "light"
     },
     "output_type": "display_data"
    }
   ],
   "source": [
    "f, axs = plt.subplots(1, 2, figsize=(20, 8))\n",
    "f.suptitle('Количество кредитов, взятых за месяц')\n",
    "sns.boxplot(data=train_df, x='all_creds_count_lm', orient=\"h\", ax=axs[0])\n",
    "sns.boxplot(data=train_df.loc[train_df['approved'] == 1], x='all_creds_count_lm', orient=\"h\", color=\"orange\", ax=axs[1])\n",
    "axs[0].set_title('По всей выборке')\n",
    "axs[1].set_title('Среди тех, кому выдали кредит')\n",
    "axs[0].set(xlim=(-1, 30))\n",
    "axs[1].set(xlim=(-1, 30))\n",
    "plt.show();"
   ],
   "metadata": {
    "collapsed": false,
    "pycharm": {
     "name": "#%%\n"
    }
   }
  },
  {
   "cell_type": "code",
   "execution_count": 122,
   "outputs": [
    {
     "data": {
      "text/plain": "<Figure size 1440x576 with 2 Axes>",
      "image/png": "[encoded data removed]"
     },
     "metadata": {
      "needs_background": "light"
     },
     "output_type": "display_data"
    }
   ],
   "source": [
    "f, axs = plt.subplots(1, 2, figsize=(20, 8))\n",
    "f.suptitle('Общее кол-во кредитов')\n",
    "sns.boxplot(data=train_df, x='all_creds_count_all', orient=\"h\", ax=axs[0])\n",
    "sns.boxplot(data=train_df.loc[train_df['approved'] == 1], x='all_creds_count_all', orient=\"h\", color=\"orange\", ax=axs[1])\n",
    "axs[0].set_title('По всей выборке')\n",
    "axs[1].set_title('Среди тех, кому выдали кредит')\n",
    "axs[0].set(xlim=(-10, 250))\n",
    "axs[1].set(xlim=(-10, 250))\n",
    "plt.show();"
   ],
   "metadata": {
    "collapsed": false,
    "pycharm": {
     "name": "#%%\n"
    }
   }
  },
  {
   "cell_type": "code",
   "execution_count": 136,
   "outputs": [
    {
     "data": {
      "text/plain": "<Figure size 1440x576 with 2 Axes>",
      "image/png": "[encoded data removed]"
     },
     "metadata": {
      "needs_background": "light"
     },
     "output_type": "display_data"
    }
   ],
   "source": [
    "f, axs = plt.subplots(1, 2, figsize=(20, 8))\n",
    "f.suptitle('Сумма закрытых кредитов за последний год')\n",
    "sns.boxplot(data=train_df, x='all_closed_creds_sum_ly', orient=\"h\", ax=axs[0])\n",
    "sns.boxplot(data=train_df.loc[train_df['approved'] == 1], x='all_closed_creds_sum_ly', orient=\"h\", color=\"orange\", ax=axs[1])\n",
    "axs[0].set_title('По всей выборке')\n",
    "axs[1].set_title('Среди тех, кому выдали кредит')\n",
    "axs[0].set(xlim=(-3e4, 5e5))\n",
    "axs[1].set(xlim=(-3e4, 5e5))\n",
    "plt.show();"
   ],
   "metadata": {
    "collapsed": false,
    "pycharm": {
     "name": "#%%\n"
    }
   }
  },
  {
   "cell_type": "code",
   "execution_count": 139,
   "outputs": [
    {
     "data": {
      "text/plain": "<Figure size 1440x576 with 2 Axes>",
      "image/png": "[encoded data removed]"
     },
     "metadata": {
      "needs_background": "light"
     },
     "output_type": "display_data"
    }
   ],
   "source": [
    "f, axs = plt.subplots(1, 2, figsize=(20, 8))\n",
    "f.suptitle('Количество запросов на кредиты в банки')\n",
    "sns.boxplot(data=train_df, x='bank_inqs_count_quarter', orient=\"h\", ax=axs[0])\n",
    "sns.boxplot(data=train_df.loc[train_df['approved'] == 1], x='bank_inqs_count_quarter', orient=\"h\", color=\"orange\", ax=axs[1])\n",
    "axs[0].set_title('По всей выборке')\n",
    "axs[1].set_title('Среди тех, кому выдали кредит')\n",
    "axs[0].set(xlim=(-3, 55))\n",
    "axs[1].set(xlim=(-3, 55))\n",
    "plt.show();"
   ],
   "metadata": {
    "collapsed": false,
    "pycharm": {
     "name": "#%%\n"
    }
   }
  },
  {
   "cell_type": "code",
   "execution_count": 143,
   "outputs": [
    {
     "data": {
      "text/plain": "<Figure size 1440x576 with 2 Axes>",
      "image/png": "[encoded data removed]"
     },
     "metadata": {
      "needs_background": "light"
     },
     "output_type": "display_data"
    }
   ],
   "source": [
    "f, axs = plt.subplots(1, 2, figsize=(20, 8))\n",
    "f.suptitle('Количество закрытых МФО кредитов, взятых за последний год')\n",
    "sns.boxplot(data=train_df, x='mfo_closed_count_ly', orient=\"h\", ax=axs[0])\n",
    "sns.boxplot(data=train_df.loc[train_df['approved'] == 1], x='mfo_closed_count_ly', orient=\"h\", color=\"orange\", ax=axs[1])\n",
    "axs[0].set_title('По всей выборке')\n",
    "axs[1].set_title('Среди тех, кому выдали кредит')\n",
    "axs[0].set(xlim=(-10, 125))\n",
    "axs[1].set(xlim=(-10, 125))\n",
    "plt.show();"
   ],
   "metadata": {
    "collapsed": false,
    "pycharm": {
     "name": "#%%\n"
    }
   }
  },
  {
   "cell_type": "code",
   "execution_count": 147,
   "outputs": [
    {
     "data": {
      "text/plain": "<Figure size 1440x576 with 2 Axes>",
      "image/png": "[encoded data removed]"
     },
     "metadata": {
      "needs_background": "light"
     },
     "output_type": "display_data"
    }
   ],
   "source": [
    "f, axs = plt.subplots(1, 2, figsize=(20, 8))\n",
    "f.suptitle('Количество дней с последнего займа в МФО')\n",
    "sns.boxplot(data=train_df, x='mfo_last_days_all', orient=\"h\", ax=axs[0])\n",
    "sns.boxplot(data=train_df.loc[train_df['approved'] == 1], x='mfo_last_days_all', orient=\"h\", color=\"orange\", ax=axs[1])\n",
    "axs[0].set_title('По всей выборке')\n",
    "axs[1].set_title('Среди тех, кому выдали кредит')\n",
    "# axs[0].set(xlim=(-10, 125))\n",
    "# axs[1].set(xlim=(-10, 125))\n",
    "plt.show();"
   ],
   "metadata": {
    "collapsed": false,
    "pycharm": {
     "name": "#%%\n"
    }
   }
  },
  {
   "cell_type": "code",
   "execution_count": 150,
   "outputs": [
    {
     "data": {
      "text/plain": "<Figure size 1440x576 with 2 Axes>",
      "image/png": "[encoded data removed]"
     },
     "metadata": {
      "needs_background": "light"
     },
     "output_type": "display_data"
    }
   ],
   "source": [
    "f, axs = plt.subplots(1, 2, figsize=(20, 8))\n",
    "f.suptitle('Средняя сумма МФО кредитов, выданных за последние 3 месяца')\n",
    "sns.boxplot(data=train_df, x='mfo_cred_mean_sum_3lm', orient=\"h\", ax=axs[0])\n",
    "sns.boxplot(data=train_df.loc[train_df['approved'] == 1], x='mfo_cred_mean_sum_3lm', orient=\"h\", color=\"orange\", ax=axs[1])\n",
    "axs[0].set_title('По всей выборке')\n",
    "axs[1].set_title('Среди тех, кому выдали кредит')\n",
    "axs[0].set(xlim=(-1e3, 5e4))\n",
    "axs[1].set(xlim=(-1e3, 5e4))\n",
    "plt.show();"
   ],
   "metadata": {
    "collapsed": false,
    "pycharm": {
     "name": "#%%\n"
    }
   }
  },
  {
   "cell_type": "code",
   "execution_count": 50,
   "outputs": [
    {
     "data": {
      "text/plain": "                     feature        t-test        u-test        ks-test  \\\n4    cred_max_overdue_max_ly  6.638624e-03  3.215493e-05   3.522854e-05   \n14  cred_max_overdue_max_3lm  2.885031e-05  4.562170e-09   1.202917e-03   \n17     count_overdue_all_3lm  3.856730e-09  9.784647e-12   1.773370e-03   \n16   cred_sum_overdue_cc_all  1.667795e-20  9.968741e-60   2.715270e-21   \n2   all_closed_creds_sum_all  3.610970e-57  0.000000e+00  1.377200e-296   \n\n     levene-test  \n4   6.638624e-03  \n14  2.885031e-05  \n17  3.856730e-09  \n16  1.667795e-20  \n2   4.874250e-34  ",
      "text/html": "<div>\n<style scoped>\n    .dataframe tbody tr th:only-of-type {\n        vertical-align: middle;\n    }\n\n    .dataframe tbody tr th {\n        vertical-align: top;\n    }\n\n    .dataframe thead th {\n        text-align: right;\n    }\n</style>\n<table border=\"1\" class=\"dataframe\">\n  <thead>\n    <tr style=\"text-align: right;\">\n      <th></th>\n      <th>feature</th>\n      <th>t-test</th>\n      <th>u-test</th>\n      <th>ks-test</th>\n      <th>levene-test</th>\n    </tr>\n  </thead>\n  <tbody>\n    <tr>\n      <th>4</th>\n      <td>cred_max_overdue_max_ly</td>\n      <td>6.638624e-03</td>\n      <td>3.215493e-05</td>\n      <td>3.522854e-05</td>\n      <td>6.638624e-03</td>\n    </tr>\n    <tr>\n      <th>14</th>\n      <td>cred_max_overdue_max_3lm</td>\n      <td>2.885031e-05</td>\n      <td>4.562170e-09</td>\n      <td>1.202917e-03</td>\n      <td>2.885031e-05</td>\n    </tr>\n    <tr>\n      <th>17</th>\n      <td>count_overdue_all_3lm</td>\n      <td>3.856730e-09</td>\n      <td>9.784647e-12</td>\n      <td>1.773370e-03</td>\n      <td>3.856730e-09</td>\n    </tr>\n    <tr>\n      <th>16</th>\n      <td>cred_sum_overdue_cc_all</td>\n      <td>1.667795e-20</td>\n      <td>9.968741e-60</td>\n      <td>2.715270e-21</td>\n      <td>1.667795e-20</td>\n    </tr>\n    <tr>\n      <th>2</th>\n      <td>all_closed_creds_sum_all</td>\n      <td>3.610970e-57</td>\n      <td>0.000000e+00</td>\n      <td>1.377200e-296</td>\n      <td>4.874250e-34</td>\n    </tr>\n  </tbody>\n</table>\n</div>"
     },
     "execution_count": 50,
     "metadata": {},
     "output_type": "execute_result"
    }
   ],
   "source": [
    "stats_df.sort_values(by='t-test', ascending=False)[:5]"
   ],
   "metadata": {
    "collapsed": false,
    "pycharm": {
     "name": "#%%\n"
    }
   }
  },
  {
   "cell_type": "code",
   "execution_count": 51,
   "outputs": [
    {
     "data": {
      "text/plain": "                     feature         t-test         u-test       ks-test  \\\n4    cred_max_overdue_max_ly   6.638624e-03   3.215493e-05  3.522854e-05   \n14  cred_max_overdue_max_3lm   2.885031e-05   4.562170e-09  1.202917e-03   \n17     count_overdue_all_3lm   3.856730e-09   9.784647e-12  1.773370e-03   \n16   cred_sum_overdue_cc_all   1.667795e-20   9.968741e-60  2.715270e-21   \n19              month_income  5.245283e-100  1.125089e-104  1.579173e-71   \n\n     levene-test  \n4   6.638624e-03  \n14  2.885031e-05  \n17  3.856730e-09  \n16  1.667795e-20  \n19  1.039707e-03  ",
      "text/html": "<div>\n<style scoped>\n    .dataframe tbody tr th:only-of-type {\n        vertical-align: middle;\n    }\n\n    .dataframe tbody tr th {\n        vertical-align: top;\n    }\n\n    .dataframe thead th {\n        text-align: right;\n    }\n</style>\n<table border=\"1\" class=\"dataframe\">\n  <thead>\n    <tr style=\"text-align: right;\">\n      <th></th>\n      <th>feature</th>\n      <th>t-test</th>\n      <th>u-test</th>\n      <th>ks-test</th>\n      <th>levene-test</th>\n    </tr>\n  </thead>\n  <tbody>\n    <tr>\n      <th>4</th>\n      <td>cred_max_overdue_max_ly</td>\n      <td>6.638624e-03</td>\n      <td>3.215493e-05</td>\n      <td>3.522854e-05</td>\n      <td>6.638624e-03</td>\n    </tr>\n    <tr>\n      <th>14</th>\n      <td>cred_max_overdue_max_3lm</td>\n      <td>2.885031e-05</td>\n      <td>4.562170e-09</td>\n      <td>1.202917e-03</td>\n      <td>2.885031e-05</td>\n    </tr>\n    <tr>\n      <th>17</th>\n      <td>count_overdue_all_3lm</td>\n      <td>3.856730e-09</td>\n      <td>9.784647e-12</td>\n      <td>1.773370e-03</td>\n      <td>3.856730e-09</td>\n    </tr>\n    <tr>\n      <th>16</th>\n      <td>cred_sum_overdue_cc_all</td>\n      <td>1.667795e-20</td>\n      <td>9.968741e-60</td>\n      <td>2.715270e-21</td>\n      <td>1.667795e-20</td>\n    </tr>\n    <tr>\n      <th>19</th>\n      <td>month_income</td>\n      <td>5.245283e-100</td>\n      <td>1.125089e-104</td>\n      <td>1.579173e-71</td>\n      <td>1.039707e-03</td>\n    </tr>\n  </tbody>\n</table>\n</div>"
     },
     "execution_count": 51,
     "metadata": {},
     "output_type": "execute_result"
    }
   ],
   "source": [
    "stats_df.sort_values(by='u-test', ascending=False)[:5]"
   ],
   "metadata": {
    "collapsed": false,
    "pycharm": {
     "name": "#%%\n"
    }
   }
  },
  {
   "cell_type": "code",
   "execution_count": 52,
   "outputs": [
    {
     "data": {
      "text/plain": "                     feature         t-test         u-test       ks-test  \\\n17     count_overdue_all_3lm   3.856730e-09   9.784647e-12  1.773370e-03   \n14  cred_max_overdue_max_3lm   2.885031e-05   4.562170e-09  1.202917e-03   \n4    cred_max_overdue_max_ly   6.638624e-03   3.215493e-05  3.522854e-05   \n16   cred_sum_overdue_cc_all   1.667795e-20   9.968741e-60  2.715270e-21   \n19              month_income  5.245283e-100  1.125089e-104  1.579173e-71   \n\n     levene-test  \n17  3.856730e-09  \n14  2.885031e-05  \n4   6.638624e-03  \n16  1.667795e-20  \n19  1.039707e-03  ",
      "text/html": "<div>\n<style scoped>\n    .dataframe tbody tr th:only-of-type {\n        vertical-align: middle;\n    }\n\n    .dataframe tbody tr th {\n        vertical-align: top;\n    }\n\n    .dataframe thead th {\n        text-align: right;\n    }\n</style>\n<table border=\"1\" class=\"dataframe\">\n  <thead>\n    <tr style=\"text-align: right;\">\n      <th></th>\n      <th>feature</th>\n      <th>t-test</th>\n      <th>u-test</th>\n      <th>ks-test</th>\n      <th>levene-test</th>\n    </tr>\n  </thead>\n  <tbody>\n    <tr>\n      <th>17</th>\n      <td>count_overdue_all_3lm</td>\n      <td>3.856730e-09</td>\n      <td>9.784647e-12</td>\n      <td>1.773370e-03</td>\n      <td>3.856730e-09</td>\n    </tr>\n    <tr>\n      <th>14</th>\n      <td>cred_max_overdue_max_3lm</td>\n      <td>2.885031e-05</td>\n      <td>4.562170e-09</td>\n      <td>1.202917e-03</td>\n      <td>2.885031e-05</td>\n    </tr>\n    <tr>\n      <th>4</th>\n      <td>cred_max_overdue_max_ly</td>\n      <td>6.638624e-03</td>\n      <td>3.215493e-05</td>\n      <td>3.522854e-05</td>\n      <td>6.638624e-03</td>\n    </tr>\n    <tr>\n      <th>16</th>\n      <td>cred_sum_overdue_cc_all</td>\n      <td>1.667795e-20</td>\n      <td>9.968741e-60</td>\n      <td>2.715270e-21</td>\n      <td>1.667795e-20</td>\n    </tr>\n    <tr>\n      <th>19</th>\n      <td>month_income</td>\n      <td>5.245283e-100</td>\n      <td>1.125089e-104</td>\n      <td>1.579173e-71</td>\n      <td>1.039707e-03</td>\n    </tr>\n  </tbody>\n</table>\n</div>"
     },
     "execution_count": 52,
     "metadata": {},
     "output_type": "execute_result"
    }
   ],
   "source": [
    "stats_df.sort_values(by='ks-test', ascending=False)[:5]"
   ],
   "metadata": {
    "collapsed": false,
    "pycharm": {
     "name": "#%%\n"
    }
   }
  },
  {
   "cell_type": "code",
   "execution_count": 53,
   "outputs": [
    {
     "data": {
      "text/plain": "                     feature         t-test         u-test       ks-test  \\\n4    cred_max_overdue_max_ly   6.638624e-03   3.215493e-05  3.522854e-05   \n19              month_income  5.245283e-100  1.125089e-104  1.579173e-71   \n14  cred_max_overdue_max_3lm   2.885031e-05   4.562170e-09  1.202917e-03   \n17     count_overdue_all_3lm   3.856730e-09   9.784647e-12  1.773370e-03   \n16   cred_sum_overdue_cc_all   1.667795e-20   9.968741e-60  2.715270e-21   \n\n     levene-test  \n4   6.638624e-03  \n19  1.039707e-03  \n14  2.885031e-05  \n17  3.856730e-09  \n16  1.667795e-20  ",
      "text/html": "<div>\n<style scoped>\n    .dataframe tbody tr th:only-of-type {\n        vertical-align: middle;\n    }\n\n    .dataframe tbody tr th {\n        vertical-align: top;\n    }\n\n    .dataframe thead th {\n        text-align: right;\n    }\n</style>\n<table border=\"1\" class=\"dataframe\">\n  <thead>\n    <tr style=\"text-align: right;\">\n      <th></th>\n      <th>feature</th>\n      <th>t-test</th>\n      <th>u-test</th>\n      <th>ks-test</th>\n      <th>levene-test</th>\n    </tr>\n  </thead>\n  <tbody>\n    <tr>\n      <th>4</th>\n      <td>cred_max_overdue_max_ly</td>\n      <td>6.638624e-03</td>\n      <td>3.215493e-05</td>\n      <td>3.522854e-05</td>\n      <td>6.638624e-03</td>\n    </tr>\n    <tr>\n      <th>19</th>\n      <td>month_income</td>\n      <td>5.245283e-100</td>\n      <td>1.125089e-104</td>\n      <td>1.579173e-71</td>\n      <td>1.039707e-03</td>\n    </tr>\n    <tr>\n      <th>14</th>\n      <td>cred_max_overdue_max_3lm</td>\n      <td>2.885031e-05</td>\n      <td>4.562170e-09</td>\n      <td>1.202917e-03</td>\n      <td>2.885031e-05</td>\n    </tr>\n    <tr>\n      <th>17</th>\n      <td>count_overdue_all_3lm</td>\n      <td>3.856730e-09</td>\n      <td>9.784647e-12</td>\n      <td>1.773370e-03</td>\n      <td>3.856730e-09</td>\n    </tr>\n    <tr>\n      <th>16</th>\n      <td>cred_sum_overdue_cc_all</td>\n      <td>1.667795e-20</td>\n      <td>9.968741e-60</td>\n      <td>2.715270e-21</td>\n      <td>1.667795e-20</td>\n    </tr>\n  </tbody>\n</table>\n</div>"
     },
     "execution_count": 53,
     "metadata": {},
     "output_type": "execute_result"
    }
   ],
   "source": [
    "stats_df.sort_values(by='levene-test', ascending=False)[:5]"
   ],
   "metadata": {
    "collapsed": false,
    "pycharm": {
     "name": "#%%\n"
    }
   }
  },
  {
   "cell_type": "markdown",
   "source": [
    "Судя по сводной таблице, наибольшими значениями p-value обладают:\n",
    "- `cred_max_overdue_max_ly`\n",
    "- `cred_max_overdue_max_3lm`\n",
    "- `count_overdue_all_3lm`\n",
    "- `cred_sum_overdue_cc_all`"
   ],
   "metadata": {
    "collapsed": false
   }
  },
  {
   "cell_type": "code",
   "execution_count": 152,
   "outputs": [
    {
     "data": {
      "text/plain": "<Figure size 1440x576 with 2 Axes>",
      "image/png": "[encoded data removed]"
     },
     "metadata": {
      "needs_background": "light"
     },
     "output_type": "display_data"
    }
   ],
   "source": [
    "f, axs = plt.subplots(1, 2, figsize=(20, 8))\n",
    "f.suptitle('Максимальная просрочка за год')\n",
    "sns.boxplot(data=train_df, x='cred_max_overdue_max_ly', orient=\"h\", ax=axs[0])\n",
    "sns.boxplot(data=train_df.loc[train_df['approved'] == 1], x='cred_max_overdue_max_ly', orient=\"h\", color=\"orange\", ax=axs[1])\n",
    "axs[0].set_title('По всей выборке')\n",
    "axs[1].set_title('Среди тех, кому выдали кредит')\n",
    "axs[0].set(xlim=(-1e3, 5e4))\n",
    "axs[1].set(xlim=(-1e3, 5e4))\n",
    "plt.show();"
   ],
   "metadata": {
    "collapsed": false,
    "pycharm": {
     "name": "#%%\n"
    }
   }
  },
  {
   "cell_type": "code",
   "execution_count": 156,
   "outputs": [
    {
     "data": {
      "text/plain": "<Figure size 1440x576 with 2 Axes>",
      "image/png": "[encoded data removed]"
     },
     "metadata": {
      "needs_background": "light"
     },
     "output_type": "display_data"
    }
   ],
   "source": [
    "f, axs = plt.subplots(1, 2, figsize=(20, 8))\n",
    "f.suptitle('Максимальная сумма просроченной задолженности, по кредитам взятым за последние 3 месяца')\n",
    "sns.boxplot(data=train_df, x='cred_max_overdue_max_3lm', orient=\"h\", ax=axs[0])\n",
    "sns.boxplot(data=train_df.loc[train_df['approved'] == 1], x='cred_max_overdue_max_3lm', orient=\"h\", color=\"orange\", ax=axs[1])\n",
    "axs[0].set_title('По всей выборке')\n",
    "axs[1].set_title('Среди тех, кому выдали кредит')\n",
    "axs[0].set(xlim=(-10, 500))\n",
    "axs[1].set(xlim=(-10, 500))\n",
    "plt.show();"
   ],
   "metadata": {
    "collapsed": false,
    "pycharm": {
     "name": "#%%\n"
    }
   }
  },
  {
   "cell_type": "code",
   "execution_count": 158,
   "outputs": [
    {
     "data": {
      "text/plain": "<Figure size 1440x576 with 2 Axes>",
      "image/png": "[encoded data removed]"
     },
     "metadata": {
      "needs_background": "light"
     },
     "output_type": "display_data"
    }
   ],
   "source": [
    "f, axs = plt.subplots(1, 2, figsize=(20, 8))\n",
    "f.suptitle('Сумма просрочек по кредитным картам')\n",
    "sns.boxplot(data=train_df, x='cred_sum_overdue_cc_all', orient=\"h\", ax=axs[0])\n",
    "sns.boxplot(data=train_df.loc[train_df['approved'] == 1], x='cred_sum_overdue_cc_all', orient=\"h\", color=\"orange\", ax=axs[1])\n",
    "axs[0].set_title('По всей выборке')\n",
    "axs[1].set_title('Среди тех, кому выдали кредит')\n",
    "axs[0].set(xlim=(-10, 500))\n",
    "axs[1].set(xlim=(-10, 500))\n",
    "plt.show();"
   ],
   "metadata": {
    "collapsed": false,
    "pycharm": {
     "name": "#%%\n"
    }
   }
  },
  {
   "cell_type": "code",
   "execution_count": 162,
   "outputs": [
    {
     "data": {
      "text/plain": "<Figure size 1440x576 with 2 Axes>",
      "image/png": "[encoded data removed]"
     },
     "metadata": {
      "needs_background": "light"
     },
     "output_type": "display_data"
    }
   ],
   "source": [
    "f, axs = plt.subplots(1, 2, figsize=(20, 8))\n",
    "f.suptitle('Количество кредитов на просрочке, взятых за последние 3 месяца')\n",
    "sns.boxplot(data=train_df, x='count_overdue_all_3lm', orient=\"h\", ax=axs[0])\n",
    "sns.boxplot(data=train_df.loc[train_df['approved'] == 1], x='count_overdue_all_3lm', orient=\"h\", color=\"orange\", ax=axs[1])\n",
    "axs[0].set_title('По всей выборке')\n",
    "axs[1].set_title('Среди тех, кому выдали кредит')\n",
    "axs[0].set(xlim=(-2, 20))\n",
    "axs[1].set(xlim=(-2, 20))\n",
    "plt.show();"
   ],
   "metadata": {
    "collapsed": false,
    "pycharm": {
     "name": "#%%\n"
    }
   }
  },
  {
   "cell_type": "code",
   "execution_count": 164,
   "outputs": [
    {
     "data": {
      "text/plain": "      order_id  cred_sum_cc_all  mfo_inqs_count_month  \\\n2      5503586        133000.00                     1   \n4      5512692        120500.00                     0   \n5      5520592        271084.66                     0   \n6      5522686             0.00                     0   \n7      5523739             0.00                     1   \n...        ...              ...                   ...   \n1202   6694336         60000.00                     1   \n1203   6694525         67000.00                     2   \n1207   6694912             0.00                     1   \n1209   6695256             0.00                     0   \n1215   6696256         18690.24                     4   \n\n      all_closed_creds_sum_all  bank_inqs_count_quarter  \\\n2                       284685                        9   \n4                      1293089                        8   \n5                        52619                        4   \n6                        53900                        2   \n7                         6000                        0   \n...                        ...                      ...   \n1202                     58700                       12   \n1203                    193703                       16   \n1207                     22100                        0   \n1209                     97740                        2   \n1215                    313674                       10   \n\n      cred_max_overdue_max_ly  all_active_creds_sum_all  mfo_last_days_all  \\\n2                    16600.00                    716305                  6   \n4                     9605.18                   1562678                 33   \n5                        0.00                         0                 33   \n6                        0.00                         0                 30   \n7                        0.00                         0                 29   \n...                       ...                       ...                ...   \n1202                     0.00                   1321684                  4   \n1203                  8000.00                    254748                 34   \n1207                     0.00                     46988                  7   \n1209                   706.73                     65150                 86   \n1215                     0.00                     79489                  3   \n\n      cred_sum_cc_ly  cred_sum_debt_all_all  ...  cred_max_overdue_max_3lm  \\\n2            50000.0              593315.33  ...                  16600.00   \n4                0.0             1392907.34  ...                   1221.81   \n5                0.0                   0.00  ...                      0.00   \n6                0.0                   0.00  ...                      0.00   \n7                0.0                   0.00  ...                      0.00   \n...              ...                    ...  ...                       ...   \n1202             0.0             1132584.75  ...                      0.00   \n1203         62000.0              209899.04  ...                   8000.00   \n1207             0.0               33678.04  ...                      0.00   \n1209             0.0               64293.47  ...                    706.73   \n1215             0.0               43872.29  ...                      0.00   \n\n      mfo_closed_count_ly  cred_sum_overdue_cc_all  count_overdue_all_3lm  \\\n2                       4                  2409.33                      1   \n4                       1                  4442.42                      1   \n5                       5                 27949.66                      0   \n6                      17                     0.00                      0   \n7                       1                     0.00                      0   \n...                   ...                      ...                    ...   \n1202                    6                     0.00                      0   \n1203                    6                  1393.96                      1   \n1207                    5                     0.00                      0   \n1209                    1                     0.00                      0   \n1215                   23                     0.00                      0   \n\n      all_creds_count_lm  work_code  month_income  region  bad  approved  \n2                      4          4         50000      18  1.0         1  \n4                      0          3         50000      20  0.0         1  \n5                      0          5         60000      52  1.0         1  \n6                      1          5         50000      25  1.0         1  \n7                      1          5         35000      57  0.0         1  \n...                  ...        ...           ...     ...  ...       ...  \n1202                   5          5         50000      40  0.0         1  \n1203                   0          4         50000      58  1.0         1  \n1207                   1          4         50000       5  0.0         1  \n1209                   0          4         35000      36  0.0         1  \n1215                   8          5         50000      75  0.0         1  \n\n[373 rows x 25 columns]",
      "text/html": "<div>\n<style scoped>\n    .dataframe tbody tr th:only-of-type {\n        vertical-align: middle;\n    }\n\n    .dataframe tbody tr th {\n        vertical-align: top;\n    }\n\n    .dataframe thead th {\n        text-align: right;\n    }\n</style>\n<table border=\"1\" class=\"dataframe\">\n  <thead>\n    <tr style=\"text-align: right;\">\n      <th></th>\n      <th>order_id</th>\n      <th>cred_sum_cc_all</th>\n      <th>mfo_inqs_count_month</th>\n      <th>all_closed_creds_sum_all</th>\n      <th>bank_inqs_count_quarter</th>\n      <th>cred_max_overdue_max_ly</th>\n      <th>all_active_creds_sum_all</th>\n      <th>mfo_last_days_all</th>\n      <th>cred_sum_cc_ly</th>\n      <th>cred_sum_debt_all_all</th>\n      <th>...</th>\n      <th>cred_max_overdue_max_3lm</th>\n      <th>mfo_closed_count_ly</th>\n      <th>cred_sum_overdue_cc_all</th>\n      <th>count_overdue_all_3lm</th>\n      <th>all_creds_count_lm</th>\n      <th>work_code</th>\n      <th>month_income</th>\n      <th>region</th>\n      <th>bad</th>\n      <th>approved</th>\n    </tr>\n  </thead>\n  <tbody>\n    <tr>\n      <th>2</th>\n      <td>5503586</td>\n      <td>133000.00</td>\n      <td>1</td>\n      <td>284685</td>\n      <td>9</td>\n      <td>16600.00</td>\n      <td>716305</td>\n      <td>6</td>\n      <td>50000.0</td>\n      <td>593315.33</td>\n      <td>...</td>\n      <td>16600.00</td>\n      <td>4</td>\n      <td>2409.33</td>\n      <td>1</td>\n      <td>4</td>\n      <td>4</td>\n      <td>50000</td>\n      <td>18</td>\n      <td>1.0</td>\n      <td>1</td>\n    </tr>\n    <tr>\n      <th>4</th>\n      <td>5512692</td>\n      <td>120500.00</td>\n      <td>0</td>\n      <td>1293089</td>\n      <td>8</td>\n      <td>9605.18</td>\n      <td>1562678</td>\n      <td>33</td>\n      <td>0.0</td>\n      <td>1392907.34</td>\n      <td>...</td>\n      <td>1221.81</td>\n      <td>1</td>\n      <td>4442.42</td>\n      <td>1</td>\n      <td>0</td>\n      <td>3</td>\n      <td>50000</td>\n      <td>20</td>\n      <td>0.0</td>\n      <td>1</td>\n    </tr>\n    <tr>\n      <th>5</th>\n      <td>5520592</td>\n      <td>271084.66</td>\n      <td>0</td>\n      <td>52619</td>\n      <td>4</td>\n      <td>0.00</td>\n      <td>0</td>\n      <td>33</td>\n      <td>0.0</td>\n      <td>0.00</td>\n      <td>...</td>\n      <td>0.00</td>\n      <td>5</td>\n      <td>27949.66</td>\n      <td>0</td>\n      <td>0</td>\n      <td>5</td>\n      <td>60000</td>\n      <td>52</td>\n      <td>1.0</td>\n      <td>1</td>\n    </tr>\n    <tr>\n      <th>6</th>\n      <td>5522686</td>\n      <td>0.00</td>\n      <td>0</td>\n      <td>53900</td>\n      <td>2</td>\n      <td>0.00</td>\n      <td>0</td>\n      <td>30</td>\n      <td>0.0</td>\n      <td>0.00</td>\n      <td>...</td>\n      <td>0.00</td>\n      <td>17</td>\n      <td>0.00</td>\n      <td>0</td>\n      <td>1</td>\n      <td>5</td>\n      <td>50000</td>\n      <td>25</td>\n      <td>1.0</td>\n      <td>1</td>\n    </tr>\n    <tr>\n      <th>7</th>\n      <td>5523739</td>\n      <td>0.00</td>\n      <td>1</td>\n      <td>6000</td>\n      <td>0</td>\n      <td>0.00</td>\n      <td>0</td>\n      <td>29</td>\n      <td>0.0</td>\n      <td>0.00</td>\n      <td>...</td>\n      <td>0.00</td>\n      <td>1</td>\n      <td>0.00</td>\n      <td>0</td>\n      <td>1</td>\n      <td>5</td>\n      <td>35000</td>\n      <td>57</td>\n      <td>0.0</td>\n      <td>1</td>\n    </tr>\n    <tr>\n      <th>...</th>\n      <td>...</td>\n      <td>...</td>\n      <td>...</td>\n      <td>...</td>\n      <td>...</td>\n      <td>...</td>\n      <td>...</td>\n      <td>...</td>\n      <td>...</td>\n      <td>...</td>\n      <td>...</td>\n      <td>...</td>\n      <td>...</td>\n      <td>...</td>\n      <td>...</td>\n      <td>...</td>\n      <td>...</td>\n      <td>...</td>\n      <td>...</td>\n      <td>...</td>\n      <td>...</td>\n    </tr>\n    <tr>\n      <th>1202</th>\n      <td>6694336</td>\n      <td>60000.00</td>\n      <td>1</td>\n      <td>58700</td>\n      <td>12</td>\n      <td>0.00</td>\n      <td>1321684</td>\n      <td>4</td>\n      <td>0.0</td>\n      <td>1132584.75</td>\n      <td>...</td>\n      <td>0.00</td>\n      <td>6</td>\n      <td>0.00</td>\n      <td>0</td>\n      <td>5</td>\n      <td>5</td>\n      <td>50000</td>\n      <td>40</td>\n      <td>0.0</td>\n      <td>1</td>\n    </tr>\n    <tr>\n      <th>1203</th>\n      <td>6694525</td>\n      <td>67000.00</td>\n      <td>2</td>\n      <td>193703</td>\n      <td>16</td>\n      <td>8000.00</td>\n      <td>254748</td>\n      <td>34</td>\n      <td>62000.0</td>\n      <td>209899.04</td>\n      <td>...</td>\n      <td>8000.00</td>\n      <td>6</td>\n      <td>1393.96</td>\n      <td>1</td>\n      <td>0</td>\n      <td>4</td>\n      <td>50000</td>\n      <td>58</td>\n      <td>1.0</td>\n      <td>1</td>\n    </tr>\n    <tr>\n      <th>1207</th>\n      <td>6694912</td>\n      <td>0.00</td>\n      <td>1</td>\n      <td>22100</td>\n      <td>0</td>\n      <td>0.00</td>\n      <td>46988</td>\n      <td>7</td>\n      <td>0.0</td>\n      <td>33678.04</td>\n      <td>...</td>\n      <td>0.00</td>\n      <td>5</td>\n      <td>0.00</td>\n      <td>0</td>\n      <td>1</td>\n      <td>4</td>\n      <td>50000</td>\n      <td>5</td>\n      <td>0.0</td>\n      <td>1</td>\n    </tr>\n    <tr>\n      <th>1209</th>\n      <td>6695256</td>\n      <td>0.00</td>\n      <td>0</td>\n      <td>97740</td>\n      <td>2</td>\n      <td>706.73</td>\n      <td>65150</td>\n      <td>86</td>\n      <td>0.0</td>\n      <td>64293.47</td>\n      <td>...</td>\n      <td>706.73</td>\n      <td>1</td>\n      <td>0.00</td>\n      <td>0</td>\n      <td>0</td>\n      <td>4</td>\n      <td>35000</td>\n      <td>36</td>\n      <td>0.0</td>\n      <td>1</td>\n    </tr>\n    <tr>\n      <th>1215</th>\n      <td>6696256</td>\n      <td>18690.24</td>\n      <td>4</td>\n      <td>313674</td>\n      <td>10</td>\n      <td>0.00</td>\n      <td>79489</td>\n      <td>3</td>\n      <td>0.0</td>\n      <td>43872.29</td>\n      <td>...</td>\n      <td>0.00</td>\n      <td>23</td>\n      <td>0.00</td>\n      <td>0</td>\n      <td>8</td>\n      <td>5</td>\n      <td>50000</td>\n      <td>75</td>\n      <td>0.0</td>\n      <td>1</td>\n    </tr>\n  </tbody>\n</table>\n<p>373 rows × 25 columns</p>\n</div>"
     },
     "execution_count": 164,
     "metadata": {},
     "output_type": "execute_result"
    }
   ],
   "source": [
    "test_df[test_df['bad'].notna()]"
   ],
   "metadata": {
    "collapsed": false,
    "pycharm": {
     "name": "#%%\n"
    }
   }
  },
  {
   "cell_type": "code",
   "execution_count": null,
   "outputs": [],
   "source": [],
   "metadata": {
    "collapsed": false,
    "pycharm": {
     "name": "#%%\n"
    }
   }
  }
 ],
 "metadata": {
  "kernelspec": {
   "display_name": "Python 3",
   "language": "python",
   "name": "python3"
  },
  "language_info": {
   "codemirror_mode": {
    "name": "ipython",
    "version": 2
   },
   "file_extension": ".py",
   "mimetype": "text/x-python",
   "name": "python",
   "nbconvert_exporter": "python",
   "pygments_lexer": "ipython2",
   "version": "2.7.6"
  }
 },
 "nbformat": 4,
 "nbformat_minor": 0
}