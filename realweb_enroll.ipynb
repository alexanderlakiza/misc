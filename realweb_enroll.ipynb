{
 "cells": [
  {
   "cell_type": "code",
   "execution_count": 1,
   "metadata": {},
   "outputs": [],
   "source": [
    "import pandas as pd\n",
    "import numpy as np"
   ]
  },
  {
   "cell_type": "code",
   "execution_count": 2,
   "metadata": {
    "pycharm": {
     "name": "#%%\n"
    }
   },
   "outputs": [],
   "source": [
    "data = pd.read_excel(\"auto_complectations.xlsx\")"
   ]
  },
  {
   "cell_type": "code",
   "execution_count": 3,
   "metadata": {
    "pycharm": {
     "name": "#%%\n"
    }
   },
   "outputs": [
    {
     "data": {
      "text/html": [
       "<div>\n",
       "<style scoped>\n",
       "    .dataframe tbody tr th:only-of-type {\n",
       "        vertical-align: middle;\n",
       "    }\n",
       "\n",
       "    .dataframe tbody tr th {\n",
       "        vertical-align: top;\n",
       "    }\n",
       "\n",
       "    .dataframe thead th {\n",
       "        text-align: right;\n",
       "    }\n",
       "</style>\n",
       "<table border=\"1\" class=\"dataframe\">\n",
       "  <thead>\n",
       "    <tr style=\"text-align: right;\">\n",
       "      <th></th>\n",
       "      <th>brand</th>\n",
       "      <th>model</th>\n",
       "      <th>complect</th>\n",
       "      <th>type_car</th>\n",
       "      <th>seats</th>\n",
       "      <th>doors</th>\n",
       "      <th>Двигатель</th>\n",
       "      <th>Мощность</th>\n",
       "      <th>Крутящий момент двигателя</th>\n",
       "      <th>Коробка передач</th>\n",
       "      <th>...</th>\n",
       "      <th>Разгон до сотни</th>\n",
       "      <th>Максимальная скорость</th>\n",
       "      <th>Расход топлива (л/100 км)\\nгород / трасса / смешанный</th>\n",
       "      <th>Дорожный просвет</th>\n",
       "      <th>Габариты (длина × ширина × высота)</th>\n",
       "      <th>Колёсная база</th>\n",
       "      <th>Объём багажника</th>\n",
       "      <th>Объём багажника максимальный</th>\n",
       "      <th>Объём топливного бака</th>\n",
       "      <th>Масса автомобиля</th>\n",
       "    </tr>\n",
       "  </thead>\n",
       "  <tbody>\n",
       "    <tr>\n",
       "      <th>0</th>\n",
       "      <td>Audi</td>\n",
       "      <td>A3 Sedan</td>\n",
       "      <td>1.4 TFSI 7AMT</td>\n",
       "      <td>Седан класса C</td>\n",
       "      <td>5</td>\n",
       "      <td>4</td>\n",
       "      <td>бензиновый (1395 см³)</td>\n",
       "      <td>150 л. с.</td>\n",
       "      <td>250 Н·м</td>\n",
       "      <td>роботизированная (7 ступеней)</td>\n",
       "      <td>...</td>\n",
       "      <td>8.2 секунды</td>\n",
       "      <td>224 км/ч</td>\n",
       "      <td>5.9 / 4.1 / 4.8</td>\n",
       "      <td>165 мм</td>\n",
       "      <td>4458 × 1796 × 1416</td>\n",
       "      <td>2637 мм</td>\n",
       "      <td>425 л</td>\n",
       "      <td>880 л</td>\n",
       "      <td>50 л</td>\n",
       "      <td>1320 кг</td>\n",
       "    </tr>\n",
       "    <tr>\n",
       "      <th>1</th>\n",
       "      <td>Audi</td>\n",
       "      <td>A3 Sedan</td>\n",
       "      <td>sport 1.4 TFSI 7AMT</td>\n",
       "      <td>Седан класса C</td>\n",
       "      <td>5</td>\n",
       "      <td>4</td>\n",
       "      <td>бензиновый (1395 см³)</td>\n",
       "      <td>150 л. с.</td>\n",
       "      <td>250 Н·м</td>\n",
       "      <td>роботизированная (7 ступеней)</td>\n",
       "      <td>...</td>\n",
       "      <td>8.2 секунды</td>\n",
       "      <td>224 км/ч</td>\n",
       "      <td>5.9 / 4.1 / 4.8</td>\n",
       "      <td>165 мм</td>\n",
       "      <td>4458 × 1796 × 1416</td>\n",
       "      <td>2637 мм</td>\n",
       "      <td>425 л</td>\n",
       "      <td>880 л</td>\n",
       "      <td>50 л</td>\n",
       "      <td>1320 кг</td>\n",
       "    </tr>\n",
       "    <tr>\n",
       "      <th>2</th>\n",
       "      <td>Audi</td>\n",
       "      <td>A3 Sedan</td>\n",
       "      <td>2.0 TFSI 7AMT</td>\n",
       "      <td>Седан класса C</td>\n",
       "      <td>5</td>\n",
       "      <td>4</td>\n",
       "      <td>бензиновый (1984 см³)</td>\n",
       "      <td>190 л. с.</td>\n",
       "      <td>320 Н·м</td>\n",
       "      <td>роботизированная (7 ступеней)</td>\n",
       "      <td>...</td>\n",
       "      <td>6.8 секунды</td>\n",
       "      <td>250 км/ч</td>\n",
       "      <td>7.2 / 4.7 / 5.6</td>\n",
       "      <td>165 мм</td>\n",
       "      <td>4458 × 1796 × 1416</td>\n",
       "      <td>2637 мм</td>\n",
       "      <td>425 л</td>\n",
       "      <td>880 л</td>\n",
       "      <td>50 л</td>\n",
       "      <td>1395 кг</td>\n",
       "    </tr>\n",
       "    <tr>\n",
       "      <th>3</th>\n",
       "      <td>Audi</td>\n",
       "      <td>A3 Sedan</td>\n",
       "      <td>2.0 TFSI 7AMT quattro</td>\n",
       "      <td>Седан класса C</td>\n",
       "      <td>5</td>\n",
       "      <td>4</td>\n",
       "      <td>бензиновый (1984 см³)</td>\n",
       "      <td>190 л. с.</td>\n",
       "      <td>320 Н·м</td>\n",
       "      <td>роботизированная (7 ступеней)</td>\n",
       "      <td>...</td>\n",
       "      <td>6.2 секунды</td>\n",
       "      <td>242 км/ч</td>\n",
       "      <td>7.2 / 4.8 / 5.7</td>\n",
       "      <td>165 мм</td>\n",
       "      <td>4458 × 1796 × 1416</td>\n",
       "      <td>2637 мм</td>\n",
       "      <td>390 л</td>\n",
       "      <td>845 л</td>\n",
       "      <td>55 л</td>\n",
       "      <td>1465 кг</td>\n",
       "    </tr>\n",
       "    <tr>\n",
       "      <th>4</th>\n",
       "      <td>Audi</td>\n",
       "      <td>A3 Sedan</td>\n",
       "      <td>sport 2.0 TFSI 7AMT</td>\n",
       "      <td>Седан класса C</td>\n",
       "      <td>5</td>\n",
       "      <td>4</td>\n",
       "      <td>бензиновый (1984 см³)</td>\n",
       "      <td>190 л. с.</td>\n",
       "      <td>320 Н·м</td>\n",
       "      <td>роботизированная (7 ступеней)</td>\n",
       "      <td>...</td>\n",
       "      <td>6.8 секунды</td>\n",
       "      <td>242 км/ч</td>\n",
       "      <td>7.2 / 4.7 / 5.6</td>\n",
       "      <td>165 мм</td>\n",
       "      <td>4458 × 1796 × 1416</td>\n",
       "      <td>2637 мм</td>\n",
       "      <td>425 л</td>\n",
       "      <td>880 л</td>\n",
       "      <td>50 л</td>\n",
       "      <td>1395 кг</td>\n",
       "    </tr>\n",
       "  </tbody>\n",
       "</table>\n",
       "<p>5 rows × 21 columns</p>\n",
       "</div>"
      ],
      "text/plain": [
       "  brand     model               complect        type_car  seats  doors  \\\n",
       "0  Audi  A3 Sedan          1.4 TFSI 7AMT  Седан класса C      5      4   \n",
       "1  Audi  A3 Sedan    sport 1.4 TFSI 7AMT  Седан класса C      5      4   \n",
       "2  Audi  A3 Sedan          2.0 TFSI 7AMT  Седан класса C      5      4   \n",
       "3  Audi  A3 Sedan  2.0 TFSI 7AMT quattro  Седан класса C      5      4   \n",
       "4  Audi  A3 Sedan    sport 2.0 TFSI 7AMT  Седан класса C      5      4   \n",
       "\n",
       "               Двигатель   Мощность Крутящий момент двигателя  \\\n",
       "0  бензиновый (1395 см³)  150 л. с.                   250 Н·м   \n",
       "1  бензиновый (1395 см³)  150 л. с.                   250 Н·м   \n",
       "2  бензиновый (1984 см³)  190 л. с.                   320 Н·м   \n",
       "3  бензиновый (1984 см³)  190 л. с.                   320 Н·м   \n",
       "4  бензиновый (1984 см³)  190 л. с.                   320 Н·м   \n",
       "\n",
       "                 Коробка передач  ... Разгон до сотни Максимальная скорость  \\\n",
       "0  роботизированная (7 ступеней)  ...     8.2 секунды              224 км/ч   \n",
       "1  роботизированная (7 ступеней)  ...     8.2 секунды              224 км/ч   \n",
       "2  роботизированная (7 ступеней)  ...     6.8 секунды              250 км/ч   \n",
       "3  роботизированная (7 ступеней)  ...     6.2 секунды              242 км/ч   \n",
       "4  роботизированная (7 ступеней)  ...     6.8 секунды              242 км/ч   \n",
       "\n",
       "  Расход топлива (л/100 км)\\nгород / трасса / смешанный Дорожный просвет  \\\n",
       "0                                    5.9 / 4.1 / 4.8              165 мм   \n",
       "1                                    5.9 / 4.1 / 4.8              165 мм   \n",
       "2                                    7.2 / 4.7 / 5.6              165 мм   \n",
       "3                                    7.2 / 4.8 / 5.7              165 мм   \n",
       "4                                    7.2 / 4.7 / 5.6              165 мм   \n",
       "\n",
       "  Габариты (длина × ширина × высота) Колёсная база Объём багажника  \\\n",
       "0                 4458 × 1796 × 1416       2637 мм           425 л   \n",
       "1                 4458 × 1796 × 1416       2637 мм           425 л   \n",
       "2                 4458 × 1796 × 1416       2637 мм           425 л   \n",
       "3                 4458 × 1796 × 1416       2637 мм           390 л   \n",
       "4                 4458 × 1796 × 1416       2637 мм           425 л   \n",
       "\n",
       "  Объём багажника максимальный Объём топливного бака Масса автомобиля  \n",
       "0                        880 л                  50 л          1320 кг  \n",
       "1                        880 л                  50 л          1320 кг  \n",
       "2                        880 л                  50 л          1395 кг  \n",
       "3                        845 л                  55 л          1465 кг  \n",
       "4                        880 л                  50 л          1395 кг  \n",
       "\n",
       "[5 rows x 21 columns]"
      ]
     },
     "execution_count": 3,
     "metadata": {},
     "output_type": "execute_result"
    }
   ],
   "source": [
    "data.head()"
   ]
  },
  {
   "cell_type": "markdown",
   "metadata": {
    "pycharm": {
     "name": "#%%\n"
    }
   },
   "source": [
    "## Задание\n",
    "Вам предлагается набор данных, содержащий комплектации различных моделей автомобилей и их характеристики.Мы предлагаем произвести с данным датасетом следующие операции: 1. Анализ данных, 2. Фильтрация, 3. Преобразование переменных, 4. Классификация моделей по типу кузова (без подклассов, колонка type_car): - Седан - Хетчбек - Кроссовер - Внедорожник. Обосновать выбранный подход/метод машинного обучения. Описать способ оценки качества модели машинного обучения."
   ]
  },
  {
   "cell_type": "markdown",
   "metadata": {},
   "source": [
    "### 1. Анализ данных"
   ]
  },
  {
   "cell_type": "code",
   "execution_count": 4,
   "metadata": {
    "pycharm": {
     "name": "#%%\n"
    }
   },
   "outputs": [
    {
     "data": {
      "text/plain": [
       "(1703, 21)"
      ]
     },
     "execution_count": 4,
     "metadata": {},
     "output_type": "execute_result"
    }
   ],
   "source": [
    "data.shape"
   ]
  },
  {
   "cell_type": "code",
   "execution_count": 5,
   "metadata": {
    "pycharm": {
     "name": "#%%\n"
    }
   },
   "outputs": [
    {
     "name": "stdout",
     "output_type": "stream",
     "text": [
      "<class 'pandas.core.frame.DataFrame'>\n",
      "RangeIndex: 1703 entries, 0 to 1702\n",
      "Data columns (total 21 columns):\n",
      " #   Column                                                Non-Null Count  Dtype \n",
      "---  ------                                                --------------  ----- \n",
      " 0   brand                                                 1703 non-null   object\n",
      " 1   model                                                 1703 non-null   object\n",
      " 2   complect                                              1703 non-null   object\n",
      " 3   type_car                                              1703 non-null   object\n",
      " 4   seats                                                 1703 non-null   int64 \n",
      " 5   doors                                                 1703 non-null   int64 \n",
      " 6   Двигатель                                             1703 non-null   object\n",
      " 7   Мощность                                              1703 non-null   object\n",
      " 8   Крутящий момент двигателя                             1703 non-null   object\n",
      " 9   Коробка передач                                       1703 non-null   object\n",
      " 10  Привод                                                1703 non-null   object\n",
      " 11  Разгон до сотни                                       1703 non-null   object\n",
      " 12  Максимальная скорость                                 1703 non-null   object\n",
      " 13  Расход топлива (л/100 км)\n",
      "город / трасса / смешанный  1703 non-null   object\n",
      " 14  Дорожный просвет                                      1703 non-null   object\n",
      " 15  Габариты (длина × ширина × высота)                    1703 non-null   object\n",
      " 16  Колёсная база                                         1703 non-null   object\n",
      " 17  Объём багажника                                       1703 non-null   object\n",
      " 18  Объём багажника максимальный                          1703 non-null   object\n",
      " 19  Объём топливного бака                                 1703 non-null   object\n",
      " 20  Масса автомобиля                                      1703 non-null   object\n",
      "dtypes: int64(2), object(19)\n",
      "memory usage: 279.5+ KB\n"
     ]
    }
   ],
   "source": [
    "data.info()"
   ]
  },
  {
   "cell_type": "code",
   "execution_count": 6,
   "metadata": {
    "pycharm": {
     "name": "#%%\n"
    }
   },
   "outputs": [
    {
     "data": {
      "text/html": [
       "<div>\n",
       "<style scoped>\n",
       "    .dataframe tbody tr th:only-of-type {\n",
       "        vertical-align: middle;\n",
       "    }\n",
       "\n",
       "    .dataframe tbody tr th {\n",
       "        vertical-align: top;\n",
       "    }\n",
       "\n",
       "    .dataframe thead th {\n",
       "        text-align: right;\n",
       "    }\n",
       "</style>\n",
       "<table border=\"1\" class=\"dataframe\">\n",
       "  <thead>\n",
       "    <tr style=\"text-align: right;\">\n",
       "      <th></th>\n",
       "      <th>seats</th>\n",
       "      <th>doors</th>\n",
       "    </tr>\n",
       "  </thead>\n",
       "  <tbody>\n",
       "    <tr>\n",
       "      <th>count</th>\n",
       "      <td>1703.000000</td>\n",
       "      <td>1703.000000</td>\n",
       "    </tr>\n",
       "    <tr>\n",
       "      <th>mean</th>\n",
       "      <td>5.079272</td>\n",
       "      <td>4.887845</td>\n",
       "    </tr>\n",
       "    <tr>\n",
       "      <th>std</th>\n",
       "      <td>0.677096</td>\n",
       "      <td>1.024259</td>\n",
       "    </tr>\n",
       "    <tr>\n",
       "      <th>min</th>\n",
       "      <td>1.000000</td>\n",
       "      <td>2.000000</td>\n",
       "    </tr>\n",
       "    <tr>\n",
       "      <th>25%</th>\n",
       "      <td>5.000000</td>\n",
       "      <td>4.000000</td>\n",
       "    </tr>\n",
       "    <tr>\n",
       "      <th>50%</th>\n",
       "      <td>5.000000</td>\n",
       "      <td>5.000000</td>\n",
       "    </tr>\n",
       "    <tr>\n",
       "      <th>75%</th>\n",
       "      <td>5.000000</td>\n",
       "      <td>5.000000</td>\n",
       "    </tr>\n",
       "    <tr>\n",
       "      <th>max</th>\n",
       "      <td>9.000000</td>\n",
       "      <td>8.000000</td>\n",
       "    </tr>\n",
       "  </tbody>\n",
       "</table>\n",
       "</div>"
      ],
      "text/plain": [
       "             seats        doors\n",
       "count  1703.000000  1703.000000\n",
       "mean      5.079272     4.887845\n",
       "std       0.677096     1.024259\n",
       "min       1.000000     2.000000\n",
       "25%       5.000000     4.000000\n",
       "50%       5.000000     5.000000\n",
       "75%       5.000000     5.000000\n",
       "max       9.000000     8.000000"
      ]
     },
     "execution_count": 6,
     "metadata": {},
     "output_type": "execute_result"
    }
   ],
   "source": [
    "data.describe()"
   ]
  },
  {
   "cell_type": "markdown",
   "metadata": {},
   "source": [
    "Здесь у нас лишь две колонки, так как в остальных колонках числовые значения записаны вместе с единицей измерения"
   ]
  },
  {
   "cell_type": "code",
   "execution_count": 7,
   "metadata": {
    "pycharm": {
     "name": "#%%\n"
    }
   },
   "outputs": [
    {
     "data": {
      "text/plain": [
       "brand                                                    False\n",
       "model                                                    False\n",
       "complect                                                 False\n",
       "type_car                                                 False\n",
       "seats                                                    False\n",
       "doors                                                    False\n",
       "Двигатель                                                False\n",
       "Мощность                                                 False\n",
       "Крутящий момент двигателя                                False\n",
       "Коробка передач                                          False\n",
       "Привод                                                   False\n",
       "Разгон до сотни                                          False\n",
       "Максимальная скорость                                    False\n",
       "Расход топлива (л/100 км)\\nгород / трасса / смешанный    False\n",
       "Дорожный просвет                                         False\n",
       "Габариты (длина × ширина × высота)                       False\n",
       "Колёсная база                                            False\n",
       "Объём багажника                                          False\n",
       "Объём багажника максимальный                             False\n",
       "Объём топливного бака                                    False\n",
       "Масса автомобиля                                         False\n",
       "dtype: bool"
      ]
     },
     "execution_count": 7,
     "metadata": {},
     "output_type": "execute_result"
    }
   ],
   "source": [
    "data.isna().any()"
   ]
  },
  {
   "cell_type": "markdown",
   "metadata": {
    "pycharm": {
     "name": "#%% md\n"
    }
   },
   "source": [
    "На данный момент у нас нет пропусков в значениях"
   ]
  },
  {
   "cell_type": "code",
   "execution_count": 8,
   "metadata": {
    "pycharm": {
     "name": "#%%\n"
    },
    "scrolled": true
   },
   "outputs": [
    {
     "data": {
      "text/plain": [
       "Компактный кроссовер                          379\n",
       "Среднеразмерный кроссовер                     236\n",
       "Большой внедорожник                           129\n",
       "Большой кроссовер                             115\n",
       "Седан класса E                                104\n",
       "Седан класса D                                 93\n",
       "Седан класса B                                 91\n",
       "Седан класса F                                 68\n",
       "Вэн                                            53\n",
       "Седан класса C                                 53\n",
       "Хэтчбек класса B                               40\n",
       "Компактвэн                                     39\n",
       "Среднеразмерный внедорожник                    30\n",
       "Хэтчбек класса C                               29\n",
       "Хэтчбек класса D                               26\n",
       "Пикап                                          26\n",
       "Кроссовер класса B                             24\n",
       "Хэтчбек класса E                               20\n",
       "Универсал класса E                             16\n",
       "Купе класса D                                  16\n",
       "Спорткупе                                      16\n",
       "Внедорожник класса B                           15\n",
       "Универсал класса D                             12\n",
       "Универсал класса C                             11\n",
       "Хэтчбек класса A                               10\n",
       "Родстер                                         9\n",
       "Универсал повышенной проходимости класса D      8\n",
       "Универсал повышенной проходимости класса E      7\n",
       "Спорткупе класса D                              6\n",
       "Кабриолет с мягкой крышей                       5\n",
       "Горячий хэтчбек класса C                        3\n",
       "Горячий седан класса C                          3\n",
       "Купе класса C                                   3\n",
       "Спортседан класса D                             2\n",
       "Купе класса E                                   2\n",
       "Минивэн                                         2\n",
       "Спортседан класса E                             2\n",
       "Name: type_car, dtype: int64"
      ]
     },
     "execution_count": 8,
     "metadata": {},
     "output_type": "execute_result"
    }
   ],
   "source": [
    "data['type_car'].value_counts()"
   ]
  },
  {
   "cell_type": "code",
   "execution_count": 9,
   "metadata": {
    "pycharm": {
     "name": "#%%\n"
    },
    "scrolled": true
   },
   "outputs": [
    {
     "data": {
      "text/plain": [
       "brand                                                                             Audi\n",
       "model                                                                         A3 Sedan\n",
       "complect                                                                 1.4 TFSI 7AMT\n",
       "type_car                                                                Седан класса C\n",
       "seats                                                                                5\n",
       "doors                                                                                4\n",
       "Двигатель                                                        бензиновый (1395 см³)\n",
       "Мощность                                                                     150 л. с.\n",
       "Крутящий момент двигателя                                                      250 Н·м\n",
       "Коробка передач                                          роботизированная (7 ступеней)\n",
       "Привод                                                                        передний\n",
       "Разгон до сотни                                                            8.2 секунды\n",
       "Максимальная скорость                                                         224 км/ч\n",
       "Расход топлива (л/100 км)\\nгород / трасса / смешанный                  5.9 / 4.1 / 4.8\n",
       "Дорожный просвет                                                                165 мм\n",
       "Габариты (длина × ширина × высота)                                  4458 × 1796 × 1416\n",
       "Колёсная база                                                                  2637 мм\n",
       "Объём багажника                                                                  425 л\n",
       "Объём багажника максимальный                                                     880 л\n",
       "Объём топливного бака                                                             50 л\n",
       "Масса автомобиля                                                               1320 кг\n",
       "Name: 0, dtype: object"
      ]
     },
     "execution_count": 9,
     "metadata": {},
     "output_type": "execute_result"
    }
   ],
   "source": [
    "data.loc[0]"
   ]
  },
  {
   "cell_type": "markdown",
   "metadata": {},
   "source": [
    "### 2. Фильтрация данных\n",
    "Если перед нами стоит задача определить класс автомобиля по типу кузова, то, по логике, нас должны интересеовать лишь признаки, как-то коррелирующие с размером самого авто."
   ]
  },
  {
   "cell_type": "markdown",
   "metadata": {},
   "source": [
    "Поэтому оставим лишь следующие признаки\n",
    "`seats`, `doors`, `Дорожный просвет`, `Габариты`, `Колёснаябаза`, `Объём багажника`, `Объём багажника максимальный`, `Масса авто`"
   ]
  },
  {
   "cell_type": "code",
   "execution_count": 10,
   "metadata": {},
   "outputs": [],
   "source": [
    "slice = data.loc[:, ['seats', 'type_car', 'doors', 'Дорожный просвет', 'Габариты (длина × ширина × высота)', \n",
    "             'Колёсная база', 'Объём багажника', 'Объём багажника максимальный', 'Масса автомобиля']]"
   ]
  },
  {
   "cell_type": "code",
   "execution_count": 11,
   "metadata": {},
   "outputs": [],
   "source": [
    "df = pd.DataFrame(slice)"
   ]
  },
  {
   "cell_type": "code",
   "execution_count": 12,
   "metadata": {},
   "outputs": [
    {
     "data": {
      "text/html": [
       "<div>\n",
       "<style scoped>\n",
       "    .dataframe tbody tr th:only-of-type {\n",
       "        vertical-align: middle;\n",
       "    }\n",
       "\n",
       "    .dataframe tbody tr th {\n",
       "        vertical-align: top;\n",
       "    }\n",
       "\n",
       "    .dataframe thead th {\n",
       "        text-align: right;\n",
       "    }\n",
       "</style>\n",
       "<table border=\"1\" class=\"dataframe\">\n",
       "  <thead>\n",
       "    <tr style=\"text-align: right;\">\n",
       "      <th></th>\n",
       "      <th>seats</th>\n",
       "      <th>type_car</th>\n",
       "      <th>doors</th>\n",
       "      <th>Дорожный просвет</th>\n",
       "      <th>Габариты (длина × ширина × высота)</th>\n",
       "      <th>Колёсная база</th>\n",
       "      <th>Объём багажника</th>\n",
       "      <th>Объём багажника максимальный</th>\n",
       "      <th>Масса автомобиля</th>\n",
       "    </tr>\n",
       "  </thead>\n",
       "  <tbody>\n",
       "    <tr>\n",
       "      <th>0</th>\n",
       "      <td>5</td>\n",
       "      <td>Седан класса C</td>\n",
       "      <td>4</td>\n",
       "      <td>165 мм</td>\n",
       "      <td>4458 × 1796 × 1416</td>\n",
       "      <td>2637 мм</td>\n",
       "      <td>425 л</td>\n",
       "      <td>880 л</td>\n",
       "      <td>1320 кг</td>\n",
       "    </tr>\n",
       "    <tr>\n",
       "      <th>1</th>\n",
       "      <td>5</td>\n",
       "      <td>Седан класса C</td>\n",
       "      <td>4</td>\n",
       "      <td>165 мм</td>\n",
       "      <td>4458 × 1796 × 1416</td>\n",
       "      <td>2637 мм</td>\n",
       "      <td>425 л</td>\n",
       "      <td>880 л</td>\n",
       "      <td>1320 кг</td>\n",
       "    </tr>\n",
       "    <tr>\n",
       "      <th>2</th>\n",
       "      <td>5</td>\n",
       "      <td>Седан класса C</td>\n",
       "      <td>4</td>\n",
       "      <td>165 мм</td>\n",
       "      <td>4458 × 1796 × 1416</td>\n",
       "      <td>2637 мм</td>\n",
       "      <td>425 л</td>\n",
       "      <td>880 л</td>\n",
       "      <td>1395 кг</td>\n",
       "    </tr>\n",
       "    <tr>\n",
       "      <th>3</th>\n",
       "      <td>5</td>\n",
       "      <td>Седан класса C</td>\n",
       "      <td>4</td>\n",
       "      <td>165 мм</td>\n",
       "      <td>4458 × 1796 × 1416</td>\n",
       "      <td>2637 мм</td>\n",
       "      <td>390 л</td>\n",
       "      <td>845 л</td>\n",
       "      <td>1465 кг</td>\n",
       "    </tr>\n",
       "    <tr>\n",
       "      <th>4</th>\n",
       "      <td>5</td>\n",
       "      <td>Седан класса C</td>\n",
       "      <td>4</td>\n",
       "      <td>165 мм</td>\n",
       "      <td>4458 × 1796 × 1416</td>\n",
       "      <td>2637 мм</td>\n",
       "      <td>425 л</td>\n",
       "      <td>880 л</td>\n",
       "      <td>1395 кг</td>\n",
       "    </tr>\n",
       "    <tr>\n",
       "      <th>...</th>\n",
       "      <td>...</td>\n",
       "      <td>...</td>\n",
       "      <td>...</td>\n",
       "      <td>...</td>\n",
       "      <td>...</td>\n",
       "      <td>...</td>\n",
       "      <td>...</td>\n",
       "      <td>...</td>\n",
       "      <td>...</td>\n",
       "    </tr>\n",
       "    <tr>\n",
       "      <th>1698</th>\n",
       "      <td>5</td>\n",
       "      <td>Большой кроссовер</td>\n",
       "      <td>5</td>\n",
       "      <td>237 мм</td>\n",
       "      <td>4950 × 2008 × 1776</td>\n",
       "      <td>2984 мм</td>\n",
       "      <td>721 л</td>\n",
       "      <td>1899 л</td>\n",
       "      <td>1969 кг</td>\n",
       "    </tr>\n",
       "    <tr>\n",
       "      <th>1699</th>\n",
       "      <td>7</td>\n",
       "      <td>Большой кроссовер</td>\n",
       "      <td>5</td>\n",
       "      <td>237 мм</td>\n",
       "      <td>4950 × 2008 × 1776</td>\n",
       "      <td>2984 мм</td>\n",
       "      <td>692 л</td>\n",
       "      <td>1899 л</td>\n",
       "      <td>2004 кг</td>\n",
       "    </tr>\n",
       "    <tr>\n",
       "      <th>1700</th>\n",
       "      <td>7</td>\n",
       "      <td>Большой кроссовер</td>\n",
       "      <td>5</td>\n",
       "      <td>237 мм</td>\n",
       "      <td>4950 × 2008 × 1776</td>\n",
       "      <td>2984 мм</td>\n",
       "      <td>692 л</td>\n",
       "      <td>1899 л</td>\n",
       "      <td>2009 кг</td>\n",
       "    </tr>\n",
       "    <tr>\n",
       "      <th>1701</th>\n",
       "      <td>7</td>\n",
       "      <td>Большой кроссовер</td>\n",
       "      <td>5</td>\n",
       "      <td>237 мм</td>\n",
       "      <td>4950 × 2008 × 1776</td>\n",
       "      <td>2984 мм</td>\n",
       "      <td>640 л</td>\n",
       "      <td>1899 л</td>\n",
       "      <td>2350 кг</td>\n",
       "    </tr>\n",
       "    <tr>\n",
       "      <th>1702</th>\n",
       "      <td>7</td>\n",
       "      <td>Большой кроссовер</td>\n",
       "      <td>5</td>\n",
       "      <td>237 мм</td>\n",
       "      <td>4950 × 2008 × 1776</td>\n",
       "      <td>2984 мм</td>\n",
       "      <td>640 л</td>\n",
       "      <td>1899 л</td>\n",
       "      <td>2350 кг</td>\n",
       "    </tr>\n",
       "  </tbody>\n",
       "</table>\n",
       "<p>1703 rows × 9 columns</p>\n",
       "</div>"
      ],
      "text/plain": [
       "      seats           type_car  doors Дорожный просвет  \\\n",
       "0         5     Седан класса C      4           165 мм   \n",
       "1         5     Седан класса C      4           165 мм   \n",
       "2         5     Седан класса C      4           165 мм   \n",
       "3         5     Седан класса C      4           165 мм   \n",
       "4         5     Седан класса C      4           165 мм   \n",
       "...     ...                ...    ...              ...   \n",
       "1698      5  Большой кроссовер      5           237 мм   \n",
       "1699      7  Большой кроссовер      5           237 мм   \n",
       "1700      7  Большой кроссовер      5           237 мм   \n",
       "1701      7  Большой кроссовер      5           237 мм   \n",
       "1702      7  Большой кроссовер      5           237 мм   \n",
       "\n",
       "     Габариты (длина × ширина × высота) Колёсная база Объём багажника  \\\n",
       "0                    4458 × 1796 × 1416       2637 мм           425 л   \n",
       "1                    4458 × 1796 × 1416       2637 мм           425 л   \n",
       "2                    4458 × 1796 × 1416       2637 мм           425 л   \n",
       "3                    4458 × 1796 × 1416       2637 мм           390 л   \n",
       "4                    4458 × 1796 × 1416       2637 мм           425 л   \n",
       "...                                 ...           ...             ...   \n",
       "1698                 4950 × 2008 × 1776       2984 мм           721 л   \n",
       "1699                 4950 × 2008 × 1776       2984 мм           692 л   \n",
       "1700                 4950 × 2008 × 1776       2984 мм           692 л   \n",
       "1701                 4950 × 2008 × 1776       2984 мм           640 л   \n",
       "1702                 4950 × 2008 × 1776       2984 мм           640 л   \n",
       "\n",
       "     Объём багажника максимальный Масса автомобиля  \n",
       "0                           880 л          1320 кг  \n",
       "1                           880 л          1320 кг  \n",
       "2                           880 л          1395 кг  \n",
       "3                           845 л          1465 кг  \n",
       "4                           880 л          1395 кг  \n",
       "...                           ...              ...  \n",
       "1698                       1899 л          1969 кг  \n",
       "1699                       1899 л          2004 кг  \n",
       "1700                       1899 л          2009 кг  \n",
       "1701                       1899 л          2350 кг  \n",
       "1702                       1899 л          2350 кг  \n",
       "\n",
       "[1703 rows x 9 columns]"
      ]
     },
     "execution_count": 12,
     "metadata": {},
     "output_type": "execute_result"
    }
   ],
   "source": [
    "df"
   ]
  },
  {
   "cell_type": "markdown",
   "metadata": {},
   "source": [
    "Нам нужно изменить столбцы\n",
    "- `Дорожный просвет` убрать единицы измерения\n",
    "- `Габариты` поменять на 3 колонки `Длина`, `Ширина` и `Высота`\n",
    "- Для `Колёсной базы`, `Объёма багажника`, `Макс. объёма багажника`, и `Массы авто.` убрать единицы измерения"
   ]
  },
  {
   "cell_type": "code",
   "execution_count": 13,
   "metadata": {},
   "outputs": [],
   "source": [
    "import seaborn as sns\n",
    "import matplotlib.pyplot as plt"
   ]
  },
  {
   "cell_type": "code",
   "execution_count": 14,
   "metadata": {
    "scrolled": true
   },
   "outputs": [
    {
     "data": {
      "text/plain": [
       "True"
      ]
     },
     "execution_count": 14,
     "metadata": {},
     "output_type": "execute_result"
    }
   ],
   "source": [
    "df['Дорожный просвет'].str.contains('мм').all()"
   ]
  },
  {
   "cell_type": "code",
   "execution_count": 15,
   "metadata": {},
   "outputs": [
    {
     "data": {
      "text/plain": [
       "True"
      ]
     },
     "execution_count": 15,
     "metadata": {},
     "output_type": "execute_result"
    }
   ],
   "source": [
    "df['Колёсная база'].str.contains('мм').all()"
   ]
  },
  {
   "cell_type": "markdown",
   "metadata": {},
   "source": [
    "Во всех строках Lорожный просвет и Колёсная база измеряются в мм"
   ]
  },
  {
   "cell_type": "code",
   "execution_count": 16,
   "metadata": {},
   "outputs": [
    {
     "data": {
      "text/plain": [
       "True"
      ]
     },
     "execution_count": 16,
     "metadata": {},
     "output_type": "execute_result"
    }
   ],
   "source": [
    "df['Объём багажника'].str.contains('л').all()"
   ]
  },
  {
   "cell_type": "code",
   "execution_count": 17,
   "metadata": {},
   "outputs": [
    {
     "data": {
      "text/plain": [
       "True"
      ]
     },
     "execution_count": 17,
     "metadata": {},
     "output_type": "execute_result"
    }
   ],
   "source": [
    "df['Объём багажника максимальный'].str.contains('л').all()"
   ]
  },
  {
   "cell_type": "code",
   "execution_count": 18,
   "metadata": {},
   "outputs": [
    {
     "data": {
      "text/plain": [
       "True"
      ]
     },
     "execution_count": 18,
     "metadata": {},
     "output_type": "execute_result"
    }
   ],
   "source": [
    "df['Масса автомобиля'].str.contains('кг').all()"
   ]
  },
  {
   "cell_type": "markdown",
   "metadata": {},
   "source": [
    "Объём багажника тоже измеряется только в литрах, масса - в кг"
   ]
  },
  {
   "cell_type": "code",
   "execution_count": 19,
   "metadata": {},
   "outputs": [],
   "source": [
    "def del_units(x):\n",
    "    x = x.split()[0]\n",
    "    return int(x)"
   ]
  },
  {
   "cell_type": "code",
   "execution_count": 20,
   "metadata": {},
   "outputs": [],
   "source": [
    "cols_tochange = ['Дорожный просвет', 'Колёсная база', 'Объём багажника', 'Объём багажника максимальный', 'Масса автомобиля']"
   ]
  },
  {
   "cell_type": "code",
   "execution_count": 21,
   "metadata": {},
   "outputs": [],
   "source": [
    "for i in cols_tochange:\n",
    "    df[i] = df[i].map(del_units)"
   ]
  },
  {
   "cell_type": "code",
   "execution_count": 22,
   "metadata": {},
   "outputs": [
    {
     "data": {
      "text/html": [
       "<div>\n",
       "<style scoped>\n",
       "    .dataframe tbody tr th:only-of-type {\n",
       "        vertical-align: middle;\n",
       "    }\n",
       "\n",
       "    .dataframe tbody tr th {\n",
       "        vertical-align: top;\n",
       "    }\n",
       "\n",
       "    .dataframe thead th {\n",
       "        text-align: right;\n",
       "    }\n",
       "</style>\n",
       "<table border=\"1\" class=\"dataframe\">\n",
       "  <thead>\n",
       "    <tr style=\"text-align: right;\">\n",
       "      <th></th>\n",
       "      <th>seats</th>\n",
       "      <th>type_car</th>\n",
       "      <th>doors</th>\n",
       "      <th>Дорожный просвет</th>\n",
       "      <th>Габариты (длина × ширина × высота)</th>\n",
       "      <th>Колёсная база</th>\n",
       "      <th>Объём багажника</th>\n",
       "      <th>Объём багажника максимальный</th>\n",
       "      <th>Масса автомобиля</th>\n",
       "    </tr>\n",
       "  </thead>\n",
       "  <tbody>\n",
       "    <tr>\n",
       "      <th>0</th>\n",
       "      <td>5</td>\n",
       "      <td>Седан класса C</td>\n",
       "      <td>4</td>\n",
       "      <td>165</td>\n",
       "      <td>4458 × 1796 × 1416</td>\n",
       "      <td>2637</td>\n",
       "      <td>425</td>\n",
       "      <td>880</td>\n",
       "      <td>1320</td>\n",
       "    </tr>\n",
       "    <tr>\n",
       "      <th>1</th>\n",
       "      <td>5</td>\n",
       "      <td>Седан класса C</td>\n",
       "      <td>4</td>\n",
       "      <td>165</td>\n",
       "      <td>4458 × 1796 × 1416</td>\n",
       "      <td>2637</td>\n",
       "      <td>425</td>\n",
       "      <td>880</td>\n",
       "      <td>1320</td>\n",
       "    </tr>\n",
       "    <tr>\n",
       "      <th>2</th>\n",
       "      <td>5</td>\n",
       "      <td>Седан класса C</td>\n",
       "      <td>4</td>\n",
       "      <td>165</td>\n",
       "      <td>4458 × 1796 × 1416</td>\n",
       "      <td>2637</td>\n",
       "      <td>425</td>\n",
       "      <td>880</td>\n",
       "      <td>1395</td>\n",
       "    </tr>\n",
       "    <tr>\n",
       "      <th>3</th>\n",
       "      <td>5</td>\n",
       "      <td>Седан класса C</td>\n",
       "      <td>4</td>\n",
       "      <td>165</td>\n",
       "      <td>4458 × 1796 × 1416</td>\n",
       "      <td>2637</td>\n",
       "      <td>390</td>\n",
       "      <td>845</td>\n",
       "      <td>1465</td>\n",
       "    </tr>\n",
       "    <tr>\n",
       "      <th>4</th>\n",
       "      <td>5</td>\n",
       "      <td>Седан класса C</td>\n",
       "      <td>4</td>\n",
       "      <td>165</td>\n",
       "      <td>4458 × 1796 × 1416</td>\n",
       "      <td>2637</td>\n",
       "      <td>425</td>\n",
       "      <td>880</td>\n",
       "      <td>1395</td>\n",
       "    </tr>\n",
       "  </tbody>\n",
       "</table>\n",
       "</div>"
      ],
      "text/plain": [
       "   seats        type_car  doors  Дорожный просвет  \\\n",
       "0      5  Седан класса C      4               165   \n",
       "1      5  Седан класса C      4               165   \n",
       "2      5  Седан класса C      4               165   \n",
       "3      5  Седан класса C      4               165   \n",
       "4      5  Седан класса C      4               165   \n",
       "\n",
       "  Габариты (длина × ширина × высота)  Колёсная база  Объём багажника  \\\n",
       "0                 4458 × 1796 × 1416           2637              425   \n",
       "1                 4458 × 1796 × 1416           2637              425   \n",
       "2                 4458 × 1796 × 1416           2637              425   \n",
       "3                 4458 × 1796 × 1416           2637              390   \n",
       "4                 4458 × 1796 × 1416           2637              425   \n",
       "\n",
       "   Объём багажника максимальный  Масса автомобиля  \n",
       "0                           880              1320  \n",
       "1                           880              1320  \n",
       "2                           880              1395  \n",
       "3                           845              1465  \n",
       "4                           880              1395  "
      ]
     },
     "execution_count": 22,
     "metadata": {},
     "output_type": "execute_result"
    }
   ],
   "source": [
    "df.head()"
   ]
  },
  {
   "cell_type": "code",
   "execution_count": 23,
   "metadata": {},
   "outputs": [
    {
     "data": {
      "text/plain": [
       "seats                                  int64\n",
       "type_car                              object\n",
       "doors                                  int64\n",
       "Дорожный просвет                       int64\n",
       "Габариты (длина × ширина × высота)    object\n",
       "Колёсная база                          int64\n",
       "Объём багажника                        int64\n",
       "Объём багажника максимальный           int64\n",
       "Масса автомобиля                       int64\n",
       "dtype: object"
      ]
     },
     "execution_count": 23,
     "metadata": {},
     "output_type": "execute_result"
    }
   ],
   "source": [
    "df.dtypes"
   ]
  },
  {
   "cell_type": "code",
   "execution_count": 24,
   "metadata": {},
   "outputs": [
    {
     "data": {
      "text/plain": [
       "<AxesSubplot:xlabel='Дорожный просвет', ylabel='Count'>"
      ]
     },
     "execution_count": 24,
     "metadata": {},
     "output_type": "execute_result"
    },
    {
     "data": {
      "image/png": "[encoded data removed]",
      "text/plain": [
       "<Figure size 432x288 with 1 Axes>"
      ]
     },
     "metadata": {
      "needs_background": "light"
     },
     "output_type": "display_data"
    }
   ],
   "source": [
    "sns.histplot(df, x='Дорожный просвет')"
   ]
  },
  {
   "cell_type": "code",
   "execution_count": 25,
   "metadata": {},
   "outputs": [
    {
     "data": {
      "text/plain": [
       "<AxesSubplot:xlabel='Колёсная база', ylabel='Count'>"
      ]
     },
     "execution_count": 25,
     "metadata": {},
     "output_type": "execute_result"
    },
    {
     "data": {
      "image/png": "[encoded data removed]",
      "text/plain": [
       "<Figure size 432x288 with 1 Axes>"
      ]
     },
     "metadata": {
      "needs_background": "light"
     },
     "output_type": "display_data"
    }
   ],
   "source": [
    "sns.histplot(df, x='Колёсная база')"
   ]
  },
  {
   "cell_type": "code",
   "execution_count": 26,
   "metadata": {},
   "outputs": [
    {
     "data": {
      "text/plain": [
       "<AxesSubplot:xlabel='Объём багажника', ylabel='Count'>"
      ]
     },
     "execution_count": 26,
     "metadata": {},
     "output_type": "execute_result"
    },
    {
     "data": {
      "image/png": "[encoded data removed]",
      "text/plain": [
       "<Figure size 432x288 with 1 Axes>"
      ]
     },
     "metadata": {
      "needs_background": "light"
     },
     "output_type": "display_data"
    }
   ],
   "source": [
    "sns.histplot(data=df, x='Объём багажника')"
   ]
  },
  {
   "cell_type": "code",
   "execution_count": 27,
   "metadata": {},
   "outputs": [
    {
     "data": {
      "text/plain": [
       "<AxesSubplot:xlabel='Объём багажника максимальный', ylabel='Count'>"
      ]
     },
     "execution_count": 27,
     "metadata": {},
     "output_type": "execute_result"
    },
    {
     "data": {
      "image/png": "[encoded data removed]",
      "text/plain": [
       "<Figure size 432x288 with 1 Axes>"
      ]
     },
     "metadata": {
      "needs_background": "light"
     },
     "output_type": "display_data"
    }
   ],
   "source": [
    "sns.histplot(df, x='Объём багажника максимальный')"
   ]
  },
  {
   "cell_type": "code",
   "execution_count": 28,
   "metadata": {},
   "outputs": [
    {
     "data": {
      "text/plain": [
       "<AxesSubplot:xlabel='Масса автомобиля', ylabel='Count'>"
      ]
     },
     "execution_count": 28,
     "metadata": {},
     "output_type": "execute_result"
    },
    {
     "data": {
      "image/png": "[encoded data removed]",
      "text/plain": [
       "<Figure size 432x288 with 1 Axes>"
      ]
     },
     "metadata": {
      "needs_background": "light"
     },
     "output_type": "display_data"
    }
   ],
   "source": [
    "sns.histplot(df, x='Масса автомобиля')"
   ]
  },
  {
   "cell_type": "code",
   "execution_count": 31,
   "metadata": {},
   "outputs": [
    {
     "data": {
      "text/plain": [
       "42"
      ]
     },
     "execution_count": 31,
     "metadata": {},
     "output_type": "execute_result"
    }
   ],
   "source": [
    "len(df[df['Объём багажника максимальный'] == 0])"
   ]
  },
  {
   "cell_type": "code",
   "execution_count": 48,
   "metadata": {},
   "outputs": [
    {
     "data": {
      "text/html": [
       "<div>\n",
       "<style scoped>\n",
       "    .dataframe tbody tr th:only-of-type {\n",
       "        vertical-align: middle;\n",
       "    }\n",
       "\n",
       "    .dataframe tbody tr th {\n",
       "        vertical-align: top;\n",
       "    }\n",
       "\n",
       "    .dataframe thead th {\n",
       "        text-align: right;\n",
       "    }\n",
       "</style>\n",
       "<table border=\"1\" class=\"dataframe\">\n",
       "  <thead>\n",
       "    <tr style=\"text-align: right;\">\n",
       "      <th></th>\n",
       "      <th>seats</th>\n",
       "      <th>type_car</th>\n",
       "      <th>doors</th>\n",
       "      <th>Дорожный просвет</th>\n",
       "      <th>Габариты (длина × ширина × высота)</th>\n",
       "      <th>Колёсная база</th>\n",
       "      <th>Объём багажника</th>\n",
       "      <th>Объём багажника максимальный</th>\n",
       "      <th>Масса автомобиля</th>\n",
       "    </tr>\n",
       "  </thead>\n",
       "  <tbody>\n",
       "    <tr>\n",
       "      <th>969</th>\n",
       "      <td>5</td>\n",
       "      <td>Компактный кроссовер</td>\n",
       "      <td>5</td>\n",
       "      <td>160</td>\n",
       "      <td>4495 × 1840 × 1540</td>\n",
       "      <td>2640</td>\n",
       "      <td>272</td>\n",
       "      <td>0</td>\n",
       "      <td>1460</td>\n",
       "    </tr>\n",
       "    <tr>\n",
       "      <th>970</th>\n",
       "      <td>5</td>\n",
       "      <td>Компактный кроссовер</td>\n",
       "      <td>5</td>\n",
       "      <td>160</td>\n",
       "      <td>4495 × 1840 × 1540</td>\n",
       "      <td>2640</td>\n",
       "      <td>272</td>\n",
       "      <td>0</td>\n",
       "      <td>1460</td>\n",
       "    </tr>\n",
       "    <tr>\n",
       "      <th>971</th>\n",
       "      <td>5</td>\n",
       "      <td>Компактный кроссовер</td>\n",
       "      <td>5</td>\n",
       "      <td>160</td>\n",
       "      <td>4495 × 1840 × 1540</td>\n",
       "      <td>2640</td>\n",
       "      <td>272</td>\n",
       "      <td>0</td>\n",
       "      <td>1460</td>\n",
       "    </tr>\n",
       "    <tr>\n",
       "      <th>972</th>\n",
       "      <td>5</td>\n",
       "      <td>Компактный кроссовер</td>\n",
       "      <td>5</td>\n",
       "      <td>160</td>\n",
       "      <td>4495 × 1840 × 1540</td>\n",
       "      <td>2640</td>\n",
       "      <td>272</td>\n",
       "      <td>0</td>\n",
       "      <td>1460</td>\n",
       "    </tr>\n",
       "    <tr>\n",
       "      <th>973</th>\n",
       "      <td>5</td>\n",
       "      <td>Компактный кроссовер</td>\n",
       "      <td>5</td>\n",
       "      <td>160</td>\n",
       "      <td>4495 × 1840 × 1540</td>\n",
       "      <td>2640</td>\n",
       "      <td>272</td>\n",
       "      <td>0</td>\n",
       "      <td>1600</td>\n",
       "    </tr>\n",
       "    <tr>\n",
       "      <th>974</th>\n",
       "      <td>5</td>\n",
       "      <td>Компактный кроссовер</td>\n",
       "      <td>5</td>\n",
       "      <td>160</td>\n",
       "      <td>4495 × 1840 × 1540</td>\n",
       "      <td>2640</td>\n",
       "      <td>272</td>\n",
       "      <td>0</td>\n",
       "      <td>1600</td>\n",
       "    </tr>\n",
       "    <tr>\n",
       "      <th>975</th>\n",
       "      <td>5</td>\n",
       "      <td>Компактный кроссовер</td>\n",
       "      <td>5</td>\n",
       "      <td>160</td>\n",
       "      <td>4495 × 1840 × 1540</td>\n",
       "      <td>2640</td>\n",
       "      <td>272</td>\n",
       "      <td>0</td>\n",
       "      <td>1600</td>\n",
       "    </tr>\n",
       "  </tbody>\n",
       "</table>\n",
       "</div>"
      ],
      "text/plain": [
       "     seats              type_car  doors  Дорожный просвет  \\\n",
       "969      5  Компактный кроссовер      5               160   \n",
       "970      5  Компактный кроссовер      5               160   \n",
       "971      5  Компактный кроссовер      5               160   \n",
       "972      5  Компактный кроссовер      5               160   \n",
       "973      5  Компактный кроссовер      5               160   \n",
       "974      5  Компактный кроссовер      5               160   \n",
       "975      5  Компактный кроссовер      5               160   \n",
       "\n",
       "    Габариты (длина × ширина × высота)  Колёсная база  Объём багажника  \\\n",
       "969                 4495 × 1840 × 1540           2640              272   \n",
       "970                 4495 × 1840 × 1540           2640              272   \n",
       "971                 4495 × 1840 × 1540           2640              272   \n",
       "972                 4495 × 1840 × 1540           2640              272   \n",
       "973                 4495 × 1840 × 1540           2640              272   \n",
       "974                 4495 × 1840 × 1540           2640              272   \n",
       "975                 4495 × 1840 × 1540           2640              272   \n",
       "\n",
       "     Объём багажника максимальный  Масса автомобиля  \n",
       "969                             0              1460  \n",
       "970                             0              1460  \n",
       "971                             0              1460  \n",
       "972                             0              1460  \n",
       "973                             0              1600  \n",
       "974                             0              1600  \n",
       "975                             0              1600  "
      ]
     },
     "execution_count": 48,
     "metadata": {},
     "output_type": "execute_result"
    }
   ],
   "source": [
    "df.loc[df['Объём багажника'] > df['Объём багажника максимальный']]"
   ]
  },
  {
   "cell_type": "code",
   "execution_count": 50,
   "metadata": {},
   "outputs": [],
   "source": [
    "df.loc[df['Объём багажника'] > df['Объём багажника максимальный'], 'Объём багажника максимальный'] = df.loc[df['Объём багажника'] > df['Объём багажника максимальный'], 'Объём багажника']"
   ]
  },
  {
   "cell_type": "code",
   "execution_count": 54,
   "metadata": {},
   "outputs": [
    {
     "data": {
      "text/html": [
       "<div>\n",
       "<style scoped>\n",
       "    .dataframe tbody tr th:only-of-type {\n",
       "        vertical-align: middle;\n",
       "    }\n",
       "\n",
       "    .dataframe tbody tr th {\n",
       "        vertical-align: top;\n",
       "    }\n",
       "\n",
       "    .dataframe thead th {\n",
       "        text-align: right;\n",
       "    }\n",
       "</style>\n",
       "<table border=\"1\" class=\"dataframe\">\n",
       "  <thead>\n",
       "    <tr style=\"text-align: right;\">\n",
       "      <th></th>\n",
       "      <th>seats</th>\n",
       "      <th>type_car</th>\n",
       "      <th>doors</th>\n",
       "      <th>Дорожный просвет</th>\n",
       "      <th>Габариты (длина × ширина × высота)</th>\n",
       "      <th>Колёсная база</th>\n",
       "      <th>Объём багажника</th>\n",
       "      <th>Объём багажника максимальный</th>\n",
       "      <th>Масса автомобиля</th>\n",
       "    </tr>\n",
       "  </thead>\n",
       "  <tbody>\n",
       "    <tr>\n",
       "      <th>12</th>\n",
       "      <td>5</td>\n",
       "      <td>Седан класса D</td>\n",
       "      <td>4</td>\n",
       "      <td>160</td>\n",
       "      <td>4738 × 1847 × 1426</td>\n",
       "      <td>2820</td>\n",
       "      <td>460</td>\n",
       "      <td>460</td>\n",
       "      <td>1375</td>\n",
       "    </tr>\n",
       "    <tr>\n",
       "      <th>13</th>\n",
       "      <td>5</td>\n",
       "      <td>Седан класса D</td>\n",
       "      <td>4</td>\n",
       "      <td>160</td>\n",
       "      <td>4738 × 1847 × 1426</td>\n",
       "      <td>2820</td>\n",
       "      <td>460</td>\n",
       "      <td>460</td>\n",
       "      <td>1375</td>\n",
       "    </tr>\n",
       "    <tr>\n",
       "      <th>14</th>\n",
       "      <td>5</td>\n",
       "      <td>Седан класса D</td>\n",
       "      <td>4</td>\n",
       "      <td>160</td>\n",
       "      <td>4738 × 1847 × 1426</td>\n",
       "      <td>2820</td>\n",
       "      <td>460</td>\n",
       "      <td>460</td>\n",
       "      <td>1375</td>\n",
       "    </tr>\n",
       "    <tr>\n",
       "      <th>15</th>\n",
       "      <td>5</td>\n",
       "      <td>Седан класса D</td>\n",
       "      <td>4</td>\n",
       "      <td>160</td>\n",
       "      <td>4738 × 1847 × 1426</td>\n",
       "      <td>2820</td>\n",
       "      <td>460</td>\n",
       "      <td>460</td>\n",
       "      <td>1430</td>\n",
       "    </tr>\n",
       "    <tr>\n",
       "      <th>16</th>\n",
       "      <td>5</td>\n",
       "      <td>Седан класса D</td>\n",
       "      <td>4</td>\n",
       "      <td>160</td>\n",
       "      <td>4738 × 1847 × 1426</td>\n",
       "      <td>2820</td>\n",
       "      <td>460</td>\n",
       "      <td>460</td>\n",
       "      <td>1375</td>\n",
       "    </tr>\n",
       "    <tr>\n",
       "      <th>...</th>\n",
       "      <td>...</td>\n",
       "      <td>...</td>\n",
       "      <td>...</td>\n",
       "      <td>...</td>\n",
       "      <td>...</td>\n",
       "      <td>...</td>\n",
       "      <td>...</td>\n",
       "      <td>...</td>\n",
       "      <td>...</td>\n",
       "    </tr>\n",
       "    <tr>\n",
       "      <th>1642</th>\n",
       "      <td>5</td>\n",
       "      <td>Седан класса E</td>\n",
       "      <td>4</td>\n",
       "      <td>152</td>\n",
       "      <td>4963 × 1879 × 1443</td>\n",
       "      <td>2941</td>\n",
       "      <td>500</td>\n",
       "      <td>500</td>\n",
       "      <td>1674</td>\n",
       "    </tr>\n",
       "    <tr>\n",
       "      <th>1643</th>\n",
       "      <td>5</td>\n",
       "      <td>Седан класса E</td>\n",
       "      <td>4</td>\n",
       "      <td>152</td>\n",
       "      <td>4963 × 1879 × 1443</td>\n",
       "      <td>2941</td>\n",
       "      <td>500</td>\n",
       "      <td>500</td>\n",
       "      <td>1763</td>\n",
       "    </tr>\n",
       "    <tr>\n",
       "      <th>1644</th>\n",
       "      <td>5</td>\n",
       "      <td>Седан класса E</td>\n",
       "      <td>4</td>\n",
       "      <td>152</td>\n",
       "      <td>4963 × 1879 × 1443</td>\n",
       "      <td>2941</td>\n",
       "      <td>500</td>\n",
       "      <td>500</td>\n",
       "      <td>1763</td>\n",
       "    </tr>\n",
       "    <tr>\n",
       "      <th>1645</th>\n",
       "      <td>5</td>\n",
       "      <td>Седан класса E</td>\n",
       "      <td>4</td>\n",
       "      <td>152</td>\n",
       "      <td>4963 × 1879 × 1443</td>\n",
       "      <td>2941</td>\n",
       "      <td>500</td>\n",
       "      <td>500</td>\n",
       "      <td>1764</td>\n",
       "    </tr>\n",
       "    <tr>\n",
       "      <th>1646</th>\n",
       "      <td>5</td>\n",
       "      <td>Седан класса E</td>\n",
       "      <td>4</td>\n",
       "      <td>152</td>\n",
       "      <td>4963 × 1879 × 1443</td>\n",
       "      <td>2941</td>\n",
       "      <td>500</td>\n",
       "      <td>500</td>\n",
       "      <td>1764</td>\n",
       "    </tr>\n",
       "  </tbody>\n",
       "</table>\n",
       "<p>521 rows × 9 columns</p>\n",
       "</div>"
      ],
      "text/plain": [
       "      seats        type_car  doors  Дорожный просвет  \\\n",
       "12        5  Седан класса D      4               160   \n",
       "13        5  Седан класса D      4               160   \n",
       "14        5  Седан класса D      4               160   \n",
       "15        5  Седан класса D      4               160   \n",
       "16        5  Седан класса D      4               160   \n",
       "...     ...             ...    ...               ...   \n",
       "1642      5  Седан класса E      4               152   \n",
       "1643      5  Седан класса E      4               152   \n",
       "1644      5  Седан класса E      4               152   \n",
       "1645      5  Седан класса E      4               152   \n",
       "1646      5  Седан класса E      4               152   \n",
       "\n",
       "     Габариты (длина × ширина × высота)  Колёсная база  Объём багажника  \\\n",
       "12                   4738 × 1847 × 1426           2820              460   \n",
       "13                   4738 × 1847 × 1426           2820              460   \n",
       "14                   4738 × 1847 × 1426           2820              460   \n",
       "15                   4738 × 1847 × 1426           2820              460   \n",
       "16                   4738 × 1847 × 1426           2820              460   \n",
       "...                                 ...            ...              ...   \n",
       "1642                 4963 × 1879 × 1443           2941              500   \n",
       "1643                 4963 × 1879 × 1443           2941              500   \n",
       "1644                 4963 × 1879 × 1443           2941              500   \n",
       "1645                 4963 × 1879 × 1443           2941              500   \n",
       "1646                 4963 × 1879 × 1443           2941              500   \n",
       "\n",
       "      Объём багажника максимальный  Масса автомобиля  \n",
       "12                             460              1375  \n",
       "13                             460              1375  \n",
       "14                             460              1375  \n",
       "15                             460              1430  \n",
       "16                             460              1375  \n",
       "...                            ...               ...  \n",
       "1642                           500              1674  \n",
       "1643                           500              1763  \n",
       "1644                           500              1763  \n",
       "1645                           500              1764  \n",
       "1646                           500              1764  \n",
       "\n",
       "[521 rows x 9 columns]"
      ]
     },
     "execution_count": 54,
     "metadata": {},
     "output_type": "execute_result"
    }
   ],
   "source": [
    "df[df['Объём багажника'] == df['Объём багажника максимальный']]"
   ]
  },
  {
   "cell_type": "code",
   "execution_count": 58,
   "metadata": {},
   "outputs": [],
   "source": [
    "df.loc[df['Объём багажника'] == 0, 'Объём багажника'] = df.loc[df['Объём багажника'] == 0, 'Объём багажника максимальный']"
   ]
  },
  {
   "cell_type": "code",
   "execution_count": 60,
   "metadata": {},
   "outputs": [
    {
     "data": {
      "text/html": [
       "<div>\n",
       "<style scoped>\n",
       "    .dataframe tbody tr th:only-of-type {\n",
       "        vertical-align: middle;\n",
       "    }\n",
       "\n",
       "    .dataframe tbody tr th {\n",
       "        vertical-align: top;\n",
       "    }\n",
       "\n",
       "    .dataframe thead th {\n",
       "        text-align: right;\n",
       "    }\n",
       "</style>\n",
       "<table border=\"1\" class=\"dataframe\">\n",
       "  <thead>\n",
       "    <tr style=\"text-align: right;\">\n",
       "      <th></th>\n",
       "      <th>seats</th>\n",
       "      <th>type_car</th>\n",
       "      <th>doors</th>\n",
       "      <th>Дорожный просвет</th>\n",
       "      <th>Габариты (длина × ширина × высота)</th>\n",
       "      <th>Колёсная база</th>\n",
       "      <th>Объём багажника</th>\n",
       "      <th>Объём багажника максимальный</th>\n",
       "      <th>Масса автомобиля</th>\n",
       "    </tr>\n",
       "  </thead>\n",
       "  <tbody>\n",
       "    <tr>\n",
       "      <th>920</th>\n",
       "      <td>5</td>\n",
       "      <td>Седан класса E</td>\n",
       "      <td>4</td>\n",
       "      <td>153</td>\n",
       "      <td>4975 × 1865 × 1445</td>\n",
       "      <td>2870</td>\n",
       "      <td>0</td>\n",
       "      <td>0</td>\n",
       "      <td>1700</td>\n",
       "    </tr>\n",
       "    <tr>\n",
       "      <th>921</th>\n",
       "      <td>5</td>\n",
       "      <td>Седан класса E</td>\n",
       "      <td>4</td>\n",
       "      <td>154</td>\n",
       "      <td>4975 × 1865 × 1445</td>\n",
       "      <td>2870</td>\n",
       "      <td>0</td>\n",
       "      <td>0</td>\n",
       "      <td>1695</td>\n",
       "    </tr>\n",
       "    <tr>\n",
       "      <th>922</th>\n",
       "      <td>5</td>\n",
       "      <td>Седан класса E</td>\n",
       "      <td>4</td>\n",
       "      <td>154</td>\n",
       "      <td>4975 × 1865 × 1445</td>\n",
       "      <td>2870</td>\n",
       "      <td>0</td>\n",
       "      <td>0</td>\n",
       "      <td>1695</td>\n",
       "    </tr>\n",
       "    <tr>\n",
       "      <th>923</th>\n",
       "      <td>5</td>\n",
       "      <td>Седан класса E</td>\n",
       "      <td>4</td>\n",
       "      <td>154</td>\n",
       "      <td>4975 × 1865 × 1445</td>\n",
       "      <td>2870</td>\n",
       "      <td>0</td>\n",
       "      <td>0</td>\n",
       "      <td>1695</td>\n",
       "    </tr>\n",
       "    <tr>\n",
       "      <th>924</th>\n",
       "      <td>5</td>\n",
       "      <td>Седан класса E</td>\n",
       "      <td>4</td>\n",
       "      <td>154</td>\n",
       "      <td>4975 × 1865 × 1445</td>\n",
       "      <td>2870</td>\n",
       "      <td>0</td>\n",
       "      <td>0</td>\n",
       "      <td>1695</td>\n",
       "    </tr>\n",
       "    <tr>\n",
       "      <th>925</th>\n",
       "      <td>5</td>\n",
       "      <td>Седан класса E</td>\n",
       "      <td>4</td>\n",
       "      <td>150</td>\n",
       "      <td>4975 × 1865 × 1445</td>\n",
       "      <td>2870</td>\n",
       "      <td>0</td>\n",
       "      <td>0</td>\n",
       "      <td>1725</td>\n",
       "    </tr>\n",
       "    <tr>\n",
       "      <th>926</th>\n",
       "      <td>5</td>\n",
       "      <td>Седан класса E</td>\n",
       "      <td>4</td>\n",
       "      <td>154</td>\n",
       "      <td>4975 × 1865 × 1445</td>\n",
       "      <td>2870</td>\n",
       "      <td>0</td>\n",
       "      <td>0</td>\n",
       "      <td>1695</td>\n",
       "    </tr>\n",
       "    <tr>\n",
       "      <th>927</th>\n",
       "      <td>5</td>\n",
       "      <td>Седан класса E</td>\n",
       "      <td>4</td>\n",
       "      <td>150</td>\n",
       "      <td>4975 × 1865 × 1445</td>\n",
       "      <td>2870</td>\n",
       "      <td>0</td>\n",
       "      <td>0</td>\n",
       "      <td>1725</td>\n",
       "    </tr>\n",
       "    <tr>\n",
       "      <th>932</th>\n",
       "      <td>4</td>\n",
       "      <td>Спорткупе</td>\n",
       "      <td>2</td>\n",
       "      <td>133</td>\n",
       "      <td>4770 × 1920 × 1345</td>\n",
       "      <td>2870</td>\n",
       "      <td>0</td>\n",
       "      <td>0</td>\n",
       "      <td>1935</td>\n",
       "    </tr>\n",
       "    <tr>\n",
       "      <th>1082</th>\n",
       "      <td>5</td>\n",
       "      <td>Пикап</td>\n",
       "      <td>4</td>\n",
       "      <td>222</td>\n",
       "      <td>5340 × 1920 × 1819</td>\n",
       "      <td>3150</td>\n",
       "      <td>0</td>\n",
       "      <td>0</td>\n",
       "      <td>2167</td>\n",
       "    </tr>\n",
       "    <tr>\n",
       "      <th>1083</th>\n",
       "      <td>5</td>\n",
       "      <td>Пикап</td>\n",
       "      <td>4</td>\n",
       "      <td>222</td>\n",
       "      <td>5340 × 1920 × 1819</td>\n",
       "      <td>3150</td>\n",
       "      <td>0</td>\n",
       "      <td>0</td>\n",
       "      <td>2193</td>\n",
       "    </tr>\n",
       "    <tr>\n",
       "      <th>1084</th>\n",
       "      <td>5</td>\n",
       "      <td>Пикап</td>\n",
       "      <td>4</td>\n",
       "      <td>222</td>\n",
       "      <td>5340 × 1920 × 1819</td>\n",
       "      <td>3150</td>\n",
       "      <td>0</td>\n",
       "      <td>0</td>\n",
       "      <td>2193</td>\n",
       "    </tr>\n",
       "    <tr>\n",
       "      <th>1085</th>\n",
       "      <td>5</td>\n",
       "      <td>Пикап</td>\n",
       "      <td>4</td>\n",
       "      <td>222</td>\n",
       "      <td>5340 × 1920 × 1819</td>\n",
       "      <td>3150</td>\n",
       "      <td>0</td>\n",
       "      <td>0</td>\n",
       "      <td>2249</td>\n",
       "    </tr>\n",
       "    <tr>\n",
       "      <th>1086</th>\n",
       "      <td>5</td>\n",
       "      <td>Пикап</td>\n",
       "      <td>4</td>\n",
       "      <td>222</td>\n",
       "      <td>5340 × 1920 × 1819</td>\n",
       "      <td>3150</td>\n",
       "      <td>0</td>\n",
       "      <td>0</td>\n",
       "      <td>2249</td>\n",
       "    </tr>\n",
       "    <tr>\n",
       "      <th>1094</th>\n",
       "      <td>5</td>\n",
       "      <td>Пикап</td>\n",
       "      <td>4</td>\n",
       "      <td>200</td>\n",
       "      <td>5225 × 1815 × 1775</td>\n",
       "      <td>3000</td>\n",
       "      <td>0</td>\n",
       "      <td>0</td>\n",
       "      <td>1930</td>\n",
       "    </tr>\n",
       "    <tr>\n",
       "      <th>1095</th>\n",
       "      <td>5</td>\n",
       "      <td>Пикап</td>\n",
       "      <td>4</td>\n",
       "      <td>200</td>\n",
       "      <td>5225 × 1815 × 1775</td>\n",
       "      <td>3000</td>\n",
       "      <td>0</td>\n",
       "      <td>0</td>\n",
       "      <td>1930</td>\n",
       "    </tr>\n",
       "    <tr>\n",
       "      <th>1096</th>\n",
       "      <td>5</td>\n",
       "      <td>Пикап</td>\n",
       "      <td>4</td>\n",
       "      <td>220</td>\n",
       "      <td>5225 × 1815 × 1795</td>\n",
       "      <td>3000</td>\n",
       "      <td>0</td>\n",
       "      <td>0</td>\n",
       "      <td>1930</td>\n",
       "    </tr>\n",
       "    <tr>\n",
       "      <th>1097</th>\n",
       "      <td>5</td>\n",
       "      <td>Пикап</td>\n",
       "      <td>4</td>\n",
       "      <td>220</td>\n",
       "      <td>5225 × 1815 × 1795</td>\n",
       "      <td>3000</td>\n",
       "      <td>0</td>\n",
       "      <td>0</td>\n",
       "      <td>1930</td>\n",
       "    </tr>\n",
       "    <tr>\n",
       "      <th>1098</th>\n",
       "      <td>5</td>\n",
       "      <td>Пикап</td>\n",
       "      <td>4</td>\n",
       "      <td>220</td>\n",
       "      <td>5225 × 1815 × 1795</td>\n",
       "      <td>3000</td>\n",
       "      <td>0</td>\n",
       "      <td>0</td>\n",
       "      <td>1930</td>\n",
       "    </tr>\n",
       "    <tr>\n",
       "      <th>1436</th>\n",
       "      <td>5</td>\n",
       "      <td>Пикап</td>\n",
       "      <td>4</td>\n",
       "      <td>227</td>\n",
       "      <td>5325 × 1855 × 1815</td>\n",
       "      <td>3085</td>\n",
       "      <td>0</td>\n",
       "      <td>0</td>\n",
       "      <td>1950</td>\n",
       "    </tr>\n",
       "    <tr>\n",
       "      <th>1437</th>\n",
       "      <td>5</td>\n",
       "      <td>Пикап</td>\n",
       "      <td>4</td>\n",
       "      <td>227</td>\n",
       "      <td>5325 × 1855 × 1815</td>\n",
       "      <td>3085</td>\n",
       "      <td>0</td>\n",
       "      <td>0</td>\n",
       "      <td>2130</td>\n",
       "    </tr>\n",
       "    <tr>\n",
       "      <th>1438</th>\n",
       "      <td>5</td>\n",
       "      <td>Пикап</td>\n",
       "      <td>4</td>\n",
       "      <td>227</td>\n",
       "      <td>5325 × 1855 × 1815</td>\n",
       "      <td>3085</td>\n",
       "      <td>0</td>\n",
       "      <td>0</td>\n",
       "      <td>2130</td>\n",
       "    </tr>\n",
       "    <tr>\n",
       "      <th>1439</th>\n",
       "      <td>5</td>\n",
       "      <td>Пикап</td>\n",
       "      <td>4</td>\n",
       "      <td>227</td>\n",
       "      <td>5325 × 1855 × 1815</td>\n",
       "      <td>3085</td>\n",
       "      <td>0</td>\n",
       "      <td>0</td>\n",
       "      <td>2155</td>\n",
       "    </tr>\n",
       "    <tr>\n",
       "      <th>1440</th>\n",
       "      <td>5</td>\n",
       "      <td>Пикап</td>\n",
       "      <td>4</td>\n",
       "      <td>227</td>\n",
       "      <td>5325 × 1855 × 1815</td>\n",
       "      <td>3085</td>\n",
       "      <td>0</td>\n",
       "      <td>0</td>\n",
       "      <td>2155</td>\n",
       "    </tr>\n",
       "    <tr>\n",
       "      <th>1477</th>\n",
       "      <td>5</td>\n",
       "      <td>Пикап</td>\n",
       "      <td>4</td>\n",
       "      <td>192</td>\n",
       "      <td>5254 × 1954 × 1834</td>\n",
       "      <td>3097</td>\n",
       "      <td>0</td>\n",
       "      <td>0</td>\n",
       "      <td>1968</td>\n",
       "    </tr>\n",
       "    <tr>\n",
       "      <th>1478</th>\n",
       "      <td>5</td>\n",
       "      <td>Пикап</td>\n",
       "      <td>4</td>\n",
       "      <td>192</td>\n",
       "      <td>5254 × 1954 × 1834</td>\n",
       "      <td>3097</td>\n",
       "      <td>0</td>\n",
       "      <td>0</td>\n",
       "      <td>1988</td>\n",
       "    </tr>\n",
       "    <tr>\n",
       "      <th>1479</th>\n",
       "      <td>5</td>\n",
       "      <td>Пикап</td>\n",
       "      <td>4</td>\n",
       "      <td>192</td>\n",
       "      <td>5254 × 1954 × 1834</td>\n",
       "      <td>3097</td>\n",
       "      <td>0</td>\n",
       "      <td>0</td>\n",
       "      <td>1996</td>\n",
       "    </tr>\n",
       "    <tr>\n",
       "      <th>1480</th>\n",
       "      <td>5</td>\n",
       "      <td>Пикап</td>\n",
       "      <td>4</td>\n",
       "      <td>192</td>\n",
       "      <td>5254 × 1954 × 1834</td>\n",
       "      <td>3097</td>\n",
       "      <td>0</td>\n",
       "      <td>0</td>\n",
       "      <td>1968</td>\n",
       "    </tr>\n",
       "    <tr>\n",
       "      <th>1481</th>\n",
       "      <td>5</td>\n",
       "      <td>Пикап</td>\n",
       "      <td>4</td>\n",
       "      <td>192</td>\n",
       "      <td>5254 × 1954 × 1834</td>\n",
       "      <td>3097</td>\n",
       "      <td>0</td>\n",
       "      <td>0</td>\n",
       "      <td>1988</td>\n",
       "    </tr>\n",
       "    <tr>\n",
       "      <th>1482</th>\n",
       "      <td>5</td>\n",
       "      <td>Пикап</td>\n",
       "      <td>4</td>\n",
       "      <td>192</td>\n",
       "      <td>5254 × 1954 × 1834</td>\n",
       "      <td>3097</td>\n",
       "      <td>0</td>\n",
       "      <td>0</td>\n",
       "      <td>1996</td>\n",
       "    </tr>\n",
       "    <tr>\n",
       "      <th>1483</th>\n",
       "      <td>5</td>\n",
       "      <td>Пикап</td>\n",
       "      <td>4</td>\n",
       "      <td>192</td>\n",
       "      <td>5254 × 1954 × 1834</td>\n",
       "      <td>3097</td>\n",
       "      <td>0</td>\n",
       "      <td>0</td>\n",
       "      <td>1988</td>\n",
       "    </tr>\n",
       "    <tr>\n",
       "      <th>1484</th>\n",
       "      <td>5</td>\n",
       "      <td>Пикап</td>\n",
       "      <td>4</td>\n",
       "      <td>192</td>\n",
       "      <td>5254 × 1954 × 1834</td>\n",
       "      <td>3097</td>\n",
       "      <td>0</td>\n",
       "      <td>0</td>\n",
       "      <td>1996</td>\n",
       "    </tr>\n",
       "    <tr>\n",
       "      <th>1485</th>\n",
       "      <td>5</td>\n",
       "      <td>Пикап</td>\n",
       "      <td>4</td>\n",
       "      <td>192</td>\n",
       "      <td>5254 × 1954 × 1834</td>\n",
       "      <td>3097</td>\n",
       "      <td>0</td>\n",
       "      <td>0</td>\n",
       "      <td>1996</td>\n",
       "    </tr>\n",
       "    <tr>\n",
       "      <th>1486</th>\n",
       "      <td>5</td>\n",
       "      <td>Пикап</td>\n",
       "      <td>4</td>\n",
       "      <td>192</td>\n",
       "      <td>5254 × 1954 × 1834</td>\n",
       "      <td>3097</td>\n",
       "      <td>0</td>\n",
       "      <td>0</td>\n",
       "      <td>1996</td>\n",
       "    </tr>\n",
       "    <tr>\n",
       "      <th>1487</th>\n",
       "      <td>5</td>\n",
       "      <td>Пикап</td>\n",
       "      <td>4</td>\n",
       "      <td>192</td>\n",
       "      <td>5254 × 1954 × 1834</td>\n",
       "      <td>3097</td>\n",
       "      <td>0</td>\n",
       "      <td>0</td>\n",
       "      <td>1996</td>\n",
       "    </tr>\n",
       "  </tbody>\n",
       "</table>\n",
       "</div>"
      ],
      "text/plain": [
       "      seats        type_car  doors  Дорожный просвет  \\\n",
       "920       5  Седан класса E      4               153   \n",
       "921       5  Седан класса E      4               154   \n",
       "922       5  Седан класса E      4               154   \n",
       "923       5  Седан класса E      4               154   \n",
       "924       5  Седан класса E      4               154   \n",
       "925       5  Седан класса E      4               150   \n",
       "926       5  Седан класса E      4               154   \n",
       "927       5  Седан класса E      4               150   \n",
       "932       4       Спорткупе      2               133   \n",
       "1082      5           Пикап      4               222   \n",
       "1083      5           Пикап      4               222   \n",
       "1084      5           Пикап      4               222   \n",
       "1085      5           Пикап      4               222   \n",
       "1086      5           Пикап      4               222   \n",
       "1094      5           Пикап      4               200   \n",
       "1095      5           Пикап      4               200   \n",
       "1096      5           Пикап      4               220   \n",
       "1097      5           Пикап      4               220   \n",
       "1098      5           Пикап      4               220   \n",
       "1436      5           Пикап      4               227   \n",
       "1437      5           Пикап      4               227   \n",
       "1438      5           Пикап      4               227   \n",
       "1439      5           Пикап      4               227   \n",
       "1440      5           Пикап      4               227   \n",
       "1477      5           Пикап      4               192   \n",
       "1478      5           Пикап      4               192   \n",
       "1479      5           Пикап      4               192   \n",
       "1480      5           Пикап      4               192   \n",
       "1481      5           Пикап      4               192   \n",
       "1482      5           Пикап      4               192   \n",
       "1483      5           Пикап      4               192   \n",
       "1484      5           Пикап      4               192   \n",
       "1485      5           Пикап      4               192   \n",
       "1486      5           Пикап      4               192   \n",
       "1487      5           Пикап      4               192   \n",
       "\n",
       "     Габариты (длина × ширина × высота)  Колёсная база  Объём багажника  \\\n",
       "920                  4975 × 1865 × 1445           2870                0   \n",
       "921                  4975 × 1865 × 1445           2870                0   \n",
       "922                  4975 × 1865 × 1445           2870                0   \n",
       "923                  4975 × 1865 × 1445           2870                0   \n",
       "924                  4975 × 1865 × 1445           2870                0   \n",
       "925                  4975 × 1865 × 1445           2870                0   \n",
       "926                  4975 × 1865 × 1445           2870                0   \n",
       "927                  4975 × 1865 × 1445           2870                0   \n",
       "932                  4770 × 1920 × 1345           2870                0   \n",
       "1082                 5340 × 1920 × 1819           3150                0   \n",
       "1083                 5340 × 1920 × 1819           3150                0   \n",
       "1084                 5340 × 1920 × 1819           3150                0   \n",
       "1085                 5340 × 1920 × 1819           3150                0   \n",
       "1086                 5340 × 1920 × 1819           3150                0   \n",
       "1094                 5225 × 1815 × 1775           3000                0   \n",
       "1095                 5225 × 1815 × 1775           3000                0   \n",
       "1096                 5225 × 1815 × 1795           3000                0   \n",
       "1097                 5225 × 1815 × 1795           3000                0   \n",
       "1098                 5225 × 1815 × 1795           3000                0   \n",
       "1436                 5325 × 1855 × 1815           3085                0   \n",
       "1437                 5325 × 1855 × 1815           3085                0   \n",
       "1438                 5325 × 1855 × 1815           3085                0   \n",
       "1439                 5325 × 1855 × 1815           3085                0   \n",
       "1440                 5325 × 1855 × 1815           3085                0   \n",
       "1477                 5254 × 1954 × 1834           3097                0   \n",
       "1478                 5254 × 1954 × 1834           3097                0   \n",
       "1479                 5254 × 1954 × 1834           3097                0   \n",
       "1480                 5254 × 1954 × 1834           3097                0   \n",
       "1481                 5254 × 1954 × 1834           3097                0   \n",
       "1482                 5254 × 1954 × 1834           3097                0   \n",
       "1483                 5254 × 1954 × 1834           3097                0   \n",
       "1484                 5254 × 1954 × 1834           3097                0   \n",
       "1485                 5254 × 1954 × 1834           3097                0   \n",
       "1486                 5254 × 1954 × 1834           3097                0   \n",
       "1487                 5254 × 1954 × 1834           3097                0   \n",
       "\n",
       "      Объём багажника максимальный  Масса автомобиля  \n",
       "920                              0              1700  \n",
       "921                              0              1695  \n",
       "922                              0              1695  \n",
       "923                              0              1695  \n",
       "924                              0              1695  \n",
       "925                              0              1725  \n",
       "926                              0              1695  \n",
       "927                              0              1725  \n",
       "932                              0              1935  \n",
       "1082                             0              2167  \n",
       "1083                             0              2193  \n",
       "1084                             0              2193  \n",
       "1085                             0              2249  \n",
       "1086                             0              2249  \n",
       "1094                             0              1930  \n",
       "1095                             0              1930  \n",
       "1096                             0              1930  \n",
       "1097                             0              1930  \n",
       "1098                             0              1930  \n",
       "1436                             0              1950  \n",
       "1437                             0              2130  \n",
       "1438                             0              2130  \n",
       "1439                             0              2155  \n",
       "1440                             0              2155  \n",
       "1477                             0              1968  \n",
       "1478                             0              1988  \n",
       "1479                             0              1996  \n",
       "1480                             0              1968  \n",
       "1481                             0              1988  \n",
       "1482                             0              1996  \n",
       "1483                             0              1988  \n",
       "1484                             0              1996  \n",
       "1485                             0              1996  \n",
       "1486                             0              1996  \n",
       "1487                             0              1996  "
      ]
     },
     "execution_count": 60,
     "metadata": {},
     "output_type": "execute_result"
    }
   ],
   "source": [
    "df.loc[df['Объём багажника'] == 0]"
   ]
  },
  {
   "cell_type": "code",
   "execution_count": 61,
   "metadata": {},
   "outputs": [
    {
     "data": {
      "text/plain": [
       "35"
      ]
     },
     "execution_count": 61,
     "metadata": {},
     "output_type": "execute_result"
    }
   ],
   "source": [
    "len(df.loc[df['Объём багажника'] == 0])"
   ]
  },
  {
   "cell_type": "code",
   "execution_count": 62,
   "metadata": {},
   "outputs": [
    {
     "data": {
      "text/plain": [
       "35"
      ]
     },
     "execution_count": 62,
     "metadata": {},
     "output_type": "execute_result"
    }
   ],
   "source": [
    "len(df.loc[df['Объём багажника максимальный'] == 0])"
   ]
  },
  {
   "cell_type": "code",
   "execution_count": null,
   "metadata": {},
   "outputs": [],
   "source": []
  }
 ],
 "metadata": {
  "kernelspec": {
   "display_name": "Python 3 (ipykernel)",
   "language": "python",
   "name": "python3"
  },
  "language_info": {
   "codemirror_mode": {
    "name": "ipython",
    "version": 3
   },
   "file_extension": ".py",
   "mimetype": "text/x-python",
   "name": "python",
   "nbconvert_exporter": "python",
   "pygments_lexer": "ipython3",
   "version": "3.8.10"
  }
 },
 "nbformat": 4,
 "nbformat_minor": 1
}
