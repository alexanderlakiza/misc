{
 "cells": [
  {
   "cell_type": "code",
   "execution_count": 36,
   "metadata": {},
   "outputs": [],
   "source": [
    "import pandas as pd\n",
    "import numpy as np"
   ]
  },
  {
   "cell_type": "code",
   "execution_count": 37,
   "metadata": {
    "pycharm": {
     "name": "#%%\n"
    }
   },
   "outputs": [],
   "source": [
    "data = pd.read_excel(\"auto_complectations.xlsx\")"
   ]
  },
  {
   "cell_type": "code",
   "execution_count": 38,
   "metadata": {
    "pycharm": {
     "name": "#%%\n"
    }
   },
   "outputs": [
    {
     "data": {
      "text/html": [
       "<div>\n",
       "<style scoped>\n",
       "    .dataframe tbody tr th:only-of-type {\n",
       "        vertical-align: middle;\n",
       "    }\n",
       "\n",
       "    .dataframe tbody tr th {\n",
       "        vertical-align: top;\n",
       "    }\n",
       "\n",
       "    .dataframe thead th {\n",
       "        text-align: right;\n",
       "    }\n",
       "</style>\n",
       "<table border=\"1\" class=\"dataframe\">\n",
       "  <thead>\n",
       "    <tr style=\"text-align: right;\">\n",
       "      <th></th>\n",
       "      <th>brand</th>\n",
       "      <th>model</th>\n",
       "      <th>complect</th>\n",
       "      <th>type_car</th>\n",
       "      <th>seats</th>\n",
       "      <th>doors</th>\n",
       "      <th>Двигатель</th>\n",
       "      <th>Мощность</th>\n",
       "      <th>Крутящий момент двигателя</th>\n",
       "      <th>Коробка передач</th>\n",
       "      <th>...</th>\n",
       "      <th>Разгон до сотни</th>\n",
       "      <th>Максимальная скорость</th>\n",
       "      <th>Расход топлива (л/100 км)\\nгород / трасса / смешанный</th>\n",
       "      <th>Дорожный просвет</th>\n",
       "      <th>Габариты (длина × ширина × высота)</th>\n",
       "      <th>Колёсная база</th>\n",
       "      <th>Объём багажника</th>\n",
       "      <th>Объём багажника максимальный</th>\n",
       "      <th>Объём топливного бака</th>\n",
       "      <th>Масса автомобиля</th>\n",
       "    </tr>\n",
       "  </thead>\n",
       "  <tbody>\n",
       "    <tr>\n",
       "      <th>0</th>\n",
       "      <td>Audi</td>\n",
       "      <td>A3 Sedan</td>\n",
       "      <td>1.4 TFSI 7AMT</td>\n",
       "      <td>Седан класса C</td>\n",
       "      <td>5</td>\n",
       "      <td>4</td>\n",
       "      <td>бензиновый (1395 см³)</td>\n",
       "      <td>150 л. с.</td>\n",
       "      <td>250 Н·м</td>\n",
       "      <td>роботизированная (7 ступеней)</td>\n",
       "      <td>...</td>\n",
       "      <td>8.2 секунды</td>\n",
       "      <td>224 км/ч</td>\n",
       "      <td>5.9 / 4.1 / 4.8</td>\n",
       "      <td>165 мм</td>\n",
       "      <td>4458 × 1796 × 1416</td>\n",
       "      <td>2637 мм</td>\n",
       "      <td>425 л</td>\n",
       "      <td>880 л</td>\n",
       "      <td>50 л</td>\n",
       "      <td>1320 кг</td>\n",
       "    </tr>\n",
       "    <tr>\n",
       "      <th>1</th>\n",
       "      <td>Audi</td>\n",
       "      <td>A3 Sedan</td>\n",
       "      <td>sport 1.4 TFSI 7AMT</td>\n",
       "      <td>Седан класса C</td>\n",
       "      <td>5</td>\n",
       "      <td>4</td>\n",
       "      <td>бензиновый (1395 см³)</td>\n",
       "      <td>150 л. с.</td>\n",
       "      <td>250 Н·м</td>\n",
       "      <td>роботизированная (7 ступеней)</td>\n",
       "      <td>...</td>\n",
       "      <td>8.2 секунды</td>\n",
       "      <td>224 км/ч</td>\n",
       "      <td>5.9 / 4.1 / 4.8</td>\n",
       "      <td>165 мм</td>\n",
       "      <td>4458 × 1796 × 1416</td>\n",
       "      <td>2637 мм</td>\n",
       "      <td>425 л</td>\n",
       "      <td>880 л</td>\n",
       "      <td>50 л</td>\n",
       "      <td>1320 кг</td>\n",
       "    </tr>\n",
       "    <tr>\n",
       "      <th>2</th>\n",
       "      <td>Audi</td>\n",
       "      <td>A3 Sedan</td>\n",
       "      <td>2.0 TFSI 7AMT</td>\n",
       "      <td>Седан класса C</td>\n",
       "      <td>5</td>\n",
       "      <td>4</td>\n",
       "      <td>бензиновый (1984 см³)</td>\n",
       "      <td>190 л. с.</td>\n",
       "      <td>320 Н·м</td>\n",
       "      <td>роботизированная (7 ступеней)</td>\n",
       "      <td>...</td>\n",
       "      <td>6.8 секунды</td>\n",
       "      <td>250 км/ч</td>\n",
       "      <td>7.2 / 4.7 / 5.6</td>\n",
       "      <td>165 мм</td>\n",
       "      <td>4458 × 1796 × 1416</td>\n",
       "      <td>2637 мм</td>\n",
       "      <td>425 л</td>\n",
       "      <td>880 л</td>\n",
       "      <td>50 л</td>\n",
       "      <td>1395 кг</td>\n",
       "    </tr>\n",
       "    <tr>\n",
       "      <th>3</th>\n",
       "      <td>Audi</td>\n",
       "      <td>A3 Sedan</td>\n",
       "      <td>2.0 TFSI 7AMT quattro</td>\n",
       "      <td>Седан класса C</td>\n",
       "      <td>5</td>\n",
       "      <td>4</td>\n",
       "      <td>бензиновый (1984 см³)</td>\n",
       "      <td>190 л. с.</td>\n",
       "      <td>320 Н·м</td>\n",
       "      <td>роботизированная (7 ступеней)</td>\n",
       "      <td>...</td>\n",
       "      <td>6.2 секунды</td>\n",
       "      <td>242 км/ч</td>\n",
       "      <td>7.2 / 4.8 / 5.7</td>\n",
       "      <td>165 мм</td>\n",
       "      <td>4458 × 1796 × 1416</td>\n",
       "      <td>2637 мм</td>\n",
       "      <td>390 л</td>\n",
       "      <td>845 л</td>\n",
       "      <td>55 л</td>\n",
       "      <td>1465 кг</td>\n",
       "    </tr>\n",
       "    <tr>\n",
       "      <th>4</th>\n",
       "      <td>Audi</td>\n",
       "      <td>A3 Sedan</td>\n",
       "      <td>sport 2.0 TFSI 7AMT</td>\n",
       "      <td>Седан класса C</td>\n",
       "      <td>5</td>\n",
       "      <td>4</td>\n",
       "      <td>бензиновый (1984 см³)</td>\n",
       "      <td>190 л. с.</td>\n",
       "      <td>320 Н·м</td>\n",
       "      <td>роботизированная (7 ступеней)</td>\n",
       "      <td>...</td>\n",
       "      <td>6.8 секунды</td>\n",
       "      <td>242 км/ч</td>\n",
       "      <td>7.2 / 4.7 / 5.6</td>\n",
       "      <td>165 мм</td>\n",
       "      <td>4458 × 1796 × 1416</td>\n",
       "      <td>2637 мм</td>\n",
       "      <td>425 л</td>\n",
       "      <td>880 л</td>\n",
       "      <td>50 л</td>\n",
       "      <td>1395 кг</td>\n",
       "    </tr>\n",
       "  </tbody>\n",
       "</table>\n",
       "<p>5 rows × 21 columns</p>\n",
       "</div>"
      ],
      "text/plain": [
       "  brand     model               complect        type_car  seats  doors  \\\n",
       "0  Audi  A3 Sedan          1.4 TFSI 7AMT  Седан класса C      5      4   \n",
       "1  Audi  A3 Sedan    sport 1.4 TFSI 7AMT  Седан класса C      5      4   \n",
       "2  Audi  A3 Sedan          2.0 TFSI 7AMT  Седан класса C      5      4   \n",
       "3  Audi  A3 Sedan  2.0 TFSI 7AMT quattro  Седан класса C      5      4   \n",
       "4  Audi  A3 Sedan    sport 2.0 TFSI 7AMT  Седан класса C      5      4   \n",
       "\n",
       "               Двигатель   Мощность Крутящий момент двигателя  \\\n",
       "0  бензиновый (1395 см³)  150 л. с.                   250 Н·м   \n",
       "1  бензиновый (1395 см³)  150 л. с.                   250 Н·м   \n",
       "2  бензиновый (1984 см³)  190 л. с.                   320 Н·м   \n",
       "3  бензиновый (1984 см³)  190 л. с.                   320 Н·м   \n",
       "4  бензиновый (1984 см³)  190 л. с.                   320 Н·м   \n",
       "\n",
       "                 Коробка передач  ... Разгон до сотни Максимальная скорость  \\\n",
       "0  роботизированная (7 ступеней)  ...     8.2 секунды              224 км/ч   \n",
       "1  роботизированная (7 ступеней)  ...     8.2 секунды              224 км/ч   \n",
       "2  роботизированная (7 ступеней)  ...     6.8 секунды              250 км/ч   \n",
       "3  роботизированная (7 ступеней)  ...     6.2 секунды              242 км/ч   \n",
       "4  роботизированная (7 ступеней)  ...     6.8 секунды              242 км/ч   \n",
       "\n",
       "  Расход топлива (л/100 км)\\nгород / трасса / смешанный Дорожный просвет  \\\n",
       "0                                    5.9 / 4.1 / 4.8              165 мм   \n",
       "1                                    5.9 / 4.1 / 4.8              165 мм   \n",
       "2                                    7.2 / 4.7 / 5.6              165 мм   \n",
       "3                                    7.2 / 4.8 / 5.7              165 мм   \n",
       "4                                    7.2 / 4.7 / 5.6              165 мм   \n",
       "\n",
       "  Габариты (длина × ширина × высота) Колёсная база Объём багажника  \\\n",
       "0                 4458 × 1796 × 1416       2637 мм           425 л   \n",
       "1                 4458 × 1796 × 1416       2637 мм           425 л   \n",
       "2                 4458 × 1796 × 1416       2637 мм           425 л   \n",
       "3                 4458 × 1796 × 1416       2637 мм           390 л   \n",
       "4                 4458 × 1796 × 1416       2637 мм           425 л   \n",
       "\n",
       "  Объём багажника максимальный Объём топливного бака Масса автомобиля  \n",
       "0                        880 л                  50 л          1320 кг  \n",
       "1                        880 л                  50 л          1320 кг  \n",
       "2                        880 л                  50 л          1395 кг  \n",
       "3                        845 л                  55 л          1465 кг  \n",
       "4                        880 л                  50 л          1395 кг  \n",
       "\n",
       "[5 rows x 21 columns]"
      ]
     },
     "execution_count": 38,
     "metadata": {},
     "output_type": "execute_result"
    }
   ],
   "source": [
    "data.head()"
   ]
  },
  {
   "cell_type": "markdown",
   "metadata": {
    "pycharm": {
     "name": "#%%\n"
    }
   },
   "source": [
    "## Задание\n",
    "Вам предлагается набор данных, содержащий комплектации различных моделей автомобилей и их характеристики.Мы предлагаем произвести с данным датасетом следующие операции: 1. Анализ данных, 2. Фильтрация, 3. Преобразование переменных, 4. Классификация моделей по типу кузова (без подклассов, колонка type_car): - Седан - Хетчбек - Кроссовер - Внедорожник. Обосновать выбранный подход/метод машинного обучения. Описать способ оценки качества модели машинного обучения."
   ]
  },
  {
   "cell_type": "markdown",
   "metadata": {},
   "source": [
    "### 1. Анализ данных"
   ]
  },
  {
   "cell_type": "code",
   "execution_count": 39,
   "metadata": {
    "pycharm": {
     "name": "#%%\n"
    }
   },
   "outputs": [
    {
     "data": {
      "text/plain": [
       "(1703, 21)"
      ]
     },
     "execution_count": 39,
     "metadata": {},
     "output_type": "execute_result"
    }
   ],
   "source": [
    "data.shape"
   ]
  },
  {
   "cell_type": "code",
   "execution_count": 40,
   "metadata": {
    "pycharm": {
     "name": "#%%\n"
    }
   },
   "outputs": [
    {
     "name": "stdout",
     "output_type": "stream",
     "text": [
      "<class 'pandas.core.frame.DataFrame'>\n",
      "RangeIndex: 1703 entries, 0 to 1702\n",
      "Data columns (total 21 columns):\n",
      " #   Column                                                Non-Null Count  Dtype \n",
      "---  ------                                                --------------  ----- \n",
      " 0   brand                                                 1703 non-null   object\n",
      " 1   model                                                 1703 non-null   object\n",
      " 2   complect                                              1703 non-null   object\n",
      " 3   type_car                                              1703 non-null   object\n",
      " 4   seats                                                 1703 non-null   int64 \n",
      " 5   doors                                                 1703 non-null   int64 \n",
      " 6   Двигатель                                             1703 non-null   object\n",
      " 7   Мощность                                              1703 non-null   object\n",
      " 8   Крутящий момент двигателя                             1703 non-null   object\n",
      " 9   Коробка передач                                       1703 non-null   object\n",
      " 10  Привод                                                1703 non-null   object\n",
      " 11  Разгон до сотни                                       1703 non-null   object\n",
      " 12  Максимальная скорость                                 1703 non-null   object\n",
      " 13  Расход топлива (л/100 км)\n",
      "город / трасса / смешанный  1703 non-null   object\n",
      " 14  Дорожный просвет                                      1703 non-null   object\n",
      " 15  Габариты (длина × ширина × высота)                    1703 non-null   object\n",
      " 16  Колёсная база                                         1703 non-null   object\n",
      " 17  Объём багажника                                       1703 non-null   object\n",
      " 18  Объём багажника максимальный                          1703 non-null   object\n",
      " 19  Объём топливного бака                                 1703 non-null   object\n",
      " 20  Масса автомобиля                                      1703 non-null   object\n",
      "dtypes: int64(2), object(19)\n",
      "memory usage: 279.5+ KB\n"
     ]
    }
   ],
   "source": [
    "data.info()"
   ]
  },
  {
   "cell_type": "code",
   "execution_count": 41,
   "metadata": {
    "pycharm": {
     "name": "#%%\n"
    }
   },
   "outputs": [
    {
     "data": {
      "text/html": [
       "<div>\n",
       "<style scoped>\n",
       "    .dataframe tbody tr th:only-of-type {\n",
       "        vertical-align: middle;\n",
       "    }\n",
       "\n",
       "    .dataframe tbody tr th {\n",
       "        vertical-align: top;\n",
       "    }\n",
       "\n",
       "    .dataframe thead th {\n",
       "        text-align: right;\n",
       "    }\n",
       "</style>\n",
       "<table border=\"1\" class=\"dataframe\">\n",
       "  <thead>\n",
       "    <tr style=\"text-align: right;\">\n",
       "      <th></th>\n",
       "      <th>seats</th>\n",
       "      <th>doors</th>\n",
       "    </tr>\n",
       "  </thead>\n",
       "  <tbody>\n",
       "    <tr>\n",
       "      <th>count</th>\n",
       "      <td>1703.000000</td>\n",
       "      <td>1703.000000</td>\n",
       "    </tr>\n",
       "    <tr>\n",
       "      <th>mean</th>\n",
       "      <td>5.079272</td>\n",
       "      <td>4.887845</td>\n",
       "    </tr>\n",
       "    <tr>\n",
       "      <th>std</th>\n",
       "      <td>0.677096</td>\n",
       "      <td>1.024259</td>\n",
       "    </tr>\n",
       "    <tr>\n",
       "      <th>min</th>\n",
       "      <td>1.000000</td>\n",
       "      <td>2.000000</td>\n",
       "    </tr>\n",
       "    <tr>\n",
       "      <th>25%</th>\n",
       "      <td>5.000000</td>\n",
       "      <td>4.000000</td>\n",
       "    </tr>\n",
       "    <tr>\n",
       "      <th>50%</th>\n",
       "      <td>5.000000</td>\n",
       "      <td>5.000000</td>\n",
       "    </tr>\n",
       "    <tr>\n",
       "      <th>75%</th>\n",
       "      <td>5.000000</td>\n",
       "      <td>5.000000</td>\n",
       "    </tr>\n",
       "    <tr>\n",
       "      <th>max</th>\n",
       "      <td>9.000000</td>\n",
       "      <td>8.000000</td>\n",
       "    </tr>\n",
       "  </tbody>\n",
       "</table>\n",
       "</div>"
      ],
      "text/plain": [
       "             seats        doors\n",
       "count  1703.000000  1703.000000\n",
       "mean      5.079272     4.887845\n",
       "std       0.677096     1.024259\n",
       "min       1.000000     2.000000\n",
       "25%       5.000000     4.000000\n",
       "50%       5.000000     5.000000\n",
       "75%       5.000000     5.000000\n",
       "max       9.000000     8.000000"
      ]
     },
     "execution_count": 41,
     "metadata": {},
     "output_type": "execute_result"
    }
   ],
   "source": [
    "data.describe()"
   ]
  },
  {
   "cell_type": "markdown",
   "metadata": {},
   "source": [
    "Здесь у нас лишь две колонки, так как в остальных колонках числовые значения записаны вместе с единицей измерения"
   ]
  },
  {
   "cell_type": "code",
   "execution_count": 42,
   "metadata": {
    "pycharm": {
     "name": "#%%\n"
    }
   },
   "outputs": [
    {
     "data": {
      "text/plain": [
       "brand                                                    False\n",
       "model                                                    False\n",
       "complect                                                 False\n",
       "type_car                                                 False\n",
       "seats                                                    False\n",
       "doors                                                    False\n",
       "Двигатель                                                False\n",
       "Мощность                                                 False\n",
       "Крутящий момент двигателя                                False\n",
       "Коробка передач                                          False\n",
       "Привод                                                   False\n",
       "Разгон до сотни                                          False\n",
       "Максимальная скорость                                    False\n",
       "Расход топлива (л/100 км)\\nгород / трасса / смешанный    False\n",
       "Дорожный просвет                                         False\n",
       "Габариты (длина × ширина × высота)                       False\n",
       "Колёсная база                                            False\n",
       "Объём багажника                                          False\n",
       "Объём багажника максимальный                             False\n",
       "Объём топливного бака                                    False\n",
       "Масса автомобиля                                         False\n",
       "dtype: bool"
      ]
     },
     "execution_count": 42,
     "metadata": {},
     "output_type": "execute_result"
    }
   ],
   "source": [
    "data.isna().any()"
   ]
  },
  {
   "cell_type": "markdown",
   "metadata": {
    "pycharm": {
     "name": "#%% md\n"
    }
   },
   "source": [
    "На данный момент у нас нет пропусков в значениях"
   ]
  },
  {
   "cell_type": "code",
   "execution_count": 43,
   "metadata": {
    "pycharm": {
     "name": "#%%\n"
    },
    "scrolled": true
   },
   "outputs": [
    {
     "data": {
      "text/plain": [
       "Компактный кроссовер                          379\n",
       "Среднеразмерный кроссовер                     236\n",
       "Большой внедорожник                           129\n",
       "Большой кроссовер                             115\n",
       "Седан класса E                                104\n",
       "Седан класса D                                 93\n",
       "Седан класса B                                 91\n",
       "Седан класса F                                 68\n",
       "Вэн                                            53\n",
       "Седан класса C                                 53\n",
       "Хэтчбек класса B                               40\n",
       "Компактвэн                                     39\n",
       "Среднеразмерный внедорожник                    30\n",
       "Хэтчбек класса C                               29\n",
       "Хэтчбек класса D                               26\n",
       "Пикап                                          26\n",
       "Кроссовер класса B                             24\n",
       "Хэтчбек класса E                               20\n",
       "Универсал класса E                             16\n",
       "Купе класса D                                  16\n",
       "Спорткупе                                      16\n",
       "Внедорожник класса B                           15\n",
       "Универсал класса D                             12\n",
       "Универсал класса C                             11\n",
       "Хэтчбек класса A                               10\n",
       "Родстер                                         9\n",
       "Универсал повышенной проходимости класса D      8\n",
       "Универсал повышенной проходимости класса E      7\n",
       "Спорткупе класса D                              6\n",
       "Кабриолет с мягкой крышей                       5\n",
       "Горячий хэтчбек класса C                        3\n",
       "Горячий седан класса C                          3\n",
       "Купе класса C                                   3\n",
       "Спортседан класса D                             2\n",
       "Купе класса E                                   2\n",
       "Минивэн                                         2\n",
       "Спортседан класса E                             2\n",
       "Name: type_car, dtype: int64"
      ]
     },
     "execution_count": 43,
     "metadata": {},
     "output_type": "execute_result"
    }
   ],
   "source": [
    "data['type_car'].value_counts()"
   ]
  },
  {
   "cell_type": "code",
   "execution_count": 44,
   "metadata": {
    "pycharm": {
     "name": "#%%\n"
    },
    "scrolled": true
   },
   "outputs": [
    {
     "data": {
      "text/plain": [
       "brand                                                                             Audi\n",
       "model                                                                         A3 Sedan\n",
       "complect                                                                 1.4 TFSI 7AMT\n",
       "type_car                                                                Седан класса C\n",
       "seats                                                                                5\n",
       "doors                                                                                4\n",
       "Двигатель                                                        бензиновый (1395 см³)\n",
       "Мощность                                                                     150 л. с.\n",
       "Крутящий момент двигателя                                                      250 Н·м\n",
       "Коробка передач                                          роботизированная (7 ступеней)\n",
       "Привод                                                                        передний\n",
       "Разгон до сотни                                                            8.2 секунды\n",
       "Максимальная скорость                                                         224 км/ч\n",
       "Расход топлива (л/100 км)\\nгород / трасса / смешанный                  5.9 / 4.1 / 4.8\n",
       "Дорожный просвет                                                                165 мм\n",
       "Габариты (длина × ширина × высота)                                  4458 × 1796 × 1416\n",
       "Колёсная база                                                                  2637 мм\n",
       "Объём багажника                                                                  425 л\n",
       "Объём багажника максимальный                                                     880 л\n",
       "Объём топливного бака                                                             50 л\n",
       "Масса автомобиля                                                               1320 кг\n",
       "Name: 0, dtype: object"
      ]
     },
     "execution_count": 44,
     "metadata": {},
     "output_type": "execute_result"
    }
   ],
   "source": [
    "data.loc[0]"
   ]
  },
  {
   "cell_type": "markdown",
   "metadata": {},
   "source": [
    "### 2. Фильтрация данных\n",
    "Если перед нами стоит задача определить класс автомобиля по типу кузова, то, по логике, нас должны интересеовать лишь признаки, как-то коррелирующие с размером самого авто."
   ]
  },
  {
   "cell_type": "markdown",
   "metadata": {},
   "source": [
    "Поэтому оставим лишь следующие признаки\n",
    "`seats`, `doors`, `Дорожный просвет`, `Габариты`, `Колёснаябаза`, `Объём багажника`, `Объём багажника максимальный`, `Масса авто`"
   ]
  },
  {
   "cell_type": "code",
   "execution_count": 137,
   "metadata": {},
   "outputs": [],
   "source": [
    "slice = data.loc[:, ['seats', 'type_car', 'doors', 'Дорожный просвет', 'Габариты (длина × ширина × высота)', \n",
    "             'Колёсная база', 'Объём багажника', 'Объём багажника максимальный', 'Масса автомобиля']]"
   ]
  },
  {
   "cell_type": "code",
   "execution_count": 138,
   "metadata": {},
   "outputs": [],
   "source": [
    "df = pd.DataFrame(slice)"
   ]
  },
  {
   "cell_type": "code",
   "execution_count": 139,
   "metadata": {},
   "outputs": [
    {
     "data": {
      "text/html": [
       "<div>\n",
       "<style scoped>\n",
       "    .dataframe tbody tr th:only-of-type {\n",
       "        vertical-align: middle;\n",
       "    }\n",
       "\n",
       "    .dataframe tbody tr th {\n",
       "        vertical-align: top;\n",
       "    }\n",
       "\n",
       "    .dataframe thead th {\n",
       "        text-align: right;\n",
       "    }\n",
       "</style>\n",
       "<table border=\"1\" class=\"dataframe\">\n",
       "  <thead>\n",
       "    <tr style=\"text-align: right;\">\n",
       "      <th></th>\n",
       "      <th>seats</th>\n",
       "      <th>type_car</th>\n",
       "      <th>doors</th>\n",
       "      <th>Дорожный просвет</th>\n",
       "      <th>Габариты (длина × ширина × высота)</th>\n",
       "      <th>Колёсная база</th>\n",
       "      <th>Объём багажника</th>\n",
       "      <th>Объём багажника максимальный</th>\n",
       "      <th>Масса автомобиля</th>\n",
       "    </tr>\n",
       "  </thead>\n",
       "  <tbody>\n",
       "    <tr>\n",
       "      <th>0</th>\n",
       "      <td>5</td>\n",
       "      <td>Седан класса C</td>\n",
       "      <td>4</td>\n",
       "      <td>165 мм</td>\n",
       "      <td>4458 × 1796 × 1416</td>\n",
       "      <td>2637 мм</td>\n",
       "      <td>425 л</td>\n",
       "      <td>880 л</td>\n",
       "      <td>1320 кг</td>\n",
       "    </tr>\n",
       "    <tr>\n",
       "      <th>1</th>\n",
       "      <td>5</td>\n",
       "      <td>Седан класса C</td>\n",
       "      <td>4</td>\n",
       "      <td>165 мм</td>\n",
       "      <td>4458 × 1796 × 1416</td>\n",
       "      <td>2637 мм</td>\n",
       "      <td>425 л</td>\n",
       "      <td>880 л</td>\n",
       "      <td>1320 кг</td>\n",
       "    </tr>\n",
       "    <tr>\n",
       "      <th>2</th>\n",
       "      <td>5</td>\n",
       "      <td>Седан класса C</td>\n",
       "      <td>4</td>\n",
       "      <td>165 мм</td>\n",
       "      <td>4458 × 1796 × 1416</td>\n",
       "      <td>2637 мм</td>\n",
       "      <td>425 л</td>\n",
       "      <td>880 л</td>\n",
       "      <td>1395 кг</td>\n",
       "    </tr>\n",
       "    <tr>\n",
       "      <th>3</th>\n",
       "      <td>5</td>\n",
       "      <td>Седан класса C</td>\n",
       "      <td>4</td>\n",
       "      <td>165 мм</td>\n",
       "      <td>4458 × 1796 × 1416</td>\n",
       "      <td>2637 мм</td>\n",
       "      <td>390 л</td>\n",
       "      <td>845 л</td>\n",
       "      <td>1465 кг</td>\n",
       "    </tr>\n",
       "    <tr>\n",
       "      <th>4</th>\n",
       "      <td>5</td>\n",
       "      <td>Седан класса C</td>\n",
       "      <td>4</td>\n",
       "      <td>165 мм</td>\n",
       "      <td>4458 × 1796 × 1416</td>\n",
       "      <td>2637 мм</td>\n",
       "      <td>425 л</td>\n",
       "      <td>880 л</td>\n",
       "      <td>1395 кг</td>\n",
       "    </tr>\n",
       "    <tr>\n",
       "      <th>...</th>\n",
       "      <td>...</td>\n",
       "      <td>...</td>\n",
       "      <td>...</td>\n",
       "      <td>...</td>\n",
       "      <td>...</td>\n",
       "      <td>...</td>\n",
       "      <td>...</td>\n",
       "      <td>...</td>\n",
       "      <td>...</td>\n",
       "    </tr>\n",
       "    <tr>\n",
       "      <th>1698</th>\n",
       "      <td>5</td>\n",
       "      <td>Большой кроссовер</td>\n",
       "      <td>5</td>\n",
       "      <td>237 мм</td>\n",
       "      <td>4950 × 2008 × 1776</td>\n",
       "      <td>2984 мм</td>\n",
       "      <td>721 л</td>\n",
       "      <td>1899 л</td>\n",
       "      <td>1969 кг</td>\n",
       "    </tr>\n",
       "    <tr>\n",
       "      <th>1699</th>\n",
       "      <td>7</td>\n",
       "      <td>Большой кроссовер</td>\n",
       "      <td>5</td>\n",
       "      <td>237 мм</td>\n",
       "      <td>4950 × 2008 × 1776</td>\n",
       "      <td>2984 мм</td>\n",
       "      <td>692 л</td>\n",
       "      <td>1899 л</td>\n",
       "      <td>2004 кг</td>\n",
       "    </tr>\n",
       "    <tr>\n",
       "      <th>1700</th>\n",
       "      <td>7</td>\n",
       "      <td>Большой кроссовер</td>\n",
       "      <td>5</td>\n",
       "      <td>237 мм</td>\n",
       "      <td>4950 × 2008 × 1776</td>\n",
       "      <td>2984 мм</td>\n",
       "      <td>692 л</td>\n",
       "      <td>1899 л</td>\n",
       "      <td>2009 кг</td>\n",
       "    </tr>\n",
       "    <tr>\n",
       "      <th>1701</th>\n",
       "      <td>7</td>\n",
       "      <td>Большой кроссовер</td>\n",
       "      <td>5</td>\n",
       "      <td>237 мм</td>\n",
       "      <td>4950 × 2008 × 1776</td>\n",
       "      <td>2984 мм</td>\n",
       "      <td>640 л</td>\n",
       "      <td>1899 л</td>\n",
       "      <td>2350 кг</td>\n",
       "    </tr>\n",
       "    <tr>\n",
       "      <th>1702</th>\n",
       "      <td>7</td>\n",
       "      <td>Большой кроссовер</td>\n",
       "      <td>5</td>\n",
       "      <td>237 мм</td>\n",
       "      <td>4950 × 2008 × 1776</td>\n",
       "      <td>2984 мм</td>\n",
       "      <td>640 л</td>\n",
       "      <td>1899 л</td>\n",
       "      <td>2350 кг</td>\n",
       "    </tr>\n",
       "  </tbody>\n",
       "</table>\n",
       "<p>1703 rows × 9 columns</p>\n",
       "</div>"
      ],
      "text/plain": [
       "      seats           type_car  doors Дорожный просвет  \\\n",
       "0         5     Седан класса C      4           165 мм   \n",
       "1         5     Седан класса C      4           165 мм   \n",
       "2         5     Седан класса C      4           165 мм   \n",
       "3         5     Седан класса C      4           165 мм   \n",
       "4         5     Седан класса C      4           165 мм   \n",
       "...     ...                ...    ...              ...   \n",
       "1698      5  Большой кроссовер      5           237 мм   \n",
       "1699      7  Большой кроссовер      5           237 мм   \n",
       "1700      7  Большой кроссовер      5           237 мм   \n",
       "1701      7  Большой кроссовер      5           237 мм   \n",
       "1702      7  Большой кроссовер      5           237 мм   \n",
       "\n",
       "     Габариты (длина × ширина × высота) Колёсная база Объём багажника  \\\n",
       "0                    4458 × 1796 × 1416       2637 мм           425 л   \n",
       "1                    4458 × 1796 × 1416       2637 мм           425 л   \n",
       "2                    4458 × 1796 × 1416       2637 мм           425 л   \n",
       "3                    4458 × 1796 × 1416       2637 мм           390 л   \n",
       "4                    4458 × 1796 × 1416       2637 мм           425 л   \n",
       "...                                 ...           ...             ...   \n",
       "1698                 4950 × 2008 × 1776       2984 мм           721 л   \n",
       "1699                 4950 × 2008 × 1776       2984 мм           692 л   \n",
       "1700                 4950 × 2008 × 1776       2984 мм           692 л   \n",
       "1701                 4950 × 2008 × 1776       2984 мм           640 л   \n",
       "1702                 4950 × 2008 × 1776       2984 мм           640 л   \n",
       "\n",
       "     Объём багажника максимальный Масса автомобиля  \n",
       "0                           880 л          1320 кг  \n",
       "1                           880 л          1320 кг  \n",
       "2                           880 л          1395 кг  \n",
       "3                           845 л          1465 кг  \n",
       "4                           880 л          1395 кг  \n",
       "...                           ...              ...  \n",
       "1698                       1899 л          1969 кг  \n",
       "1699                       1899 л          2004 кг  \n",
       "1700                       1899 л          2009 кг  \n",
       "1701                       1899 л          2350 кг  \n",
       "1702                       1899 л          2350 кг  \n",
       "\n",
       "[1703 rows x 9 columns]"
      ]
     },
     "execution_count": 139,
     "metadata": {},
     "output_type": "execute_result"
    }
   ],
   "source": [
    "df"
   ]
  },
  {
   "cell_type": "markdown",
   "metadata": {},
   "source": [
    "Нам нужно изменить столбцы\n",
    "- `Дорожный просвет` убрать единицы измерения\n",
    "- `Габариты` поменять на 3 колонки `Длина`, `Ширина` и `Высота`\n",
    "- Для `Колёсной базы`, `Объёма багажника`, `Макс. объёма багажника`, и `Массы авто.` убрать единицы измерения"
   ]
  },
  {
   "cell_type": "code",
   "execution_count": 140,
   "metadata": {},
   "outputs": [],
   "source": [
    "import seaborn as sns\n",
    "import matplotlib.pyplot as plt"
   ]
  },
  {
   "cell_type": "code",
   "execution_count": 141,
   "metadata": {
    "scrolled": true
   },
   "outputs": [
    {
     "data": {
      "text/plain": [
       "True"
      ]
     },
     "execution_count": 141,
     "metadata": {},
     "output_type": "execute_result"
    }
   ],
   "source": [
    "df['Дорожный просвет'].str.contains('мм').all()"
   ]
  },
  {
   "cell_type": "code",
   "execution_count": 142,
   "metadata": {},
   "outputs": [
    {
     "data": {
      "text/plain": [
       "True"
      ]
     },
     "execution_count": 142,
     "metadata": {},
     "output_type": "execute_result"
    }
   ],
   "source": [
    "df['Колёсная база'].str.contains('мм').all()"
   ]
  },
  {
   "cell_type": "markdown",
   "metadata": {},
   "source": [
    "Во всех строках Lорожный просвет и Колёсная база измеряются в мм"
   ]
  },
  {
   "cell_type": "code",
   "execution_count": 143,
   "metadata": {},
   "outputs": [
    {
     "data": {
      "text/plain": [
       "True"
      ]
     },
     "execution_count": 143,
     "metadata": {},
     "output_type": "execute_result"
    }
   ],
   "source": [
    "df['Объём багажника'].str.contains('л').all()"
   ]
  },
  {
   "cell_type": "code",
   "execution_count": 144,
   "metadata": {},
   "outputs": [
    {
     "data": {
      "text/plain": [
       "True"
      ]
     },
     "execution_count": 144,
     "metadata": {},
     "output_type": "execute_result"
    }
   ],
   "source": [
    "df['Объём багажника максимальный'].str.contains('л').all()"
   ]
  },
  {
   "cell_type": "code",
   "execution_count": 145,
   "metadata": {},
   "outputs": [
    {
     "data": {
      "text/plain": [
       "True"
      ]
     },
     "execution_count": 145,
     "metadata": {},
     "output_type": "execute_result"
    }
   ],
   "source": [
    "df['Масса автомобиля'].str.contains('кг').all()"
   ]
  },
  {
   "cell_type": "markdown",
   "metadata": {},
   "source": [
    "Объём багажника тоже измеряется только в литрах, масса - в кг"
   ]
  },
  {
   "cell_type": "code",
   "execution_count": 146,
   "metadata": {},
   "outputs": [],
   "source": [
    "def del_units(x):\n",
    "    x = x.split()[0]\n",
    "    return int(x)"
   ]
  },
  {
   "cell_type": "code",
   "execution_count": 147,
   "metadata": {},
   "outputs": [],
   "source": [
    "cols_tochange = ['Дорожный просвет', 'Колёсная база', 'Объём багажника', 'Объём багажника максимальный', 'Масса автомобиля']"
   ]
  },
  {
   "cell_type": "code",
   "execution_count": 148,
   "metadata": {},
   "outputs": [],
   "source": [
    "for i in cols_tochange:\n",
    "    df[i] = df[i].map(del_units)"
   ]
  },
  {
   "cell_type": "code",
   "execution_count": 149,
   "metadata": {},
   "outputs": [
    {
     "data": {
      "text/html": [
       "<div>\n",
       "<style scoped>\n",
       "    .dataframe tbody tr th:only-of-type {\n",
       "        vertical-align: middle;\n",
       "    }\n",
       "\n",
       "    .dataframe tbody tr th {\n",
       "        vertical-align: top;\n",
       "    }\n",
       "\n",
       "    .dataframe thead th {\n",
       "        text-align: right;\n",
       "    }\n",
       "</style>\n",
       "<table border=\"1\" class=\"dataframe\">\n",
       "  <thead>\n",
       "    <tr style=\"text-align: right;\">\n",
       "      <th></th>\n",
       "      <th>seats</th>\n",
       "      <th>type_car</th>\n",
       "      <th>doors</th>\n",
       "      <th>Дорожный просвет</th>\n",
       "      <th>Габариты (длина × ширина × высота)</th>\n",
       "      <th>Колёсная база</th>\n",
       "      <th>Объём багажника</th>\n",
       "      <th>Объём багажника максимальный</th>\n",
       "      <th>Масса автомобиля</th>\n",
       "    </tr>\n",
       "  </thead>\n",
       "  <tbody>\n",
       "    <tr>\n",
       "      <th>0</th>\n",
       "      <td>5</td>\n",
       "      <td>Седан класса C</td>\n",
       "      <td>4</td>\n",
       "      <td>165</td>\n",
       "      <td>4458 × 1796 × 1416</td>\n",
       "      <td>2637</td>\n",
       "      <td>425</td>\n",
       "      <td>880</td>\n",
       "      <td>1320</td>\n",
       "    </tr>\n",
       "    <tr>\n",
       "      <th>1</th>\n",
       "      <td>5</td>\n",
       "      <td>Седан класса C</td>\n",
       "      <td>4</td>\n",
       "      <td>165</td>\n",
       "      <td>4458 × 1796 × 1416</td>\n",
       "      <td>2637</td>\n",
       "      <td>425</td>\n",
       "      <td>880</td>\n",
       "      <td>1320</td>\n",
       "    </tr>\n",
       "    <tr>\n",
       "      <th>2</th>\n",
       "      <td>5</td>\n",
       "      <td>Седан класса C</td>\n",
       "      <td>4</td>\n",
       "      <td>165</td>\n",
       "      <td>4458 × 1796 × 1416</td>\n",
       "      <td>2637</td>\n",
       "      <td>425</td>\n",
       "      <td>880</td>\n",
       "      <td>1395</td>\n",
       "    </tr>\n",
       "    <tr>\n",
       "      <th>3</th>\n",
       "      <td>5</td>\n",
       "      <td>Седан класса C</td>\n",
       "      <td>4</td>\n",
       "      <td>165</td>\n",
       "      <td>4458 × 1796 × 1416</td>\n",
       "      <td>2637</td>\n",
       "      <td>390</td>\n",
       "      <td>845</td>\n",
       "      <td>1465</td>\n",
       "    </tr>\n",
       "    <tr>\n",
       "      <th>4</th>\n",
       "      <td>5</td>\n",
       "      <td>Седан класса C</td>\n",
       "      <td>4</td>\n",
       "      <td>165</td>\n",
       "      <td>4458 × 1796 × 1416</td>\n",
       "      <td>2637</td>\n",
       "      <td>425</td>\n",
       "      <td>880</td>\n",
       "      <td>1395</td>\n",
       "    </tr>\n",
       "  </tbody>\n",
       "</table>\n",
       "</div>"
      ],
      "text/plain": [
       "   seats        type_car  doors  Дорожный просвет  \\\n",
       "0      5  Седан класса C      4               165   \n",
       "1      5  Седан класса C      4               165   \n",
       "2      5  Седан класса C      4               165   \n",
       "3      5  Седан класса C      4               165   \n",
       "4      5  Седан класса C      4               165   \n",
       "\n",
       "  Габариты (длина × ширина × высота)  Колёсная база  Объём багажника  \\\n",
       "0                 4458 × 1796 × 1416           2637              425   \n",
       "1                 4458 × 1796 × 1416           2637              425   \n",
       "2                 4458 × 1796 × 1416           2637              425   \n",
       "3                 4458 × 1796 × 1416           2637              390   \n",
       "4                 4458 × 1796 × 1416           2637              425   \n",
       "\n",
       "   Объём багажника максимальный  Масса автомобиля  \n",
       "0                           880              1320  \n",
       "1                           880              1320  \n",
       "2                           880              1395  \n",
       "3                           845              1465  \n",
       "4                           880              1395  "
      ]
     },
     "execution_count": 149,
     "metadata": {},
     "output_type": "execute_result"
    }
   ],
   "source": [
    "df.head()"
   ]
  },
  {
   "cell_type": "code",
   "execution_count": 152,
   "metadata": {},
   "outputs": [
    {
     "data": {
      "text/plain": [
       "seats                                  int64\n",
       "type_car                              object\n",
       "doors                                  int64\n",
       "Дорожный просвет                       int64\n",
       "Габариты (длина × ширина × высота)    object\n",
       "Колёсная база                          int64\n",
       "Объём багажника                        int64\n",
       "Объём багажника максимальный           int64\n",
       "Масса автомобиля                       int64\n",
       "dtype: object"
      ]
     },
     "execution_count": 152,
     "metadata": {},
     "output_type": "execute_result"
    }
   ],
   "source": [
    "df.dtypes"
   ]
  },
  {
   "cell_type": "code",
   "execution_count": 157,
   "metadata": {},
   "outputs": [
    {
     "data": {
      "text/plain": [
       "<AxesSubplot:xlabel='Дорожный просвет', ylabel='Count'>"
      ]
     },
     "execution_count": 157,
     "metadata": {},
     "output_type": "execute_result"
    },
    {
     "data": {
      "image/png": "[encoded data removed]",
      "text/plain": [
       "<Figure size 432x288 with 1 Axes>"
      ]
     },
     "metadata": {
      "needs_background": "light"
     },
     "output_type": "display_data"
    }
   ],
   "source": [
    "sns.histplot(df, x='Дорожный просвет')"
   ]
  },
  {
   "cell_type": "code",
   "execution_count": null,
   "metadata": {},
   "outputs": [],
   "source": []
  },
  {
   "cell_type": "code",
   "execution_count": null,
   "metadata": {},
   "outputs": [],
   "source": []
  },
  {
   "cell_type": "code",
   "execution_count": null,
   "metadata": {},
   "outputs": [],
   "source": []
  }
 ],
 "metadata": {
  "kernelspec": {
   "display_name": "Python 3 (ipykernel)",
   "language": "python",
   "name": "python3"
  },
  "language_info": {
   "codemirror_mode": {
    "name": "ipython",
    "version": 3
   },
   "file_extension": ".py",
   "mimetype": "text/x-python",
   "name": "python",
   "nbconvert_exporter": "python",
   "pygments_lexer": "ipython3",
   "version": "3.8.10"
  }
 },
 "nbformat": 4,
 "nbformat_minor": 1
}
